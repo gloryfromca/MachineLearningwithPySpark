{
 "cells": [
  {
   "cell_type": "code",
   "execution_count": 9,
   "metadata": {},
   "outputs": [
    {
     "data": {
      "text/html": [
       "\n",
       "        <div>\n",
       "            <p><b>SparkContext</b></p>\n",
       "\n",
       "            <p><a href=\"http://192.170.5.172:4040\">Spark UI</a></p>\n",
       "\n",
       "            <dl>\n",
       "              <dt>Version</dt>\n",
       "                <dd><code>v2.2.0</code></dd>\n",
       "              <dt>Master</dt>\n",
       "                <dd><code>yarn</code></dd>\n",
       "              <dt>AppName</dt>\n",
       "                <dd><code>PySparkShell</code></dd>\n",
       "            </dl>\n",
       "        </div>\n",
       "        "
      ],
      "text/plain": [
       "<SparkContext master=yarn appName=PySparkShell>"
      ]
     },
     "execution_count": 9,
     "metadata": {},
     "output_type": "execute_result"
    }
   ],
   "source": [
    "sc"
   ]
  },
  {
   "cell_type": "code",
   "execution_count": 10,
   "metadata": {},
   "outputs": [
    {
     "data": {
      "text/plain": [
       "'yarn'"
      ]
     },
     "execution_count": 10,
     "metadata": {},
     "output_type": "execute_result"
    }
   ],
   "source": [
    "sc.master"
   ]
  },
  {
   "cell_type": "code",
   "execution_count": 11,
   "metadata": {},
   "outputs": [],
   "source": [
    "sc.setCheckpointDir('hdfs://zh:9000/checkpoint')"
   ]
  },
  {
   "cell_type": "code",
   "execution_count": 12,
   "metadata": {},
   "outputs": [],
   "source": [
    "from dateutil.parser import parse"
   ]
  },
  {
   "cell_type": "code",
   "execution_count": 13,
   "metadata": {},
   "outputs": [],
   "source": [
    "import pyspark"
   ]
  },
  {
   "cell_type": "code",
   "execution_count": 14,
   "metadata": {},
   "outputs": [],
   "source": [
    "from pyspark.ml.recommendation import ALS\n",
    "from pyspark.ml.evaluation import RegressionEvaluator"
   ]
  },
  {
   "cell_type": "code",
   "execution_count": 15,
   "metadata": {},
   "outputs": [],
   "source": [
    "import numpy as np"
   ]
  },
  {
   "cell_type": "code",
   "execution_count": 16,
   "metadata": {},
   "outputs": [],
   "source": [
    "import pandas as pd"
   ]
  },
  {
   "cell_type": "code",
   "execution_count": 17,
   "metadata": {},
   "outputs": [],
   "source": [
    "from pyspark.sql import Row"
   ]
  },
  {
   "cell_type": "code",
   "execution_count": 18,
   "metadata": {},
   "outputs": [],
   "source": [
    "import numpy as np\n",
    "from pyspark.mllib.linalg.distributed import RowMatrix\n",
    "from pyspark.mllib.linalg.distributed import IndexedRow, IndexedRowMatrix\n",
    "from pyspark.mllib.linalg.distributed import CoordinateMatrix, MatrixEntry"
   ]
  },
  {
   "cell_type": "markdown",
   "metadata": {},
   "source": [
    "# 探索ml_100k数据"
   ]
  },
  {
   "cell_type": "markdown",
   "metadata": {},
   "source": [
    "### 探索用户数据"
   ]
  },
  {
   "cell_type": "code",
   "execution_count": 19,
   "metadata": {},
   "outputs": [],
   "source": [
    "user_data = sc.textFile('hdfs://zh:9000/ml-100k/u.user')"
   ]
  },
  {
   "cell_type": "code",
   "execution_count": 20,
   "metadata": {},
   "outputs": [
    {
     "data": {
      "text/plain": [
       "'1|24|M|technician|85711'"
      ]
     },
     "execution_count": 20,
     "metadata": {},
     "output_type": "execute_result"
    }
   ],
   "source": [
    "user_data.first()"
   ]
  },
  {
   "cell_type": "markdown",
   "metadata": {},
   "source": [
    "### 探索电影数据"
   ]
  },
  {
   "cell_type": "code",
   "execution_count": 21,
   "metadata": {},
   "outputs": [],
   "source": [
    "movie_data = sc.textFile('hdfs://zh:9000/ml-100k/u.item')"
   ]
  },
  {
   "cell_type": "code",
   "execution_count": 22,
   "metadata": {},
   "outputs": [
    {
     "data": {
      "text/plain": [
       "'1|Toy Story (1995)|01-Jan-1995||http://us.imdb.com/M/title-exact?Toy%20Story%20(1995)|0|0|0|1|1|1|0|0|0|0|0|0|0|0|0|0|0|0|0'"
      ]
     },
     "execution_count": 22,
     "metadata": {},
     "output_type": "execute_result"
    }
   ],
   "source": [
    "movie_data.first()"
   ]
  },
  {
   "cell_type": "code",
   "execution_count": 23,
   "metadata": {},
   "outputs": [
    {
     "data": {
      "text/plain": [
       "1682"
      ]
     },
     "execution_count": 23,
     "metadata": {},
     "output_type": "execute_result"
    }
   ],
   "source": [
    "movie_data.count()"
   ]
  },
  {
   "cell_type": "code",
   "execution_count": 24,
   "metadata": {},
   "outputs": [],
   "source": [
    "movie_fields = movie_data.map(lambda x:x.split('|'))"
   ]
  },
  {
   "cell_type": "code",
   "execution_count": 25,
   "metadata": {},
   "outputs": [],
   "source": [
    "def parse_exception(x):\n",
    "    try:\n",
    "        return str(parse(x).year)\n",
    "    except Exception as e:\n",
    "        return '1900'"
   ]
  },
  {
   "cell_type": "code",
   "execution_count": 26,
   "metadata": {},
   "outputs": [],
   "source": [
    "years = movie_fields.map(lambda x:x[2]).map(parse_exception)"
   ]
  },
  {
   "cell_type": "code",
   "execution_count": 27,
   "metadata": {},
   "outputs": [],
   "source": [
    "years_filtered = years.filter(lambda x:x!='1900')"
   ]
  },
  {
   "cell_type": "code",
   "execution_count": 28,
   "metadata": {},
   "outputs": [
    {
     "data": {
      "text/plain": [
       "['1995']"
      ]
     },
     "execution_count": 28,
     "metadata": {},
     "output_type": "execute_result"
    }
   ],
   "source": [
    "years_filtered.take(1)"
   ]
  },
  {
   "cell_type": "markdown",
   "metadata": {},
   "source": [
    "### 探索评级数据"
   ]
  },
  {
   "cell_type": "code",
   "execution_count": 29,
   "metadata": {},
   "outputs": [],
   "source": [
    "rating_data = sc.textFile('hdfs://zh:9000/ml-100k/u.data')"
   ]
  },
  {
   "cell_type": "code",
   "execution_count": 30,
   "metadata": {},
   "outputs": [
    {
     "data": {
      "text/plain": [
       "'196\\t242\\t3\\t881250949'"
      ]
     },
     "execution_count": 30,
     "metadata": {},
     "output_type": "execute_result"
    }
   ],
   "source": [
    "rating_data.first()"
   ]
  },
  {
   "cell_type": "code",
   "execution_count": 31,
   "metadata": {},
   "outputs": [],
   "source": [
    "num_ratings = rating_data.count()"
   ]
  },
  {
   "cell_type": "code",
   "execution_count": 32,
   "metadata": {},
   "outputs": [
    {
     "data": {
      "text/plain": [
       "100000"
      ]
     },
     "execution_count": 32,
     "metadata": {},
     "output_type": "execute_result"
    }
   ],
   "source": [
    "num_ratings"
   ]
  },
  {
   "cell_type": "code",
   "execution_count": 33,
   "metadata": {},
   "outputs": [],
   "source": [
    "rating_data = rating_data.map(lambda x:x.split('\\t'))"
   ]
  },
  {
   "cell_type": "markdown",
   "metadata": {},
   "source": [
    "### 提取有效特征"
   ]
  },
  {
   "cell_type": "code",
   "execution_count": 34,
   "metadata": {},
   "outputs": [],
   "source": [
    "rating_data_raw = sc.textFile('hdfs://zh:9000/ml-100k/u.data')"
   ]
  },
  {
   "cell_type": "code",
   "execution_count": 35,
   "metadata": {},
   "outputs": [],
   "source": [
    "rating_data = rating_data_raw.map(lambda x:x.split('\\t')[0:3])"
   ]
  },
  {
   "cell_type": "code",
   "execution_count": 36,
   "metadata": {},
   "outputs": [
    {
     "data": {
      "text/plain": [
       "[['196', '242', '3'], ['186', '302', '3']]"
      ]
     },
     "execution_count": 36,
     "metadata": {},
     "output_type": "execute_result"
    }
   ],
   "source": [
    "rating_data.take(2)"
   ]
  },
  {
   "cell_type": "code",
   "execution_count": 37,
   "metadata": {},
   "outputs": [],
   "source": [
    "#rating_data.map(lambda x:np.str(x[0])).take(10)\n",
    "#验证必须worker和driver有着相同的python包才能跑"
   ]
  },
  {
   "cell_type": "code",
   "execution_count": 38,
   "metadata": {},
   "outputs": [],
   "source": [
    "rating_data_row = rating_data.map(lambda x:Row(user = int(x[0]),movie = int(x[1]), rating = float(x[2])))"
   ]
  },
  {
   "cell_type": "code",
   "execution_count": 39,
   "metadata": {},
   "outputs": [],
   "source": [
    "rating_df = spark.createDataFrame(rating_data_row)"
   ]
  },
  {
   "cell_type": "markdown",
   "metadata": {},
   "source": [
    "### 训练和测试"
   ]
  },
  {
   "cell_type": "code",
   "execution_count": 40,
   "metadata": {},
   "outputs": [],
   "source": [
    "training_set, test_set =  rating_df.randomSplit([0.8, 0.2])"
   ]
  },
  {
   "cell_type": "code",
   "execution_count": 41,
   "metadata": {},
   "outputs": [],
   "source": [
    "als = ALS(rank=50, maxIter=15, regParam=0.01, userCol='user', itemCol='movie', ratingCol='rating', seed=None,)"
   ]
  },
  {
   "cell_type": "code",
   "execution_count": 42,
   "metadata": {},
   "outputs": [],
   "source": [
    "model_fited = als.fit(training_set)"
   ]
  },
  {
   "cell_type": "code",
   "execution_count": 43,
   "metadata": {},
   "outputs": [
    {
     "data": {
      "text/plain": [
       "DataFrame[movie: bigint, rating: double, user: bigint, prediction: float]"
      ]
     },
     "execution_count": 43,
     "metadata": {},
     "output_type": "execute_result"
    }
   ],
   "source": [
    "predictions = model_fited.transform(test_set)\n",
    "predictions"
   ]
  },
  {
   "cell_type": "code",
   "execution_count": 44,
   "metadata": {
    "scrolled": true
   },
   "outputs": [
    {
     "data": {
      "text/plain": [
       "[Row(movie=148, rating=5.0, user=642, prediction=2.629945993423462),\n",
       " Row(movie=148, rating=4.0, user=236, prediction=2.289193868637085),\n",
       " Row(movie=148, rating=2.0, user=896, prediction=3.4841086864471436),\n",
       " Row(movie=148, rating=2.0, user=274, prediction=2.9117355346679688),\n",
       " Row(movie=148, rating=5.0, user=20, prediction=4.003357410430908),\n",
       " Row(movie=148, rating=2.0, user=479, prediction=2.6461288928985596),\n",
       " Row(movie=148, rating=2.0, user=430, prediction=2.8336360454559326),\n",
       " Row(movie=148, rating=3.0, user=347, prediction=2.4326119422912598),\n",
       " Row(movie=148, rating=3.0, user=234, prediction=2.8896214962005615),\n",
       " Row(movie=148, rating=4.0, user=534, prediction=3.5388197898864746)]"
      ]
     },
     "execution_count": 44,
     "metadata": {},
     "output_type": "execute_result"
    }
   ],
   "source": [
    "predictions.take(10)"
   ]
  },
  {
   "cell_type": "code",
   "execution_count": 45,
   "metadata": {},
   "outputs": [],
   "source": [
    "evaluator = RegressionEvaluator(metricName=\"rmse\", labelCol=\"rating\", predictionCol=\"prediction\")"
   ]
  },
  {
   "cell_type": "code",
   "execution_count": 46,
   "metadata": {},
   "outputs": [],
   "source": [
    "RMSE = evaluator.evaluate(predictions)"
   ]
  },
  {
   "cell_type": "code",
   "execution_count": 47,
   "metadata": {},
   "outputs": [
    {
     "data": {
      "text/plain": [
       "nan"
      ]
     },
     "execution_count": 47,
     "metadata": {},
     "output_type": "execute_result"
    }
   ],
   "source": [
    "RMSE"
   ]
  },
  {
   "cell_type": "markdown",
   "metadata": {},
   "source": [
    "* 测试集中存在不存在于训练集的用户或者产品，所谓的冷启动问题"
   ]
  },
  {
   "cell_type": "code",
   "execution_count": 48,
   "metadata": {},
   "outputs": [
    {
     "name": "stdout",
     "output_type": "stream",
     "text": [
      "+-----+------+----+----------+\n",
      "|movie|rating|user|prediction|\n",
      "+-----+------+----+----------+\n",
      "| 1653|   5.0| 675|       NaN|\n",
      "| 1350|   2.0| 207|       NaN|\n",
      "| 1350|   1.0| 181|       NaN|\n",
      "| 1564|   1.0| 405|       NaN|\n",
      "| 1659|   1.0| 747|       NaN|\n",
      "| 1582|   1.0| 405|       NaN|\n",
      "| 1633|   3.0| 655|       NaN|\n",
      "| 1505|   4.0| 291|       NaN|\n",
      "| 1590|   3.0| 782|       NaN|\n",
      "| 1590|   1.0| 405|       NaN|\n",
      "| 1626|   1.0| 648|       NaN|\n",
      "| 1595|   2.0| 425|       NaN|\n",
      "| 1636|   4.0| 655|       NaN|\n",
      "| 1654|   1.0| 676|       NaN|\n",
      "| 1310|   3.0| 167|       NaN|\n",
      "| 1520|   3.0| 314|       NaN|\n",
      "| 1494|   1.0| 279|       NaN|\n",
      "| 1638|   3.0| 655|       NaN|\n",
      "| 1325|   1.0| 181|       NaN|\n",
      "| 1492|   4.0| 279|       NaN|\n",
      "+-----+------+----+----------+\n",
      "only showing top 20 rows\n",
      "\n"
     ]
    }
   ],
   "source": [
    "predictions.where(\"prediction == 'NaN' \").show()"
   ]
  },
  {
   "cell_type": "code",
   "execution_count": 49,
   "metadata": {},
   "outputs": [],
   "source": [
    "predictions_excep_nan = predictions.where(\"prediction != 'NaN' \")"
   ]
  },
  {
   "cell_type": "code",
   "execution_count": 50,
   "metadata": {},
   "outputs": [],
   "source": [
    "RMSE = evaluator.evaluate(predictions_excep_nan)"
   ]
  },
  {
   "cell_type": "code",
   "execution_count": 51,
   "metadata": {},
   "outputs": [
    {
     "data": {
      "text/plain": [
       "1.21748365856646"
      ]
     },
     "execution_count": 51,
     "metadata": {},
     "output_type": "execute_result"
    }
   ],
   "source": [
    "RMSE"
   ]
  },
  {
   "cell_type": "markdown",
   "metadata": {},
   "source": [
    "### MAPK"
   ]
  },
  {
   "cell_type": "code",
   "execution_count": 52,
   "metadata": {},
   "outputs": [],
   "source": [
    "k = 10"
   ]
  },
  {
   "cell_type": "code",
   "execution_count": 53,
   "metadata": {},
   "outputs": [
    {
     "data": {
      "text/plain": [
       "100000"
      ]
     },
     "execution_count": 53,
     "metadata": {},
     "output_type": "execute_result"
    }
   ],
   "source": [
    "rating_data.count()"
   ]
  },
  {
   "cell_type": "markdown",
   "metadata": {},
   "source": [
    "#### 计算预测结果"
   ]
  },
  {
   "cell_type": "code",
   "execution_count": 55,
   "metadata": {},
   "outputs": [
    {
     "data": {
      "text/plain": [
       "MapPartitionsRDD[460] at javaToPython at NativeMethodAccessorImpl.java:0"
      ]
     },
     "execution_count": 55,
     "metadata": {},
     "output_type": "execute_result"
    }
   ],
   "source": [
    "pred_top_k = model_fited.recommendForAllUsers(k).rdd"
   ]
  },
  {
   "cell_type": "code",
   "execution_count": 57,
   "metadata": {},
   "outputs": [],
   "source": [
    "pred_top_k = pred_top_k.map(lambda x:(x.user, x.recommendations))"
   ]
  },
  {
   "cell_type": "code",
   "execution_count": 58,
   "metadata": {},
   "outputs": [],
   "source": [
    "pred_top_k.cache()\n",
    "pred_top_k.checkpoint()"
   ]
  },
  {
   "cell_type": "code",
   "execution_count": 60,
   "metadata": {},
   "outputs": [],
   "source": [
    "pred_top_k = pred_top_k.\\\n",
    "mapValues(lambda x_list:[(x.movie, x.rating) for x in x_list])"
   ]
  },
  {
   "cell_type": "markdown",
   "metadata": {},
   "source": [
    "* 这里开始报错StackOverflowError\n",
    "* 原因是执行中有着很多的for循环导致栈溢出，解决办法：1、checkpoint，缓存rdd到hdfs 2、使用sparksql(未使用)"
   ]
  },
  {
   "cell_type": "code",
   "execution_count": 61,
   "metadata": {},
   "outputs": [
    {
     "data": {
      "text/plain": [
       "[(463,\n",
       "  [(316, 5.521382808685303),\n",
       "   (283, 5.386106967926025),\n",
       "   (311, 5.37991189956665),\n",
       "   (302, 5.100201606750488),\n",
       "   (19, 5.036096572875977),\n",
       "   (258, 5.0186991691589355),\n",
       "   (887, 4.961373805999756),\n",
       "   (275, 4.922547340393066),\n",
       "   (221, 4.919186115264893),\n",
       "   (253, 4.897623538970947)]),\n",
       " (833,\n",
       "  [(187, 5.317366600036621),\n",
       "   (160, 5.105474948883057),\n",
       "   (654, 5.097400665283203),\n",
       "   (856, 5.050495147705078),\n",
       "   (86, 5.037764072418213),\n",
       "   (302, 5.031163215637207),\n",
       "   (616, 5.012308597564697),\n",
       "   (1070, 4.9963178634643555),\n",
       "   (1019, 4.98592472076416),\n",
       "   (185, 4.973251819610596)])]"
      ]
     },
     "execution_count": 61,
     "metadata": {},
     "output_type": "execute_result"
    }
   ],
   "source": [
    "pred_top_k.take(2)  "
   ]
  },
  {
   "cell_type": "code",
   "execution_count": 62,
   "metadata": {},
   "outputs": [],
   "source": [
    "pred_top_k.cache()\n",
    "pred_top_k.checkpoint()"
   ]
  },
  {
   "cell_type": "code",
   "execution_count": 63,
   "metadata": {},
   "outputs": [
    {
     "data": {
      "text/plain": [
       "943"
      ]
     },
     "execution_count": 63,
     "metadata": {},
     "output_type": "execute_result"
    }
   ],
   "source": [
    "pred_top_k.count()"
   ]
  },
  {
   "cell_type": "markdown",
   "metadata": {},
   "source": [
    "#### 实际的排序结果"
   ]
  },
  {
   "cell_type": "code",
   "execution_count": 64,
   "metadata": {},
   "outputs": [
    {
     "data": {
      "text/plain": [
       "[['196', '242', '3'], ['186', '302', '3']]"
      ]
     },
     "execution_count": 64,
     "metadata": {},
     "output_type": "execute_result"
    }
   ],
   "source": [
    "rating_data.take(2)"
   ]
  },
  {
   "cell_type": "code",
   "execution_count": 65,
   "metadata": {},
   "outputs": [],
   "source": [
    "actual_rating_data = rating_data.map(lambda x:(x[0], (x[1], x[2])))"
   ]
  },
  {
   "cell_type": "code",
   "execution_count": 66,
   "metadata": {},
   "outputs": [
    {
     "data": {
      "text/plain": [
       "[('196', ('242', '3')), ('186', ('302', '3'))]"
      ]
     },
     "execution_count": 66,
     "metadata": {},
     "output_type": "execute_result"
    }
   ],
   "source": [
    "actual_rating_data.take(2)"
   ]
  },
  {
   "cell_type": "code",
   "execution_count": 67,
   "metadata": {},
   "outputs": [],
   "source": [
    "def list_append(x,y):\n",
    "    x.append(y)\n",
    "    return x"
   ]
  },
  {
   "cell_type": "code",
   "execution_count": 68,
   "metadata": {},
   "outputs": [],
   "source": [
    "actual_rating_data_by_user = actual_rating_data.sortBy(lambda x:x[1][1], ascending=False\\\n",
    ").sortByKey().aggregateByKey([], lambda x, y:list_append(x, y), lambda x, y:x+y)"
   ]
  },
  {
   "cell_type": "code",
   "execution_count": 69,
   "metadata": {},
   "outputs": [],
   "source": [
    "actual_rating_data_by_user.cache()\n",
    "actual_rating_data_by_user.checkpoint()"
   ]
  },
  {
   "cell_type": "code",
   "execution_count": 70,
   "metadata": {},
   "outputs": [
    {
     "data": {
      "text/plain": [
       "[('190',\n",
       "  [('302', '5'),\n",
       "   ('471', '5'),\n",
       "   ('313', '5'),\n",
       "   ('272', '5'),\n",
       "   ('237', '5'),\n",
       "   ('288', '5'),\n",
       "   ('100', '4'),\n",
       "   ('7', '4'),\n",
       "   ('117', '4'),\n",
       "   ('147', '4'),\n",
       "   ('751', '4'),\n",
       "   ('300', '4'),\n",
       "   ('628', '4'),\n",
       "   ('269', '4'),\n",
       "   ('222', '4'),\n",
       "   ('405', '4'),\n",
       "   ('333', '4'),\n",
       "   ('354', '4'),\n",
       "   ('15', '4'),\n",
       "   ('245', '4'),\n",
       "   ('273', '4'),\n",
       "   ('591', '4'),\n",
       "   ('276', '4'),\n",
       "   ('544', '4'),\n",
       "   ('310', '4'),\n",
       "   ('326', '4'),\n",
       "   ('148', '4'),\n",
       "   ('546', '3'),\n",
       "   ('328', '3'),\n",
       "   ('258', '3'),\n",
       "   ('826', '3'),\n",
       "   ('24', '3'),\n",
       "   ('717', '3'),\n",
       "   ('742', '3'),\n",
       "   ('282', '3'),\n",
       "   ('118', '3'),\n",
       "   ('294', '3'),\n",
       "   ('291', '3'),\n",
       "   ('748', '3'),\n",
       "   ('895', '3'),\n",
       "   ('125', '3'),\n",
       "   ('281', '3'),\n",
       "   ('989', '3'),\n",
       "   ('685', '3'),\n",
       "   ('121', '3'),\n",
       "   ('508', '3'),\n",
       "   ('696', '3'),\n",
       "   ('327', '2'),\n",
       "   ('930', '2'),\n",
       "   ('977', '2'),\n",
       "   ('974', '2'),\n",
       "   ('363', '2'),\n",
       "   ('1313', '2'),\n",
       "   ('539', '2'),\n",
       "   ('898', '2'),\n",
       "   ('823', '2'),\n",
       "   ('597', '2'),\n",
       "   ('9', '1'),\n",
       "   ('340', '1')])]"
      ]
     },
     "execution_count": 70,
     "metadata": {},
     "output_type": "execute_result"
    }
   ],
   "source": [
    "actual_rating_data_by_user.take(1)"
   ]
  },
  {
   "cell_type": "markdown",
   "metadata": {},
   "source": [
    "* sortByKey之后用aggregateByKey导致rating5的在不同machine的结果没有按照顺序来。\n",
    "* 排序应该是最后，否则中间的操作可能会破坏顺序，可能跟存储位置有关。"
   ]
  },
  {
   "cell_type": "code",
   "execution_count": 71,
   "metadata": {},
   "outputs": [],
   "source": [
    "actual_rating_data_by_user = actual_rating_data.aggregateByKey([], lambda x, y:list_append(x,y), lambda x, y:x+y)"
   ]
  },
  {
   "cell_type": "code",
   "execution_count": 72,
   "metadata": {},
   "outputs": [],
   "source": [
    "def list_sorted(a_list, reverse=True):\n",
    "    a_list.sort(key=lambda x:x[1],  reverse=True)\n",
    "    return a_list"
   ]
  },
  {
   "cell_type": "code",
   "execution_count": 73,
   "metadata": {},
   "outputs": [],
   "source": [
    "actual_rating_data_by_user_sorted = actual_rating_data_by_user.mapValues(lambda x:list_sorted(x))"
   ]
  },
  {
   "cell_type": "code",
   "execution_count": 74,
   "metadata": {},
   "outputs": [],
   "source": [
    "actual_rating_data_by_user.cache()\n",
    "actual_rating_data_by_user.checkpoint()"
   ]
  },
  {
   "cell_type": "code",
   "execution_count": 75,
   "metadata": {},
   "outputs": [
    {
     "data": {
      "text/plain": [
       "[('190',\n",
       "  [('237', '5'),\n",
       "   ('288', '5'),\n",
       "   ('302', '5'),\n",
       "   ('471', '5'),\n",
       "   ('313', '5'),\n",
       "   ('272', '5'),\n",
       "   ('100', '4'),\n",
       "   ('7', '4'),\n",
       "   ('117', '4'),\n",
       "   ('147', '4'),\n",
       "   ('751', '4'),\n",
       "   ('300', '4'),\n",
       "   ('628', '4'),\n",
       "   ('269', '4'),\n",
       "   ('222', '4'),\n",
       "   ('405', '4'),\n",
       "   ('333', '4'),\n",
       "   ('354', '4'),\n",
       "   ('15', '4'),\n",
       "   ('245', '4'),\n",
       "   ('273', '4'),\n",
       "   ('591', '4'),\n",
       "   ('276', '4'),\n",
       "   ('544', '4'),\n",
       "   ('310', '4'),\n",
       "   ('326', '4'),\n",
       "   ('148', '4'),\n",
       "   ('546', '3'),\n",
       "   ('328', '3'),\n",
       "   ('258', '3'),\n",
       "   ('826', '3'),\n",
       "   ('24', '3'),\n",
       "   ('717', '3'),\n",
       "   ('742', '3'),\n",
       "   ('282', '3'),\n",
       "   ('118', '3'),\n",
       "   ('294', '3'),\n",
       "   ('291', '3'),\n",
       "   ('748', '3'),\n",
       "   ('895', '3'),\n",
       "   ('125', '3'),\n",
       "   ('281', '3'),\n",
       "   ('989', '3'),\n",
       "   ('685', '3'),\n",
       "   ('121', '3'),\n",
       "   ('508', '3'),\n",
       "   ('696', '3'),\n",
       "   ('327', '2'),\n",
       "   ('930', '2'),\n",
       "   ('977', '2'),\n",
       "   ('974', '2'),\n",
       "   ('363', '2'),\n",
       "   ('1313', '2'),\n",
       "   ('539', '2'),\n",
       "   ('898', '2'),\n",
       "   ('823', '2'),\n",
       "   ('597', '2'),\n",
       "   ('9', '1'),\n",
       "   ('340', '1')])]"
      ]
     },
     "execution_count": 75,
     "metadata": {},
     "output_type": "execute_result"
    }
   ],
   "source": [
    "actual_rating_data_by_user_sorted.take(1)"
   ]
  },
  {
   "cell_type": "code",
   "execution_count": 76,
   "metadata": {},
   "outputs": [],
   "source": [
    "actual_top_k = actual_rating_data_by_user_sorted.mapValues(lambda a_list:a_list[:k])"
   ]
  },
  {
   "cell_type": "markdown",
   "metadata": {},
   "source": [
    "* a[:k] 如果a的length<k, return a"
   ]
  },
  {
   "cell_type": "code",
   "execution_count": 78,
   "metadata": {},
   "outputs": [
    {
     "data": {
      "text/plain": [
       "[('190',\n",
       "  [('237', '5'),\n",
       "   ('288', '5'),\n",
       "   ('302', '5'),\n",
       "   ('471', '5'),\n",
       "   ('313', '5'),\n",
       "   ('272', '5'),\n",
       "   ('100', '4'),\n",
       "   ('7', '4'),\n",
       "   ('117', '4'),\n",
       "   ('147', '4')]),\n",
       " ('263',\n",
       "  [('133', '5'),\n",
       "   ('357', '5'),\n",
       "   ('199', '5'),\n",
       "   ('135', '5'),\n",
       "   ('378', '5'),\n",
       "   ('141', '5'),\n",
       "   ('176', '5'),\n",
       "   ('419', '5'),\n",
       "   ('416', '5'),\n",
       "   ('523', '5')]),\n",
       " ('110',\n",
       "  [('313', '5'),\n",
       "   ('161', '5'),\n",
       "   ('333', '4'),\n",
       "   ('12', '4'),\n",
       "   ('54', '4'),\n",
       "   ('939', '4'),\n",
       "   ('651', '4'),\n",
       "   ('739', '4'),\n",
       "   ('569', '4'),\n",
       "   ('307', '4')]),\n",
       " ('695',\n",
       "  [('1024', '5'),\n",
       "   ('346', '5'),\n",
       "   ('242', '5'),\n",
       "   ('991', '5'),\n",
       "   ('268', '5'),\n",
       "   ('358', '5'),\n",
       "   ('319', '5'),\n",
       "   ('260', '4'),\n",
       "   ('995', '4'),\n",
       "   ('270', '4')]),\n",
       " ('473',\n",
       "  [('246', '5'),\n",
       "   ('475', '5'),\n",
       "   ('127', '5'),\n",
       "   ('150', '5'),\n",
       "   ('273', '5'),\n",
       "   ('1142', '5'),\n",
       "   ('268', '5'),\n",
       "   ('116', '5'),\n",
       "   ('275', '5'),\n",
       "   ('9', '5')]),\n",
       " ('198',\n",
       "  [('186', '5'),\n",
       "   ('127', '5'),\n",
       "   ('531', '5'),\n",
       "   ('50', '5'),\n",
       "   ('474', '5'),\n",
       "   ('89', '5'),\n",
       "   ('81', '5'),\n",
       "   ('135', '5'),\n",
       "   ('357', '5'),\n",
       "   ('188', '5')]),\n",
       " ('883',\n",
       "  [('7', '5'),\n",
       "   ('129', '5'),\n",
       "   ('867', '5'),\n",
       "   ('53', '5'),\n",
       "   ('709', '5'),\n",
       "   ('1045', '5'),\n",
       "   ('529', '5'),\n",
       "   ('256', '5'),\n",
       "   ('1019', '5'),\n",
       "   ('715', '5')]),\n",
       " ('17',\n",
       "  [('150', '5'),\n",
       "   ('7', '4'),\n",
       "   ('100', '4'),\n",
       "   ('475', '4'),\n",
       "   ('269', '4'),\n",
       "   ('276', '4'),\n",
       "   ('151', '4'),\n",
       "   ('1', '4'),\n",
       "   ('137', '4'),\n",
       "   ('294', '4')]),\n",
       " ('579',\n",
       "  [('258', '5'),\n",
       "   ('194', '5'),\n",
       "   ('435', '5'),\n",
       "   ('202', '5'),\n",
       "   ('50', '5'),\n",
       "   ('83', '5'),\n",
       "   ('216', '5'),\n",
       "   ('603', '5'),\n",
       "   ('173', '5'),\n",
       "   ('709', '5')]),\n",
       " ('50',\n",
       "  [('253', '5'),\n",
       "   ('475', '5'),\n",
       "   ('1084', '5'),\n",
       "   ('508', '5'),\n",
       "   ('319', '5'),\n",
       "   ('324', '5'),\n",
       "   ('1008', '5'),\n",
       "   ('1010', '5'),\n",
       "   ('547', '4'),\n",
       "   ('9', '4')]),\n",
       " ('145',\n",
       "  [('31', '5'),\n",
       "   ('135', '5'),\n",
       "   ('219', '5'),\n",
       "   ('176', '5'),\n",
       "   ('222', '5'),\n",
       "   ('1041', '5'),\n",
       "   ('240', '5'),\n",
       "   ('436', '5'),\n",
       "   ('98', '5'),\n",
       "   ('269', '5')]),\n",
       " ('175',\n",
       "  [('98', '5'),\n",
       "   ('127', '5'),\n",
       "   ('483', '5'),\n",
       "   ('215', '5'),\n",
       "   ('496', '5'),\n",
       "   ('64', '5'),\n",
       "   ('234', '5'),\n",
       "   ('419', '5'),\n",
       "   ('172', '5'),\n",
       "   ('11', '5')]),\n",
       " ('158',\n",
       "  [('283', '5'),\n",
       "   ('511', '5'),\n",
       "   ('174', '5'),\n",
       "   ('217', '5'),\n",
       "   ('686', '5'),\n",
       "   ('56', '5'),\n",
       "   ('651', '5'),\n",
       "   ('208', '5'),\n",
       "   ('648', '5'),\n",
       "   ('22', '5')]),\n",
       " ('813',\n",
       "  [('270', '5'),\n",
       "   ('751', '5'),\n",
       "   ('289', '4'),\n",
       "   ('890', '4'),\n",
       "   ('310', '4'),\n",
       "   ('271', '4'),\n",
       "   ('307', '4'),\n",
       "   ('750', '4'),\n",
       "   ('300', '4'),\n",
       "   ('690', '4')]),\n",
       " ('153',\n",
       "  [('79', '5'),\n",
       "   ('64', '5'),\n",
       "   ('56', '5'),\n",
       "   ('258', '5'),\n",
       "   ('357', '5'),\n",
       "   ('182', '5'),\n",
       "   ('568', '4'),\n",
       "   ('265', '4'),\n",
       "   ('322', '3'),\n",
       "   ('127', '3')]),\n",
       " ('446',\n",
       "  [('292', '5'),\n",
       "   ('245', '4'),\n",
       "   ('321', '4'),\n",
       "   ('269', '4'),\n",
       "   ('270', '4'),\n",
       "   ('302', '4'),\n",
       "   ('887', '4'),\n",
       "   ('307', '3'),\n",
       "   ('879', '3'),\n",
       "   ('289', '3')]),\n",
       " ('335',\n",
       "  [('340', '5'),\n",
       "   ('347', '5'),\n",
       "   ('902', '5'),\n",
       "   ('307', '5'),\n",
       "   ('300', '5'),\n",
       "   ('322', '4'),\n",
       "   ('245', '4'),\n",
       "   ('269', '4'),\n",
       "   ('271', '4'),\n",
       "   ('288', '4')]),\n",
       " ('317',\n",
       "  [('350', '5'),\n",
       "   ('748', '5'),\n",
       "   ('260', '4'),\n",
       "   ('300', '4'),\n",
       "   ('328', '4'),\n",
       "   ('331', '4'),\n",
       "   ('245', '4'),\n",
       "   ('313', '4'),\n",
       "   ('264', '4'),\n",
       "   ('355', '4')]),\n",
       " ('223',\n",
       "  [('71', '5'),\n",
       "   ('313', '5'),\n",
       "   ('155', '5'),\n",
       "   ('173', '5'),\n",
       "   ('546', '5'),\n",
       "   ('969', '5'),\n",
       "   ('237', '5'),\n",
       "   ('216', '5'),\n",
       "   ('298', '5'),\n",
       "   ('69', '5')]),\n",
       " ('122',\n",
       "  [('1113', '5'),\n",
       "   ('83', '5'),\n",
       "   ('86', '5'),\n",
       "   ('127', '5'),\n",
       "   ('197', '5'),\n",
       "   ('699', '5'),\n",
       "   ('387', '5'),\n",
       "   ('715', '5'),\n",
       "   ('708', '5'),\n",
       "   ('212', '5')]),\n",
       " ('685',\n",
       "  [('325', '3'),\n",
       "   ('324', '3'),\n",
       "   ('882', '3'),\n",
       "   ('875', '3'),\n",
       "   ('269', '3'),\n",
       "   ('302', '3'),\n",
       "   ('327', '2'),\n",
       "   ('873', '2'),\n",
       "   ('337', '2'),\n",
       "   ('299', '2')]),\n",
       " ('557',\n",
       "  [('198', '5'),\n",
       "   ('12', '5'),\n",
       "   ('298', '5'),\n",
       "   ('529', '5'),\n",
       "   ('532', '5'),\n",
       "   ('268', '5'),\n",
       "   ('337', '5'),\n",
       "   ('197', '5'),\n",
       "   ('246', '5'),\n",
       "   ('165', '5')]),\n",
       " ('733',\n",
       "  [('19', '5'),\n",
       "   ('14', '5'),\n",
       "   ('1067', '5'),\n",
       "   ('137', '5'),\n",
       "   ('124', '5'),\n",
       "   ('515', '5'),\n",
       "   ('20', '5'),\n",
       "   ('276', '5'),\n",
       "   ('100', '5'),\n",
       "   ('1142', '4')]),\n",
       " ('258',\n",
       "  [('286', '5'),\n",
       "   ('326', '5'),\n",
       "   ('300', '5'),\n",
       "   ('313', '5'),\n",
       "   ('310', '5'),\n",
       "   ('751', '5'),\n",
       "   ('873', '5'),\n",
       "   ('748', '5'),\n",
       "   ('272', '5'),\n",
       "   ('332', '5')]),\n",
       " ('221',\n",
       "  [('42', '5'),\n",
       "   ('210', '5'),\n",
       "   ('150', '5'),\n",
       "   ('246', '5'),\n",
       "   ('12', '5'),\n",
       "   ('56', '5'),\n",
       "   ('48', '5'),\n",
       "   ('268', '5'),\n",
       "   ('172', '5'),\n",
       "   ('250', '5')]),\n",
       " ('48',\n",
       "  [('357', '5'),\n",
       "   ('174', '5'),\n",
       "   ('308', '5'),\n",
       "   ('661', '5'),\n",
       "   ('187', '5'),\n",
       "   ('654', '5'),\n",
       "   ('511', '5'),\n",
       "   ('195', '5'),\n",
       "   ('132', '5'),\n",
       "   ('172', '5')]),\n",
       " ('411',\n",
       "  [('210', '5'),\n",
       "   ('603', '5'),\n",
       "   ('194', '5'),\n",
       "   ('172', '5'),\n",
       "   ('168', '5'),\n",
       "   ('186', '5'),\n",
       "   ('709', '5'),\n",
       "   ('265', '5'),\n",
       "   ('50', '5'),\n",
       "   ('181', '5')]),\n",
       " ('742',\n",
       "  [('100', '5'),\n",
       "   ('14', '5'),\n",
       "   ('127', '5'),\n",
       "   ('258', '5'),\n",
       "   ('508', '4'),\n",
       "   ('1012', '4'),\n",
       "   ('13', '4'),\n",
       "   ('15', '4'),\n",
       "   ('50', '4'),\n",
       "   ('237', '4')]),\n",
       " ('240',\n",
       "  [('242', '5'),\n",
       "   ('895', '5'),\n",
       "   ('286', '5'),\n",
       "   ('302', '5'),\n",
       "   ('313', '5'),\n",
       "   ('898', '5'),\n",
       "   ('301', '5'),\n",
       "   ('288', '5'),\n",
       "   ('272', '5'),\n",
       "   ('269', '5')]),\n",
       " ('502',\n",
       "  [('288', '5'),\n",
       "   ('271', '5'),\n",
       "   ('343', '5'),\n",
       "   ('682', '5'),\n",
       "   ('313', '4'),\n",
       "   ('328', '4'),\n",
       "   ('323', '4'),\n",
       "   ('307', '4'),\n",
       "   ('338', '4'),\n",
       "   ('358', '4')]),\n",
       " ('84',\n",
       "  [('286', '5'),\n",
       "   ('486', '5'),\n",
       "   ('318', '5'),\n",
       "   ('70', '5'),\n",
       "   ('408', '5'),\n",
       "   ('12', '5'),\n",
       "   ('528', '5'),\n",
       "   ('529', '5'),\n",
       "   ('289', '5'),\n",
       "   ('265', '5')]),\n",
       " ('141',\n",
       "  [('15', '5'),\n",
       "   ('409', '5'),\n",
       "   ('866', '5'),\n",
       "   ('258', '5'),\n",
       "   ('274', '5'),\n",
       "   ('125', '5'),\n",
       "   ('744', '5'),\n",
       "   ('472', '5'),\n",
       "   ('535', '5'),\n",
       "   ('295', '5')]),\n",
       " ('799',\n",
       "  [('479', '5'),\n",
       "   ('258', '5'),\n",
       "   ('654', '5'),\n",
       "   ('173', '5'),\n",
       "   ('174', '5'),\n",
       "   ('286', '5'),\n",
       "   ('427', '5'),\n",
       "   ('45', '4'),\n",
       "   ('50', '4'),\n",
       "   ('499', '4')]),\n",
       " ('499',\n",
       "  [('12', '5'),\n",
       "   ('198', '5'),\n",
       "   ('313', '5'),\n",
       "   ('191', '5'),\n",
       "   ('663', '5'),\n",
       "   ('257', '5'),\n",
       "   ('527', '5'),\n",
       "   ('166', '5'),\n",
       "   ('173', '5'),\n",
       "   ('165', '5')]),\n",
       " ('477',\n",
       "  [('722', '5'),\n",
       "   ('49', '5'),\n",
       "   ('275', '5'),\n",
       "   ('111', '5'),\n",
       "   ('274', '5'),\n",
       "   ('451', '5'),\n",
       "   ('66', '5'),\n",
       "   ('815', '5'),\n",
       "   ('709', '5'),\n",
       "   ('88', '5')]),\n",
       " ('342',\n",
       "  [('212', '5'),\n",
       "   ('499', '5'),\n",
       "   ('381', '5'),\n",
       "   ('216', '5'),\n",
       "   ('320', '5'),\n",
       "   ('11', '5'),\n",
       "   ('169', '5'),\n",
       "   ('149', '5'),\n",
       "   ('114', '5'),\n",
       "   ('488', '5')]),\n",
       " ('162',\n",
       "  [('1047', '5'),\n",
       "   ('50', '5'),\n",
       "   ('508', '5'),\n",
       "   ('147', '4'),\n",
       "   ('28', '4'),\n",
       "   ('25', '4'),\n",
       "   ('1019', '4'),\n",
       "   ('181', '4'),\n",
       "   ('742', '4'),\n",
       "   ('121', '4')]),\n",
       " ('272',\n",
       "  [('200', '5'),\n",
       "   ('194', '5'),\n",
       "   ('174', '5'),\n",
       "   ('56', '5'),\n",
       "   ('134', '5'),\n",
       "   ('187', '5'),\n",
       "   ('178', '5'),\n",
       "   ('12', '5'),\n",
       "   ('1101', '5'),\n",
       "   ('127', '5')]),\n",
       " ('509',\n",
       "  [('50', '5'),\n",
       "   ('288', '5'),\n",
       "   ('302', '5'),\n",
       "   ('326', '4'),\n",
       "   ('181', '4'),\n",
       "   ('271', '4'),\n",
       "   ('705', '4'),\n",
       "   ('258', '4'),\n",
       "   ('603', '4'),\n",
       "   ('343', '3')]),\n",
       " ('256',\n",
       "  [('1042', '5'),\n",
       "   ('471', '5'),\n",
       "   ('1150', '5'),\n",
       "   ('796', '5'),\n",
       "   ('732', '5'),\n",
       "   ('591', '5'),\n",
       "   ('986', '5'),\n",
       "   ('381', '5'),\n",
       "   ('64', '5'),\n",
       "   ('96', '5')]),\n",
       " ('520',\n",
       "  [('898', '5'),\n",
       "   ('690', '5'),\n",
       "   ('269', '5'),\n",
       "   ('242', '5'),\n",
       "   ('286', '5'),\n",
       "   ('100', '4'),\n",
       "   ('310', '4'),\n",
       "   ('990', '4'),\n",
       "   ('315', '4'),\n",
       "   ('283', '4')]),\n",
       " ('707',\n",
       "  [('162', '5'),\n",
       "   ('208', '5'),\n",
       "   ('191', '5'),\n",
       "   ('582', '5'),\n",
       "   ('116', '5'),\n",
       "   ('100', '5'),\n",
       "   ('956', '5'),\n",
       "   ('647', '5'),\n",
       "   ('902', '5'),\n",
       "   ('8', '5')]),\n",
       " ('29',\n",
       "  [('12', '5'),\n",
       "   ('286', '5'),\n",
       "   ('661', '5'),\n",
       "   ('268', '5'),\n",
       "   ('312', '4'),\n",
       "   ('1019', '4'),\n",
       "   ('180', '4'),\n",
       "   ('306', '4'),\n",
       "   ('657', '4'),\n",
       "   ('303', '4')]),\n",
       " ('307',\n",
       "  [('228', '5'),\n",
       "   ('172', '5'),\n",
       "   ('433', '5'),\n",
       "   ('109', '5'),\n",
       "   ('50', '5'),\n",
       "   ('89', '5'),\n",
       "   ('173', '5'),\n",
       "   ('258', '5'),\n",
       "   ('71', '5'),\n",
       "   ('313', '5')]),\n",
       " ('346',\n",
       "  [('79', '5'),\n",
       "   ('182', '5'),\n",
       "   ('96', '5'),\n",
       "   ('515', '5'),\n",
       "   ('566', '5'),\n",
       "   ('195', '5'),\n",
       "   ('33', '5'),\n",
       "   ('133', '5'),\n",
       "   ('134', '5'),\n",
       "   ('291', '5')]),\n",
       " ('138',\n",
       "  [('45', '5'),\n",
       "   ('474', '5'),\n",
       "   ('497', '5'),\n",
       "   ('26', '5'),\n",
       "   ('523', '5'),\n",
       "   ('483', '5'),\n",
       "   ('100', '5'),\n",
       "   ('98', '5'),\n",
       "   ('238', '5'),\n",
       "   ('514', '5')]),\n",
       " ('834',\n",
       "  [('269', '5'),\n",
       "   ('313', '5'),\n",
       "   ('292', '5'),\n",
       "   ('150', '5'),\n",
       "   ('288', '5'),\n",
       "   ('127', '5'),\n",
       "   ('50', '5'),\n",
       "   ('475', '5'),\n",
       "   ('315', '5'),\n",
       "   ('316', '5')]),\n",
       " ('780',\n",
       "  [('662', '5'),\n",
       "   ('199', '5'),\n",
       "   ('133', '5'),\n",
       "   ('357', '5'),\n",
       "   ('97', '5'),\n",
       "   ('423', '5'),\n",
       "   ('172', '5'),\n",
       "   ('526', '5'),\n",
       "   ('187', '5'),\n",
       "   ('511', '5')]),\n",
       " ('562',\n",
       "  [('143', '5'),\n",
       "   ('144', '5'),\n",
       "   ('127', '5'),\n",
       "   ('135', '5'),\n",
       "   ('174', '5'),\n",
       "   ('194', '5'),\n",
       "   ('185', '5'),\n",
       "   ('173', '5'),\n",
       "   ('50', '5'),\n",
       "   ('88', '5')]),\n",
       " ('598',\n",
       "  [('258', '5'),\n",
       "   ('312', '5'),\n",
       "   ('286', '5'),\n",
       "   ('22', '5'),\n",
       "   ('313', '5'),\n",
       "   ('750', '5'),\n",
       "   ('748', '4'),\n",
       "   ('300', '4'),\n",
       "   ('538', '4'),\n",
       "   ('323', '4')]),\n",
       " ('763',\n",
       "  [('275', '5'),\n",
       "   ('1268', '5'),\n",
       "   ('629', '5'),\n",
       "   ('961', '5'),\n",
       "   ('70', '5'),\n",
       "   ('56', '5'),\n",
       "   ('16', '5'),\n",
       "   ('61', '5'),\n",
       "   ('462', '5'),\n",
       "   ('1065', '5')]),\n",
       " ('513',\n",
       "  [('323', '5'),\n",
       "   ('50', '5'),\n",
       "   ('252', '5'),\n",
       "   ('210', '5'),\n",
       "   ('739', '5'),\n",
       "   ('435', '5'),\n",
       "   ('121', '5'),\n",
       "   ('117', '5'),\n",
       "   ('265', '5'),\n",
       "   ('181', '5')]),\n",
       " ('359',\n",
       "  [('181', '5'),\n",
       "   ('50', '5'),\n",
       "   ('313', '5'),\n",
       "   ('408', '5'),\n",
       "   ('7', '5'),\n",
       "   ('286', '5'),\n",
       "   ('298', '5'),\n",
       "   ('930', '4'),\n",
       "   ('250', '4'),\n",
       "   ('751', '4')]),\n",
       " ('790',\n",
       "  [('1063', '5'),\n",
       "   ('1282', '5'),\n",
       "   ('98', '5'),\n",
       "   ('42', '5'),\n",
       "   ('762', '5'),\n",
       "   ('117', '5'),\n",
       "   ('15', '5'),\n",
       "   ('273', '5'),\n",
       "   ('298', '5'),\n",
       "   ('216', '5')]),\n",
       " ('737',\n",
       "  [('127', '5'),\n",
       "   ('156', '5'),\n",
       "   ('187', '5'),\n",
       "   ('474', '5'),\n",
       "   ('192', '5'),\n",
       "   ('258', '5'),\n",
       "   ('137', '5'),\n",
       "   ('357', '5'),\n",
       "   ('100', '5'),\n",
       "   ('186', '5')]),\n",
       " ('301',\n",
       "  [('50', '5'),\n",
       "   ('318', '5'),\n",
       "   ('128', '5'),\n",
       "   ('69', '5'),\n",
       "   ('117', '5'),\n",
       "   ('226', '5'),\n",
       "   ('100', '5'),\n",
       "   ('79', '5'),\n",
       "   ('202', '5'),\n",
       "   ('174', '5')]),\n",
       " ('600',\n",
       "  [('515', '5'),\n",
       "   ('177', '5'),\n",
       "   ('96', '5'),\n",
       "   ('56', '5'),\n",
       "   ('665', '5'),\n",
       "   ('511', '5'),\n",
       "   ('187', '5'),\n",
       "   ('183', '5'),\n",
       "   ('518', '5'),\n",
       "   ('82', '5')]),\n",
       " ('12',\n",
       "  [('88', '5'),\n",
       "   ('238', '5'),\n",
       "   ('69', '5'),\n",
       "   ('735', '5'),\n",
       "   ('471', '5'),\n",
       "   ('143', '5'),\n",
       "   ('97', '5'),\n",
       "   ('204', '5'),\n",
       "   ('132', '5'),\n",
       "   ('157', '5')]),\n",
       " ('230',\n",
       "  [('496', '5'),\n",
       "   ('211', '5'),\n",
       "   ('22', '5'),\n",
       "   ('161', '5'),\n",
       "   ('117', '5'),\n",
       "   ('174', '5'),\n",
       "   ('143', '5'),\n",
       "   ('423', '5'),\n",
       "   ('64', '5'),\n",
       "   ('627', '5')]),\n",
       " ('330',\n",
       "  [('385', '5'),\n",
       "   ('202', '5'),\n",
       "   ('21', '5'),\n",
       "   ('963', '5'),\n",
       "   ('405', '5'),\n",
       "   ('318', '5'),\n",
       "   ('989', '5'),\n",
       "   ('403', '5'),\n",
       "   ('694', '5'),\n",
       "   ('284', '5')]),\n",
       " ('854',\n",
       "  [('318', '5'),\n",
       "   ('200', '5'),\n",
       "   ('93', '5'),\n",
       "   ('293', '5'),\n",
       "   ('922', '5'),\n",
       "   ('288', '5'),\n",
       "   ('238', '5'),\n",
       "   ('8', '5'),\n",
       "   ('12', '5'),\n",
       "   ('100', '5')]),\n",
       " ('417',\n",
       "  [('190', '5'),\n",
       "   ('223', '5'),\n",
       "   ('55', '5'),\n",
       "   ('125', '5'),\n",
       "   ('723', '5'),\n",
       "   ('180', '5'),\n",
       "   ('151', '5'),\n",
       "   ('191', '5'),\n",
       "   ('153', '5'),\n",
       "   ('83', '5')]),\n",
       " ('819',\n",
       "  [('1537', '5'),\n",
       "   ('248', '5'),\n",
       "   ('340', '5'),\n",
       "   ('315', '5'),\n",
       "   ('346', '5'),\n",
       "   ('300', '5'),\n",
       "   ('302', '5'),\n",
       "   ('286', '5'),\n",
       "   ('147', '5'),\n",
       "   ('744', '5')]),\n",
       " ('147',\n",
       "  [('301', '5'),\n",
       "   ('898', '5'),\n",
       "   ('286', '5'),\n",
       "   ('904', '5'),\n",
       "   ('292', '5'),\n",
       "   ('339', '5'),\n",
       "   ('304', '5'),\n",
       "   ('750', '5'),\n",
       "   ('302', '4'),\n",
       "   ('305', '4')]),\n",
       " ('658',\n",
       "  [('178', '5'),\n",
       "   ('408', '5'),\n",
       "   ('169', '5'),\n",
       "   ('198', '5'),\n",
       "   ('127', '5'),\n",
       "   ('8', '5'),\n",
       "   ('182', '5'),\n",
       "   ('515', '5'),\n",
       "   ('45', '5'),\n",
       "   ('151', '5')]),\n",
       " ('348',\n",
       "  [('928', '5'),\n",
       "   ('288', '5'),\n",
       "   ('147', '5'),\n",
       "   ('313', '5'),\n",
       "   ('1061', '5'),\n",
       "   ('126', '5'),\n",
       "   ('111', '5'),\n",
       "   ('121', '5'),\n",
       "   ('323', '5'),\n",
       "   ('123', '5')]),\n",
       " ('635',\n",
       "  [('327', '5'),\n",
       "   ('246', '5'),\n",
       "   ('333', '5'),\n",
       "   ('268', '5'),\n",
       "   ('269', '5'),\n",
       "   ('262', '5'),\n",
       "   ('255', '4'),\n",
       "   ('307', '4'),\n",
       "   ('331', '4'),\n",
       "   ('302', '4')]),\n",
       " ('536',\n",
       "  [('707', '5'),\n",
       "   ('566', '5'),\n",
       "   ('498', '5'),\n",
       "   ('480', '5'),\n",
       "   ('408', '5'),\n",
       "   ('736', '5'),\n",
       "   ('168', '5'),\n",
       "   ('389', '5'),\n",
       "   ('1063', '5'),\n",
       "   ('8', '5')]),\n",
       " ('889',\n",
       "  [('1589', '5'),\n",
       "   ('196', '5'),\n",
       "   ('56', '5'),\n",
       "   ('129', '5'),\n",
       "   ('462', '5'),\n",
       "   ('186', '5'),\n",
       "   ('515', '5'),\n",
       "   ('173', '5'),\n",
       "   ('64', '5'),\n",
       "   ('153', '5')]),\n",
       " ('588',\n",
       "  [('645', '5'),\n",
       "   ('578', '5'),\n",
       "   ('485', '5'),\n",
       "   ('121', '5'),\n",
       "   ('421', '5'),\n",
       "   ('42', '5'),\n",
       "   ('471', '5'),\n",
       "   ('28', '5'),\n",
       "   ('402', '5'),\n",
       "   ('354', '5')]),\n",
       " ('146',\n",
       "  [('272', '5'),\n",
       "   ('245', '5'),\n",
       "   ('315', '5'),\n",
       "   ('336', '5'),\n",
       "   ('1022', '5'),\n",
       "   ('331', '5'),\n",
       "   ('1293', '5'),\n",
       "   ('345', '4'),\n",
       "   ('269', '4'),\n",
       "   ('311', '4')]),\n",
       " ('771',\n",
       "  [('83', '5'),\n",
       "   ('237', '5'),\n",
       "   ('258', '5'),\n",
       "   ('28', '5'),\n",
       "   ('949', '5'),\n",
       "   ('275', '5'),\n",
       "   ('71', '5'),\n",
       "   ('709', '5'),\n",
       "   ('1129', '5'),\n",
       "   ('1', '5')]),\n",
       " ('829',\n",
       "  [('192', '5'),\n",
       "   ('318', '5'),\n",
       "   ('509', '5'),\n",
       "   ('189', '4'),\n",
       "   ('1067', '4'),\n",
       "   ('268', '4'),\n",
       "   ('512', '4'),\n",
       "   ('13', '4'),\n",
       "   ('153', '4'),\n",
       "   ('213', '4')]),\n",
       " ('840',\n",
       "  [('845', '5'),\n",
       "   ('423', '5'),\n",
       "   ('647', '5'),\n",
       "   ('135', '5'),\n",
       "   ('166', '5'),\n",
       "   ('1065', '5'),\n",
       "   ('1266', '5'),\n",
       "   ('98', '5'),\n",
       "   ('498', '5'),\n",
       "   ('234', '5')]),\n",
       " ('341',\n",
       "  [('299', '5'),\n",
       "   ('881', '5'),\n",
       "   ('880', '5'),\n",
       "   ('292', '5'),\n",
       "   ('887', '5'),\n",
       "   ('1025', '5'),\n",
       "   ('330', '5'),\n",
       "   ('335', '4'),\n",
       "   ('876', '4'),\n",
       "   ('1527', '4')]),\n",
       " ('73',\n",
       "  [('187', '5'),\n",
       "   ('197', '5'),\n",
       "   ('188', '5'),\n",
       "   ('657', '5'),\n",
       "   ('357', '5'),\n",
       "   ('12', '5'),\n",
       "   ('127', '5'),\n",
       "   ('474', '5'),\n",
       "   ('479', '5'),\n",
       "   ('89', '5')]),\n",
       " ('179',\n",
       "  [('914', '5'),\n",
       "   ('682', '5'),\n",
       "   ('916', '5'),\n",
       "   ('258', '5'),\n",
       "   ('316', '5'),\n",
       "   ('895', '5'),\n",
       "   ('315', '5'),\n",
       "   ('272', '5'),\n",
       "   ('333', '5'),\n",
       "   ('288', '5')]),\n",
       " ('512',\n",
       "  [('273', '5'),\n",
       "   ('286', '5'),\n",
       "   ('183', '5'),\n",
       "   ('50', '5'),\n",
       "   ('186', '5'),\n",
       "   ('198', '5'),\n",
       "   ('318', '5'),\n",
       "   ('11', '5'),\n",
       "   ('97', '5'),\n",
       "   ('527', '5')]),\n",
       " ('880',\n",
       "  [('651', '5'),\n",
       "   ('295', '5'),\n",
       "   ('204', '5'),\n",
       "   ('50', '5'),\n",
       "   ('181', '5'),\n",
       "   ('182', '5'),\n",
       "   ('347', '5'),\n",
       "   ('12', '5'),\n",
       "   ('346', '5'),\n",
       "   ('272', '5')]),\n",
       " ('351',\n",
       "  [('882', '5'),\n",
       "   ('898', '5'),\n",
       "   ('258', '5'),\n",
       "   ('879', '5'),\n",
       "   ('313', '5'),\n",
       "   ('984', '5'),\n",
       "   ('990', '5'),\n",
       "   ('750', '5'),\n",
       "   ('754', '5'),\n",
       "   ('286', '5')]),\n",
       " ('56',\n",
       "  [('204', '5'),\n",
       "   ('22', '5'),\n",
       "   ('62', '5'),\n",
       "   ('237', '5'),\n",
       "   ('50', '5'),\n",
       "   ('238', '5'),\n",
       "   ('193', '5'),\n",
       "   ('28', '5'),\n",
       "   ('121', '5'),\n",
       "   ('449', '5')]),\n",
       " ('375',\n",
       "  [('234', '5'),\n",
       "   ('185', '5'),\n",
       "   ('183', '5'),\n",
       "   ('302', '5'),\n",
       "   ('176', '4'),\n",
       "   ('356', '4'),\n",
       "   ('684', '4'),\n",
       "   ('443', '4'),\n",
       "   ('566', '4'),\n",
       "   ('300', '4')]),\n",
       " ('57',\n",
       "  [('50', '5'),\n",
       "   ('1', '5'),\n",
       "   ('257', '5'),\n",
       "   ('304', '5'),\n",
       "   ('79', '5'),\n",
       "   ('744', '5'),\n",
       "   ('282', '5'),\n",
       "   ('173', '5'),\n",
       "   ('248', '5'),\n",
       "   ('100', '5')]),\n",
       " ('820',\n",
       "  [('288', '5'),\n",
       "   ('313', '5'),\n",
       "   ('333', '5'),\n",
       "   ('302', '5'),\n",
       "   ('343', '4'),\n",
       "   ('286', '4'),\n",
       "   ('347', '4'),\n",
       "   ('538', '3'),\n",
       "   ('315', '3'),\n",
       "   ('264', '3')]),\n",
       " ('456',\n",
       "  [('582', '5'),\n",
       "   ('1009', '5'),\n",
       "   ('127', '5'),\n",
       "   ('56', '5'),\n",
       "   ('14', '5'),\n",
       "   ('479', '5'),\n",
       "   ('660', '5'),\n",
       "   ('170', '5'),\n",
       "   ('179', '5'),\n",
       "   ('603', '5')]),\n",
       " ('496',\n",
       "  [('10', '5'),\n",
       "   ('652', '5'),\n",
       "   ('277', '5'),\n",
       "   ('559', '5'),\n",
       "   ('721', '5'),\n",
       "   ('190', '5'),\n",
       "   ('217', '5'),\n",
       "   ('727', '5'),\n",
       "   ('921', '5'),\n",
       "   ('42', '5')]),\n",
       " ('453',\n",
       "  [('22', '5'),\n",
       "   ('181', '5'),\n",
       "   ('693', '5'),\n",
       "   ('56', '5'),\n",
       "   ('272', '5'),\n",
       "   ('246', '5'),\n",
       "   ('7', '5'),\n",
       "   ('42', '5'),\n",
       "   ('11', '5'),\n",
       "   ('172', '5')]),\n",
       " ('180',\n",
       "  [('372', '5'),\n",
       "   ('222', '5'),\n",
       "   ('469', '5'),\n",
       "   ('53', '5'),\n",
       "   ('655', '5'),\n",
       "   ('462', '5'),\n",
       "   ('68', '5'),\n",
       "   ('433', '5'),\n",
       "   ('121', '5'),\n",
       "   ('83', '5')]),\n",
       " ('637',\n",
       "  [('274', '5'),\n",
       "   ('286', '5'),\n",
       "   ('151', '5'),\n",
       "   ('690', '5'),\n",
       "   ('408', '5'),\n",
       "   ('1233', '5'),\n",
       "   ('1', '4'),\n",
       "   ('338', '4'),\n",
       "   ('936', '4'),\n",
       "   ('291', '4')]),\n",
       " ('106',\n",
       "  [('191', '5'),\n",
       "   ('162', '5'),\n",
       "   ('318', '5'),\n",
       "   ('97', '5'),\n",
       "   ('165', '5'),\n",
       "   ('194', '5'),\n",
       "   ('196', '5'),\n",
       "   ('216', '5'),\n",
       "   ('566', '4'),\n",
       "   ('9', '4')]),\n",
       " ('174',\n",
       "  [('286', '5'),\n",
       "   ('125', '5'),\n",
       "   ('716', '5'),\n",
       "   ('1086', '5'),\n",
       "   ('724', '5'),\n",
       "   ('280', '5'),\n",
       "   ('648', '5'),\n",
       "   ('11', '5'),\n",
       "   ('215', '5'),\n",
       "   ('65', '5')]),\n",
       " ('278',\n",
       "  [('515', '5'),\n",
       "   ('603', '5'),\n",
       "   ('525', '5'),\n",
       "   ('22', '5'),\n",
       "   ('269', '5'),\n",
       "   ('173', '5'),\n",
       "   ('306', '5'),\n",
       "   ('286', '5'),\n",
       "   ('313', '5'),\n",
       "   ('752', '5')]),\n",
       " ('716',\n",
       "  [('1', '5'),\n",
       "   ('507', '5'),\n",
       "   ('357', '5'),\n",
       "   ('131', '5'),\n",
       "   ('611', '5'),\n",
       "   ('211', '5'),\n",
       "   ('527', '5'),\n",
       "   ('425', '5'),\n",
       "   ('205', '5'),\n",
       "   ('504', '5')]),\n",
       " ('163',\n",
       "  [('316', '5'),\n",
       "   ('56', '4'),\n",
       "   ('64', '4'),\n",
       "   ('98', '4'),\n",
       "   ('97', '4'),\n",
       "   ('318', '4'),\n",
       "   ('347', '4'),\n",
       "   ('272', '4'),\n",
       "   ('258', '4'),\n",
       "   ('357', '4')]),\n",
       " ('744',\n",
       "  [('508', '5'),\n",
       "   ('963', '5'),\n",
       "   ('657', '5'),\n",
       "   ('302', '5'),\n",
       "   ('479', '5'),\n",
       "   ('127', '5'),\n",
       "   ('603', '5'),\n",
       "   ('428', '4'),\n",
       "   ('238', '4'),\n",
       "   ('23', '4')]),\n",
       " ('334',\n",
       "  [('896', '5'),\n",
       "   ('529', '5'),\n",
       "   ('208', '5'),\n",
       "   ('603', '5'),\n",
       "   ('100', '5'),\n",
       "   ('481', '5'),\n",
       "   ('223', '5'),\n",
       "   ('59', '5'),\n",
       "   ('302', '5'),\n",
       "   ('1010', '5')]),\n",
       " ('682',\n",
       "  [('87', '5'),\n",
       "   ('181', '5'),\n",
       "   ('272', '5'),\n",
       "   ('423', '5'),\n",
       "   ('64', '5'),\n",
       "   ('12', '5'),\n",
       "   ('154', '5'),\n",
       "   ('151', '5'),\n",
       "   ('246', '5'),\n",
       "   ('156', '5')]),\n",
       " ('787',\n",
       "  [('310', '5'),\n",
       "   ('690', '5'),\n",
       "   ('750', '5'),\n",
       "   ('258', '5'),\n",
       "   ('313', '5'),\n",
       "   ('304', '4'),\n",
       "   ('348', '4'),\n",
       "   ('311', '4'),\n",
       "   ('329', '4'),\n",
       "   ('307', '4')]),\n",
       " ('542',\n",
       "  [('427', '5'),\n",
       "   ('432', '5'),\n",
       "   ('48', '5'),\n",
       "   ('56', '5'),\n",
       "   ('191', '5'),\n",
       "   ('23', '5'),\n",
       "   ('127', '5'),\n",
       "   ('47', '5'),\n",
       "   ('192', '5'),\n",
       "   ('357', '5')]),\n",
       " ('515',\n",
       "  [('300', '5'),\n",
       "   ('304', '4'),\n",
       "   ('895', '4'),\n",
       "   ('362', '4'),\n",
       "   ('313', '4'),\n",
       "   ('288', '4'),\n",
       "   ('315', '4'),\n",
       "   ('271', '4'),\n",
       "   ('307', '4'),\n",
       "   ('682', '4')])]"
      ]
     },
     "execution_count": 78,
     "metadata": {},
     "output_type": "execute_result"
    }
   ],
   "source": [
    "actual_top_k.take(100)"
   ]
  },
  {
   "cell_type": "markdown",
   "metadata": {},
   "source": [
    "#### 准备计算MAPK"
   ]
  },
  {
   "cell_type": "code",
   "execution_count": 80,
   "metadata": {},
   "outputs": [],
   "source": [
    "actual_top_k.cache()\n",
    "actual_top_k.checkpoint()\n",
    "pred_top_k.cache()\n",
    "pred_top_k.checkpoint()"
   ]
  },
  {
   "cell_type": "code",
   "execution_count": 90,
   "metadata": {},
   "outputs": [],
   "source": [
    "actual_top_k = actual_top_k.map(lambda x:(int(x[0]), [(int(i), float(j)) for i, j in x[1]])) "
   ]
  },
  {
   "cell_type": "code",
   "execution_count": 81,
   "metadata": {},
   "outputs": [
    {
     "data": {
      "text/plain": [
       "943"
      ]
     },
     "execution_count": 81,
     "metadata": {},
     "output_type": "execute_result"
    }
   ],
   "source": [
    "actual_top_k.count()"
   ]
  },
  {
   "cell_type": "code",
   "execution_count": 82,
   "metadata": {},
   "outputs": [
    {
     "data": {
      "text/plain": [
       "943"
      ]
     },
     "execution_count": 82,
     "metadata": {},
     "output_type": "execute_result"
    }
   ],
   "source": [
    "pred_top_k.count()"
   ]
  },
  {
   "cell_type": "markdown",
   "metadata": {},
   "source": [
    "#### 在join前先提取成（user, [movie1, movie2 ]）的形式"
   ]
  },
  {
   "cell_type": "code",
   "execution_count": 98,
   "metadata": {},
   "outputs": [],
   "source": [
    "actual_top_k = actual_top_k.mapValues(lambda a_list:[i for i, j in a_list])\n",
    "pred_top_k = pred_top_k.mapValues(lambda a_list:[i for i, j in a_list])"
   ]
  },
  {
   "cell_type": "code",
   "execution_count": 99,
   "metadata": {},
   "outputs": [
    {
     "data": {
      "text/plain": [
       "[(190, [237, 288, 302, 471, 313, 272, 100, 7, 117, 147])]"
      ]
     },
     "execution_count": 99,
     "metadata": {},
     "output_type": "execute_result"
    }
   ],
   "source": [
    "actual_top_k.take(1)"
   ]
  },
  {
   "cell_type": "code",
   "execution_count": 100,
   "metadata": {},
   "outputs": [],
   "source": [
    "actual_top_k.cache()\n",
    "actual_top_k.checkpoint()\n",
    "pred_top_k.cache()\n",
    "pred_top_k.checkpoint()"
   ]
  },
  {
   "cell_type": "code",
   "execution_count": 101,
   "metadata": {},
   "outputs": [],
   "source": [
    "mix_top_k_actual_pred = actual_top_k.join(pred_top_k)"
   ]
  },
  {
   "cell_type": "markdown",
   "metadata": {},
   "source": [
    "* 总是报错：Container exited with a non-zero exit code 50 实际是前面的栈溢出导致的"
   ]
  },
  {
   "cell_type": "code",
   "execution_count": 102,
   "metadata": {},
   "outputs": [],
   "source": [
    "mix_top_k_actual_pred.cache()\n",
    "mix_top_k_actual_pred.checkpoint()"
   ]
  },
  {
   "cell_type": "code",
   "execution_count": 124,
   "metadata": {},
   "outputs": [
    {
     "data": {
      "text/plain": [
       "[(808,\n",
       "  ([294, 302, 750, 262, 313, 340, 264, 872, 327, 346],\n",
       "   [313, 357, 318, 136, 133, 515, 316, 50, 315, 114])),\n",
       " (202,\n",
       "  ([604, 195, 96, 484, 258, 516, 269, 283, 172, 423],\n",
       "   [604, 8, 367, 485, 430, 663, 150, 751, 709, 87])),\n",
       " (404,\n",
       "  ([313, 259, 22, 690, 269, 748, 294, 328, 258, 739],\n",
       "   [257, 327, 129, 949, 201, 559, 763, 42, 204, 184])),\n",
       " (606,\n",
       "  ([418, 15, 186, 147, 96, 763, 11, 228, 966, 64],\n",
       "   [318, 196, 315, 12, 217, 64, 246, 68, 496, 173])),\n",
       " (809,\n",
       "  ([272, 328, 307, 302, 315, 286, 313, 340, 300, 299],\n",
       "   [89, 190, 50, 169, 12, 52, 285, 86, 175, 498])),\n",
       " (203,\n",
       "  ([181, 332, 50, 248, 288, 150, 283, 471, 93, 117],\n",
       "   [98, 219, 186, 313, 172, 178, 183, 69, 531, 207])),\n",
       " (1,\n",
       "  ([137, 127, 16, 45, 48, 195, 168, 191, 55, 42],\n",
       "   [489, 792, 317, 176, 430, 709, 461, 434, 50, 1007])),\n",
       " (405,\n",
       "  ([210, 692, 186, 172, 135, 127, 575, 451, 527, 673],\n",
       "   [137, 238, 531, 357, 255, 575, 174, 1053, 376, 1218])),\n",
       " (607,\n",
       "  ([511, 211, 494, 482, 56, 487, 529, 107, 86, 528],\n",
       "   [59, 56, 211, 511, 469, 89, 8, 134, 408, 203])),\n",
       " (608,\n",
       "  ([699, 448, 357, 1039, 56, 11, 207, 606, 1262, 603],\n",
       "   [650, 468, 143, 129, 692, 196, 197, 170, 127, 1069]))]"
      ]
     },
     "execution_count": 124,
     "metadata": {},
     "output_type": "execute_result"
    }
   ],
   "source": [
    "mix_top_k_actual_pred.take(10)"
   ]
  },
  {
   "cell_type": "code",
   "execution_count": 97,
   "metadata": {},
   "outputs": [],
   "source": [
    "def avgPrecisionK(actual, predict, k):\n",
    "    if len(actual) == 0:\n",
    "        return 1\n",
    "    if len(actual)<k:\n",
    "        k = len(actual)\n",
    "    score = 0\n",
    "    numHits = 0\n",
    "    predict_k = predict[:k]\n",
    "    for s,i in enumerate(predict_k):\n",
    "        if i in actual:\n",
    "            numHits+=1\n",
    "        score = score + numHits/(s+1)\n",
    "    return score/k"
   ]
  },
  {
   "cell_type": "code",
   "execution_count": 127,
   "metadata": {},
   "outputs": [],
   "source": [
    "PrecisionK_by_user = mix_top_k_actual_pred.mapValues(lambda x:avgPrecisionK(x[0], x[1], 10))"
   ]
  },
  {
   "cell_type": "code",
   "execution_count": 132,
   "metadata": {},
   "outputs": [],
   "source": [
    "avgPrecisionK_top_k = PrecisionK_by_user.map(lambda x:x[1]).mean()"
   ]
  },
  {
   "cell_type": "code",
   "execution_count": 133,
   "metadata": {},
   "outputs": [
    {
     "data": {
      "text/plain": [
       "0.08405893888131431"
      ]
     },
     "execution_count": 133,
     "metadata": {},
     "output_type": "execute_result"
    }
   ],
   "source": [
    "avgPrecisionK_top_k"
   ]
  },
  {
   "cell_type": "markdown",
   "metadata": {},
   "source": [
    "* 此结果包含这已经有过评分的电影，大概等于把训练集结果加到了模型评价中，值偏高。\n",
    "* 推荐类算法通常结果都比较低。"
   ]
  },
  {
   "cell_type": "markdown",
   "metadata": {},
   "source": [
    "### 总结"
   ]
  },
  {
   "cell_type": "markdown",
   "metadata": {},
   "source": [
    "* funkSVD for recommendation.\n",
    "* avgPrecisionK as evaluation of top k fields.\n",
    "* checkpoint() resolves the problems that stackoverflowerror. (too many for_loop)"
   ]
  }
 ],
 "metadata": {
  "kernelspec": {
   "display_name": "Python 3",
   "language": "python",
   "name": "python3"
  },
  "language_info": {
   "codemirror_mode": {
    "name": "ipython",
    "version": 3
   },
   "file_extension": ".py",
   "mimetype": "text/x-python",
   "name": "python",
   "nbconvert_exporter": "python",
   "pygments_lexer": "ipython3",
   "version": "3.5.2"
  }
 },
 "nbformat": 4,
 "nbformat_minor": 2
}
