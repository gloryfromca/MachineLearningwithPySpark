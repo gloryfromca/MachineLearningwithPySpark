{
 "cells": [
  {
   "cell_type": "code",
   "execution_count": 2,
   "metadata": {},
   "outputs": [
    {
     "data": {
      "text/html": [
       "\n",
       "        <div>\n",
       "            <p><b>SparkContext</b></p>\n",
       "\n",
       "            <p><a href=\"http://192.170.5.172:4040\">Spark UI</a></p>\n",
       "\n",
       "            <dl>\n",
       "              <dt>Version</dt>\n",
       "                <dd><code>v2.2.0</code></dd>\n",
       "              <dt>Master</dt>\n",
       "                <dd><code>yarn</code></dd>\n",
       "              <dt>AppName</dt>\n",
       "                <dd><code>PySparkShell</code></dd>\n",
       "            </dl>\n",
       "        </div>\n",
       "        "
      ],
      "text/plain": [
       "<SparkContext master=yarn appName=PySparkShell>"
      ]
     },
     "execution_count": 2,
     "metadata": {},
     "output_type": "execute_result"
    }
   ],
   "source": [
    "sc"
   ]
  },
  {
   "cell_type": "code",
   "execution_count": 3,
   "metadata": {},
   "outputs": [
    {
     "data": {
      "text/plain": [
       "'yarn'"
      ]
     },
     "execution_count": 3,
     "metadata": {},
     "output_type": "execute_result"
    }
   ],
   "source": [
    "sc.master"
   ]
  },
  {
   "cell_type": "code",
   "execution_count": 4,
   "metadata": {},
   "outputs": [],
   "source": [
    "sc.setCheckpointDir('hdfs://zh:9000/checkpoint')"
   ]
  },
  {
   "cell_type": "code",
   "execution_count": 5,
   "metadata": {},
   "outputs": [],
   "source": [
    "import socket\n",
    "import hashlib\n",
    "import json\n",
    "import datetime\n",
    "import time\n",
    "import random"
   ]
  },
  {
   "cell_type": "code",
   "execution_count": 6,
   "metadata": {},
   "outputs": [],
   "source": [
    "from pyspark.streaming import StreamingContext"
   ]
  },
  {
   "cell_type": "markdown",
   "metadata": {},
   "source": [
    "### 随机消费"
   ]
  },
  {
   "cell_type": "markdown",
   "metadata": {},
   "source": [
    "#### 测试 "
   ]
  },
  {
   "cell_type": "code",
   "execution_count": 3,
   "metadata": {},
   "outputs": [],
   "source": [
    "socket_server = socket.socket(socket.AF_INET, socket.SOCK_STREAM)"
   ]
  },
  {
   "cell_type": "code",
   "execution_count": 7,
   "metadata": {},
   "outputs": [],
   "source": [
    "socket_server.connect(('localhost', 7778))"
   ]
  },
  {
   "cell_type": "markdown",
   "metadata": {},
   "source": [
    "* 连接建立之后，不是发送-接受的交互模式，而是单方面发，单方面收。"
   ]
  },
  {
   "cell_type": "code",
   "execution_count": 9,
   "metadata": {},
   "outputs": [
    {
     "name": "stdout",
     "output_type": "stream",
     "text": [
      "chenxiaochun,ipad cover,99zhanghui,Mi ba\n",
      "nd,199zhitianxinchang,kindle,999jiangsai\n",
      "ya,ipad cover,99zhitianxinchang,ipad cov\n",
      "er,99fenchenxiuji,iphone cover,29zhitian\n",
      "xinchang,ipad cover,99lilianjie,iphone c\n",
      "over,29fenchenxiuji,Mi band,199mayun,iph\n",
      "one cover,29xuqiuyi,Mi band,199chenxiaoc\n",
      "hun,Mi band,199zhanghui,iphone cover,29m\n",
      "ahuateng,iphone cover,29zhitianxinchang,\n",
      "ipad cover,99zhitianxinchang,kindle,999c\n",
      "henxiaochun,Mi band,199zhitianxinchang,M\n",
      "i band,199chenxiaochun,ipad cover,99liud\n",
      "ehua,Mi band,199mayun,iphone cover,29dec\n",
      "huanjiakang,kindle,999xuqiuyi,iphone cov\n",
      "er,29liudehua,iphone cover,29zhangruixia\n",
      "ng,ipad cover,99xuqiuyi,ipad cover,99che\n",
      "nxiaochun,Mi band,199zhanghui,Mi band,19\n",
      "9mahuateng,Mi band,199mayun,kindle,999zh\n",
      "itianxinchang,iphone cover,29lilianjie,i\n",
      "phone cover,29\n",
      "zhanghui,iphone cover,29\n",
      "liudehua,iphone cover,29\n",
      "xuqiuyi,ipad cover,99\n",
      "mayun,kindle,999\n",
      "chenxiaochun,Mi band,199\n",
      "lilianjie,Mi band,199\n",
      "xuqiuyi,iphone cover,29\n",
      "zhanghui,Mi band,199\n",
      "liudehua,kindle,999\n",
      "liudehua,kindle,999\n",
      "mayun,iphone cover,29\n",
      "xuqiuyi,Mi band,199\n",
      "liudehua,iphone cover,29\n",
      "liudehua,Mi band,199\n",
      "chenxiaochun,ipad cover,99\n",
      "xuqiuyi,iphone cover,29\n",
      "lilianjie,kindle,999\n",
      "chenxiaochun,iphone cover,29\n",
      "dechuanjiakang,iphone cover,29\n",
      "fenchenxiuji,Mi band,199\n",
      "lilianjie,iphone cover,29\n",
      "zhitianxinchang,Mi band,199\n",
      "zhangruixiang,kindle,999\n",
      "jiangsaiya,ipad cover,99\n",
      "mayun,iphone cover,29\n",
      "mahuateng,ipad cover,99\n",
      "lilianjie,iphone cover,29\n",
      "chenxiaochun,kindle,999\n",
      "zhitianxinchang,ipad cover,99\n",
      "mahuateng,kindle,999\n",
      "jiangsaiya,Mi band,199\n",
      "mahuateng,iphone cover,29\n",
      "jiangsaiya,ipad cover,99\n",
      "xuqiuyi,kindle,999\n",
      "zhanghui,Mi band,199\n",
      "xuqiuyi,Mi band,199\n",
      "fenchenxiuji,ipad cover,99\n",
      "zhitianxinchang,iphone cover,29\n",
      "mayun,iphone cover,29\n",
      "dechuanjiakang,iphone cover,29\n",
      "mahuateng,kindle,999\n",
      "mayun,Mi band,199\n",
      "zhanghui,kindle,999\n",
      "zhanghui,Mi band,199\n",
      "dechuanjiakang,kindle,999\n",
      "zhanghui,Mi band,199\n",
      "fenchenxiuji,Mi band,199\n",
      "zhanghui,kindle,999\n",
      "zhanghui,ipad cover,99\n",
      "zhanghui,iphone cover,29\n",
      "zhitianxinchang,Mi band,199\n"
     ]
    },
    {
     "ename": "KeyboardInterrupt",
     "evalue": "",
     "output_type": "error",
     "traceback": [
      "\u001b[0;31m---------------------------------------------------------------------------\u001b[0m",
      "\u001b[0;31mKeyboardInterrupt\u001b[0m                         Traceback (most recent call last)",
      "\u001b[0;32m<ipython-input-9-f4c8f3a90193>\u001b[0m in \u001b[0;36m<module>\u001b[0;34m()\u001b[0m\n\u001b[1;32m      1\u001b[0m \u001b[0;32mwhile\u001b[0m \u001b[0;32mTrue\u001b[0m\u001b[0;34m:\u001b[0m\u001b[0;34m\u001b[0m\u001b[0m\n\u001b[0;32m----> 2\u001b[0;31m     \u001b[0ms\u001b[0m \u001b[0;34m=\u001b[0m \u001b[0msocket_server\u001b[0m\u001b[0;34m.\u001b[0m\u001b[0mrecv\u001b[0m\u001b[0;34m(\u001b[0m\u001b[0;36m40\u001b[0m\u001b[0;34m)\u001b[0m\u001b[0;34m.\u001b[0m\u001b[0mdecode\u001b[0m\u001b[0;34m(\u001b[0m\u001b[0;34m'utf-8'\u001b[0m\u001b[0;34m)\u001b[0m\u001b[0;34m\u001b[0m\u001b[0m\n\u001b[0m\u001b[1;32m      3\u001b[0m     \u001b[0mprint\u001b[0m\u001b[0;34m(\u001b[0m\u001b[0ms\u001b[0m\u001b[0;34m)\u001b[0m\u001b[0;34m\u001b[0m\u001b[0m\n",
      "\u001b[0;31mKeyboardInterrupt\u001b[0m: "
     ]
    }
   ],
   "source": [
    "while True:\n",
    "    s = socket_server.recv(40).decode('utf-8')\n",
    "    print(s)"
   ]
  },
  {
   "cell_type": "markdown",
   "metadata": {},
   "source": [
    "* 最开始的一堆是因为生产方的发送信息堆积起来了"
   ]
  },
  {
   "cell_type": "markdown",
   "metadata": {},
   "source": [
    "#### 创建流处理程序 "
   ]
  },
  {
   "cell_type": "code",
   "execution_count": 7,
   "metadata": {},
   "outputs": [],
   "source": [
    "sc_stream = StreamingContext(sc, batchDuration=5)# 5 seconds window "
   ]
  },
  {
   "cell_type": "code",
   "execution_count": 8,
   "metadata": {},
   "outputs": [],
   "source": [
    "purchases = sc_stream.socketTextStream('localhost', 7778, )"
   ]
  },
  {
   "cell_type": "markdown",
   "metadata": {},
   "source": [
    "* Adding new inputs, transformations, and output operations after starting a context is not supported"
   ]
  },
  {
   "cell_type": "code",
   "execution_count": 9,
   "metadata": {},
   "outputs": [],
   "source": [
    "purchases.map(lambda x:tuple(x.split(','))).pprint()"
   ]
  },
  {
   "cell_type": "code",
   "execution_count": 12,
   "metadata": {},
   "outputs": [],
   "source": [
    "sc_stream.start()\n",
    "sc_stream.awaitTermination()"
   ]
  },
  {
   "cell_type": "markdown",
   "metadata": {},
   "source": [
    "#### 下面的部分通过使用spark-submit提交脚本来完成 "
   ]
  }
 ],
 "metadata": {
  "kernelspec": {
   "display_name": "Python 3",
   "language": "python",
   "name": "python3"
  },
  "language_info": {
   "codemirror_mode": {
    "name": "ipython",
    "version": 3
   },
   "file_extension": ".py",
   "mimetype": "text/x-python",
   "name": "python",
   "nbconvert_exporter": "python",
   "pygments_lexer": "ipython3",
   "version": "3.5.2"
  }
 },
 "nbformat": 4,
 "nbformat_minor": 2
}
