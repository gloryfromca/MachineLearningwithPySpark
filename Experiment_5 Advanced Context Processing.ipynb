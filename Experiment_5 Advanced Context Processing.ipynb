{
 "cells": [
  {
   "cell_type": "code",
   "execution_count": 21,
   "metadata": {},
   "outputs": [
    {
     "data": {
      "text/html": [
       "\n",
       "        <div>\n",
       "            <p><b>SparkContext</b></p>\n",
       "\n",
       "            <p><a href=\"http://192.170.5.172:4040\">Spark UI</a></p>\n",
       "\n",
       "            <dl>\n",
       "              <dt>Version</dt>\n",
       "                <dd><code>v2.2.0</code></dd>\n",
       "              <dt>Master</dt>\n",
       "                <dd><code>yarn</code></dd>\n",
       "              <dt>AppName</dt>\n",
       "                <dd><code>PySparkShell</code></dd>\n",
       "            </dl>\n",
       "        </div>\n",
       "        "
      ],
      "text/plain": [
       "<SparkContext master=yarn appName=PySparkShell>"
      ]
     },
     "execution_count": 21,
     "metadata": {},
     "output_type": "execute_result"
    }
   ],
   "source": [
    "sc"
   ]
  },
  {
   "cell_type": "code",
   "execution_count": 22,
   "metadata": {},
   "outputs": [
    {
     "data": {
      "text/plain": [
       "'yarn'"
      ]
     },
     "execution_count": 22,
     "metadata": {},
     "output_type": "execute_result"
    }
   ],
   "source": [
    "sc.master"
   ]
  },
  {
   "cell_type": "code",
   "execution_count": 23,
   "metadata": {},
   "outputs": [],
   "source": [
    "sc.setCheckpointDir('hdfs://zh:9000/checkpoint')"
   ]
  },
  {
   "cell_type": "code",
   "execution_count": 583,
   "metadata": {},
   "outputs": [],
   "source": [
    "from nltk.stem import PorterStemmer, SnowballStemmer, LancasterStemmer\n",
    "from pyspark.mllib.feature import HashingTF, IDF, Word2Vec\n",
    "from pyspark.mllib.linalg import Vector, Vectors\n",
    "import math\n",
    "import numpy as np\n",
    "from pyspark.mllib.classification import NaiveBayes\n",
    "from pyspark.mllib.evaluation import MulticlassMetrics \n",
    "from pyspark.mllib.regression import LabeledPoint"
   ]
  },
  {
   "cell_type": "markdown",
   "metadata": {},
   "source": [
    "* nltk还是要用sudo的方式安装，否则worker又找不到"
   ]
  },
  {
   "cell_type": "markdown",
   "metadata": {},
   "source": [
    "### 从数据中抽取合适的特征"
   ]
  },
  {
   "cell_type": "markdown",
   "metadata": {},
   "source": [
    "* TF-IDF"
   ]
  },
  {
   "cell_type": "markdown",
   "metadata": {},
   "source": [
    "* 特征哈希"
   ]
  },
  {
   "cell_type": "markdown",
   "metadata": {},
   "source": [
    "### 从20新闻组数据集中提取TF-IDF特征"
   ]
  },
  {
   "cell_type": "markdown",
   "metadata": {},
   "source": [
    "#### 1、载入新闻组数据"
   ]
  },
  {
   "cell_type": "code",
   "execution_count": 25,
   "metadata": {},
   "outputs": [],
   "source": [
    "newsgroups = sc.wholeTextFiles('file:///home/zh/Spark_ML_Experiment/20news-bydate/20news-bydate-train/*')"
   ]
  },
  {
   "cell_type": "markdown",
   "metadata": {},
   "source": [
    "* 并没有将文件放入hdfs中读取，大量的小文件不好放进去\n",
    "* 载入本地文件必须使用file:///前缀， 否则按照默认的hdfs schema读取文件"
   ]
  },
  {
   "cell_type": "code",
   "execution_count": 27,
   "metadata": {},
   "outputs": [
    {
     "data": {
      "text/plain": [
       "[('file:/home/zh/Spark_ML_Experiment/20news-bydate/20news-bydate-train/talk.politics.guns/54722',\n",
       "  \"From: cathyf@is.rice.edu (Catherine Anne Foulston)\\nSubject: Re: WACO: Clinton press conference, part 1\\nOrganization: Rice University\\nLines: 6\\n\\nCould y'all PLEASE stop posting this stuff to tx.general.  tx.politics\\nis sufficient and is where this stuff belongs.  Thanks.\\n\\n\\tCathy\\n-- \\nCathy Foulston + Rice University + Network & Systems Support + cathyf@rice.edu\\n\")]"
      ]
     },
     "execution_count": 27,
     "metadata": {},
     "output_type": "execute_result"
    }
   ],
   "source": [
    "newsgroups.take(1)"
   ]
  },
  {
   "cell_type": "code",
   "execution_count": null,
   "metadata": {},
   "outputs": [],
   "source": [
    "newsgroups.count()"
   ]
  },
  {
   "cell_type": "code",
   "execution_count": 28,
   "metadata": {},
   "outputs": [],
   "source": [
    "countByGroup = newsgroups.map(lambda x:x[0].split('/')[-2]).map(lambda x:(x, 1)).countByKey()"
   ]
  },
  {
   "cell_type": "code",
   "execution_count": 29,
   "metadata": {},
   "outputs": [
    {
     "data": {
      "text/plain": [
       "defaultdict(int,\n",
       "            {'alt.atheism': 480,\n",
       "             'comp.graphics': 584,\n",
       "             'comp.os.ms-windows.misc': 591,\n",
       "             'comp.sys.ibm.pc.hardware': 590,\n",
       "             'comp.sys.mac.hardware': 578,\n",
       "             'comp.windows.x': 593,\n",
       "             'misc.forsale': 585,\n",
       "             'rec.autos': 594,\n",
       "             'rec.motorcycles': 598,\n",
       "             'rec.sport.baseball': 597,\n",
       "             'rec.sport.hockey': 600,\n",
       "             'sci.crypt': 595,\n",
       "             'sci.electronics': 591,\n",
       "             'sci.med': 594,\n",
       "             'sci.space': 593,\n",
       "             'soc.religion.christian': 599,\n",
       "             'talk.politics.guns': 546,\n",
       "             'talk.politics.mideast': 564,\n",
       "             'talk.politics.misc': 465,\n",
       "             'talk.religion.misc': 377})"
      ]
     },
     "execution_count": 29,
     "metadata": {},
     "output_type": "execute_result"
    }
   ],
   "source": [
    "countByGroup"
   ]
  },
  {
   "cell_type": "markdown",
   "metadata": {},
   "source": [
    "#### 2、应用基本的分词方法"
   ]
  },
  {
   "cell_type": "code",
   "execution_count": 30,
   "metadata": {},
   "outputs": [],
   "source": [
    "newsgroups_short_name = newsgroups.map(lambda x:(x[0].split('/')[-2], x[1]))"
   ]
  },
  {
   "cell_type": "code",
   "execution_count": 31,
   "metadata": {},
   "outputs": [
    {
     "data": {
      "text/plain": [
       "[('talk.politics.guns',\n",
       "  \"From: cathyf@is.rice.edu (Catherine Anne Foulston)\\nSubject: Re: WACO: Clinton press conference, part 1\\nOrganization: Rice University\\nLines: 6\\n\\nCould y'all PLEASE stop posting this stuff to tx.general.  tx.politics\\nis sufficient and is where this stuff belongs.  Thanks.\\n\\n\\tCathy\\n-- \\nCathy Foulston + Rice University + Network & Systems Support + cathyf@rice.edu\\n\")]"
      ]
     },
     "execution_count": 31,
     "metadata": {},
     "output_type": "execute_result"
    }
   ],
   "source": [
    "newsgroups_short_name.take(1)"
   ]
  },
  {
   "cell_type": "code",
   "execution_count": 32,
   "metadata": {},
   "outputs": [],
   "source": [
    "whiteSpaceSplit = newsgroups_short_name.flatMapValues(lambda x:[i.lower() for i in x.split(\" \")])"
   ]
  },
  {
   "cell_type": "code",
   "execution_count": 33,
   "metadata": {},
   "outputs": [
    {
     "data": {
      "text/plain": [
       "[('talk.politics.guns', 'from:'), ('talk.politics.guns', 'cathyf@is.rice.edu')]"
      ]
     },
     "execution_count": 33,
     "metadata": {},
     "output_type": "execute_result"
    }
   ],
   "source": [
    "whiteSpaceSplit.take(2)"
   ]
  },
  {
   "cell_type": "code",
   "execution_count": 49,
   "metadata": {},
   "outputs": [
    {
     "data": {
      "text/plain": [
       "402978"
      ]
     },
     "execution_count": 49,
     "metadata": {},
     "output_type": "execute_result"
    }
   ],
   "source": [
    "whiteSpaceSplit.map(lambda x:x[1]).distinct().count()"
   ]
  },
  {
   "cell_type": "markdown",
   "metadata": {},
   "source": [
    "* 直接输入4会进入markdown模式并打四个井号"
   ]
  },
  {
   "cell_type": "markdown",
   "metadata": {},
   "source": [
    "#### 3、改进分词效果 "
   ]
  },
  {
   "cell_type": "code",
   "execution_count": 34,
   "metadata": {},
   "outputs": [
    {
     "data": {
      "text/plain": [
       "'string With Punctuation'"
      ]
     },
     "execution_count": 34,
     "metadata": {},
     "output_type": "execute_result"
    }
   ],
   "source": [
    "import re\n",
    "s = \"string. With. Punctuation?\"\n",
    "s = re.sub(r'[^\\w\\s]','',s)\n",
    "s#去掉非字和非空格的符号"
   ]
  },
  {
   "cell_type": "code",
   "execution_count": 35,
   "metadata": {},
   "outputs": [
    {
     "data": {
      "text/plain": [
       "'stringWithPunctuation'"
      ]
     },
     "execution_count": 35,
     "metadata": {},
     "output_type": "execute_result"
    }
   ],
   "source": [
    "import re\n",
    "s = \"string. With. Punctuation?\"\n",
    "s = re.sub(r'[^\\w]','',s)\n",
    "s#去掉非字的符号"
   ]
  },
  {
   "cell_type": "code",
   "execution_count": 36,
   "metadata": {},
   "outputs": [],
   "source": [
    "non_word_space = re.compile(r'[^\\w\\s]')"
   ]
  },
  {
   "cell_type": "code",
   "execution_count": 37,
   "metadata": {},
   "outputs": [],
   "source": [
    "newsgroups_non_word_space = newsgroups_short_name.flatMapValues(lambda x:re.split(non_word_space, x)).mapValues(lambda x:x.lower())"
   ]
  },
  {
   "cell_type": "code",
   "execution_count": 38,
   "metadata": {},
   "outputs": [
    {
     "data": {
      "text/plain": [
       "[('talk.politics.guns', 'from'),\n",
       " ('talk.politics.guns', ' cathyf'),\n",
       " ('talk.politics.guns', 'is'),\n",
       " ('talk.politics.guns', 'rice'),\n",
       " ('talk.politics.guns', 'edu '),\n",
       " ('talk.politics.guns', 'catherine anne foulston'),\n",
       " ('talk.politics.guns', '\\nsubject'),\n",
       " ('talk.politics.guns', ' re'),\n",
       " ('talk.politics.guns', ' waco'),\n",
       " ('talk.politics.guns', ' clinton press conference')]"
      ]
     },
     "execution_count": 38,
     "metadata": {},
     "output_type": "execute_result"
    }
   ],
   "source": [
    "newsgroups_non_word_space.take(10)"
   ]
  },
  {
   "cell_type": "code",
   "execution_count": 39,
   "metadata": {},
   "outputs": [],
   "source": [
    "non_word_space = re.compile(r'\\W+')"
   ]
  },
  {
   "cell_type": "code",
   "execution_count": 40,
   "metadata": {},
   "outputs": [],
   "source": [
    "newsgroups_non_word_space = newsgroups_short_name.flatMapValues(lambda x:re.split(non_word_space, x)).mapValues(lambda x:x.lower())"
   ]
  },
  {
   "cell_type": "code",
   "execution_count": 41,
   "metadata": {},
   "outputs": [
    {
     "data": {
      "text/plain": [
       "[('talk.politics.guns', 'from'),\n",
       " ('talk.politics.guns', 'cathyf'),\n",
       " ('talk.politics.guns', 'is'),\n",
       " ('talk.politics.guns', 'rice'),\n",
       " ('talk.politics.guns', 'edu'),\n",
       " ('talk.politics.guns', 'catherine'),\n",
       " ('talk.politics.guns', 'anne'),\n",
       " ('talk.politics.guns', 'foulston'),\n",
       " ('talk.politics.guns', 'subject'),\n",
       " ('talk.politics.guns', 're'),\n",
       " ('talk.politics.guns', 'waco'),\n",
       " ('talk.politics.guns', 'clinton'),\n",
       " ('talk.politics.guns', 'press'),\n",
       " ('talk.politics.guns', 'conference'),\n",
       " ('talk.politics.guns', 'part'),\n",
       " ('talk.politics.guns', '1'),\n",
       " ('talk.politics.guns', 'organization'),\n",
       " ('talk.politics.guns', 'rice'),\n",
       " ('talk.politics.guns', 'university'),\n",
       " ('talk.politics.guns', 'lines'),\n",
       " ('talk.politics.guns', '6'),\n",
       " ('talk.politics.guns', 'could'),\n",
       " ('talk.politics.guns', 'y'),\n",
       " ('talk.politics.guns', 'all'),\n",
       " ('talk.politics.guns', 'please'),\n",
       " ('talk.politics.guns', 'stop'),\n",
       " ('talk.politics.guns', 'posting'),\n",
       " ('talk.politics.guns', 'this'),\n",
       " ('talk.politics.guns', 'stuff'),\n",
       " ('talk.politics.guns', 'to'),\n",
       " ('talk.politics.guns', 'tx'),\n",
       " ('talk.politics.guns', 'general'),\n",
       " ('talk.politics.guns', 'tx'),\n",
       " ('talk.politics.guns', 'politics'),\n",
       " ('talk.politics.guns', 'is'),\n",
       " ('talk.politics.guns', 'sufficient'),\n",
       " ('talk.politics.guns', 'and'),\n",
       " ('talk.politics.guns', 'is'),\n",
       " ('talk.politics.guns', 'where'),\n",
       " ('talk.politics.guns', 'this'),\n",
       " ('talk.politics.guns', 'stuff'),\n",
       " ('talk.politics.guns', 'belongs'),\n",
       " ('talk.politics.guns', 'thanks'),\n",
       " ('talk.politics.guns', 'cathy'),\n",
       " ('talk.politics.guns', 'cathy'),\n",
       " ('talk.politics.guns', 'foulston'),\n",
       " ('talk.politics.guns', 'rice'),\n",
       " ('talk.politics.guns', 'university'),\n",
       " ('talk.politics.guns', 'network'),\n",
       " ('talk.politics.guns', 'systems'),\n",
       " ('talk.politics.guns', 'support'),\n",
       " ('talk.politics.guns', 'cathyf'),\n",
       " ('talk.politics.guns', 'rice'),\n",
       " ('talk.politics.guns', 'edu'),\n",
       " ('talk.politics.guns', ''),\n",
       " ('talk.politics.guns', 'from'),\n",
       " ('talk.politics.guns', 'seth'),\n",
       " ('talk.politics.guns', 'adam'),\n",
       " ('talk.politics.guns', 'eliot'),\n",
       " ('talk.politics.guns', 'se08'),\n",
       " ('talk.politics.guns', 'andrew'),\n",
       " ('talk.politics.guns', 'cmu'),\n",
       " ('talk.politics.guns', 'edu'),\n",
       " ('talk.politics.guns', 'subject'),\n",
       " ('talk.politics.guns', 're'),\n",
       " ('talk.politics.guns', '2nd'),\n",
       " ('talk.politics.guns', 'amendment'),\n",
       " ('talk.politics.guns', 'dead'),\n",
       " ('talk.politics.guns', 'good'),\n",
       " ('talk.politics.guns', 'organization'),\n",
       " ('talk.politics.guns', 'doctoral'),\n",
       " ('talk.politics.guns', 'student'),\n",
       " ('talk.politics.guns', 'materials'),\n",
       " ('talk.politics.guns', 'science'),\n",
       " ('talk.politics.guns', 'and'),\n",
       " ('talk.politics.guns', 'engineering'),\n",
       " ('talk.politics.guns', 'carnegie'),\n",
       " ('talk.politics.guns', 'mellon'),\n",
       " ('talk.politics.guns', 'pittsburgh'),\n",
       " ('talk.politics.guns', 'pa'),\n",
       " ('talk.politics.guns', 'lines'),\n",
       " ('talk.politics.guns', '58'),\n",
       " ('talk.politics.guns', 'nntp'),\n",
       " ('talk.politics.guns', 'posting'),\n",
       " ('talk.politics.guns', 'host'),\n",
       " ('talk.politics.guns', 'po3'),\n",
       " ('talk.politics.guns', 'andrew'),\n",
       " ('talk.politics.guns', 'cmu'),\n",
       " ('talk.politics.guns', 'edu'),\n",
       " ('talk.politics.guns', 'in'),\n",
       " ('talk.politics.guns', 'reply'),\n",
       " ('talk.politics.guns', 'to'),\n",
       " ('talk.politics.guns', '1993apr18'),\n",
       " ('talk.politics.guns', '001319'),\n",
       " ('talk.politics.guns', '2340'),\n",
       " ('talk.politics.guns', 'gnv'),\n",
       " ('talk.politics.guns', 'ifas'),\n",
       " ('talk.politics.guns', 'ufl'),\n",
       " ('talk.politics.guns', 'edu'),\n",
       " ('talk.politics.guns', 'excerpts'),\n",
       " ('talk.politics.guns', 'from'),\n",
       " ('talk.politics.guns', 'netnews'),\n",
       " ('talk.politics.guns', 'talk'),\n",
       " ('talk.politics.guns', 'politics'),\n",
       " ('talk.politics.guns', 'guns'),\n",
       " ('talk.politics.guns', '18'),\n",
       " ('talk.politics.guns', 'apr'),\n",
       " ('talk.politics.guns', '93'),\n",
       " ('talk.politics.guns', '2nd'),\n",
       " ('talk.politics.guns', 'amendment')]"
      ]
     },
     "execution_count": 41,
     "metadata": {},
     "output_type": "execute_result"
    }
   ],
   "source": [
    "newsgroups_non_word_space.take(110)"
   ]
  },
  {
   "cell_type": "markdown",
   "metadata": {},
   "source": [
    " ('talk.politics.guns', 'edu'),\n",
    " ('talk.politics.guns', ''),\n",
    " ('talk.politics.guns', 'from'),\n",
    " 两个文件之间产生的''"
   ]
  },
  {
   "cell_type": "code",
   "execution_count": 42,
   "metadata": {},
   "outputs": [],
   "source": [
    "newsgroups_non_word_space.cache()\n",
    "newsgroups_non_word_space.checkpoint()"
   ]
  },
  {
   "cell_type": "code",
   "execution_count": 114,
   "metadata": {},
   "outputs": [
    {
     "data": {
      "text/plain": [
       "130126"
      ]
     },
     "execution_count": 114,
     "metadata": {},
     "output_type": "execute_result"
    }
   ],
   "source": [
    "newsgroups_non_word_space.map(lambda x:x[1]).distinct().count()"
   ]
  },
  {
   "cell_type": "code",
   "execution_count": 43,
   "metadata": {},
   "outputs": [],
   "source": [
    "contain_numeric = re.compile(r'[^0-9]*')"
   ]
  },
  {
   "cell_type": "code",
   "execution_count": 44,
   "metadata": {},
   "outputs": [
    {
     "data": {
      "text/plain": [
       "<_sre.SRE_Match object; span=(0, 1), match='a'>"
      ]
     },
     "execution_count": 44,
     "metadata": {},
     "output_type": "execute_result"
    }
   ],
   "source": [
    "contain_numeric.fullmatch('a')"
   ]
  },
  {
   "cell_type": "code",
   "execution_count": 45,
   "metadata": {},
   "outputs": [],
   "source": [
    "newsgroups_non_word_space_numeric = newsgroups_non_word_space.filter(lambda x:contain_numeric.fullmatch(x[1]))"
   ]
  },
  {
   "cell_type": "code",
   "execution_count": 46,
   "metadata": {},
   "outputs": [
    {
     "data": {
      "text/plain": [
       "PythonRDD[28] at RDD at PythonRDD.scala:48"
      ]
     },
     "execution_count": 46,
     "metadata": {},
     "output_type": "execute_result"
    }
   ],
   "source": [
    "newsgroups_non_word_space_numeric.cache()"
   ]
  },
  {
   "cell_type": "code",
   "execution_count": 141,
   "metadata": {},
   "outputs": [
    {
     "data": {
      "text/plain": [
       "84912"
      ]
     },
     "execution_count": 141,
     "metadata": {},
     "output_type": "execute_result"
    }
   ],
   "source": [
    "newsgroups_non_word_space_numeric.map(lambda x:x[1]).distinct().count()"
   ]
  },
  {
   "cell_type": "markdown",
   "metadata": {},
   "source": [
    "#### 4、移除停用词 "
   ]
  },
  {
   "cell_type": "code",
   "execution_count": 47,
   "metadata": {},
   "outputs": [
    {
     "data": {
      "text/plain": [
       "[('talk.politics.guns', 'from'), ('talk.politics.guns', 'cathyf')]"
      ]
     },
     "execution_count": 47,
     "metadata": {},
     "output_type": "execute_result"
    }
   ],
   "source": [
    "newsgroups_non_word_space_numeric.take(2)"
   ]
  },
  {
   "cell_type": "code",
   "execution_count": 48,
   "metadata": {},
   "outputs": [],
   "source": [
    "word_count_sorted = newsgroups_non_word_space_numeric.map(lambda x:(x[1], 1)).reduceByKey(lambda x, y:x+y).sortBy(lambda x:x[1], False)"
   ]
  },
  {
   "cell_type": "code",
   "execution_count": 49,
   "metadata": {},
   "outputs": [
    {
     "data": {
      "text/plain": [
       "PythonRDD[41] at RDD at PythonRDD.scala:48"
      ]
     },
     "execution_count": 49,
     "metadata": {},
     "output_type": "execute_result"
    }
   ],
   "source": [
    "word_count_sorted.cache()"
   ]
  },
  {
   "cell_type": "code",
   "execution_count": 50,
   "metadata": {},
   "outputs": [],
   "source": [
    "stop_words = [i for i, j in word_count_sorted.take(20)]"
   ]
  },
  {
   "cell_type": "code",
   "execution_count": 174,
   "metadata": {},
   "outputs": [
    {
     "data": {
      "text/plain": [
       "['the',\n",
       " 'to',\n",
       " 'of',\n",
       " 'a',\n",
       " 'ax',\n",
       " 'and',\n",
       " 'i',\n",
       " 'in',\n",
       " 'is',\n",
       " 'that',\n",
       " 'it',\n",
       " 'for',\n",
       " 'you',\n",
       " 'from',\n",
       " 's',\n",
       " 'edu',\n",
       " 'on',\n",
       " 'this',\n",
       " 'be',\n",
       " 't']"
      ]
     },
     "execution_count": 174,
     "metadata": {},
     "output_type": "execute_result"
    }
   ],
   "source": [
    "stop_words"
   ]
  },
  {
   "cell_type": "code",
   "execution_count": 307,
   "metadata": {},
   "outputs": [],
   "source": [
    "stop_words = ['the','a','an', 'to','of','and','in','is','that','it','for','from','on','this','be','or', 'by',\n",
    "             'but', 'not', 'with', 'as', 'was', 'if', 'they', 'are', 'have', 'at', 'my'\n",
    "             ]"
   ]
  },
  {
   "cell_type": "code",
   "execution_count": 308,
   "metadata": {},
   "outputs": [
    {
     "data": {
      "text/plain": [
       "<pyspark.broadcast.Broadcast at 0x7ff45844d3c8>"
      ]
     },
     "execution_count": 308,
     "metadata": {},
     "output_type": "execute_result"
    }
   ],
   "source": [
    "sc.broadcast(stop_words)"
   ]
  },
  {
   "cell_type": "code",
   "execution_count": 181,
   "metadata": {},
   "outputs": [
    {
     "data": {
      "text/plain": [
       "[('the', 146532)]"
      ]
     },
     "execution_count": 181,
     "metadata": {},
     "output_type": "execute_result"
    }
   ],
   "source": [
    "word_count_sorted.take(1)"
   ]
  },
  {
   "cell_type": "code",
   "execution_count": 309,
   "metadata": {},
   "outputs": [],
   "source": [
    "word_count_sorted_filtered = word_count_sorted.filter(lambda x:x[0] not in stop_words)"
   ]
  },
  {
   "cell_type": "code",
   "execution_count": 310,
   "metadata": {},
   "outputs": [],
   "source": [
    "word_count_sorted_filtered.cache()\n",
    "word_count_sorted_filtered.checkpoint()"
   ]
  },
  {
   "cell_type": "code",
   "execution_count": 312,
   "metadata": {},
   "outputs": [
    {
     "data": {
      "text/plain": [
       "[('ax', 62406),\n",
       " ('i', 53036),\n",
       " ('you', 26682),\n",
       " ('s', 22337),\n",
       " ('edu', 21321),\n",
       " ('t', 18728),\n",
       " ('m', 12756),\n",
       " ('subject', 12264),\n",
       " ('com', 12133),\n",
       " ('lines', 11835),\n",
       " ('can', 11355),\n",
       " ('', 11330),\n",
       " ('organization', 11233),\n",
       " ('re', 10534),\n",
       " ('what', 9861),\n",
       " ('there', 9689),\n",
       " ('x', 9332),\n",
       " ('all', 9310),\n",
       " ('will', 9279),\n",
       " ('we', 9227)]"
      ]
     },
     "execution_count": 312,
     "metadata": {},
     "output_type": "execute_result"
    }
   ],
   "source": [
    "word_count_sorted_filtered.take(20)"
   ]
  },
  {
   "cell_type": "markdown",
   "metadata": {},
   "source": [
    "#### 5、删除单长单词"
   ]
  },
  {
   "cell_type": "code",
   "execution_count": 313,
   "metadata": {},
   "outputs": [],
   "source": [
    "word_count_sorted_filtered_rm_len1 = word_count_sorted_filtered.filter(lambda x:len(x[0])>=2 )"
   ]
  },
  {
   "cell_type": "code",
   "execution_count": 314,
   "metadata": {},
   "outputs": [
    {
     "data": {
      "text/plain": [
       "84857"
      ]
     },
     "execution_count": 314,
     "metadata": {},
     "output_type": "execute_result"
    }
   ],
   "source": [
    "word_count_sorted_filtered_rm_len1.count()"
   ]
  },
  {
   "cell_type": "code",
   "execution_count": 315,
   "metadata": {},
   "outputs": [
    {
     "data": {
      "text/plain": [
       "[('ax', 62406),\n",
       " ('you', 26682),\n",
       " ('edu', 21321),\n",
       " ('subject', 12264),\n",
       " ('com', 12133),\n",
       " ('lines', 11835),\n",
       " ('can', 11355),\n",
       " ('organization', 11233),\n",
       " ('re', 10534),\n",
       " ('what', 9861),\n",
       " ('there', 9689),\n",
       " ('all', 9310),\n",
       " ('will', 9279),\n",
       " ('we', 9227),\n",
       " ('one', 9008),\n",
       " ('would', 8905),\n",
       " ('do', 8674),\n",
       " ('he', 8441),\n",
       " ('about', 8336),\n",
       " ('writes', 7844)]"
      ]
     },
     "execution_count": 315,
     "metadata": {},
     "output_type": "execute_result"
    }
   ],
   "source": [
    "word_count_sorted_filtered_rm_len1.take(20)"
   ]
  },
  {
   "cell_type": "markdown",
   "metadata": {},
   "source": [
    "####  6、基于频率去除单词（预先提取词干， 然后获得只在文档中出现过一次的单词）"
   ]
  },
  {
   "cell_type": "code",
   "execution_count": 338,
   "metadata": {},
   "outputs": [],
   "source": [
    "stemmer = SnowballStemmer('english')"
   ]
  },
  {
   "cell_type": "code",
   "execution_count": 339,
   "metadata": {},
   "outputs": [
    {
     "data": {
      "text/plain": [
       "<pyspark.broadcast.Broadcast at 0x7ff45841c518>"
      ]
     },
     "execution_count": 339,
     "metadata": {},
     "output_type": "execute_result"
    }
   ],
   "source": [
    "sc.broadcast(stemmer)"
   ]
  },
  {
   "cell_type": "code",
   "execution_count": 340,
   "metadata": {},
   "outputs": [],
   "source": [
    "bareWords = word_count_sorted_filtered_rm_len1.map(\n",
    "    lambda x:(stemmer.stem(x[0]), x[1])\n",
    "    ).reduceByKey(lambda x, y:x+y).filter(lambda x:x[1]<2)"
   ]
  },
  {
   "cell_type": "code",
   "execution_count": 341,
   "metadata": {},
   "outputs": [
    {
     "data": {
      "text/plain": [
       "[('suffuc', 1), ('shograph', 1)]"
      ]
     },
     "execution_count": 341,
     "metadata": {},
     "output_type": "execute_result"
    }
   ],
   "source": [
    "bareWords.take(2)"
   ]
  },
  {
   "cell_type": "code",
   "execution_count": 342,
   "metadata": {},
   "outputs": [],
   "source": [
    "bareWords.cache()\n",
    "bareWords.checkpoint()"
   ]
  },
  {
   "cell_type": "code",
   "execution_count": 343,
   "metadata": {},
   "outputs": [
    {
     "data": {
      "text/plain": [
       "26459"
      ]
     },
     "execution_count": 343,
     "metadata": {},
     "output_type": "execute_result"
    }
   ],
   "source": [
    "bareWords.count()"
   ]
  },
  {
   "cell_type": "code",
   "execution_count": null,
   "metadata": {},
   "outputs": [],
   "source": [
    "bareWords_dict = bareWords.collectAsMap()"
   ]
  },
  {
   "cell_type": "code",
   "execution_count": 349,
   "metadata": {},
   "outputs": [
    {
     "data": {
      "text/plain": [
       "{'suffuc': 1,\n",
       " 'rxt': 1,\n",
       " 'eopn': 1,\n",
       " 'njszo': 1,\n",
       " 'ogil': 1,\n",
       " 'anastasio': 1,\n",
       " 'tussad': 1,\n",
       " 'boeckman': 1,\n",
       " 'beecher': 1,\n",
       " 'terrel': 1,\n",
       " 'eqm': 1,\n",
       " 'lisgollan': 1,\n",
       " 'kiriazi': 1,\n",
       " 'portat': 1,\n",
       " 'peltz': 1,\n",
       " 'slaughterbeck': 1,\n",
       " 'zrchzrlk': 1,\n",
       " 'vortec': 1,\n",
       " 'uumo': 1,\n",
       " 'shograph': 1,\n",
       " 'mccw': 1,\n",
       " 'jydc': 1,\n",
       " 'nlbxo': 1,\n",
       " 'mkfbq': 1,\n",
       " 'happ': 1,\n",
       " 'ela': 1,\n",
       " 'azerinform': 1,\n",
       " 'mmdf': 1,\n",
       " 'lubkin': 1,\n",
       " 'eastwick': 1,\n",
       " 'ipz': 1,\n",
       " 'keyser': 1,\n",
       " 'kost': 1,\n",
       " 'jouney': 1,\n",
       " 'gospels_': 1,\n",
       " 'brahma': 1,\n",
       " 'charcel': 1,\n",
       " 'reded': 1,\n",
       " '_gyuc': 1,\n",
       " 'xjewel': 1,\n",
       " 'xrhf': 1,\n",
       " 'suncd': 1,\n",
       " 'iwv': 1,\n",
       " 'zoologist': 1,\n",
       " 'lhoai': 1,\n",
       " 'mj_nazi': 1,\n",
       " 'dickman': 1,\n",
       " 'awok': 1,\n",
       " 'devprogram': 1,\n",
       " 'mbr': 1,\n",
       " 'cahng': 1,\n",
       " 'inself': 1,\n",
       " 'vstern': 1,\n",
       " 'yet_': 1,\n",
       " 'avetik': 1,\n",
       " 'misrael': 1,\n",
       " 'loukid': 1,\n",
       " 'peterd': 1,\n",
       " 'sedet': 1,\n",
       " 'r_orq': 1,\n",
       " 'zibsaq': 1,\n",
       " 'checkbox': 1,\n",
       " 'ninassup': 1,\n",
       " 'sidiqui': 1,\n",
       " 'umrlk': 1,\n",
       " 'lanzerotti': 1,\n",
       " 'mneh': 1,\n",
       " 'witten': 1,\n",
       " 'william_mosco': 1,\n",
       " 'illan': 1,\n",
       " 'espo': 1,\n",
       " 'qzhjcrmdo': 1,\n",
       " 'winvn': 1,\n",
       " 'spacial': 1,\n",
       " 'bolshev': 1,\n",
       " 'swilden': 1,\n",
       " 'icrf': 1,\n",
       " 'itewp': 1,\n",
       " 'kauh': 1,\n",
       " 'staphylococc': 1,\n",
       " 'eulen': 1,\n",
       " 'emri': 1,\n",
       " 'bluejean': 1,\n",
       " 'asrfu': 1,\n",
       " 'hkk': 1,\n",
       " 'xggiw': 1,\n",
       " 'barc': 1,\n",
       " 'cicada': 1,\n",
       " 'luxosedan': 1,\n",
       " 'fxvi': 1,\n",
       " 'menomone': 1,\n",
       " 'segui': 1,\n",
       " 'spila': 1,\n",
       " 'yaratilir': 1,\n",
       " 'drabson': 1,\n",
       " 'turd': 1,\n",
       " 'prx': 1,\n",
       " 'binomi': 1,\n",
       " 'nxpfo': 1,\n",
       " 'mrmamrcimrlim': 1,\n",
       " 'tayapahrta': 1,\n",
       " 'cumorah_': 1,\n",
       " 'xuacur': 1,\n",
       " 'vjpwuo': 1,\n",
       " 'mpj': 1,\n",
       " 'mhnj': 1,\n",
       " 'ojznkhb': 1,\n",
       " '_hh': 1,\n",
       " 'graphtal': 1,\n",
       " 'scepticus': 1,\n",
       " 'hianleong': 1,\n",
       " 'cormac': 1,\n",
       " 'xtgrabnon': 1,\n",
       " 'wysiwi': 1,\n",
       " 'verion': 1,\n",
       " 'afsluit': 1,\n",
       " 'uaz': 1,\n",
       " 'syucscx': 1,\n",
       " 'yapilamayacak': 1,\n",
       " 'patil': 1,\n",
       " 'piezo': 1,\n",
       " 'xwin': 1,\n",
       " 'gelmeyen': 1,\n",
       " 'xmm': 1,\n",
       " 'metawar': 1,\n",
       " 'franceus': 1,\n",
       " 'urethan': 1,\n",
       " 'naaahh': 1,\n",
       " 'kyushu': 1,\n",
       " 'musson': 1,\n",
       " 'doctori': 1,\n",
       " 'ihlpv': 1,\n",
       " 'jzou': 1,\n",
       " 'gau': 1,\n",
       " 'kladno': 1,\n",
       " 'jonesw': 1,\n",
       " 'peritek': 1,\n",
       " 'nonfulfil': 1,\n",
       " 'coreligionist': 1,\n",
       " 'armato': 1,\n",
       " 'someeventhandl': 1,\n",
       " 'pridham': 1,\n",
       " 'geriatr': 1,\n",
       " 'bvu_ouhiy': 1,\n",
       " 'boecom': 1,\n",
       " 'qyp': 1,\n",
       " 'feelt': 1,\n",
       " 'cqm': 1,\n",
       " 'verbosa': 1,\n",
       " 'maawali': 1,\n",
       " 'occasionali': 1,\n",
       " 'yeo': 1,\n",
       " 'pbhyg': 1,\n",
       " 'stero': 1,\n",
       " 'zimbelman': 1,\n",
       " 'slovenian': 1,\n",
       " 'dashnaktsuitun': 1,\n",
       " 'unscath': 1,\n",
       " 'odelein': 1,\n",
       " 'croissant': 1,\n",
       " 'bokarev': 1,\n",
       " 'blis': 1,\n",
       " 'devlet': 1,\n",
       " 'teeter': 1,\n",
       " 'nedderhut': 1,\n",
       " '_black_': 1,\n",
       " 'scopaint': 1,\n",
       " 'mpki': 1,\n",
       " 'marsico': 1,\n",
       " 'springblad': 1,\n",
       " 'vnode': 1,\n",
       " 'shirazi': 1,\n",
       " 'proposition': 1,\n",
       " 'metropol': 1,\n",
       " 'jluqw': 1,\n",
       " 'chzrd': 1,\n",
       " 'rpajz': 1,\n",
       " 'jdtntl': 1,\n",
       " 'bronchiectasi': 1,\n",
       " 'equalis': 1,\n",
       " 'mornin': 1,\n",
       " 'mfu': 1,\n",
       " 'grapic': 1,\n",
       " 'gdl': 1,\n",
       " 'yoshio': 1,\n",
       " 'druggist': 1,\n",
       " 'hacgat': 1,\n",
       " 'suav': 1,\n",
       " 'kdgwc': 1,\n",
       " 'vdoafdzack': 1,\n",
       " 'spkr': 1,\n",
       " 'ajznkirnk': 1,\n",
       " 'myti': 1,\n",
       " 'energomash': 1,\n",
       " 'plh': 1,\n",
       " 'understandeth': 1,\n",
       " 'kwyjibo': 1,\n",
       " 'sapp': 1,\n",
       " 'abildskov': 1,\n",
       " 'matis': 1,\n",
       " 'kivoosh': 1,\n",
       " 'tgraf': 1,\n",
       " 'jhallen': 1,\n",
       " 'trove': 1,\n",
       " 'veishea': 1,\n",
       " 'srmaselh': 1,\n",
       " 'follicular': 1,\n",
       " 'resarch': 1,\n",
       " 'qvdz': 1,\n",
       " 'upstat': 1,\n",
       " 'lr_o': 1,\n",
       " 'lqo': 1,\n",
       " 'filipowski': 1,\n",
       " 'cemvax': 1,\n",
       " 'malo': 1,\n",
       " '_jjvjin': 1,\n",
       " 'notus': 1,\n",
       " 'sewag': 1,\n",
       " 'mrcise': 1,\n",
       " 'haussmann': 1,\n",
       " 'schoeni': 1,\n",
       " 'pantaleyev': 1,\n",
       " 'dfn': 1,\n",
       " 'jaclyn': 1,\n",
       " 'zam': 1,\n",
       " 'miamisburg': 1,\n",
       " 'pinkowitz': 1,\n",
       " 'rweke': 1,\n",
       " 'dobvl': 1,\n",
       " 'fogel': 1,\n",
       " 'yaquinto': 1,\n",
       " 'javz': 1,\n",
       " 'figuer': 1,\n",
       " 'microsec': 1,\n",
       " 'duijndam': 1,\n",
       " 'ryang': 1,\n",
       " 'eliteserien': 1,\n",
       " 'mkhip': 1,\n",
       " 'hfm': 1,\n",
       " 'xtgetselectionrequest': 1,\n",
       " 'manufatur': 1,\n",
       " 'shvern': 1,\n",
       " 'mrlhzv': 1,\n",
       " 'qytm': 1,\n",
       " 'irra': 1,\n",
       " 'tres': 1,\n",
       " 'pantomim': 1,\n",
       " 'ilvq': 1,\n",
       " 'rtw': 1,\n",
       " 'ashkenazi': 1,\n",
       " 'woven': 1,\n",
       " 'dbzxa': 1,\n",
       " 'overbeek': 1,\n",
       " 'unadvertis': 1,\n",
       " 'alawlor': 1,\n",
       " 'sbrock': 1,\n",
       " 'etx': 1,\n",
       " 'radiosity_thesi': 1,\n",
       " 'elptl': 1,\n",
       " 'seashel': 1,\n",
       " 'writabl': 1,\n",
       " 'mallori': 1,\n",
       " 'vdzqsho': 1,\n",
       " 'tnk': 1,\n",
       " 'opdb': 1,\n",
       " 'mike_johnson': 1,\n",
       " 'stylizi': 1,\n",
       " 'slammer': 1,\n",
       " 'nonunix': 1,\n",
       " 'agawam': 1,\n",
       " 'abeel': 1,\n",
       " 'starlight': 1,\n",
       " 'lesscharset': 1,\n",
       " 'kcarrol': 1,\n",
       " 'imein': 1,\n",
       " 'homewrit': 1,\n",
       " 'bildkarton': 1,\n",
       " 'ichtho': 1,\n",
       " 'hdil': 1,\n",
       " 'academician': 1,\n",
       " 'yot': 1,\n",
       " 'puhleas': 1,\n",
       " 'caspar': 1,\n",
       " 'bhmdhll': 1,\n",
       " 'onnit': 1,\n",
       " 'polytron': 1,\n",
       " 'regatta': 1,\n",
       " 'mjjjjht': 1,\n",
       " 'pck': 1,\n",
       " 'xtsetwmcolormapwindow': 1,\n",
       " 'bacchus': 1,\n",
       " 'uproot': 1,\n",
       " 'vasseur': 1,\n",
       " 'underkneth': 1,\n",
       " '_publishing_': 1,\n",
       " 'skiena': 1,\n",
       " 'jrnf': 1,\n",
       " 'bernardino': 1,\n",
       " 'ifjxc': 1,\n",
       " 'paralpomenon': 1,\n",
       " 'gommorrah': 1,\n",
       " 'sesh': 1,\n",
       " 'tuchler': 1,\n",
       " 'torchur': 1,\n",
       " 'scandinavium': 1,\n",
       " 'relight': 1,\n",
       " 'ktav': 1,\n",
       " 'kilter': 1,\n",
       " 'wimmershoff': 1,\n",
       " 'unexcit': 1,\n",
       " 'vmmv': 1,\n",
       " 'afor': 1,\n",
       " 'coiuld': 1,\n",
       " 'yjs': 1,\n",
       " 'cfvs': 1,\n",
       " 'filmpak': 1,\n",
       " 'gentri': 1,\n",
       " 'tgxu': 1,\n",
       " '_indistinguishable_': 1,\n",
       " 'alderson': 1,\n",
       " 'ucsfvm': 1,\n",
       " 'tymix': 1,\n",
       " 'ommis': 1,\n",
       " 'ljr': 1,\n",
       " 'fudgeo': 1,\n",
       " 'centigrad': 1,\n",
       " 'iceburg': 1,\n",
       " 'abovew': 1,\n",
       " 'engulf': 1,\n",
       " 'circumsatnc': 1,\n",
       " 'celia': 1,\n",
       " 'voxland': 1,\n",
       " 'wondolowski': 1,\n",
       " 'cuphold': 1,\n",
       " 'cpe': 1,\n",
       " 'hxb': 1,\n",
       " 'cunku': 1,\n",
       " 'khfn': 1,\n",
       " 'galactosemia': 1,\n",
       " 'ncsuvm': 1,\n",
       " 'mslv': 1,\n",
       " 'shamo': 1,\n",
       " 'silloo': 1,\n",
       " 'evznah': 1,\n",
       " 'propellor': 1,\n",
       " 'ftptool': 1,\n",
       " 'daewoo': 1,\n",
       " 'iamexwi': 1,\n",
       " 'amulet': 1,\n",
       " 'pilgramag': 1,\n",
       " 'themsel': 1,\n",
       " 'miyaguchi': 1,\n",
       " 'piment': 1,\n",
       " 'ceasar': 1,\n",
       " 'bnt': 1,\n",
       " '_standards_': 1,\n",
       " 'gclinewidth': 1,\n",
       " 'pks': 1,\n",
       " 'misbehavior': 1,\n",
       " 'f_qi': 1,\n",
       " 'moolah': 1,\n",
       " 'beilief': 1,\n",
       " 'mdanjou': 1,\n",
       " 'precipi': 1,\n",
       " 'tuni': 1,\n",
       " 'dfji': 1,\n",
       " 'aangegeven': 1,\n",
       " 'vanagon': 1,\n",
       " 'resaon': 1,\n",
       " 'addreww': 1,\n",
       " 'orthomolecular': 1,\n",
       " 'sppp': 1,\n",
       " 'fvb': 1,\n",
       " 'forevermor': 1,\n",
       " 'yktvmh': 1,\n",
       " 'federman': 1,\n",
       " 'wdr': 1,\n",
       " 'uyrlk': 1,\n",
       " 'kf_': 1,\n",
       " 'nyon': 1,\n",
       " 'oliph': 1,\n",
       " 'cag': 1,\n",
       " 'stavang': 1,\n",
       " 'outwit': 1,\n",
       " 'nza': 1,\n",
       " 'bmfza': 1,\n",
       " '_moe': 1,\n",
       " 'zmh': 1,\n",
       " 'mrftzrlk': 1,\n",
       " '_pv': 1,\n",
       " 'pmorri': 1,\n",
       " 'l_joa': 1,\n",
       " 'shiatsu': 1,\n",
       " 'hedenk': 1,\n",
       " 'noncommut': 1,\n",
       " 'remarri': 1,\n",
       " 'phoreceptor': 1,\n",
       " 'situt': 1,\n",
       " 'psychoenerget': 1,\n",
       " 'wuziyun': 1,\n",
       " 'cfx': 1,\n",
       " 'dvfso': 1,\n",
       " 'kjji': 1,\n",
       " 'aroguet': 1,\n",
       " 'prussak': 1,\n",
       " 'matlab': 1,\n",
       " 'jbpjd': 1,\n",
       " 'topp': 1,\n",
       " 'rtls': 1,\n",
       " 'dosshel': 1,\n",
       " 'kloni': 1,\n",
       " 'scrip': 1,\n",
       " 'dhi': 1,\n",
       " 'pyd': 1,\n",
       " 'pikho': 1,\n",
       " 'njvv': 1,\n",
       " 'qhwjh': 1,\n",
       " 'sunfront': 1,\n",
       " 'whahwuhuhahuah': 1,\n",
       " 'dgs': 1,\n",
       " 'bhjnrhj': 1,\n",
       " 'photopress': 1,\n",
       " 'abord': 1,\n",
       " 'bolder': 1,\n",
       " 'fahmi': 1,\n",
       " 'gctz': 1,\n",
       " 'ctrsn': 1,\n",
       " 'overstrain': 1,\n",
       " 'nobp': 1,\n",
       " 'ober': 1,\n",
       " 'mkl': 1,\n",
       " 'hsien': 1,\n",
       " 'getinterv': 1,\n",
       " 'subpar': 1,\n",
       " '_exhaust': 1,\n",
       " 'kazakhstan': 1,\n",
       " 'reaon': 1,\n",
       " 'rodway': 1,\n",
       " 'coporcessor': 1,\n",
       " 'romulu': 1,\n",
       " 'uswpm': 1,\n",
       " 'kvd': 1,\n",
       " 'venkat': 1,\n",
       " 'zzo': 1,\n",
       " 'yovti': 1,\n",
       " 'jeruselem': 1,\n",
       " 'pallidotomi': 1,\n",
       " 'moqx': 1,\n",
       " 'hre': 1,\n",
       " 'kjznajznahf': 1,\n",
       " 'jbi': 1,\n",
       " 'mlrw': 1,\n",
       " 'gopq': 1,\n",
       " 'zdkh': 1,\n",
       " 'gulag': 1,\n",
       " 'thinkingtini': 1,\n",
       " 'analitik': 1,\n",
       " 'licenti': 1,\n",
       " 'demagogueri': 1,\n",
       " 'ailab': 1,\n",
       " 'sional': 1,\n",
       " 'xraisewindow': 1,\n",
       " 'countir': 1,\n",
       " 'dvjf': 1,\n",
       " 'khimzashchita': 1,\n",
       " 'msexv': 1,\n",
       " 'minuteman': 1,\n",
       " 'mklku': 1,\n",
       " 'u_g': 1,\n",
       " 'reconfirm': 1,\n",
       " 'hahahahahahahahaha': 1,\n",
       " 'ahhhuuuurrrrrrggggghhhh': 1,\n",
       " 'yfv': 1,\n",
       " 'rlhzrmc': 1,\n",
       " 'kutub': 1,\n",
       " 'faninar': 1,\n",
       " 'ulo': 1,\n",
       " 'graywork': 1,\n",
       " 'zwx': 1,\n",
       " 'gswst': 1,\n",
       " 'schlae': 1,\n",
       " 'realtionship': 1,\n",
       " 'karota': 1,\n",
       " 'valueabl': 1,\n",
       " 'sipe': 1,\n",
       " 'augsburg': 1,\n",
       " 'eev': 1,\n",
       " 'calalog': 1,\n",
       " 'mxwm': 1,\n",
       " 'korumustur': 1,\n",
       " 'rfto': 1,\n",
       " 'vecchi': 1,\n",
       " 'deliveryu': 1,\n",
       " 'hdvjrs': 1,\n",
       " 'qhq': 1,\n",
       " 'ncaujan': 1,\n",
       " 'magarret': 1,\n",
       " 'perkin': 1,\n",
       " 'norma': 1,\n",
       " 'heindel': 1,\n",
       " 'coachhous': 1,\n",
       " 'eko': 1,\n",
       " 'ydobyn': 1,\n",
       " 'microcircuitri': 1,\n",
       " 'jaroslaw': 1,\n",
       " 'aeroplan': 1,\n",
       " 'letfnajr': 1,\n",
       " 'izc': 1,\n",
       " 'dvl': 1,\n",
       " 'xpvf': 1,\n",
       " 'differnt': 1,\n",
       " 'qrr_o': 1,\n",
       " 'davidow': 1,\n",
       " 'mubarek': 1,\n",
       " 'vanecek': 1,\n",
       " '_hs': 1,\n",
       " 'wdjt': 1,\n",
       " 'rhubarb': 1,\n",
       " 'mamola': 1,\n",
       " 'turkmanchay': 1,\n",
       " 'magnolia': 1,\n",
       " 'eudora': 1,\n",
       " '_em': 1,\n",
       " 'byteswap': 1,\n",
       " 'shankley': 1,\n",
       " 'vermeiren': 1,\n",
       " 'mrlimv': 1,\n",
       " 'hegemoni': 1,\n",
       " 'coloradu': 1,\n",
       " 'tempter': 1,\n",
       " '_sham': 1,\n",
       " 'ampakz': 1,\n",
       " 'sju': 1,\n",
       " 'shazar': 1,\n",
       " 'xst': 1,\n",
       " 'grimac': 1,\n",
       " 'trawl': 1,\n",
       " 'xxkcxub': 1,\n",
       " 'funrol': 1,\n",
       " 'pseuper': 1,\n",
       " 'hpfcmrc': 1,\n",
       " 'vaikuntha': 1,\n",
       " 'annuli': 1,\n",
       " 'mnkirnah': 1,\n",
       " 'autoxec': 1,\n",
       " 'guttur': 1,\n",
       " 'cxwocbhkcx': 1,\n",
       " 'cbcat': 1,\n",
       " 'interpoleerlineair': 1,\n",
       " 'deuxiem': 1,\n",
       " 'familiy': 1,\n",
       " 'tuorpuoqi': 1,\n",
       " 'rax': 1,\n",
       " 'hansard': 1,\n",
       " 'ellernstr': 1,\n",
       " 'gakhaus': 1,\n",
       " 'aarp': 1,\n",
       " 'tackett': 1,\n",
       " 'waftq': 1,\n",
       " 'preparata': 1,\n",
       " 'swimwear': 1,\n",
       " 'sodam': 1,\n",
       " 'chickasha': 1,\n",
       " 'necesarili': 1,\n",
       " 'ipsa': 1,\n",
       " 'maybeeven': 1,\n",
       " 'wvgk_': 1,\n",
       " 'fronlin': 1,\n",
       " 'nlr': 1,\n",
       " 'transmut': 1,\n",
       " 'larivier': 1,\n",
       " 'mp_': 1,\n",
       " 'frogmen': 1,\n",
       " 'minar': 1,\n",
       " 'sqw': 1,\n",
       " 'mudslid': 1,\n",
       " 'horchzack': 1,\n",
       " 'macridis_g': 1,\n",
       " 'kdo': 1,\n",
       " 'cybernat': 1,\n",
       " 'aaltern': 1,\n",
       " 'hgis': 1,\n",
       " 'doctrinnair': 1,\n",
       " 'divmhm': 1,\n",
       " 'mwvaqd': 1,\n",
       " 'hhc': 1,\n",
       " '__accept': 1,\n",
       " 'benton': 1,\n",
       " 'vallco': 1,\n",
       " 'consern': 1,\n",
       " 'milken': 1,\n",
       " 'isrd': 1,\n",
       " '_lwlp': 1,\n",
       " 'ccastmm': 1,\n",
       " 'reject_authority_': 1,\n",
       " 'hwd': 1,\n",
       " 'rbprma': 1,\n",
       " 'uua': 1,\n",
       " 'xinputextens': 1,\n",
       " 'governmentski': 1,\n",
       " 'mrj_amn': 1,\n",
       " 'grenand': 1,\n",
       " 'venkatachalam': 1,\n",
       " 'bml': 1,\n",
       " '_il': 1,\n",
       " 'boardwatch': 1,\n",
       " 'australasia': 1,\n",
       " 'rheumatoid': 1,\n",
       " 'janurari': 1,\n",
       " 'lsuvax': 1,\n",
       " 'ljj': 1,\n",
       " 'xmtr': 1,\n",
       " 'unpersuas': 1,\n",
       " 'miscarri': 1,\n",
       " 'mydir': 1,\n",
       " 'mrmamrb': 1,\n",
       " 'mfraser': 1,\n",
       " 'hinchakist': 1,\n",
       " 'beareth': 1,\n",
       " 'poppin': 1,\n",
       " 'smokey': 1,\n",
       " 'teamster': 1,\n",
       " 'peacenet': 1,\n",
       " 'amic': 1,\n",
       " 'strutt': 1,\n",
       " 'xeo': 1,\n",
       " 'chrome_': 1,\n",
       " 'dcdmwm': 1,\n",
       " 'grabowski': 1,\n",
       " '_evolved_': 1,\n",
       " 'roberg': 1,\n",
       " 'jhrl': 1,\n",
       " 'nglui': 1,\n",
       " 'destrucion': 1,\n",
       " '_clementin': 1,\n",
       " 'thostl': 1,\n",
       " 'hamalainen': 1,\n",
       " 'gocart': 1,\n",
       " 'pollak': 1,\n",
       " 'spazial': 1,\n",
       " 'mcnaught': 1,\n",
       " 'decompressor': 1,\n",
       " 'galvez': 1,\n",
       " 'asan': 1,\n",
       " 'lqrr_': 1,\n",
       " 'nyq': 1,\n",
       " 'camellia': 1,\n",
       " 'mtpe': 1,\n",
       " 'perjuri': 1,\n",
       " 'kraybil': 1,\n",
       " 'rbmf': 1,\n",
       " 'dionet': 1,\n",
       " 'byet': 1,\n",
       " 'theisen': 1,\n",
       " 'mqo': 1,\n",
       " 'jyturunen': 1,\n",
       " 'taxula': 1,\n",
       " 'bnding': 1,\n",
       " 'galil': 1,\n",
       " 'chaparr': 1,\n",
       " 'ifdesir': 1,\n",
       " 'picoammet': 1,\n",
       " 'ahmadya': 1,\n",
       " 'wdtm': 1,\n",
       " 'plummet': 1,\n",
       " 'schoonship': 1,\n",
       " 'uitgenodigd': 1,\n",
       " 'smortaz': 1,\n",
       " 'autodi': 1,\n",
       " 'malread': 1,\n",
       " 'hcra': 1,\n",
       " 'qfkd': 1,\n",
       " 'infviz': 1,\n",
       " 'communi': 1,\n",
       " 'siever': 1,\n",
       " 'yaser': 1,\n",
       " 'superconductor': 1,\n",
       " 'talin': 1,\n",
       " 'wqo': 1,\n",
       " 'fallbrook': 1,\n",
       " 'koko': 1,\n",
       " 'equistrian': 1,\n",
       " 'reractor': 1,\n",
       " 'jowel': 1,\n",
       " 'knex': 1,\n",
       " 'tjfox': 1,\n",
       " 'povich': 1,\n",
       " 'mrwenu': 1,\n",
       " 'murril': 1,\n",
       " 'bashevi': 1,\n",
       " 'qmpro': 1,\n",
       " 'doug_akerman': 1,\n",
       " 'dcse': 1,\n",
       " 'croton': 1,\n",
       " 'hedo': 1,\n",
       " 'nism': 1,\n",
       " 'cutback': 1,\n",
       " 'demonstart': 1,\n",
       " 'jdresno': 1,\n",
       " 'lpib': 1,\n",
       " 'phone___________________________________________': 1,\n",
       " 'fostma': 1,\n",
       " 'bjj': 1,\n",
       " 'mvla': 1,\n",
       " '_evidence_': 1,\n",
       " 'flatt': 1,\n",
       " 'qit': 1,\n",
       " 'texsun': 1,\n",
       " 'teledetect': 1,\n",
       " 'nonturbo': 1,\n",
       " 'harmful': 1,\n",
       " 'vanya': 1,\n",
       " 'xtappseterrormsghandl': 1,\n",
       " 'asrmam': 1,\n",
       " 'litella': 1,\n",
       " 'kzju': 1,\n",
       " 'mbz': 1,\n",
       " 'jjjjjjjjjjjjjjjjjjjjjhv': 1,\n",
       " 'yaman': 1,\n",
       " 'yve': 1,\n",
       " 'horses_': 1,\n",
       " 'korahit': 1,\n",
       " 'bluejay': 1,\n",
       " 'surer': 1,\n",
       " 'herot': 1,\n",
       " 'icnl': 1,\n",
       " 'comison': 1,\n",
       " 'uqd': 1,\n",
       " 'qvjpwu': 1,\n",
       " '_xfree': 1,\n",
       " 'openr': 1,\n",
       " 'naaaah': 1,\n",
       " 'thedialog': 1,\n",
       " 'fravashi': 1,\n",
       " 'dxtstringdefin': 1,\n",
       " 'buli': 1,\n",
       " '_understand_': 1,\n",
       " 'soundblat': 1,\n",
       " 'suggeed': 1,\n",
       " 'qzcx': 1,\n",
       " 'groverc': 1,\n",
       " 'tufah': 1,\n",
       " 'beryl': 1,\n",
       " 'bippi': 1,\n",
       " 'sigific': 1,\n",
       " 'asefus': 1,\n",
       " 'krasnovodsk': 1,\n",
       " 'blowtisseri': 1,\n",
       " 'portent': 1,\n",
       " 'bna': 1,\n",
       " 'trev': 1,\n",
       " 'obc': 1,\n",
       " 'qyh': 1,\n",
       " 'illusori': 1,\n",
       " 'warthawk': 1,\n",
       " 'ferrar': 1,\n",
       " 'prest': 1,\n",
       " 'lgm': 1,\n",
       " 'ebenez': 1,\n",
       " 'wichev': 1,\n",
       " '_somewhere_': 1,\n",
       " 'dickman_con': 1,\n",
       " 'reciv': 1,\n",
       " 'mxba': 1,\n",
       " 'wvb': 1,\n",
       " 'lueck': 1,\n",
       " 'arquebusi': 1,\n",
       " 'chkport': 1,\n",
       " 'drivetrain': 1,\n",
       " 'fetrow': 1,\n",
       " 'awful': 1,\n",
       " 'antagon': 1,\n",
       " 'immoblis': 1,\n",
       " 'dreamboat': 1,\n",
       " 't_errno': 1,\n",
       " 'mahiy': 1,\n",
       " 'bayesian': 1,\n",
       " 'king_of_prussia_pa': 1,\n",
       " 'upholsteri': 1,\n",
       " 'czs': 1,\n",
       " 'gendarmari': 1,\n",
       " 'medizinisch': 1,\n",
       " 'brigand': 1,\n",
       " 'nosod': 1,\n",
       " 'baculum': 1,\n",
       " 'yzd': 1,\n",
       " 'wqfva': 1,\n",
       " 'wum': 1,\n",
       " 'ajznahflki': 1,\n",
       " 'maxxum': 1,\n",
       " 'supin': 1,\n",
       " 'nclt': 1,\n",
       " 'foetus': 1,\n",
       " 'megatonn': 1,\n",
       " 'macmailgw': 1,\n",
       " 'remorhaz': 1,\n",
       " 'hfmkjjjj': 1,\n",
       " 'augjpeg': 1,\n",
       " 'lawenforcmentfield': 1,\n",
       " 'chorlk': 1,\n",
       " 'macfitz': 1,\n",
       " 'uummmph': 1,\n",
       " 'dequesn': 1,\n",
       " 'dmh': 1,\n",
       " 'mel_shear': 1,\n",
       " 'msword': 1,\n",
       " 'prolaps': 1,\n",
       " 'spiffier': 1,\n",
       " 'tessa': 1,\n",
       " 'stratifi': 1,\n",
       " 'shyant': 1,\n",
       " 'dooe': 1,\n",
       " 'saliv': 1,\n",
       " 'electret': 1,\n",
       " 'happened_': 1,\n",
       " 'positon': 1,\n",
       " 'hierin': 1,\n",
       " '_quantum_': 1,\n",
       " 'unempl': 1,\n",
       " 'aixwindow': 1,\n",
       " 'totc': 1,\n",
       " '_altern': 1,\n",
       " 'manou': 1,\n",
       " 'cinema': 1,\n",
       " 'gare': 1,\n",
       " 'autogaph': 1,\n",
       " 'camari': 1,\n",
       " 'easynet': 1,\n",
       " 'ccq': 1,\n",
       " 'auie': 1,\n",
       " 'seewald': 1,\n",
       " 'unintellg': 1,\n",
       " 'u_n': 1,\n",
       " 'frei': 1,\n",
       " 'fairest': 1,\n",
       " 'xarg': 1,\n",
       " 'jonas_marten_fjallstam': 1,\n",
       " 'relibl': 1,\n",
       " 'seymo': 1,\n",
       " 'michaelb': 1,\n",
       " 'rutan': 1,\n",
       " 'nxc': 1,\n",
       " 'duell': 1,\n",
       " 'newsfla': 1,\n",
       " '_nicomachean_ethics_': 1,\n",
       " 'yuqg': 1,\n",
       " 'hislif': 1,\n",
       " 'd_r_': 1,\n",
       " 'schitz': 1,\n",
       " 'repairest': 1,\n",
       " 'kotbbbb': 1,\n",
       " 'albertan': 1,\n",
       " 'naranap': 1,\n",
       " 'protogen': 1,\n",
       " 'arista': 1,\n",
       " 'facts_': 1,\n",
       " 'redoc': 1,\n",
       " 'wpm': 1,\n",
       " 'hydroxi': 1,\n",
       " 'xpt': 1,\n",
       " 'umei': 1,\n",
       " 'fquest': 1,\n",
       " 'f_w': 1,\n",
       " 'ofusc': 1,\n",
       " 'kph': 1,\n",
       " 'aureli': 1,\n",
       " 'epitami': 1,\n",
       " 'jhj': 1,\n",
       " 'ynv': 1,\n",
       " 'lentil': 1,\n",
       " 'guic': 1,\n",
       " 'riff': 1,\n",
       " 'gprof': 1,\n",
       " 'pwfire': 1,\n",
       " 'odw': 1,\n",
       " 'permannet': 1,\n",
       " 'g__r': 1,\n",
       " 'staab': 1,\n",
       " 'uamp': 1,\n",
       " 'bepaalt': 1,\n",
       " 'colaps': 1,\n",
       " 'lci': 1,\n",
       " 'sytsem': 1,\n",
       " 'eurocard': 1,\n",
       " 'galut': 1,\n",
       " 'crotch': 1,\n",
       " 'vaniman': 1,\n",
       " 'primorski': 1,\n",
       " 'olagan': 1,\n",
       " 'rlii': 1,\n",
       " 'cxub': 1,\n",
       " 'provisio': 1,\n",
       " 'hmuu': 1,\n",
       " 'retch': 1,\n",
       " 'orientalist': 1,\n",
       " 'ador': 1,\n",
       " 'lpva': 1,\n",
       " 'buoy': 1,\n",
       " 'jorgensonk': 1,\n",
       " 'coinher': 1,\n",
       " 'aftervendorcf': 1,\n",
       " 'ctrlr': 1,\n",
       " 'yute': 1,\n",
       " 'ctg': 1,\n",
       " 'foiidfkx': 1,\n",
       " 'myless': 1,\n",
       " 'pennington': 1,\n",
       " 'hecimov': 1,\n",
       " 'lars_jorgensen': 1,\n",
       " 'nslpi': 1,\n",
       " 'mistinterpret': 1,\n",
       " 'uncircul': 1,\n",
       " 'iholsman': 1,\n",
       " 'ethercoax': 1,\n",
       " 'dilemna': 1,\n",
       " 'klid': 1,\n",
       " 'cortico': 1,\n",
       " 'tybrin': 1,\n",
       " 'passwnger': 1,\n",
       " 'mhbhnb': 1,\n",
       " 'contribu': 1,\n",
       " 'rcmw': 1,\n",
       " 'mgzg': 1,\n",
       " 'hpchase': 1,\n",
       " 'trenyg': 1,\n",
       " 'amment': 1,\n",
       " 'x_gcub': 1,\n",
       " 'eter': 1,\n",
       " 'suitor': 1,\n",
       " 'semin': 1,\n",
       " 'guaranti': 1,\n",
       " 'ybu': 1,\n",
       " 'naqba': 1,\n",
       " 'spiki': 1,\n",
       " 'ojf': 1,\n",
       " 'christianis': 1,\n",
       " 'gewek': 1,\n",
       " 'recommen': 1,\n",
       " 'newamyjpeg': 1,\n",
       " 'radiosigna': 1,\n",
       " 'xdum': 1,\n",
       " 'dysplasia': 1,\n",
       " 'alaca': 1,\n",
       " 'serdijn': 1,\n",
       " 'brazier': 1,\n",
       " 'xconndi': 1,\n",
       " 'xprop': 1,\n",
       " 'chippi': 1,\n",
       " 'initfontcontext': 1,\n",
       " 'lyzvpbo': 1,\n",
       " 'ssrs': 1,\n",
       " 'urb': 1,\n",
       " 'cnadler': 1,\n",
       " 'talkig': 1,\n",
       " 'ifon': 1,\n",
       " 'explet': 1,\n",
       " 'soennichsen': 1,\n",
       " 'boid': 1,\n",
       " 'jansz': 1,\n",
       " 'miskaton': 1,\n",
       " 'cartrifg': 1,\n",
       " 'chxg': 1,\n",
       " 'yutani': 1,\n",
       " 'crayola': 1,\n",
       " 'mnkitngt': 1,\n",
       " 'jzpgvznkitngu': 1,\n",
       " 'lqavd': 1,\n",
       " 'cann': 1,\n",
       " 'devam': 1,\n",
       " 'actaual': 1,\n",
       " 'ecyclopedia': 1,\n",
       " 'corelli': 1,\n",
       " 'pyman': 1,\n",
       " 'grisha': 1,\n",
       " 'microport': 1,\n",
       " 'onsp': 1,\n",
       " 'disap': 1,\n",
       " '_b_b': 1,\n",
       " 'wring': 1,\n",
       " 'logicless': 1,\n",
       " '_longer_': 1,\n",
       " 'secularist': 1,\n",
       " 'hpqmocb': 1,\n",
       " 'diginst': 1,\n",
       " 'kvk': 1,\n",
       " 'waterwheel': 1,\n",
       " 'msslc': 1,\n",
       " 'photoflex': 1,\n",
       " 'lupin': 1,\n",
       " '_mohammad': 1,\n",
       " 'vyep': 1,\n",
       " 'caiapha': 1,\n",
       " 'ggbo': 1,\n",
       " 'irradi': 1,\n",
       " 'filton': 1,\n",
       " 'shigellosi': 1,\n",
       " 'mousepad': 1,\n",
       " '_many_': 1,\n",
       " '_fynuy': 1,\n",
       " 'duj': 1,\n",
       " ...}"
      ]
     },
     "execution_count": 349,
     "metadata": {},
     "output_type": "execute_result"
    }
   ],
   "source": [
    "bareWords_dict"
   ]
  },
  {
   "cell_type": "markdown",
   "metadata": {},
   "source": [
    "* _many_估计是方法，phone___________________________________________不知道哪里出问题 "
   ]
  },
  {
   "cell_type": "code",
   "execution_count": 344,
   "metadata": {},
   "outputs": [
    {
     "data": {
      "text/plain": [
       "<pyspark.broadcast.Broadcast at 0x7ff458445518>"
      ]
     },
     "execution_count": 344,
     "metadata": {},
     "output_type": "execute_result"
    }
   ],
   "source": [
    "sc.broadcast(bareWords_dict)"
   ]
  },
  {
   "cell_type": "markdown",
   "metadata": {},
   "source": [
    "* 停用词、低频词会比较少，broadcast没关系；但是比较大的rdd.collect就非常地低效\n",
    "* bareWords有26458个单词×平均8个字母大概不到1MB，broadcast将其作为字典的key，利用hash的功能而不会逐个比较"
   ]
  },
  {
   "cell_type": "markdown",
   "metadata": {},
   "source": [
    "#### 7、提取词干 "
   ]
  },
  {
   "cell_type": "code",
   "execution_count": 58,
   "metadata": {},
   "outputs": [
    {
     "data": {
      "text/plain": [
       "'like'"
      ]
     },
     "execution_count": 58,
     "metadata": {},
     "output_type": "execute_result"
    }
   ],
   "source": [
    "SnowballStemmer('english').stem('like')"
   ]
  },
  {
   "cell_type": "code",
   "execution_count": 59,
   "metadata": {},
   "outputs": [
    {
     "data": {
      "text/plain": [
       "'lik'"
      ]
     },
     "execution_count": 59,
     "metadata": {},
     "output_type": "execute_result"
    }
   ],
   "source": [
    "LancasterStemmer().stem('like')"
   ]
  },
  {
   "cell_type": "code",
   "execution_count": 60,
   "metadata": {},
   "outputs": [
    {
     "data": {
      "text/plain": [
       "'like'"
      ]
     },
     "execution_count": 60,
     "metadata": {},
     "output_type": "execute_result"
    }
   ],
   "source": [
    "PorterStemmer().stem('like')"
   ]
  },
  {
   "cell_type": "code",
   "execution_count": 109,
   "metadata": {},
   "outputs": [
    {
     "data": {
      "text/plain": [
       "\"we'r\""
      ]
     },
     "execution_count": 109,
     "metadata": {},
     "output_type": "execute_result"
    }
   ],
   "source": [
    "PorterStemmer().stem(\"we're\")"
   ]
  },
  {
   "cell_type": "code",
   "execution_count": 110,
   "metadata": {},
   "outputs": [
    {
     "data": {
      "text/plain": [
       "\"we'\""
      ]
     },
     "execution_count": 110,
     "metadata": {},
     "output_type": "execute_result"
    }
   ],
   "source": [
    "PorterStemmer().stem(\"we's\")"
   ]
  },
  {
   "cell_type": "code",
   "execution_count": 427,
   "metadata": {},
   "outputs": [
    {
     "data": {
      "text/plain": [
       "'you'"
      ]
     },
     "execution_count": 427,
     "metadata": {},
     "output_type": "execute_result"
    }
   ],
   "source": [
    "PorterStemmer().stem(\"you\")"
   ]
  },
  {
   "cell_type": "code",
   "execution_count": 428,
   "metadata": {},
   "outputs": [
    {
     "data": {
      "text/plain": [
       "'youth'"
      ]
     },
     "execution_count": 428,
     "metadata": {},
     "output_type": "execute_result"
    }
   ],
   "source": [
    "PorterStemmer().stem(\"youth\")"
   ]
  },
  {
   "cell_type": "markdown",
   "metadata": {},
   "source": [
    "#### 8、训练TF-IDF模型 "
   ]
  },
  {
   "cell_type": "markdown",
   "metadata": {},
   "source": [
    "* 停用词、低频词之类的,这里靠的全部文档的统计完成的，因此需要先把所有的文档中的单词全局统计\n",
    "* 停用词可以靠已有的corpus获取；但是低频词可能是特定文本中奇怪的表示造成的，属于根本不存在的单词，不能基于已有的corpus去查找；可以只根据确定的词典来选词，不在字典的一律认为是不合理的单词，单词本更新需要保证，避免流行词汇被直接排除出去，造成非常差的效果\n",
    "* 提取词干在停用词、低频率单词删除之前比较合理，但影响应该不大"
   ]
  },
  {
   "cell_type": "code",
   "execution_count": 70,
   "metadata": {},
   "outputs": [
    {
     "data": {
      "text/plain": [
       "[('file:/home/zh/Spark_ML_Experiment/20news-bydate/20news-bydate-train/talk.politics.guns/54722',\n",
       "  \"From: cathyf@is.rice.edu (Catherine Anne Foulston)\\nSubject: Re: WACO: Clinton press conference, part 1\\nOrganization: Rice University\\nLines: 6\\n\\nCould y'all PLEASE stop posting this stuff to tx.general.  tx.politics\\nis sufficient and is where this stuff belongs.  Thanks.\\n\\n\\tCathy\\n-- \\nCathy Foulston + Rice University + Network & Systems Support + cathyf@rice.edu\\n\"),\n",
       " ('file:/home/zh/Spark_ML_Experiment/20news-bydate/20news-bydate-train/talk.politics.guns/54217',\n",
       "  'From: Seth Adam Eliot <se08+@andrew.cmu.edu>\\nSubject: Re: 2ND AMENDMENT DEAD - GOOD !\\nOrganization: Doctoral student, Materials Science and Engineering, Carnegie Mellon, Pittsburgh, PA\\nLines: 58\\nNNTP-Posting-Host: po3.andrew.cmu.edu\\nIn-Reply-To: <1993Apr18.001319.2340@gnv.ifas.ufl.edu>\\n\\nExcerpts from netnews.talk.politics.guns: 18-Apr-93 2ND AMENDMENT DEAD -\\nGOOD ! by jrm@gnv.ifas.ufl.edu \\n> Yea, there are millions of cases where yoy *say* that firearms\\n> \\'deter\\' criminals. Alas, this is not provable. I think that that\\n> there are actually *few* cases where this is so. \\n\\nexcerpted from a letter I wrote a while ago:\\n\\n     Although less apparent to those who have not researched\\nthe facts, personal protection is as legitimate a reason  as\\nsport for the private citizen to own a gun.  The most recent\\nresearch  is  that  of Dr. Gary Kleck of the  Florida  State\\nUniversity  School of Criminology.1  He found that  handguns\\nare  more  often  used by victims to defeat  crime  than  by\\ncriminals to commit it (645,000 vs. 580,000 respectively  in\\nthis  study).  These figures are even more encouraging  when\\nyou  consider the number of crimes that never occur  because\\nof  the  presence  of a gun in the hands  of  a  law-abiding\\nprivate  citizen.  In a National Institute of Justice  study\\nof  ten state prisons across the country they found that 39%\\nof  the  felons  surveyed had aborted  at  least  one  crime\\nbecause  they believed that the intended victim was  armed.,\\nand  57% agreed that \"most criminals are more worried  about\\nmeeting an armed victim than they are about running into the\\npolice.\"2\\n     One  of the most heinous of crimes is that against  the\\nwomen  of  this country.  It has been my recent  observation\\nthat  more  women  are purchasing handguns  for  defense  in\\nresponse  to  the  present danger of these  assaults.   This\\nshould be taken as encouraging news if the events of Orlando\\nFlorida  are any indicator.  In the late 1960\\'s  the  female\\npopulace was plagued with a series of brutal assaults;  just\\nthe  publicity of the record number of women buying guns and\\nobtaining training resulted in an 88% decrease in  rape  for\\nthat  area,  the  only city of its size in  the  country  to\\nexperience a decrease of crime for that year.  Additionally,\\na 1979 US Justice Department study of 32,000 attempted rapes\\nshowed  that overall, when rape is attempted, the completion\\nrate  is 36%. But when a woman defends herself with  a  gun,\\nthe completion rate drops to 3%.\\n \\n1 G Kleck, Point Blank: Guns and Violence in America Aldine\\nde Gruyter, NY, 1991\\n2 JD Wright & PH Rossi Armed and Considered Dangerous:  A\\nSurvey of Felons and Their Firearms, Aldine de Gruyter, NY,\\n1986\\n-------\\n\\n__________________________________________________________________________\\n[unlike cats] dogs NEVER scratch you when you wash them. They just\\nbecome very sad and try to figure out what they did wrong. -Dave Barry\\n           \\nSeth Eliot                    Dept of Material Science and Engineering\\n                              Carnegie Mellon Univerity,   Pittsburgh, PA\\nARPA    :eliot+@cmu.edu       |------------------------------------------\\n   or    se08+@andrew.cmu.edu |\\nBitnet:  se08%andrew@cmccvb   |      \\n------------------------------|\\n')]"
      ]
     },
     "execution_count": 70,
     "metadata": {},
     "output_type": "execute_result"
    }
   ],
   "source": [
    "newsgroups.take(2)"
   ]
  },
  {
   "cell_type": "code",
   "execution_count": 393,
   "metadata": {},
   "outputs": [],
   "source": [
    "wordsByArticles = newsgroups.map(\n",
    "    lambda x:(x[0].split('/')[-2:], x[1])\n",
    "    ).flatMapValues(\n",
    "    lambda x:re.split(non_word_space, x)\n",
    "    ).mapValues(\n",
    "    lambda x:x.lower()\n",
    "    ).filter(\n",
    "    lambda x:contain_numeric.fullmatch(x[1])\n",
    "    ).map(\n",
    "    lambda x:(x[0], stemmer.stem(x[1]))\n",
    "    ).filter(\n",
    "    lambda x:len(x[1])>=2 \n",
    "    ).filter(\n",
    "    lambda x:x[1] not in stop_words\n",
    "    )"
   ]
  },
  {
   "cell_type": "code",
   "execution_count": 394,
   "metadata": {},
   "outputs": [],
   "source": [
    "wordsByArticles.cache()\n",
    "wordsByArticles.checkpoint()"
   ]
  },
  {
   "cell_type": "code",
   "execution_count": 395,
   "metadata": {},
   "outputs": [
    {
     "data": {
      "text/plain": [
       "[(['talk.politics.guns', '54722'], 'cathyf'),\n",
       " (['talk.politics.guns', '54722'], 'rice'),\n",
       " (['talk.politics.guns', '54722'], 'edu'),\n",
       " (['talk.politics.guns', '54722'], 'catherin'),\n",
       " (['talk.politics.guns', '54722'], 'ann'),\n",
       " (['talk.politics.guns', '54722'], 'foulston'),\n",
       " (['talk.politics.guns', '54722'], 'subject'),\n",
       " (['talk.politics.guns', '54722'], 're'),\n",
       " (['talk.politics.guns', '54722'], 'waco'),\n",
       " (['talk.politics.guns', '54722'], 'clinton')]"
      ]
     },
     "execution_count": 395,
     "metadata": {},
     "output_type": "execute_result"
    }
   ],
   "source": [
    "wordsByArticles.take(10)"
   ]
  },
  {
   "cell_type": "code",
   "execution_count": 485,
   "metadata": {},
   "outputs": [
    {
     "data": {
      "text/plain": [
       "2329332"
      ]
     },
     "execution_count": 485,
     "metadata": {},
     "output_type": "execute_result"
    }
   ],
   "source": [
    "wordsByArticles.count()"
   ]
  },
  {
   "cell_type": "markdown",
   "metadata": {},
   "source": [
    "##### 过滤barewords "
   ]
  },
  {
   "cell_type": "code",
   "execution_count": 396,
   "metadata": {},
   "outputs": [],
   "source": [
    "wordsByArticles_rm_lowfrequency = wordsByArticles.mapValues(\n",
    "    lambda x:(x, bareWords_dict.get(x, 0) )\n",
    "    ).filter(lambda x:x[1][1]==0\n",
    "    ).mapValues(lambda x:x[0])"
   ]
  },
  {
   "cell_type": "code",
   "execution_count": 397,
   "metadata": {},
   "outputs": [],
   "source": [
    "wordsByArticles_rm_lowfrequency.cache()\n",
    "wordsByArticles_rm_lowfrequency.checkpoint()"
   ]
  },
  {
   "cell_type": "code",
   "execution_count": 486,
   "metadata": {},
   "outputs": [
    {
     "data": {
      "text/plain": [
       "2302877"
      ]
     },
     "execution_count": 486,
     "metadata": {},
     "output_type": "execute_result"
    }
   ],
   "source": [
    "wordsByArticles_rm_lowfrequency.count()"
   ]
  },
  {
   "cell_type": "code",
   "execution_count": 487,
   "metadata": {},
   "outputs": [
    {
     "data": {
      "text/plain": [
       "[(['talk.politics.guns', '54722'], 'cathyf'),\n",
       " (['talk.politics.guns', '54722'], 'rice')]"
      ]
     },
     "execution_count": 487,
     "metadata": {},
     "output_type": "execute_result"
    }
   ],
   "source": [
    "wordsByArticles_rm_lowfrequency.take(2)"
   ]
  },
  {
   "cell_type": "markdown",
   "metadata": {},
   "source": [
    "##### 文档词汇聚合 "
   ]
  },
  {
   "cell_type": "code",
   "execution_count": 490,
   "metadata": {},
   "outputs": [],
   "source": [
    "def x_append(x, y):\n",
    "    x.append(y)\n",
    "    return x"
   ]
  },
  {
   "cell_type": "code",
   "execution_count": 491,
   "metadata": {},
   "outputs": [
    {
     "data": {
      "text/plain": [
       "[(['talk.politics.guns', '54722'], 'cathyf'),\n",
       " (['talk.politics.guns', '54722'], 'rice')]"
      ]
     },
     "execution_count": 491,
     "metadata": {},
     "output_type": "execute_result"
    }
   ],
   "source": [
    "wordsByArticles_rm_lowfrequency.take(2)"
   ]
  },
  {
   "cell_type": "code",
   "execution_count": 492,
   "metadata": {},
   "outputs": [],
   "source": [
    "wordsByArticles_rm_lowfrequency_aggregate = wordsByArticles_rm_lowfrequency.map(\n",
    "    lambda x:(x[0][0]+'/'+x[0][1], x[1])\n",
    "    ).aggregateByKey(\n",
    "    [],lambda x, y:x_append(x, y), lambda x, y:x+y\n",
    "    )"
   ]
  },
  {
   "cell_type": "code",
   "execution_count": 493,
   "metadata": {},
   "outputs": [
    {
     "data": {
      "text/plain": [
       "[('talk.politics.misc/178957',\n",
       "  ['muellerm',\n",
       "   'vuse',\n",
       "   'vanderbilt',\n",
       "   'edu',\n",
       "   'marc',\n",
       "   'mueller',\n",
       "   'subject',\n",
       "   're',\n",
       "   'pork',\n",
       "   're',\n",
       "   'abolish',\n",
       "   'select',\n",
       "   'servic',\n",
       "   'nntp',\n",
       "   'post',\n",
       "   'host',\n",
       "   'organ',\n",
       "   'vanderbilt',\n",
       "   'univers',\n",
       "   'school',\n",
       "   'engin',\n",
       "   'nashvill',\n",
       "   'tn',\n",
       "   'usa',\n",
       "   'line',\n",
       "   'articl',\n",
       "   'ra',\n",
       "   'msstate',\n",
       "   'edu',\n",
       "   'ra',\n",
       "   'msstate',\n",
       "   'edu',\n",
       "   'fletcher',\n",
       "   'adam',\n",
       "   'write',\n",
       "   'muellerm',\n",
       "   'vuse',\n",
       "   'vanderbilt',\n",
       "   'edu',\n",
       "   'marc',\n",
       "   'mueller',\n",
       "   'write',\n",
       "   'trumpet',\n",
       "   'cc',\n",
       "   'msstate',\n",
       "   'edu',\n",
       "   'fletcher',\n",
       "   'adam',\n",
       "   'write',\n",
       "   'elimin',\n",
       "   'transport',\n",
       "   'wrong',\n",
       "   'we',\n",
       "   'need',\n",
       "   'capabl',\n",
       "   'sure',\n",
       "   'has',\n",
       "   'problem',\n",
       "   'you',\n",
       "   'read',\n",
       "   'aviat',\n",
       "   'week',\n",
       "   'line',\n",
       "   'can',\n",
       "   'reopen',\n",
       "   'would',\n",
       "   'deliv',\n",
       "   'year',\n",
       "   'earlier',\n",
       "   'cost',\n",
       "   'billion',\n",
       "   'less',\n",
       "   'program',\n",
       "   'polit',\n",
       "   'though',\n",
       "   'popular',\n",
       "   'pork',\n",
       "   'do',\n",
       "   'read',\n",
       "   'av',\n",
       "   'week',\n",
       "   'don',\n",
       "   'rememb',\n",
       "   'could',\n",
       "   'you',\n",
       "   'suppli',\n",
       "   'date',\n",
       "   'magazin',\n",
       "   'aviat',\n",
       "   'week',\n",
       "   'march',\n",
       "   'cbo',\n",
       "   'estim',\n",
       "   'match',\n",
       "   'capabl',\n",
       "   'would',\n",
       "   'requir',\n",
       "   'total',\n",
       "   'cost',\n",
       "   'billion',\n",
       "   'option',\n",
       "   'still',\n",
       "   'more',\n",
       "   'than',\n",
       "   'billion',\n",
       "   'cheaper',\n",
       "   'than',\n",
       "   'complet',\n",
       "   'program',\n",
       "   'which',\n",
       "   'cbo',\n",
       "   'estim',\n",
       "   'will',\n",
       "   'cost',\n",
       "   'billion',\n",
       "   'sorri',\n",
       "   'nine',\n",
       "   'billion',\n",
       "   'off',\n",
       "   'would',\n",
       "   'ten',\n",
       "   'billion',\n",
       "   'cheaper',\n",
       "   'vs',\n",
       "   'can',\n",
       "   'carri',\n",
       "   'much',\n",
       "   'has',\n",
       "   'more',\n",
       "   'capabl',\n",
       "   'read',\n",
       "   'can',\n",
       "   'land',\n",
       "   'smaller',\n",
       "   'airfield',\n",
       "   'which',\n",
       "   'there',\n",
       "   'more',\n",
       "   'than',\n",
       "   'now',\n",
       "   'pork',\n",
       "   'depend',\n",
       "   'whether',\n",
       "   'your',\n",
       "   'job',\n",
       "   'reli',\n",
       "   'california',\n",
       "   'right',\n",
       "   'now',\n",
       "   'would',\n",
       "   'say',\n",
       "   'pork',\n",
       "   'sinc',\n",
       "   'due',\n",
       "   'peac',\n",
       "   'dividend',\n",
       "   'so',\n",
       "   'mani',\n",
       "   'peopl',\n",
       "   'out',\n",
       "   'work',\n",
       "   'well',\n",
       "   'california',\n",
       "   'vote',\n",
       "   'overwhelm',\n",
       "   'chang',\n",
       "   'right',\n",
       "   'argument',\n",
       "   'continu',\n",
       "   'militari',\n",
       "   'program',\n",
       "   'just',\n",
       "   'support',\n",
       "   'job',\n",
       "   'poor',\n",
       "   'one',\n",
       "   'kept',\n",
       "   'quit',\n",
       "   'few',\n",
       "   'base',\n",
       "   'open',\n",
       "   'should',\n",
       "   'been',\n",
       "   'close',\n",
       "   'year',\n",
       "   'ago',\n",
       "   'wast',\n",
       "   'billion',\n",
       "   'tax',\n",
       "   'question',\n",
       "   'whether',\n",
       "   'les',\n",
       "   'aspin',\n",
       "   'clinton',\n",
       "   'will',\n",
       "   'abl',\n",
       "   'face',\n",
       "   'down',\n",
       "   'pork',\n",
       "   'happi',\n",
       "   'congress',\n",
       "   'marc',\n",
       "   'mueller',\n",
       "   'huh',\n",
       "   'shouldn',\n",
       "   'read',\n",
       "   'question',\n",
       "   'whether',\n",
       "   'social',\n",
       "   'pork',\n",
       "   'happi',\n",
       "   'les',\n",
       "   'aspin',\n",
       "   'clinton',\n",
       "   'will',\n",
       "   'abl',\n",
       "   'face',\n",
       "   'down',\n",
       "   'job',\n",
       "   'pork',\n",
       "   'happi',\n",
       "   'congress',\n",
       "   'fpa',\n",
       "   'marc',\n",
       "   'mueller']),\n",
       " ('alt.atheism/53199',\n",
       "  ['pww',\n",
       "   'spacsun',\n",
       "   'rice',\n",
       "   'edu',\n",
       "   'peter',\n",
       "   'walker',\n",
       "   'subject',\n",
       "   're',\n",
       "   'rawlin',\n",
       "   'debunk',\n",
       "   'creation',\n",
       "   'organ',\n",
       "   'didn',\n",
       "   'do',\n",
       "   'nobodi',\n",
       "   'saw',\n",
       "   'me',\n",
       "   'you',\n",
       "   'can',\n",
       "   'prove',\n",
       "   'thing',\n",
       "   'line',\n",
       "   'articl',\n",
       "   'rambo',\n",
       "   'atlanta',\n",
       "   'dg',\n",
       "   'com',\n",
       "   'wpr',\n",
       "   'atlanta',\n",
       "   'dg',\n",
       "   'com',\n",
       "   'bill',\n",
       "   'rawlin',\n",
       "   'wrote',\n",
       "   'we',\n",
       "   'talk',\n",
       "   'about',\n",
       "   'origin',\n",
       "   'mere',\n",
       "   'scienc',\n",
       "   'scienc',\n",
       "   'cannot',\n",
       "   'explain',\n",
       "   'origin',\n",
       "   'person',\n",
       "   'exclud',\n",
       "   'anyth',\n",
       "   'scienc',\n",
       "   'issu',\n",
       "   'origin',\n",
       "   'say',\n",
       "   'there',\n",
       "   'no',\n",
       "   'higher',\n",
       "   'truth',\n",
       "   'than',\n",
       "   'scienc',\n",
       "   'fals',\n",
       "   'premis',\n",
       "   'say',\n",
       "   'who',\n",
       "   'other',\n",
       "   'than',\n",
       "   'hear',\n",
       "   'say',\n",
       "   'god',\n",
       "   'way',\n",
       "   'enjoy',\n",
       "   'scienc',\n",
       "   'you',\n",
       "   'sure',\n",
       "   'don',\n",
       "   'understand',\n",
       "   'truli',\n",
       "   'wonder',\n",
       "   'observ',\n",
       "   'god',\n",
       "   'creation',\n",
       "   'macroevolut',\n",
       "   'mixtur',\n",
       "   'percent',\n",
       "   'scienc',\n",
       "   'percent',\n",
       "   'religion',\n",
       "   'guarante',\n",
       "   'within',\n",
       "   'three',\n",
       "   'percent',\n",
       "   'error',\n",
       "   'bill',\n",
       "   'herebi',\n",
       "   'award',\n",
       "   'you',\n",
       "   'golden',\n",
       "   'shovel',\n",
       "   'award',\n",
       "   'pile',\n",
       "   'bullshit',\n",
       "   've',\n",
       "   'seen',\n",
       "   'afraid',\n",
       "   'there',\n",
       "   'bit',\n",
       "   'religion',\n",
       "   'macroevolut',\n",
       "   'you',\n",
       "   've',\n",
       "   'made',\n",
       "   'rather',\n",
       "   'grand',\n",
       "   'statement',\n",
       "   'scienc',\n",
       "   'can',\n",
       "   'explain',\n",
       "   'origin',\n",
       "   'larg',\n",
       "   'extent',\n",
       "   'alreadi',\n",
       "   'has',\n",
       "   'bill',\n",
       "   'rawlin',\n",
       "   'wpr',\n",
       "   'atlanta',\n",
       "   'dg',\n",
       "   'com',\n",
       "   'peter',\n",
       "   'walker',\n",
       "   'yu',\n",
       "   'shall',\n",
       "   'tell',\n",
       "   'you',\n",
       "   'what',\n",
       "   'knowledg',\n",
       "   'when',\n",
       "   'dept',\n",
       "   'space',\n",
       "   'physic',\n",
       "   'you',\n",
       "   'know',\n",
       "   'thing',\n",
       "   'say',\n",
       "   'you',\n",
       "   'know',\n",
       "   'when',\n",
       "   'astronomi',\n",
       "   'you',\n",
       "   'do',\n",
       "   'know',\n",
       "   'thing',\n",
       "   'admit',\n",
       "   'you',\n",
       "   'do',\n",
       "   'know',\n",
       "   'rice',\n",
       "   'univers',\n",
       "   'knowledg',\n",
       "   'houston',\n",
       "   'tx',\n",
       "   'ung',\n",
       "   'fu',\n",
       "   'tzu'])]"
      ]
     },
     "execution_count": 493,
     "metadata": {},
     "output_type": "execute_result"
    }
   ],
   "source": [
    "wordsByArticles_rm_lowfrequency_aggregate.take(2)"
   ]
  },
  {
   "cell_type": "code",
   "execution_count": 499,
   "metadata": {},
   "outputs": [
    {
     "data": {
      "text/plain": [
       "[]"
      ]
     },
     "execution_count": 499,
     "metadata": {},
     "output_type": "execute_result"
    }
   ],
   "source": [
    "wordsByArticles_rm_lowfrequency_aggregate.filter(lambda x: 'a' in x[1]).take(1)"
   ]
  },
  {
   "cell_type": "markdown",
   "metadata": {},
   "source": [
    "##### hashTF转换文档词汇 "
   ]
  },
  {
   "cell_type": "code",
   "execution_count": 500,
   "metadata": {},
   "outputs": [],
   "source": [
    "hashingTF = HashingTF(numFeatures=26000)"
   ]
  },
  {
   "cell_type": "code",
   "execution_count": 501,
   "metadata": {},
   "outputs": [
    {
     "data": {
      "text/plain": [
       "<pyspark.broadcast.Broadcast at 0x7ff466a8ff98>"
      ]
     },
     "execution_count": 501,
     "metadata": {},
     "output_type": "execute_result"
    }
   ],
   "source": [
    "sc.broadcast(hashingTF)"
   ]
  },
  {
   "cell_type": "code",
   "execution_count": 504,
   "metadata": {},
   "outputs": [],
   "source": [
    "tf = wordsByArticles_rm_lowfrequency_aggregate.map(lambda x:(x[0], hashingTF.transform(x[1])))"
   ]
  },
  {
   "cell_type": "code",
   "execution_count": 505,
   "metadata": {},
   "outputs": [
    {
     "data": {
      "text/plain": [
       "[('talk.politics.misc/178957',\n",
       "  SparseVector(26000, {119: 2.0, 165: 1.0, 220: 2.0, 237: 1.0, 321: 2.0, 466: 2.0, 779: 2.0, 783: 1.0, 824: 2.0, 1181: 7.0, 1190: 1.0, 1651: 1.0, 1972: 1.0, 2093: 1.0, 2582: 1.0, 3547: 3.0, 3808: 1.0, 3838: 1.0, 4322: 1.0, 4486: 1.0, 4714: 1.0, 4730: 2.0, 4773: 2.0, 4871: 1.0, 4962: 1.0, 5118: 1.0, 5627: 1.0, 5846: 2.0, 5880: 1.0, 6176: 1.0, 6639: 1.0, 6646: 4.0, 7449: 1.0, 7451: 1.0, 7593: 1.0, 7667: 1.0, 7709: 1.0, 8065: 1.0, 8175: 1.0, 8297: 3.0, 8390: 1.0, 8549: 2.0, 8708: 1.0, 8916: 1.0, 8935: 1.0, 8945: 3.0, 9036: 1.0, 9304: 5.0, 9387: 1.0, 9566: 1.0, 9614: 3.0, 9732: 1.0, 9860: 1.0, 10024: 2.0, 10064: 3.0, 10399: 1.0, 10447: 1.0, 10575: 1.0, 10585: 1.0, 11050: 1.0, 11151: 1.0, 11190: 2.0, 11292: 2.0, 11486: 1.0, 11529: 2.0, 11559: 1.0, 11676: 2.0, 11792: 1.0, 12008: 3.0, 12126: 1.0, 12282: 3.0, 12370: 1.0, 12449: 1.0, 12530: 2.0, 12553: 1.0, 12726: 3.0, 13191: 1.0, 13285: 1.0, 13978: 2.0, 14165: 1.0, 14260: 1.0, 14321: 2.0, 14411: 1.0, 14612: 1.0, 14731: 1.0, 15084: 1.0, 15122: 2.0, 15541: 3.0, 15560: 1.0, 15570: 1.0, 15704: 1.0, 15859: 2.0, 16011: 3.0, 16147: 1.0, 16152: 1.0, 16293: 1.0, 16462: 2.0, 16550: 1.0, 16593: 2.0, 16790: 1.0, 17086: 1.0, 17605: 2.0, 17645: 1.0, 17649: 1.0, 17656: 1.0, 18370: 3.0, 18424: 1.0, 18577: 1.0, 18835: 1.0, 18916: 1.0, 19220: 2.0, 19399: 3.0, 19507: 4.0, 20027: 1.0, 20666: 1.0, 20738: 1.0, 20905: 2.0, 21064: 1.0, 21336: 2.0, 21382: 1.0, 21547: 7.0, 22253: 1.0, 22470: 1.0, 22485: 1.0, 22512: 1.0, 23112: 4.0, 23168: 1.0, 23240: 4.0, 23247: 1.0, 23397: 1.0, 23438: 1.0, 23614: 3.0, 23872: 1.0, 24045: 1.0, 24379: 1.0, 24403: 1.0, 24470: 1.0, 24537: 1.0, 24579: 1.0, 24846: 1.0, 25209: 1.0, 25748: 3.0, 25872: 1.0}))]"
      ]
     },
     "execution_count": 505,
     "metadata": {},
     "output_type": "execute_result"
    }
   ],
   "source": [
    "tf.take(1)"
   ]
  },
  {
   "cell_type": "markdown",
   "metadata": {},
   "source": [
    "##### 用idf去fit全部文档的词频 "
   ]
  },
  {
   "cell_type": "code",
   "execution_count": 508,
   "metadata": {},
   "outputs": [],
   "source": [
    "labels = tf.map(lambda x:x[0])\n",
    "\n",
    "docs = tf.map(lambda x:x[1])"
   ]
  },
  {
   "cell_type": "code",
   "execution_count": 510,
   "metadata": {},
   "outputs": [],
   "source": [
    "idf = IDF().fit(docs)"
   ]
  },
  {
   "cell_type": "code",
   "execution_count": 511,
   "metadata": {},
   "outputs": [],
   "source": [
    "tf_idf = idf.transform(docs)"
   ]
  },
  {
   "cell_type": "markdown",
   "metadata": {},
   "source": [
    "##### zip文档名称和文档tf-idf"
   ]
  },
  {
   "cell_type": "code",
   "execution_count": 512,
   "metadata": {},
   "outputs": [],
   "source": [
    "tf_idf_ziped = labels.zip(tf_idf)"
   ]
  },
  {
   "cell_type": "code",
   "execution_count": 513,
   "metadata": {},
   "outputs": [
    {
     "data": {
      "text/plain": [
       "[('talk.politics.misc/178957',\n",
       "  SparseVector(26000, {119: 12.5787, 165: 4.4976, 220: 3.5135, 237: 4.0356, 321: 2.6312, 466: 10.8437, 779: 8.5939, 783: 3.0648, 824: 3.3019, 1181: 42.2663, 1190: 1.2097, 1651: 1.7415, 1972: 2.0015, 2093: 3.0648, 2582: 4.7592, 3547: 3.1763, 3808: 3.0995, 3838: 3.3251, 4322: 1.3299, 4486: 2.745, 4714: 1.1745, 4730: 0.0057, 4773: 14.7759, 4871: 1.8535, 4962: 2.4659, 5118: 6.5007, 5627: 1.4846, 5846: 7.7316, 5880: 0.8474, 6176: 1.5756, 6639: 3.5079, 6646: 8.0667, 7449: 2.6089, 7451: 4.3851, 7593: 3.4285, 7667: 3.1073, 7709: 4.4511, 8065: 3.7318, 8175: 0.9241, 8297: 8.5754, 8390: 2.4251, 8549: 6.164, 8708: 2.6077, 8916: 4.1028, 8935: 1.8213, 8945: 8.7662, 9036: 1.4842, 9304: 2.1273, 9387: 0.6582, 9566: 2.8538, 9614: 3.7964, 9732: 3.982, 9860: 4.8341, 10024: 3.6934, 10064: 16.6491, 10399: 2.5315, 10447: 1.5841, 10575: 2.7165, 10585: 3.3963, 11050: 3.6038, 11151: 3.3755, 11190: 5.2105, 11292: 12.0761, 11486: 2.8898, 11529: 10.4791, 11559: 4.1465, 11676: 11.5007, 11792: 3.0185, 12008: 10.8309, 12126: 4.1028, 12282: 10.8506, 12370: 2.7986, 12449: 3.9045, 12530: 3.402, 12553: 2.2708, 12726: 17.2511, 13191: 3.5687, 13285: 2.5934, 13978: 15.4489, 14165: 1.9989, 14260: 3.2005, 14321: 1.0915, 14411: 5.4021, 14612: 1.4861, 14731: 3.2136, 15084: 0.9158, 15122: 8.3612, 15541: 7.1955, 15560: 0.8903, 15570: 3.8786, 15704: 5.3826, 15859: 5.959, 16011: 1.8466, 16147: 1.208, 16152: 4.0158, 16293: 6.6948, 16462: 4.6025, 16550: 2.4535, 16593: 8.7143, 16790: 2.2786, 17086: 2.0769, 17605: 0.7448, 17645: 1.4403, 17649: 1.6399, 17656: 0.0, 18370: 4.2886, 18424: 4.2713, 18577: 1.9751, 18835: 3.3499, 18916: 0.9272, 19220: 6.6949, 19399: 2.3602, 19507: 21.5306, 20027: 4.7388, 20666: 2.7491, 20738: 1.9847, 20905: 2.1313, 21064: 5.5497, 21336: 9.7825, 21382: 3.6955, 21547: 30.5485, 22253: 5.5727, 22470: 3.7732, 22485: 2.7327, 22512: 2.4838, 23112: 17.2664, 23168: 3.6202, 23240: 3.8459, 23247: 3.8701, 23397: 0.0378, 23438: 6.0758, 23614: 8.2974, 23872: 1.1358, 24045: 5.645, 24379: 0.7477, 24403: 1.0127, 24470: 0.8615, 24537: 3.1374, 24579: 1.6277, 24846: 5.1442, 25209: 3.8786, 25748: 9.8809, 25872: 4.436}))]"
      ]
     },
     "execution_count": 513,
     "metadata": {},
     "output_type": "execute_result"
    }
   ],
   "source": [
    "tf_idf_ziped.take(1)"
   ]
  },
  {
   "cell_type": "code",
   "execution_count": 408,
   "metadata": {},
   "outputs": [
    {
     "data": {
      "text/plain": [
       "[('talk.politics.misc/178957',\n",
       "  SparseVector(26000, {119: 12.5787, 165: 4.4976, 220: 3.5135, 237: 4.0356, 321: 2.6312, 466: 10.8437, 779: 8.5939, 783: 3.0648, 824: 3.3019, 1181: 42.2663, 1190: 1.2097, 1651: 1.7415, 1972: 2.0015, 2093: 3.0648, 2582: 4.7592, 3547: 3.1763, 3808: 3.0995, 3838: 3.3251, 4322: 1.3299, 4486: 2.745, 4714: 1.1745, 4730: 0.0057, 4773: 14.7759, 4871: 1.8535, 4962: 2.4659, 5118: 6.5007, 5627: 1.4846, 5846: 7.7316, 5880: 0.8474, 6176: 1.5756, 6639: 3.5079, 6646: 8.0667, 7449: 2.6089, 7451: 4.3851, 7593: 3.4285, 7667: 3.1073, 7709: 4.4511, 8065: 3.7318, 8175: 0.9241, 8297: 8.5754, 8390: 2.4251, 8549: 6.164, 8708: 2.6077, 8916: 4.1028, 8935: 1.8213, 8945: 8.7662, 9036: 1.4842, 9304: 2.1273, 9387: 0.6582, 9566: 2.8538, 9614: 3.7964, 9732: 3.982, 9860: 4.8341, 10024: 3.6934, 10064: 16.6491, 10399: 2.5315, 10447: 1.5841, 10575: 2.7165, 10585: 3.3963, 11050: 3.6038, 11151: 3.3755, 11190: 5.2105, 11292: 12.0761, 11486: 2.8898, 11529: 10.4791, 11559: 4.1465, 11676: 11.5007, 11792: 3.0185, 12008: 10.8309, 12126: 4.1028, 12282: 10.8506, 12370: 2.7986, 12449: 3.9045, 12530: 3.402, 12553: 2.2708, 12726: 17.2511, 13191: 3.5687, 13285: 2.5934, 13978: 15.4489, 14165: 1.9989, 14260: 3.2005, 14321: 1.0915, 14411: 5.4021, 14612: 1.4861, 14731: 3.2136, 15084: 0.9158, 15122: 8.3612, 15541: 7.1955, 15560: 0.8903, 15570: 3.8786, 15704: 5.3826, 15859: 5.959, 16011: 1.8466, 16147: 1.208, 16152: 4.0158, 16293: 6.6948, 16462: 4.6025, 16550: 2.4535, 16593: 8.7143, 16790: 2.2786, 17086: 2.0769, 17605: 0.7448, 17645: 1.4403, 17649: 1.6399, 17656: 0.0, 18370: 4.2886, 18424: 4.2713, 18577: 1.9751, 18835: 3.3499, 18916: 0.9272, 19220: 6.6949, 19399: 2.3602, 19507: 21.5306, 20027: 4.7388, 20666: 2.7491, 20738: 1.9847, 20905: 2.1313, 21064: 5.5497, 21336: 9.7825, 21382: 3.6955, 21547: 30.5485, 22253: 5.5727, 22470: 3.7732, 22485: 2.7327, 22512: 2.4838, 23112: 17.2664, 23168: 3.6202, 23240: 3.8459, 23247: 3.8701, 23397: 0.0378, 23438: 6.0758, 23614: 8.2974, 23872: 1.1358, 24045: 5.645, 24379: 0.7477, 24403: 1.0127, 24470: 0.8615, 24537: 3.1374, 24579: 1.6277, 24846: 5.1442, 25209: 3.8786, 25748: 9.8809, 25872: 4.436}))]"
      ]
     },
     "execution_count": 408,
     "metadata": {},
     "output_type": "execute_result"
    }
   ],
   "source": [
    "tf_idf_ziped.take(1)"
   ]
  },
  {
   "cell_type": "code",
   "execution_count": 514,
   "metadata": {},
   "outputs": [
    {
     "data": {
      "text/plain": [
       "11314"
      ]
     },
     "execution_count": 514,
     "metadata": {},
     "output_type": "execute_result"
    }
   ],
   "source": [
    "tf_idf_ziped.count()"
   ]
  },
  {
   "cell_type": "code",
   "execution_count": 410,
   "metadata": {},
   "outputs": [],
   "source": [
    "# tf_idf_ziped.saveAsTextFile('hdfs://zh:9000/tf_idf_ziped', )\n",
    "# tf_idf_ziped.saveAsTextFile('file:///home/zh/Spark_ML_Experiment/tf_idf_ziped', )\n",
    "# 存储以text的形式，读取全都成了str，失败"
   ]
  },
  {
   "cell_type": "markdown",
   "metadata": {},
   "source": [
    "##### 使用pickleFile "
   ]
  },
  {
   "cell_type": "code",
   "execution_count": 411,
   "metadata": {},
   "outputs": [],
   "source": [
    "# ss = sc.parallelize([((1,2,2), enumerate([1,2,2,])), ((1,3), enumerate([1,1 ]))])\n",
    "\n",
    "# ss.take(1)\n",
    "\n",
    "# ss.saveAsPickleFile('hdfs://zh:9000/save_test')\n",
    "\n",
    "# ss = sc.pickleFile('hdfs://zh:9000/save_test')\n",
    "\n",
    "# ss.take(1)"
   ]
  },
  {
   "cell_type": "code",
   "execution_count": 413,
   "metadata": {},
   "outputs": [],
   "source": [
    "tf_idf_ziped.saveAsPickleFile('hdfs://zh:9000/TF_IDF_ByKey')"
   ]
  },
  {
   "cell_type": "code",
   "execution_count": 414,
   "metadata": {},
   "outputs": [],
   "source": [
    "tf_idf_ziped.saveAsPickleFile('file:///home/zh/Spark_ML_Experiment/TF_IDF_ByKey')"
   ]
  },
  {
   "cell_type": "markdown",
   "metadata": {},
   "source": [
    "* pickle存储下来"
   ]
  },
  {
   "cell_type": "markdown",
   "metadata": {},
   "source": [
    "#### 9、分析TF-IDF权重 "
   ]
  },
  {
   "cell_type": "code",
   "execution_count": 415,
   "metadata": {},
   "outputs": [],
   "source": [
    "tf_idf_ziped = sc.pickleFile('hdfs://zh:9000/TF_IDF_ByKey', )"
   ]
  },
  {
   "cell_type": "code",
   "execution_count": 416,
   "metadata": {},
   "outputs": [
    {
     "data": {
      "text/plain": [
       "[('talk.politics.misc/178957',\n",
       "  SparseVector(26000, {119: 12.5787, 165: 4.4976, 220: 3.5135, 237: 4.0356, 321: 2.6312, 466: 10.8437, 779: 8.5939, 783: 3.0648, 824: 3.3019, 1181: 42.2663, 1190: 1.2097, 1651: 1.7415, 1972: 2.0015, 2093: 3.0648, 2582: 4.7592, 3547: 3.1763, 3808: 3.0995, 3838: 3.3251, 4322: 1.3299, 4486: 2.745, 4714: 1.1745, 4730: 0.0057, 4773: 14.7759, 4871: 1.8535, 4962: 2.4659, 5118: 6.5007, 5627: 1.4846, 5846: 7.7316, 5880: 0.8474, 6176: 1.5756, 6639: 3.5079, 6646: 8.0667, 7449: 2.6089, 7451: 4.3851, 7593: 3.4285, 7667: 3.1073, 7709: 4.4511, 8065: 3.7318, 8175: 0.9241, 8297: 8.5754, 8390: 2.4251, 8549: 6.164, 8708: 2.6077, 8916: 4.1028, 8935: 1.8213, 8945: 8.7662, 9036: 1.4842, 9304: 2.1273, 9387: 0.6582, 9566: 2.8538, 9614: 3.7964, 9732: 3.982, 9860: 4.8341, 10024: 3.6934, 10064: 16.6491, 10399: 2.5315, 10447: 1.5841, 10575: 2.7165, 10585: 3.3963, 11050: 3.6038, 11151: 3.3755, 11190: 5.2105, 11292: 12.0761, 11486: 2.8898, 11529: 10.4791, 11559: 4.1465, 11676: 11.5007, 11792: 3.0185, 12008: 10.8309, 12126: 4.1028, 12282: 10.8506, 12370: 2.7986, 12449: 3.9045, 12530: 3.402, 12553: 2.2708, 12726: 17.2511, 13191: 3.5687, 13285: 2.5934, 13978: 15.4489, 14165: 1.9989, 14260: 3.2005, 14321: 1.0915, 14411: 5.4021, 14612: 1.4861, 14731: 3.2136, 15084: 0.9158, 15122: 8.3612, 15541: 7.1955, 15560: 0.8903, 15570: 3.8786, 15704: 5.3826, 15859: 5.959, 16011: 1.8466, 16147: 1.208, 16152: 4.0158, 16293: 6.6948, 16462: 4.6025, 16550: 2.4535, 16593: 8.7143, 16790: 2.2786, 17086: 2.0769, 17605: 0.7448, 17645: 1.4403, 17649: 1.6399, 17656: 0.0, 18370: 4.2886, 18424: 4.2713, 18577: 1.9751, 18835: 3.3499, 18916: 0.9272, 19220: 6.6949, 19399: 2.3602, 19507: 21.5306, 20027: 4.7388, 20666: 2.7491, 20738: 1.9847, 20905: 2.1313, 21064: 5.5497, 21336: 9.7825, 21382: 3.6955, 21547: 30.5485, 22253: 5.5727, 22470: 3.7732, 22485: 2.7327, 22512: 2.4838, 23112: 17.2664, 23168: 3.6202, 23240: 3.8459, 23247: 3.8701, 23397: 0.0378, 23438: 6.0758, 23614: 8.2974, 23872: 1.1358, 24045: 5.645, 24379: 0.7477, 24403: 1.0127, 24470: 0.8615, 24537: 3.1374, 24579: 1.6277, 24846: 5.1442, 25209: 3.8786, 25748: 9.8809, 25872: 4.436}))]"
      ]
     },
     "execution_count": 416,
     "metadata": {},
     "output_type": "execute_result"
    }
   ],
   "source": [
    "tf_idf_ziped.take(1)"
   ]
  },
  {
   "cell_type": "code",
   "execution_count": 417,
   "metadata": {},
   "outputs": [],
   "source": [
    "max_min_tf_idf = tf_idf_ziped.mapValues(lambda x:(min(x), max(x)))"
   ]
  },
  {
   "cell_type": "code",
   "execution_count": 418,
   "metadata": {},
   "outputs": [
    {
     "data": {
      "text/plain": [
       "[('talk.politics.misc/178957', (0.0, 42.26633384444316))]"
      ]
     },
     "execution_count": 418,
     "metadata": {},
     "output_type": "execute_result"
    }
   ],
   "source": [
    "max_min_tf_idf.take(2)"
   ]
  },
  {
   "cell_type": "code",
   "execution_count": 419,
   "metadata": {},
   "outputs": [
    {
     "data": {
      "text/plain": [
       "PythonRDD[614] at RDD at PythonRDD.scala:48"
      ]
     },
     "execution_count": 419,
     "metadata": {},
     "output_type": "execute_result"
    }
   ],
   "source": [
    "max_min_tf_idf.cache()"
   ]
  },
  {
   "cell_type": "code",
   "execution_count": 570,
   "metadata": {},
   "outputs": [],
   "source": [
    "# max_tf_idf = max_min_tf_idf.map(lambda x:x[1][1]).reduce(lambda x, y:max(x, y))\n",
    "# max_tf_idf\n",
    "# 很慢"
   ]
  },
  {
   "cell_type": "code",
   "execution_count": 515,
   "metadata": {},
   "outputs": [
    {
     "data": {
      "text/plain": [
       "[SparseVector(26000, {4322: 1.3299, 11706: 1.6028, 14321: 0.5457, 18916: 0.9272})]"
      ]
     },
     "execution_count": 515,
     "metadata": {},
     "output_type": "execute_result"
    }
   ],
   "source": [
    "common_not_stop = sc.parallelize([['you', 'we', 'do', 'am', ], ])\n",
    "idf.transform(hashingTF.transform(common_not_stop)).take(2)"
   ]
  },
  {
   "cell_type": "code",
   "execution_count": 516,
   "metadata": {},
   "outputs": [
    {
     "data": {
      "text/plain": [
       "[SparseVector(26000, {1080: 7.388, 1870: 6.2428, 2695: 9.3339, 4287: 6.4435, 5495: 7.9476, 5800: 7.388, 8242: 7.2544, 8770: 5.3085, 9696: 7.7244, 12777: 7.5421, 14373: 6.1558, 15003: 6.3382, 15140: 7.5421, 15898: 8.2353, 16043: 6.936, 18300: 7.7244, 19224: 7.388, 19583: 6.4435, 20052: 5.9327, 20365: 9.3339, 21101: 7.2544, 21119: 3.6884, 21441: 7.9476, 23069: 6.936, 23317: 8.6407, 23903: 7.9476, 24827: 9.3339, 25289: 5.8999})]"
      ]
     },
     "execution_count": 516,
     "metadata": {},
     "output_type": "execute_result"
    }
   ],
   "source": [
    "common_stop = sc.parallelize([stop_words, ])\n",
    "idf.transform(hashingTF.transform(common_stop)).take(2)"
   ]
  },
  {
   "cell_type": "code",
   "execution_count": 517,
   "metadata": {},
   "outputs": [
    {
     "data": {
      "text/plain": [
       "[SparseVector(26000, {11264: 7.388, 12506: 5.4021, 21568: 9.3339, 25289: 5.8999})]"
      ]
     },
     "execution_count": 517,
     "metadata": {},
     "output_type": "execute_result"
    }
   ],
   "source": [
    "word_not_exist = sc.parallelize([['a', 'g', 's', 'j', ], ])\n",
    "idf.transform(hashingTF.transform(word_not_exist)).take(2)"
   ]
  },
  {
   "cell_type": "markdown",
   "metadata": {},
   "source": [
    "* 可能有哈希冲突,导致不存在的词和stopwords的tf-idf较高。"
   ]
  },
  {
   "cell_type": "code",
   "execution_count": 518,
   "metadata": {},
   "outputs": [],
   "source": [
    "uncommon = sc.parallelize([['legislation', 'investment', 'telescope', 'json', 'fancy', 'python', 'spark'], ])"
   ]
  },
  {
   "cell_type": "code",
   "execution_count": 519,
   "metadata": {},
   "outputs": [
    {
     "data": {
      "text/plain": [
       "[SparseVector(26000, {2015: 7.7244, 5051: 7.9476, 5649: 6.0017, 17120: 6.038, 17276: 9.3339, 22510: 7.0313, 24212: 9.3339})]"
      ]
     },
     "execution_count": 519,
     "metadata": {},
     "output_type": "execute_result"
    }
   ],
   "source": [
    "idf.transform(hashingTF.transform(uncommon)).take(2)"
   ]
  },
  {
   "cell_type": "code",
   "execution_count": 520,
   "metadata": {},
   "outputs": [
    {
     "data": {
      "text/plain": [
       "[SparseVector(26000, {64: 5.8374, 100: 4.0995, 216: 10.5469, 220: 3.5135, 332: 5.72, 422: 3.1436, 440: 3.7617, 1078: 1.8213, 1127: 5.3636, 1262: 9.8061, 1631: 3.1256, 1815: 1.6952, 1903: 6.6257, 2093: 3.0648, 2283: 3.207, 2495: 13.872, 2722: 2.4392, 2808: 7.9254, 2910: 4.3758, 3219: 23.1195, 3499: 0.9092, 3621: 2.3128, 3639: 3.1518, 4730: 0.0057, 4902: 5.8839, 4962: 2.4659, 5606: 3.7208, 5611: 3.8871, 5627: 1.4846, 5629: 2.4372, 5772: 10.4135, 5880: 0.8474, 6260: 4.0077, 6318: 5.6963, 6322: 3.2655, 6455: 1.5717, 6728: 12.8142, 6986: 3.2771, 7185: 3.0442, 7331: 1.744, 7580: 5.3449, 7627: 6.9144, 7667: 3.1073, 7727: 2.554, 8057: 1.5872, 8172: 10.6531, 8175: 2.7722, 8185: 1.5159, 8226: 15.4489, 8301: 15.769, 8408: 4.3877, 8487: 3.0446, 8564: 2.9589, 8711: 5.5052, 8820: 1.8631, 8824: 5.6985, 9357: 3.4561, 9387: 1.3163, 9466: 10.8041, 9498: 14.4691, 9614: 2.531, 9740: 1.0706, 9766: 4.2905, 10144: 3.4411, 10260: 19.3503, 10353: 3.2818, 10470: 2.5449, 10497: 2.1335, 10509: 3.6435, 10710: 4.1465, 10767: 5.0712, 10837: 10.5127, 11048: 3.0331, 11084: 1.818, 11116: 6.1558, 11362: 3.1812, 11608: 2.5259, 11628: 19.0646, 12090: 3.8171, 12370: 2.7986, 12470: 1.9327, 12530: 1.701, 12532: 13.9963, 12553: 2.2708, 12620: 8.9327, 12736: 25.1574, 12758: 2.2265, 12956: 3.2748, 12960: 3.1293, 13034: 1.5329, 13719: 14.0685, 14014: 1.7676, 14321: 6.549, 14387: 5.0298, 14586: 5.4627, 14612: 1.4861, 14676: 3.3399, 14915: 8.2353, 14945: 11.6723, 15036: 4.6154, 15095: 13.9276, 15516: 2.7686, 15525: 2.2589, 15560: 0.8903, 15583: 2.4053, 15677: 7.9476, 15964: 2.6784, 16011: 1.2311, 16053: 2.964, 16104: 3.158, 16120: 3.6524, 16147: 1.208, 16437: 5.9987, 17060: 4.0109, 17231: 4.1864, 17271: 4.6065, 17561: 8.2819, 17593: 6.038, 17605: 0.3724, 17622: 4.863, 17656: 0.0, 17686: 6.936, 18222: 3.784, 18283: 4.1806, 18370: 2.8591, 18683: 5.9348, 18922: 5.1595, 19193: 18.7285, 19279: 7.9476, 19399: 2.3602, 19519: 2.6669, 19673: 10.446, 19757: 2.3821, 19964: 4.048, 20351: 2.4443, 20374: 25.0249, 20500: 3.4731, 20823: 3.3032, 21016: 13.467, 21037: 1.3074, 21063: 4.6611, 21669: 28.4815, 21752: 2.6017, 21837: 6.6016, 21935: 2.0267, 21983: 5.8075, 21999: 5.0103, 22009: 5.8075, 22032: 4.0712, 22089: 3.6235, 22094: 2.8929, 22102: 4.9901, 22172: 8.2353, 22362: 3.9552, 22474: 6.83, 22483: 4.9644, 22594: 3.954, 22615: 2.7963, 22623: 2.8693, 22626: 4.4139, 23084: 21.583, 23240: 0.9615, 23397: 0.0378, 23496: 4.3641, 23600: 2.6161, 23741: 4.4897, 23872: 1.1358, 23898: 5.2068, 23937: 2.9865, 24064: 6.275, 24082: 1.6528, 24083: 1.9707, 24206: 3.5287, 24242: 7.1563, 24379: 0.7477, 24470: 0.8615, 24688: 3.3226, 24781: 25.5176, 24808: 3.3755, 24809: 8.9245, 24842: 8.0217, 25089: 3.4096, 25111: 11.8654, 25209: 3.8786, 25343: 3.9403, 25714: 7.7571, 25772: 2.2446}),\n",
       " SparseVector(26000, {723: 4.8013, 801: 3.1073, 824: 1.6509, 1078: 3.6425, 1349: 2.6979, 1362: 2.3726, 1465: 4.3367, 1651: 1.7415, 1799: 8.9327, 1867: 6.3894, 1972: 2.0015, 2160: 1.7573, 2531: 11.1454, 2572: 11.9332, 3227: 5.1907, 3395: 2.9778, 3499: 1.8185, 4162: 2.932, 4174: 1.4407, 4433: 3.4204, 4486: 2.745, 4679: 3.3937, 4730: 0.0028, 4962: 2.4659, 4966: 6.936, 4981: 2.9221, 5294: 3.6675, 5425: 7.7148, 5627: 1.4846, 5713: 4.4511, 5880: 0.8474, 6260: 1.3359, 6637: 1.3848, 6646: 2.0167, 6728: 3.6612, 7012: 1.4783, 7234: 2.2355, 7342: 2.7218, 7807: 2.5326, 7938: 3.3858, 7976: 3.2448, 8057: 1.5872, 8297: 2.8585, 8308: 9.0594, 8342: 7.8445, 8476: 8.1949, 8487: 1.5223, 8532: 3.6814, 8564: 14.7943, 8822: 1.9549, 8935: 1.8213, 9164: 5.9666, 9183: 1.6981, 9304: 0.8509, 9331: 3.2889, 9387: 1.3163, 9421: 1.7896, 9574: 3.5973, 9709: 3.3008, 9877: 3.3858, 10024: 1.8467, 10031: 4.1521, 10260: 3.8701, 10802: 3.7694, 10858: 2.2281, 11048: 3.0331, 11136: 2.1155, 11792: 3.0185, 11819: 1.9193, 11893: 4.6334, 12125: 19.1683, 12157: 3.4395, 12234: 4.3232, 12370: 2.7986, 12375: 3.0878, 12447: 5.8681, 13332: 3.3806, 13442: 3.3349, 13519: 6.7689, 13709: 2.4901, 14018: 3.4846, 14075: 6.2428, 14165: 1.9989, 14321: 0.5457, 14325: 3.8326, 14676: 3.3399, 14972: 4.2905, 15093: 6.3382, 15112: 16.4512, 15242: 3.2889, 15495: 1.0618, 15534: 10.6171, 15612: 2.3317, 15909: 2.3445, 16011: 0.6155, 16056: 5.8681, 16319: 2.6221, 17041: 2.8341, 17380: 3.2336, 17605: 0.3724, 17645: 1.4403, 17656: 0.0, 18324: 5.4021, 18413: 4.7906, 18586: 3.6678, 18683: 2.9674, 18826: 5.9327, 18844: 15.769, 18916: 1.8544, 19009: 4.868, 19312: 5.9666, 19399: 2.3602, 19408: 4.1981, 19519: 2.6669, 19633: 4.5977, 19757: 9.5284, 20119: 2.79, 20905: 1.0657, 20941: 5.8075, 21016: 4.489, 21145: 4.4139, 21999: 1.0021, 22220: 18.758, 22247: 5.3161, 22318: 3.3325, 22362: 1.9776, 22386: 7.7571, 22483: 4.9644, 22615: 0.9321, 23208: 2.5073, 23290: 4.6425, 23360: 5.1595, 23397: 0.0378, 23600: 2.6161, 23614: 5.5316, 23872: 2.2716, 23948: 2.77, 24007: 7.5421, 24083: 2.956, 24093: 4.4286, 24379: 0.7477, 24470: 0.8615, 24534: 18.5952, 24657: 3.6136, 24781: 6.3794, 24809: 1.2749, 25748: 6.5873})]"
      ]
     },
     "execution_count": 520,
     "metadata": {},
     "output_type": "execute_result"
    }
   ],
   "source": [
    "hockey_vectors_f2"
   ]
  },
  {
   "cell_type": "markdown",
   "metadata": {},
   "source": [
    "### 使用TF-IDF模型 "
   ]
  },
  {
   "cell_type": "markdown",
   "metadata": {},
   "source": [
    "* TF-IDF向量基于“词出现”和“词-文档的紧密程度”，能够成为衡量相似度的标志。特定词和两个文档的紧密程度都很高，说明两个文档很相似  \n",
    "* 词-文档的紧密程度 ==> 总体出现的文档少并且文档中出现的次数多"
   ]
  },
  {
   "cell_type": "markdown",
   "metadata": {},
   "source": [
    "#### 1、20Newsgroups 数据集的文本相似度和TF-IDF特征"
   ]
  },
  {
   "cell_type": "code",
   "execution_count": 521,
   "metadata": {},
   "outputs": [
    {
     "data": {
      "text/plain": [
       "True"
      ]
     },
     "execution_count": 521,
     "metadata": {},
     "output_type": "execute_result"
    }
   ],
   "source": [
    "'ss' in 'assdrf'"
   ]
  },
  {
   "cell_type": "code",
   "execution_count": 522,
   "metadata": {},
   "outputs": [],
   "source": [
    "sparse_sample = Vectors.sparse(100, {1:234, 2:3242})"
   ]
  },
  {
   "cell_type": "code",
   "execution_count": 523,
   "metadata": {},
   "outputs": [
    {
     "data": {
      "text/plain": [
       "<bound method SparseVector.dot of SparseVector(100, {1: 234.0, 2: 3242.0})>"
      ]
     },
     "execution_count": 523,
     "metadata": {},
     "output_type": "execute_result"
    }
   ],
   "source": [
    "sparse_sample.dot"
   ]
  },
  {
   "cell_type": "code",
   "execution_count": 524,
   "metadata": {},
   "outputs": [],
   "source": [
    "def sin_sparser_vectors(A, B):\n",
    "    return A.dot(B)/(math.pow(A.dot(A), 0.5)*math.pow(B.dot(B), 0.5))"
   ]
  },
  {
   "cell_type": "code",
   "execution_count": 574,
   "metadata": {},
   "outputs": [],
   "source": [
    "hockey_vectors_f2 = tf_idf_ziped.filter(lambda x: 'hockey' in x[0]).map(lambda x:x[1]).take(2)"
   ]
  },
  {
   "cell_type": "code",
   "execution_count": 575,
   "metadata": {},
   "outputs": [],
   "source": [
    "graphics_vectors_f2 = tf_idf_ziped.filter(lambda x: 'comp.graphics' in x[0]).map(lambda x:x[1]).take(2)"
   ]
  },
  {
   "cell_type": "code",
   "execution_count": 576,
   "metadata": {},
   "outputs": [],
   "source": [
    "baseball_vectors_f2 = tf_idf_ziped.filter(lambda x: 'baseball' in x[0]).map(lambda x:x[1]).take(2)"
   ]
  },
  {
   "cell_type": "code",
   "execution_count": 577,
   "metadata": {},
   "outputs": [],
   "source": [
    "mideast_vectors_f2 = tf_idf_ziped.filter(lambda x: 'mideast' in x[0]).map(lambda x:x[1]).take(2)"
   ]
  },
  {
   "cell_type": "code",
   "execution_count": 578,
   "metadata": {},
   "outputs": [],
   "source": [
    "guns_vectors_f2 = tf_idf_ziped.filter(lambda x: 'guns' in x[0]).map(lambda x:x[1]).take(2)"
   ]
  },
  {
   "cell_type": "code",
   "execution_count": 579,
   "metadata": {},
   "outputs": [],
   "source": [
    "def _four_result(a, b, _func):\n",
    "    _list = [(i,i==1) for i in [0, 1]] + [(i,i==0) for i in [0, 1]]\n",
    "    return [_func(a[i], b[j]) for i, j in _list], np.mean([_func(a[i], b[j]) for i, j in _list])"
   ]
  },
  {
   "cell_type": "code",
   "execution_count": 580,
   "metadata": {},
   "outputs": [
    {
     "data": {
      "text/plain": [
       "([0.024869347842747889,\n",
       "  0.015500642203138706,\n",
       "  0.020516871539784143,\n",
       "  0.016427577609365054],\n",
       " 0.019328609798758948)"
      ]
     },
     "execution_count": 580,
     "metadata": {},
     "output_type": "execute_result"
    }
   ],
   "source": [
    "_four_result(hockey_vectors_f2, graphics_vectors_f2, sin_sparser_vectors)"
   ]
  },
  {
   "cell_type": "code",
   "execution_count": 581,
   "metadata": {},
   "outputs": [
    {
     "data": {
      "text/plain": [
       "([0.051320290941893644,\n",
       "  0.00043835791784942592,\n",
       "  0.062988578439905102,\n",
       "  0.0057253367655224555],\n",
       " 0.030118141016292656)"
      ]
     },
     "execution_count": 581,
     "metadata": {},
     "output_type": "execute_result"
    }
   ],
   "source": [
    "_four_result(hockey_vectors_f2, baseball_vectors_f2, sin_sparser_vectors)"
   ]
  },
  {
   "cell_type": "code",
   "execution_count": 533,
   "metadata": {},
   "outputs": [
    {
     "data": {
      "text/plain": [
       "([0.0069106511365626721,\n",
       "  7.6418629066606484e-07,\n",
       "  0.0079231986924085222,\n",
       "  0.00069995969467140633],\n",
       " 0.003883643427483317)"
      ]
     },
     "execution_count": 533,
     "metadata": {},
     "output_type": "execute_result"
    }
   ],
   "source": [
    "_four_result(graphics_vectors_f2, baseball_vectors_f2, sin_sparser_vectors)"
   ]
  },
  {
   "cell_type": "code",
   "execution_count": 534,
   "metadata": {},
   "outputs": [
    {
     "data": {
      "text/plain": [
       "([0.018187981784742898,\n",
       "  0.015197643387922392,\n",
       "  0.01646622077718006,\n",
       "  0.030017562728845454],\n",
       " 0.0199673521696727)"
      ]
     },
     "execution_count": 534,
     "metadata": {},
     "output_type": "execute_result"
    }
   ],
   "source": [
    "_four_result(graphics_vectors_f2, guns_vectors_f2, sin_sparser_vectors)"
   ]
  },
  {
   "cell_type": "code",
   "execution_count": 535,
   "metadata": {},
   "outputs": [
    {
     "data": {
      "text/plain": [
       "([1.0, 1.0000000000000002, 0.033874742476862063, 0.033874742476862063],\n",
       " 0.51693737123843109)"
      ]
     },
     "execution_count": 535,
     "metadata": {},
     "output_type": "execute_result"
    }
   ],
   "source": [
    "_four_result(baseball_vectors_f2, baseball_vectors_f2, sin_sparser_vectors)"
   ]
  },
  {
   "cell_type": "code",
   "execution_count": 537,
   "metadata": {},
   "outputs": [
    {
     "data": {
      "text/plain": [
       "([1.0000000000000002,\n",
       "  1.0000000000000002,\n",
       "  0.032947772601927335,\n",
       "  0.032947772601927335],\n",
       " 0.5164738863009638)"
      ]
     },
     "execution_count": 537,
     "metadata": {},
     "output_type": "execute_result"
    }
   ],
   "source": [
    "_four_result(hockey_vectors_f2, hockey_vectors_f2, sin_sparser_vectors)"
   ]
  },
  {
   "cell_type": "code",
   "execution_count": 536,
   "metadata": {},
   "outputs": [
    {
     "data": {
      "text/plain": [
       "([0.0010546136869315258,\n",
       "  0.047770096671491305,\n",
       "  0.0026129931185484268,\n",
       "  0.0053129163921758525],\n",
       " 0.014187654967286779)"
      ]
     },
     "execution_count": 536,
     "metadata": {},
     "output_type": "execute_result"
    }
   ],
   "source": [
    "_four_result(mideast_vectors_f2, baseball_vectors_f2, sin_sparser_vectors)"
   ]
  },
  {
   "cell_type": "code",
   "execution_count": 582,
   "metadata": {},
   "outputs": [
    {
     "data": {
      "text/plain": [
       "([0.011342715045459147,\n",
       "  0.024822413052300381,\n",
       "  0.0051595465832042714,\n",
       "  0.014634210379319449],\n",
       " 0.013989721265070813)"
      ]
     },
     "execution_count": 582,
     "metadata": {},
     "output_type": "execute_result"
    }
   ],
   "source": [
    "_four_result(mideast_vectors_f2, graphics_vectors_f2, sin_sparser_vectors)"
   ]
  },
  {
   "cell_type": "markdown",
   "metadata": {},
   "source": [
    "#### 2、基于20Newsgroups使用TF-IDF训练文本分类器"
   ]
  },
  {
   "cell_type": "code",
   "execution_count": 539,
   "metadata": {},
   "outputs": [],
   "source": [
    "regex_dot_sep = re.compile(r'[./]')"
   ]
  },
  {
   "cell_type": "code",
   "execution_count": 540,
   "metadata": {},
   "outputs": [
    {
     "data": {
      "text/plain": [
       "['asd', 'asd', 'dsas']"
      ]
     },
     "execution_count": 540,
     "metadata": {},
     "output_type": "execute_result"
    }
   ],
   "source": [
    "re.split(regex_dot_sep,  'asd/asd.dsas')"
   ]
  },
  {
   "cell_type": "code",
   "execution_count": 541,
   "metadata": {},
   "outputs": [],
   "source": [
    "topics_vectors = tf_idf_ziped.map(lambda x:(re.split(regex_dot_sep, x[0])[1], x[1]))"
   ]
  },
  {
   "cell_type": "code",
   "execution_count": 542,
   "metadata": {},
   "outputs": [
    {
     "data": {
      "text/plain": [
       "[('politics',\n",
       "  SparseVector(26000, {119: 12.5787, 165: 4.4976, 220: 3.5135, 237: 4.0356, 321: 2.6312, 466: 10.8437, 779: 8.5939, 783: 3.0648, 824: 3.3019, 1181: 42.2663, 1190: 1.2097, 1651: 1.7415, 1972: 2.0015, 2093: 3.0648, 2582: 4.7592, 3547: 3.1763, 3808: 3.0995, 3838: 3.3251, 4322: 1.3299, 4486: 2.745, 4714: 1.1745, 4730: 0.0057, 4773: 14.7759, 4871: 1.8535, 4962: 2.4659, 5118: 6.5007, 5627: 1.4846, 5846: 7.7316, 5880: 0.8474, 6176: 1.5756, 6639: 3.5079, 6646: 8.0667, 7449: 2.6089, 7451: 4.3851, 7593: 3.4285, 7667: 3.1073, 7709: 4.4511, 8065: 3.7318, 8175: 0.9241, 8297: 8.5754, 8390: 2.4251, 8549: 6.164, 8708: 2.6077, 8916: 4.1028, 8935: 1.8213, 8945: 8.7662, 9036: 1.4842, 9304: 2.1273, 9387: 0.6582, 9566: 2.8538, 9614: 3.7964, 9732: 3.982, 9860: 4.8341, 10024: 3.6934, 10064: 16.6491, 10399: 2.5315, 10447: 1.5841, 10575: 2.7165, 10585: 3.3963, 11050: 3.6038, 11151: 3.3755, 11190: 5.2105, 11292: 12.0761, 11486: 2.8898, 11529: 10.4791, 11559: 4.1465, 11676: 11.5007, 11792: 3.0185, 12008: 10.8309, 12126: 4.1028, 12282: 10.8506, 12370: 2.7986, 12449: 3.9045, 12530: 3.402, 12553: 2.2708, 12726: 17.2511, 13191: 3.5687, 13285: 2.5934, 13978: 15.4489, 14165: 1.9989, 14260: 3.2005, 14321: 1.0915, 14411: 5.4021, 14612: 1.4861, 14731: 3.2136, 15084: 0.9158, 15122: 8.3612, 15541: 7.1955, 15560: 0.8903, 15570: 3.8786, 15704: 5.3826, 15859: 5.959, 16011: 1.8466, 16147: 1.208, 16152: 4.0158, 16293: 6.6948, 16462: 4.6025, 16550: 2.4535, 16593: 8.7143, 16790: 2.2786, 17086: 2.0769, 17605: 0.7448, 17645: 1.4403, 17649: 1.6399, 17656: 0.0, 18370: 4.2886, 18424: 4.2713, 18577: 1.9751, 18835: 3.3499, 18916: 0.9272, 19220: 6.6949, 19399: 2.3602, 19507: 21.5306, 20027: 4.7388, 20666: 2.7491, 20738: 1.9847, 20905: 2.1313, 21064: 5.5497, 21336: 9.7825, 21382: 3.6955, 21547: 30.5485, 22253: 5.5727, 22470: 3.7732, 22485: 2.7327, 22512: 2.4838, 23112: 17.2664, 23168: 3.6202, 23240: 3.8459, 23247: 3.8701, 23397: 0.0378, 23438: 6.0758, 23614: 8.2974, 23872: 1.1358, 24045: 5.645, 24379: 0.7477, 24403: 1.0127, 24470: 0.8615, 24537: 3.1374, 24579: 1.6277, 24846: 5.1442, 25209: 3.8786, 25748: 9.8809, 25872: 4.436})),\n",
       " ('atheism',\n",
       "  SparseVector(26000, {736: 1.2571, 801: 3.1073, 880: 9.4866, 891: 3.1983, 916: 5.645, 1190: 1.2097, 1357: 13.5408, 1495: 4.9394, 1658: 2.4412, 1699: 7.1882, 1967: 16.3925, 2094: 6.8033, 2337: 2.5757, 2533: 3.9586, 2621: 7.8267, 3278: 3.6744, 3318: 4.6221, 3499: 0.9092, 3534: 3.7445, 3609: 7.388, 4322: 1.3299, 4730: 0.0028, 4878: 2.6443, 5294: 3.6675, 5411: 6.1558, 5425: 3.8574, 5503: 6.9981, 5604: 2.2314, 5825: 8.4198, 6090: 5.0032, 6312: 2.9139, 6352: 6.5613, 6674: 5.5497, 6837: 3.6779, 7051: 2.681, 7627: 2.3048, 7997: 3.4703, 8872: 2.8059, 9036: 5.9367, 9304: 0.4255, 9462: 5.5497, 9698: 2.7367, 9740: 1.0706, 9889: 5.0876, 10340: 2.3137, 11552: 6.038, 11880: 2.5654, 13001: 3.5593, 13010: 4.823, 13093: 4.1135, 13361: 15.9797, 13709: 2.4901, 14321: 4.9117, 14705: 10.2584, 14812: 7.388, 15084: 1.8317, 15098: 3.0743, 15202: 4.9272, 15240: 2.8147, 15485: 3.6884, 15495: 1.0618, 15560: 0.8903, 16336: 4.1806, 17019: 3.9403, 17086: 2.0769, 17475: 14.6386, 17485: 2.3613, 17605: 0.3724, 17622: 1.621, 17656: 0.0, 17794: 2.1982, 18245: 3.3449, 18370: 2.8591, 18435: 11.1924, 18916: 2.7815, 19083: 4.5299, 19089: 5.0813, 19298: 6.2894, 19399: 1.5735, 19546: 2.8709, 19672: 2.8447, 19783: 6.3369, 19883: 2.6356, 20083: 4.4897, 20195: 3.8164, 20541: 6.1558, 20905: 1.0657, 21208: 19.6839, 21790: 5.723, 21837: 3.3008, 23354: 9.5812, 23397: 0.0378, 23702: 4.3781, 23948: 2.77, 23950: 9.56, 24083: 0.9853, 24328: 5.9666, 24379: 0.7477, 24656: 5.0298, 24809: 1.2749, 24846: 5.1442, 25421: 9.0502, 25594: 2.9572, 25716: 3.1876, 25855: 4.1354})),\n",
       " ('autos',\n",
       "  SparseVector(26000, {840: 3.7966, 1047: 5.2908, 1815: 1.6952, 2019: 6.2894, 2074: 7.2206, 2365: 2.7111, 2440: 5.723, 2682: 5.1595, 2732: 5.2563, 3026: 6.1558, 3394: 5.3802, 3750: 5.5052, 4009: 2.6369, 4714: 1.1745, 4730: 0.0028, 4894: 2.7272, 5453: 2.1832, 5738: 3.2748, 6199: 2.6836, 6637: 1.3848, 6926: 5.4627, 7313: 2.2134, 7331: 1.744, 7863: 7.1367, 7905: 3.3349, 8029: 4.3034, 8272: 5.2563, 8408: 1.4626, 9064: 3.2158, 9206: 3.5287, 9304: 0.8509, 9780: 6.7689, 9911: 4.4066, 10056: 2.4701, 10233: 1.8891, 12203: 2.9204, 12656: 2.6708, 12758: 2.2265, 13740: 10.9254, 13884: 4.7388, 13896: 2.5654, 14260: 3.2005, 14321: 0.5457, 15382: 4.371, 15516: 2.7686, 15560: 0.8903, 15964: 2.6784, 16011: 0.6155, 16121: 5.1907, 16129: 10.9675, 16138: 3.6136, 16147: 1.208, 16217: 4.7592, 16507: 2.5248, 16764: 9.0928, 17342: 5.5727, 17569: 5.3636, 17605: 0.3724, 17640: 2.7313, 17656: 0.0, 17785: 3.1073, 18693: 4.5548, 19052: 6.0017, 19339: 5.8409, 19348: 3.9726, 19399: 0.7867, 19546: 2.8709, 19605: 4.823, 20351: 2.4443, 20775: 2.8929, 21999: 1.0021, 22079: 3.3729, 22323: 1.1566, 22463: 5.1144, 22615: 0.9321, 22789: 1.9706, 23397: 0.0378, 23877: 2.7929, 24064: 1.5687, 24403: 1.0127, 24454: 4.6992, 24772: 5.7448})),\n",
       " ('religion',\n",
       "  SparseVector(26000, {100: 2.0497, 526: 20.5469, 819: 3.623, 848: 1.8158, 1101: 6.7689, 1404: 5.5962, 1631: 1.5628, 1699: 7.1882, 2337: 0.8586, 3833: 2.7032, 3921: 2.78, 4730: 0.0028, 5529: 3.9448, 5604: 2.2314, 5629: 2.4372, 5793: 3.6268, 6349: 5.1442, 6637: 1.3848, 6646: 2.0167, 7225: 3.2701, 7434: 4.7089, 7736: 6.6258, 8214: 3.8045, 8403: 1.4795, 8820: 1.8631, 9093: 3.8786, 9304: 1.2764, 9698: 2.7367, 9987: 11.29, 10184: 4.204, 10431: 6.5007, 10470: 2.5449, 11812: 5.6703, 11852: 3.9448, 12194: 5.8999, 12547: 3.1293, 14174: 1.905, 14217: 2.6862, 14321: 0.5457, 15222: 3.2672, 15495: 1.0618, 15987: 4.2401, 16011: 0.6155, 17022: 4.265, 17030: 4.3232, 17041: 2.8341, 17605: 0.3724, 17656: 0.0, 17712: 7.0455, 18278: 12.0034, 18282: 2.1824, 18303: 2.0553, 18916: 0.9272, 19008: 2.8356, 19327: 1.9199, 19399: 0.7867, 20182: 3.4395, 21320: 2.7205, 21384: 4.234, 22512: 2.4838, 22850: 5.5272, 23240: 0.9615, 23397: 0.0378, 24619: 10.8841, 24809: 1.2749, 25325: 4.5136, 25848: 3.6814})),\n",
       " ('os',\n",
       "  SparseVector(26000, {218: 4.0306, 220: 1.7568, 1296: 5.9314, 1807: 10.6531, 1987: 4.2463, 2461: 5.0434, 2602: 4.2587, 2910: 2.1879, 3318: 1.1555, 3324: 6.038, 3534: 1.8722, 3571: 4.4897, 4174: 1.4407, 4730: 0.0028, 4902: 2.942, 5100: 1.6809, 5627: 1.4846, 6455: 1.5717, 6759: 19.8775, 6834: 4.284, 7260: 1.8973, 7449: 2.6089, 8175: 0.9241, 8351: 3.5227, 8601: 1.2999, 8820: 1.8631, 9304: 1.2764, 9614: 1.2655, 9961: 5.7504, 10144: 1.7206, 10416: 1.3015, 10447: 1.5841, 11959: 3.1601, 12336: 2.1335, 12475: 3.1436, 12755: 2.3888, 13019: 2.6669, 13279: 4.7489, 13300: 12.4732, 13432: 5.8681, 14058: 5.7785, 15245: 4.7893, 15428: 5.1595, 15485: 3.6884, 15560: 0.8903, 16138: 3.6136, 16619: 3.3153, 16977: 4.0012, 17287: 5.2394, 17605: 0.3724, 17652: 13.1226, 17656: 0.0, 17930: 3.9089, 18572: 4.3034, 18916: 1.8544, 19641: 5.6963, 19694: 3.0059, 20135: 5.8681, 20514: 4.8452, 21496: 4.0816, 21524: 6.1984, 22595: 3.5877, 22735: 5.175, 23397: 0.0378, 24347: 18.345, 24579: 1.6277, 25135: 3.3963, 25175: 3.0554})),\n",
       " ('sport',\n",
       "  SparseVector(26000, {1013: 7.2011, 2337: 0.8586, 2808: 5.2836, 4730: 0.0028, 5392: 3.6991, 6260: 1.3359, 7216: 4.4511, 7234: 2.2355, 8564: 2.9589, 9232: 2.4535, 9270: 6.2428, 9304: 0.8509, 9371: 3.1034, 10392: 2.5271, 11197: 10.0869, 11628: 4.7661, 12859: 2.0629, 13075: 6.4435, 13699: 4.7906, 15048: 6.1984, 15561: 9.8061, 16011: 0.6155, 16891: 5.3085, 16965: 5.5962, 17258: 10.6531, 17605: 0.3724, 17622: 1.621, 17656: 0.0, 18474: 5.5052, 19598: 11.615, 20482: 5.0164, 20738: 1.9847, 21646: 2.3492, 21935: 2.0267, 22362: 1.9776, 22388: 6.7201, 22561: 3.3056, 22615: 0.9321, 23372: 1.2727, 23397: 0.0378, 24379: 1.4955, 25689: 3.1173})),\n",
       " ('sport',\n",
       "  SparseVector(26000, {64: 5.8374, 100: 4.0995, 216: 10.5469, 220: 3.5135, 332: 5.72, 422: 3.1436, 440: 3.7617, 1078: 1.8213, 1127: 5.3636, 1262: 9.8061, 1631: 3.1256, 1815: 1.6952, 1903: 6.6257, 2093: 3.0648, 2283: 3.207, 2495: 13.872, 2722: 2.4392, 2808: 7.9254, 2910: 4.3758, 3219: 23.1195, 3499: 0.9092, 3621: 2.3128, 3639: 3.1518, 4730: 0.0057, 4902: 5.8839, 4962: 2.4659, 5606: 3.7208, 5611: 3.8871, 5627: 1.4846, 5629: 2.4372, 5772: 10.4135, 5880: 0.8474, 6260: 4.0077, 6318: 5.6963, 6322: 3.2655, 6455: 1.5717, 6728: 12.8142, 6986: 3.2771, 7185: 3.0442, 7331: 1.744, 7580: 5.3449, 7627: 6.9144, 7667: 3.1073, 7727: 2.554, 8057: 1.5872, 8172: 10.6531, 8175: 2.7722, 8185: 1.5159, 8226: 15.4489, 8301: 15.769, 8408: 4.3877, 8487: 3.0446, 8564: 2.9589, 8711: 5.5052, 8820: 1.8631, 8824: 5.6985, 9357: 3.4561, 9387: 1.3163, 9466: 10.8041, 9498: 14.4691, 9614: 2.531, 9740: 1.0706, 9766: 4.2905, 10144: 3.4411, 10260: 19.3503, 10353: 3.2818, 10470: 2.5449, 10497: 2.1335, 10509: 3.6435, 10710: 4.1465, 10767: 5.0712, 10837: 10.5127, 11048: 3.0331, 11084: 1.818, 11116: 6.1558, 11362: 3.1812, 11608: 2.5259, 11628: 19.0646, 12090: 3.8171, 12370: 2.7986, 12470: 1.9327, 12530: 1.701, 12532: 13.9963, 12553: 2.2708, 12620: 8.9327, 12736: 25.1574, 12758: 2.2265, 12956: 3.2748, 12960: 3.1293, 13034: 1.5329, 13719: 14.0685, 14014: 1.7676, 14321: 6.549, 14387: 5.0298, 14586: 5.4627, 14612: 1.4861, 14676: 3.3399, 14915: 8.2353, 14945: 11.6723, 15036: 4.6154, 15095: 13.9276, 15516: 2.7686, 15525: 2.2589, 15560: 0.8903, 15583: 2.4053, 15677: 7.9476, 15964: 2.6784, 16011: 1.2311, 16053: 2.964, 16104: 3.158, 16120: 3.6524, 16147: 1.208, 16437: 5.9987, 17060: 4.0109, 17231: 4.1864, 17271: 4.6065, 17561: 8.2819, 17593: 6.038, 17605: 0.3724, 17622: 4.863, 17656: 0.0, 17686: 6.936, 18222: 3.784, 18283: 4.1806, 18370: 2.8591, 18683: 5.9348, 18922: 5.1595, 19193: 18.7285, 19279: 7.9476, 19399: 2.3602, 19519: 2.6669, 19673: 10.446, 19757: 2.3821, 19964: 4.048, 20351: 2.4443, 20374: 25.0249, 20500: 3.4731, 20823: 3.3032, 21016: 13.467, 21037: 1.3074, 21063: 4.6611, 21669: 28.4815, 21752: 2.6017, 21837: 6.6016, 21935: 2.0267, 21983: 5.8075, 21999: 5.0103, 22009: 5.8075, 22032: 4.0712, 22089: 3.6235, 22094: 2.8929, 22102: 4.9901, 22172: 8.2353, 22362: 3.9552, 22474: 6.83, 22483: 4.9644, 22594: 3.954, 22615: 2.7963, 22623: 2.8693, 22626: 4.4139, 23084: 21.583, 23240: 0.9615, 23397: 0.0378, 23496: 4.3641, 23600: 2.6161, 23741: 4.4897, 23872: 1.1358, 23898: 5.2068, 23937: 2.9865, 24064: 6.275, 24082: 1.6528, 24083: 1.9707, 24206: 3.5287, 24242: 7.1563, 24379: 0.7477, 24470: 0.8615, 24688: 3.3226, 24781: 25.5176, 24808: 3.3755, 24809: 8.9245, 24842: 8.0217, 25089: 3.4096, 25111: 11.8654, 25209: 3.8786, 25343: 3.9403, 25714: 7.7571, 25772: 2.2446})),\n",
       " ('religion',\n",
       "  SparseVector(26000, {220: 1.7568, 275: 4.0869, 880: 2.3716, 1249: 4.2159, 2041: 4.1748, 3565: 3.9222, 4021: 2.2054, 4730: 0.0028, 5007: 4.2776, 6088: 2.5631, 6116: 5.0032, 6637: 1.3848, 7671: 3.4903, 7711: 5.4219, 8002: 6.6258, 8057: 1.5872, 8499: 4.9031, 8823: 3.9045, 9304: 0.4255, 9546: 5.433, 9740: 1.0706, 10006: 4.6154, 10302: 13.872, 12662: 5.4038, 12994: 2.8133, 13130: 2.1576, 13357: 4.6992, 14018: 3.4846, 14165: 1.9989, 14367: 3.0113, 14745: 2.756, 14968: 4.5977, 15495: 1.0618, 15560: 0.8903, 16051: 4.5632, 16248: 8.8871, 16437: 1.9996, 16442: 4.9272, 17009: 2.3299, 17034: 2.4732, 17605: 0.3724, 17622: 1.621, 17656: 0.0, 18282: 4.3648, 19278: 3.1133, 21016: 2.9927, 21935: 2.0267, 22953: 7.328, 23397: 0.0378, 23740: 3.9963, 24083: 0.9853, 24379: 0.7477, 24403: 1.0127, 25716: 3.1876, 25921: 5.1907})),\n",
       " ('space',\n",
       "  SparseVector(26000, {321: 5.2624, 590: 4.31, 629: 2.5677, 736: 1.2571, 819: 1.8115, 824: 3.3019, 1119: 4.7489, 1167: 3.024, 1190: 3.6292, 1523: 5.0712, 1525: 23.167, 1651: 1.7415, 1815: 1.6952, 1972: 4.003, 2084: 2.6862, 2093: 3.0648, 2097: 6.3382, 2337: 1.7171, 2365: 2.7111, 2517: 7.9476, 2652: 1.9618, 2654: 62.4284, 2688: 4.6334, 2888: 16.4705, 2997: 3.8005, 3134: 4.4511, 3184: 2.2717, 3318: 3.4666, 3319: 10.1144, 3373: 5.8999, 3394: 5.3802, 3483: 13.5379, 3499: 2.7277, 3534: 1.8722, 3621: 4.6256, 3838: 3.3251, 3870: 5.0998, 4032: 3.5845, 4059: 8.4438, 4115: 2.1364, 4174: 1.4407, 4379: 9.0762, 4450: 1.6309, 4471: 5.5052, 4686: 3.6268, 4708: 3.7579, 4714: 1.1745, 4730: 0.0028, 4769: 5.0572, 4788: 2.9123, 5007: 8.5553, 5100: 3.3617, 5179: 4.3367, 5406: 2.8492, 5793: 3.6268, 5828: 2.78, 5887: 18.4675, 5966: 4.1465, 6199: 2.6836, 6312: 2.9139, 6455: 1.5717, 6651: 21.0496, 6728: 1.8306, 6790: 2.8585, 7051: 5.362, 7260: 3.7945, 7262: 4.3034, 7313: 2.2134, 7450: 2.8866, 7786: 3.4123, 7858: 5.8999, 7873: 4.7906, 7905: 3.3349, 8057: 1.5872, 8185: 1.5159, 8208: 12.4857, 8308: 2.2649, 8390: 4.8503, 8403: 4.4385, 8601: 2.5998, 8664: 4.2219, 8935: 5.4638, 8945: 2.9221, 8971: 3.8616, 9043: 5.3085, 9173: 2.9336, 9215: 2.681, 9271: 3.194, 9304: 1.7018, 9360: 7.7244, 9740: 2.1411, 9849: 4.9888, 9918: 1.7853, 9939: 2.2134, 9957: 11.6748, 9983: 7.5421, 10056: 2.4701, 10144: 1.7206, 10233: 1.8891, 10447: 3.1683, 10497: 2.1335, 10635: 4.31, 10684: 7.4197, 11017: 4.4843, 11048: 3.0331, 11084: 3.636, 11148: 3.0897, 11241: 2.6682, 11597: 3.2448, 11880: 2.5654, 12090: 1.9085, 12159: 6.6948, 12172: 17.8654, 12266: 6.038, 12284: 8.9022, 12626: 4.0012, 12710: 2.34, 12829: 3.9679, 12859: 2.0629, 12974: 4.9901, 13017: 6.4435, 13487: 3.0024, 13875: 4.2099, 13962: 5.2908, 14018: 3.4846, 14094: 2.1305, 14162: 2.0003, 14165: 3.9978, 14321: 1.0915, 14507: 3.1354, 14576: 5.3085, 14743: 4.6992, 14875: 14.6285, 14921: 11.0994, 15084: 3.6634, 15222: 1.6336, 15274: 5.7016, 15560: 0.8903, 15599: 4.3367, 15612: 2.3317, 15667: 6.7689, 15681: 16.7224, 15909: 2.3445, 15929: 4.3355, 16007: 5.3418, 16011: 1.2311, 16055: 2.27, 16080: 3.8743, 16120: 1.8262, 16123: 15.8952, 16185: 7.5421, 16433: 4.1691, 16462: 2.3013, 16672: 11.3406, 16695: 3.7244, 17208: 13.3597, 17236: 5.5962, 17303: 3.1643, 17560: 5.6703, 17605: 0.3724, 17622: 1.621, 17625: 1.8908, 17649: 3.2799, 17656: 0.0, 17785: 3.1073, 17909: 2.9935, 17963: 2.3688, 18370: 2.8591, 18406: 8.0023, 18466: 5.645, 18470: 2.6344, 18530: 4.6154, 18586: 1.8339, 18740: 4.066, 18877: 3.5287, 18916: 0.9272, 18959: 5.645, 19089: 3.3875, 19133: 3.8367, 19339: 2.9204, 19399: 0.7867, 19473: 4.8341, 19539: 2.6053, 19563: 7.1367, 20027: 4.7388, 20315: 5.8681, 20351: 2.4443, 20407: 4.7113, 20535: 2.5063, 20863: 4.3299, 20905: 1.0657, 21037: 2.6148, 21064: 5.5497, 21102: 3.7694, 21156: 3.2471, 21266: 19.479, 21499: 6.936, 21589: 5.3826, 21643: 3.6779, 21891: 6.9749, 21937: 3.9586, 21954: 6.5007, 21999: 1.0021, 22110: 4.5803, 22149: 3.0667, 22275: 3.7732, 22362: 1.9776, 22485: 8.198, 22530: 3.4991, 22615: 0.9321, 22676: 5.2395, 22876: 107.7486, 22978: 4.3367, 23240: 4.8074, 23397: 0.0378, 23600: 2.6161, 23702: 4.3781, 23909: 5.7785, 23965: 6.2428, 24064: 3.1375, 24082: 3.3056, 24083: 1.9707, 24379: 1.4955, 24403: 3.0381, 24451: 2.6344, 24554: 2.173, 24810: 3.7281, 25017: 6.3382, 25069: 5.3636, 25219: 3.2562, 25557: 5.3449, 25578: 12.6763, 25829: 2.9623, 25832: 2.8296})),\n",
       " ('politics',\n",
       "  SparseVector(26000, {412: 5.0854, 848: 1.8158, 1452: 1.743, 1815: 1.6952, 1972: 2.0015, 3197: 8.7711, 3318: 1.1555, 3499: 0.9092, 4022: 5.4219, 4714: 1.1745, 4730: 0.0028, 5250: 3.1559, 5304: 5.2563, 5627: 1.4846, 5707: 4.3781, 5838: 5.723, 5880: 0.8474, 6055: 2.8432, 6109: 6.849, 6329: 4.4511, 6875: 3.0878, 7082: 4.436, 7627: 2.3048, 8848: 14.2733, 9093: 3.8786, 9387: 0.6582, 9619: 6.6258, 9842: 5.5497, 10079: 4.9519, 10177: 5.2129, 10873: 6.5613, 11120: 5.0434, 11241: 2.6682, 12143: 24.1704, 12308: 4.0712, 12571: 7.2544, 13041: 20.808, 13332: 3.3806, 13481: 3.5287, 13894: 4.7089, 14018: 3.4846, 14217: 2.6862, 14998: 4.4741, 15495: 2.1236, 16011: 1.2311, 16028: 2.03, 16248: 4.4435, 16654: 3.3703, 17380: 3.2336, 17605: 0.3724, 17656: 0.0, 17745: 4.6992, 18683: 2.9674, 18916: 1.8544, 19327: 1.9199, 19399: 0.7867, 19546: 2.8709, 19672: 2.8447, 19757: 2.3821, 20054: 24.0064, 20667: 4.0816, 20946: 7.0313, 20985: 3.3703, 21016: 1.4963, 21037: 1.3074, 21127: 4.371, 22223: 4.1634, 22323: 1.1566, 22615: 0.9321, 22623: 2.8693, 22861: 2.874, 23095: 1.6967, 23150: 6.6948, 23397: 0.0378, 23977: 2.4711, 24470: 0.8615, 24539: 2.1062, 25034: 7.388}))]"
      ]
     },
     "execution_count": 542,
     "metadata": {},
     "output_type": "execute_result"
    }
   ],
   "source": [
    "topics_vectors.take(10)"
   ]
  },
  {
   "cell_type": "code",
   "execution_count": 543,
   "metadata": {},
   "outputs": [
    {
     "data": {
      "text/plain": [
       "['talk.politics.misc/178957',\n",
       " 'alt.atheism/53199',\n",
       " 'talk.politics.misc/176973',\n",
       " 'talk.politics.misc/178320',\n",
       " 'soc.religion.christian/20740',\n",
       " 'comp.os.ms-windows.misc/9654',\n",
       " 'sci.space/61128',\n",
       " 'rec.sport.hockey/53555',\n",
       " 'soc.religion.christian/20975',\n",
       " 'comp.sys.mac.hardware/51637',\n",
       " 'talk.politics.mideast/76277',\n",
       " 'sci.space/61134',\n",
       " 'talk.politics.misc/178464',\n",
       " 'rec.autos/101592',\n",
       " 'comp.os.ms-windows.misc/9828',\n",
       " 'sci.space/60985',\n",
       " 'comp.graphics/38694',\n",
       " 'talk.politics.guns/54316',\n",
       " 'sci.space/60188',\n",
       " 'comp.windows.x/67111',\n",
       " 'rec.sport.baseball/104577',\n",
       " 'alt.atheism/53660',\n",
       " 'comp.windows.x/67374',\n",
       " 'rec.sport.hockey/53529',\n",
       " 'soc.religion.christian/20502',\n",
       " 'sci.med/58769',\n",
       " 'sci.electronics/53529',\n",
       " 'rec.sport.hockey/53540',\n",
       " 'sci.crypt/15402',\n",
       " 'rec.motorcycles/103198',\n",
       " 'sci.electronics/53636',\n",
       " 'sci.crypt/15707',\n",
       " 'comp.windows.x/67306',\n",
       " 'rec.motorcycles/104669',\n",
       " 'talk.politics.mideast/76183',\n",
       " 'rec.sport.baseball/104928',\n",
       " 'sci.space/60847',\n",
       " 'sci.crypt/15397',\n",
       " 'sci.space/60952',\n",
       " 'sci.med/58897',\n",
       " 'comp.graphics/38391',\n",
       " 'sci.med/59020',\n",
       " 'rec.motorcycles/104304',\n",
       " 'rec.motorcycles/104947',\n",
       " 'talk.politics.mideast/76242',\n",
       " 'misc.forsale/76317',\n",
       " 'sci.electronics/53595',\n",
       " 'comp.sys.mac.hardware/51499',\n",
       " 'comp.sys.mac.hardware/51923',\n",
       " 'comp.graphics/38325',\n",
       " 'comp.os.ms-windows.misc/9973',\n",
       " 'talk.politics.guns/54654',\n",
       " 'alt.atheism/53096',\n",
       " 'sci.space/61028',\n",
       " 'comp.os.ms-windows.misc/9772',\n",
       " 'talk.politics.guns/54397',\n",
       " 'comp.sys.ibm.pc.hardware/60561',\n",
       " 'rec.motorcycles/104416',\n",
       " 'soc.religion.christian/20872',\n",
       " 'rec.autos/101576',\n",
       " 'rec.sport.hockey/53909',\n",
       " 'rec.sport.hockey/53558',\n",
       " 'alt.atheism/53574',\n",
       " 'talk.politics.misc/176852',\n",
       " 'rec.autos/102895',\n",
       " 'talk.politics.guns/54496',\n",
       " 'sci.space/60789',\n",
       " 'rec.autos/102844',\n",
       " 'comp.graphics/38741',\n",
       " 'talk.religion.misc/83444',\n",
       " 'rec.sport.baseball/102595',\n",
       " 'comp.sys.ibm.pc.hardware/60229',\n",
       " 'talk.religion.misc/83609',\n",
       " 'rec.autos/102857',\n",
       " 'sci.electronics/53756',\n",
       " 'talk.politics.guns/54156',\n",
       " 'sci.space/61232',\n",
       " 'comp.sys.mac.hardware/51834',\n",
       " 'comp.os.ms-windows.misc/9998',\n",
       " 'comp.sys.mac.hardware/51662',\n",
       " 'rec.motorcycles/104536',\n",
       " 'comp.graphics/38223',\n",
       " 'sci.space/60961',\n",
       " 'rec.sport.baseball/102683',\n",
       " 'sci.electronics/52750',\n",
       " 'sci.space/61027',\n",
       " 'comp.windows.x/67061',\n",
       " 'rec.sport.hockey/52651',\n",
       " 'comp.graphics/38289',\n",
       " 'comp.sys.ibm.pc.hardware/60766',\n",
       " 'talk.politics.mideast/76272',\n",
       " 'rec.motorcycles/104345',\n",
       " 'sci.electronics/52764',\n",
       " 'talk.politics.guns/54400',\n",
       " 'comp.sys.ibm.pc.hardware/60265',\n",
       " 'talk.politics.guns/54123',\n",
       " 'talk.politics.mideast/76351',\n",
       " 'sci.med/58888',\n",
       " 'rec.motorcycles/104459',\n",
       " 'sci.crypt/15371']"
      ]
     },
     "execution_count": 543,
     "metadata": {},
     "output_type": "execute_result"
    }
   ],
   "source": [
    "tf_idf_ziped.map(lambda x:x[0]).take(100)"
   ]
  },
  {
   "cell_type": "markdown",
   "metadata": {},
   "source": [
    "##### 给类编号 "
   ]
  },
  {
   "cell_type": "code",
   "execution_count": 544,
   "metadata": {},
   "outputs": [],
   "source": [
    "topics_20 = topics_vectors.map(lambda x:x[0]).distinct().take(40)"
   ]
  },
  {
   "cell_type": "code",
   "execution_count": 545,
   "metadata": {},
   "outputs": [
    {
     "data": {
      "text/plain": [
       "{'atheism': 7,\n",
       " 'autos': 11,\n",
       " 'crypt': 0,\n",
       " 'electronics': 10,\n",
       " 'forsale': 5,\n",
       " 'graphics': 9,\n",
       " 'med': 6,\n",
       " 'motorcycles': 8,\n",
       " 'os': 3,\n",
       " 'politics': 4,\n",
       " 'religion': 2,\n",
       " 'space': 1,\n",
       " 'sport': 12,\n",
       " 'sys': 14,\n",
       " 'windows': 13}"
      ]
     },
     "execution_count": 545,
     "metadata": {},
     "output_type": "execute_result"
    }
   ],
   "source": [
    "topics_20_dict = {j:i for i, j in enumerate(topics_20)}\n",
    "topics_20_dict"
   ]
  },
  {
   "cell_type": "code",
   "execution_count": 546,
   "metadata": {},
   "outputs": [],
   "source": [
    "train_data = topics_vectors.map(lambda x:LabeledPoint( topics_20_dict.get(x[0]), x[1]))"
   ]
  },
  {
   "cell_type": "code",
   "execution_count": 547,
   "metadata": {},
   "outputs": [],
   "source": [
    "train_data.cache()\n",
    "train_data.checkpoint()"
   ]
  },
  {
   "cell_type": "code",
   "execution_count": 548,
   "metadata": {},
   "outputs": [],
   "source": [
    "NaiveBayesModel = NaiveBayes.train(train_data, lambda_=0.1)"
   ]
  },
  {
   "cell_type": "markdown",
   "metadata": {},
   "source": [
    "##### 载入测试文件 "
   ]
  },
  {
   "cell_type": "code",
   "execution_count": 549,
   "metadata": {},
   "outputs": [],
   "source": [
    "newsgroups_test = sc.wholeTextFiles('file:///home/zh/Spark_ML_Experiment/20news-bydate/20news-bydate-test/*')"
   ]
  },
  {
   "cell_type": "code",
   "execution_count": 550,
   "metadata": {},
   "outputs": [],
   "source": [
    "tf_test = newsgroups_test.map(\n",
    "    lambda x:(x[0].split('/')[-2:], x[1])\n",
    "    ).flatMapValues(\n",
    "    lambda x:re.split(non_word_space, x)\n",
    "    ).mapValues(\n",
    "    lambda x:x.lower()\n",
    "    ).filter(\n",
    "    lambda x:contain_numeric.fullmatch(x[1])\n",
    "    ).map(\n",
    "    lambda x:(x[0], stemmer.stem(x[1]))\n",
    "    ).filter(\n",
    "    lambda x:x[1] not in stop_words\n",
    "    ).filter(\n",
    "    lambda x:len(x[1])>=2 \n",
    "    ).mapValues(\n",
    "    lambda x:(x, bareWords_dict.get(x, 0) )\n",
    "    ).filter(\n",
    "    lambda x:x[1][1]==0\n",
    "    ).mapValues(\n",
    "    lambda x:x[0]\n",
    "    ).map(\n",
    "    lambda x:(x[0][0]+'/'+x[0][1], x[1])\n",
    "    ).aggregateByKey(\n",
    "    [],lambda x, y:x_append(x, y), lambda x, y:x+y\n",
    "    ).map(\n",
    "    lambda x:(x[0], hashingTF.transform(x[1]))\n",
    "    )"
   ]
  },
  {
   "cell_type": "code",
   "execution_count": 551,
   "metadata": {},
   "outputs": [],
   "source": [
    "tf_test.cache()\n",
    "tf_test.checkpoint()"
   ]
  },
  {
   "cell_type": "code",
   "execution_count": 552,
   "metadata": {},
   "outputs": [
    {
     "data": {
      "text/plain": [
       "[('sci.med/59506',\n",
       "  SparseVector(26000, {204: 1.0, 1672: 1.0, 1967: 1.0, 2539: 1.0, 4730: 1.0, 5117: 1.0, 5880: 1.0, 6488: 1.0, 7439: 1.0, 7664: 1.0, 9281: 1.0, 9304: 1.0, 9387: 1.0, 10019: 1.0, 10056: 1.0, 10600: 1.0, 11986: 1.0, 13729: 1.0, 13934: 2.0, 15560: 1.0, 17649: 1.0, 17656: 1.0, 22590: 1.0, 23397: 1.0, 23460: 1.0, 24470: 1.0}))]"
      ]
     },
     "execution_count": 552,
     "metadata": {},
     "output_type": "execute_result"
    }
   ],
   "source": [
    "tf_test.take(1)"
   ]
  },
  {
   "cell_type": "code",
   "execution_count": 553,
   "metadata": {},
   "outputs": [
    {
     "data": {
      "text/plain": [
       "7532"
      ]
     },
     "execution_count": 553,
     "metadata": {},
     "output_type": "execute_result"
    }
   ],
   "source": [
    "tf_test.count()"
   ]
  },
  {
   "cell_type": "code",
   "execution_count": 554,
   "metadata": {},
   "outputs": [],
   "source": [
    "idf_test = IDF().fit(tf_test.map(lambda x:x[1]))"
   ]
  },
  {
   "cell_type": "code",
   "execution_count": 555,
   "metadata": {},
   "outputs": [],
   "source": [
    "tf_test_fields = tf_test.map(lambda x:x[0])"
   ]
  },
  {
   "cell_type": "code",
   "execution_count": 556,
   "metadata": {},
   "outputs": [],
   "source": [
    "tf_test_transformed = idf_test.transform(tf_test.map(lambda x:x[1]))"
   ]
  },
  {
   "cell_type": "code",
   "execution_count": 557,
   "metadata": {},
   "outputs": [],
   "source": [
    "tf_idf_ziped_test = tf_test_fields.zip(tf_test_transformed)  "
   ]
  },
  {
   "cell_type": "code",
   "execution_count": 558,
   "metadata": {},
   "outputs": [],
   "source": [
    "test_ = tf_idf_ziped_test.map(\n",
    "    lambda x:(re.split(regex_dot_sep, x[0])[1], x[1])\n",
    "    ).map(\n",
    "    lambda x:LabeledPoint( topics_20_dict.get(x[0]), x[1])\n",
    "    )"
   ]
  },
  {
   "cell_type": "code",
   "execution_count": 559,
   "metadata": {},
   "outputs": [
    {
     "data": {
      "text/plain": [
       "[LabeledPoint(6.0, (26000,[204,1672,1967,2539,4730,5117,5880,6488,7439,7664,9281,9304,9387,10019,10056,10600,11986,13729,13934,15560,17649,17656,22590,23397,23460,24470],[5.74899481748,7.1352891786,2.49571756589,7.31761073539,0.00239234563862,4.91971546259,0.820534131571,4.19966082911,4.27308829767,4.70754094265,8.23390146727,0.405066939678,0.652946645533,3.40558772996,2.47185008449,4.26360955371,3.67477521978,3.174476009,15.6568727183,0.876664194759,1.65604010954,0.0,7.54075428671,0.0366380958514,6.21899844672,0.831145114865]))]"
      ]
     },
     "execution_count": 559,
     "metadata": {},
     "output_type": "execute_result"
    }
   ],
   "source": [
    "test_.take(1)"
   ]
  },
  {
   "cell_type": "code",
   "execution_count": 560,
   "metadata": {},
   "outputs": [],
   "source": [
    "test_label = test_.map(lambda x:x.label)\n",
    "test_features = test_.map(lambda x:x.features)"
   ]
  },
  {
   "cell_type": "code",
   "execution_count": 561,
   "metadata": {},
   "outputs": [],
   "source": [
    "predict = NaiveBayesModel.predict(test_features)"
   ]
  },
  {
   "cell_type": "code",
   "execution_count": 562,
   "metadata": {},
   "outputs": [
    {
     "data": {
      "text/plain": [
       "7532"
      ]
     },
     "execution_count": 562,
     "metadata": {},
     "output_type": "execute_result"
    }
   ],
   "source": [
    "predict.count()"
   ]
  },
  {
   "cell_type": "code",
   "execution_count": 563,
   "metadata": {},
   "outputs": [],
   "source": [
    "predict_label_zip = predict.zip(test_label).map(lambda x:(float(x[0]), float(x[1])))"
   ]
  },
  {
   "cell_type": "code",
   "execution_count": 569,
   "metadata": {},
   "outputs": [
    {
     "data": {
      "text/plain": [
       "[(6.0, 6.0),\n",
       " (2.0, 2.0),\n",
       " (1.0, 1.0),\n",
       " (12.0, 12.0),\n",
       " (4.0, 4.0),\n",
       " (14.0, 5.0),\n",
       " (6.0, 6.0),\n",
       " (14.0, 14.0),\n",
       " (14.0, 3.0),\n",
       " (4.0, 2.0)]"
      ]
     },
     "execution_count": 569,
     "metadata": {},
     "output_type": "execute_result"
    }
   ],
   "source": [
    "predict_label_zip.take(10)"
   ]
  },
  {
   "cell_type": "code",
   "execution_count": 565,
   "metadata": {},
   "outputs": [],
   "source": [
    "MultiClassiEva =  MulticlassMetrics(predict_label_zip)"
   ]
  },
  {
   "cell_type": "code",
   "execution_count": 566,
   "metadata": {},
   "outputs": [
    {
     "data": {
      "text/plain": [
       "0.7866436537440255"
      ]
     },
     "execution_count": 566,
     "metadata": {},
     "output_type": "execute_result"
    }
   ],
   "source": [
    "MultiClassiEva.accuracy"
   ]
  },
  {
   "cell_type": "code",
   "execution_count": 567,
   "metadata": {},
   "outputs": [
    {
     "data": {
      "text/plain": [
       "0.7743397989051573"
      ]
     },
     "execution_count": 567,
     "metadata": {},
     "output_type": "execute_result"
    }
   ],
   "source": [
    "MultiClassiEva.weightedFMeasure()"
   ]
  },
  {
   "cell_type": "markdown",
   "metadata": {},
   "source": [
    "* 以上两个数值比书中的略少，可能原因是采用了stemming。"
   ]
  },
  {
   "cell_type": "markdown",
   "metadata": {},
   "source": [
    "### Word2Vec模型"
   ]
  },
  {
   "cell_type": "markdown",
   "metadata": {},
   "source": [
    "#### 1、基于20Newsgroups数据集训练Word2Vec "
   ]
  },
  {
   "cell_type": "code",
   "execution_count": 589,
   "metadata": {},
   "outputs": [],
   "source": [
    "labels = wordsByArticles_rm_lowfrequency_aggregate.map(lambda x:x[0])\n",
    "\n",
    "docs = wordsByArticles_rm_lowfrequency_aggregate.map(lambda x:x[1])"
   ]
  },
  {
   "cell_type": "code",
   "execution_count": 590,
   "metadata": {},
   "outputs": [
    {
     "data": {
      "text/plain": [
       "[['muellerm',\n",
       "  'vuse',\n",
       "  'vanderbilt',\n",
       "  'edu',\n",
       "  'marc',\n",
       "  'mueller',\n",
       "  'subject',\n",
       "  're',\n",
       "  'pork',\n",
       "  're',\n",
       "  'abolish',\n",
       "  'select',\n",
       "  'servic',\n",
       "  'nntp',\n",
       "  'post',\n",
       "  'host',\n",
       "  'organ',\n",
       "  'vanderbilt',\n",
       "  'univers',\n",
       "  'school',\n",
       "  'engin',\n",
       "  'nashvill',\n",
       "  'tn',\n",
       "  'usa',\n",
       "  'line',\n",
       "  'articl',\n",
       "  'ra',\n",
       "  'msstate',\n",
       "  'edu',\n",
       "  'ra',\n",
       "  'msstate',\n",
       "  'edu',\n",
       "  'fletcher',\n",
       "  'adam',\n",
       "  'write',\n",
       "  'muellerm',\n",
       "  'vuse',\n",
       "  'vanderbilt',\n",
       "  'edu',\n",
       "  'marc',\n",
       "  'mueller',\n",
       "  'write',\n",
       "  'trumpet',\n",
       "  'cc',\n",
       "  'msstate',\n",
       "  'edu',\n",
       "  'fletcher',\n",
       "  'adam',\n",
       "  'write',\n",
       "  'elimin',\n",
       "  'transport',\n",
       "  'wrong',\n",
       "  'we',\n",
       "  'need',\n",
       "  'capabl',\n",
       "  'sure',\n",
       "  'has',\n",
       "  'problem',\n",
       "  'you',\n",
       "  'read',\n",
       "  'aviat',\n",
       "  'week',\n",
       "  'line',\n",
       "  'can',\n",
       "  'reopen',\n",
       "  'would',\n",
       "  'deliv',\n",
       "  'year',\n",
       "  'earlier',\n",
       "  'cost',\n",
       "  'billion',\n",
       "  'less',\n",
       "  'program',\n",
       "  'polit',\n",
       "  'though',\n",
       "  'popular',\n",
       "  'pork',\n",
       "  'do',\n",
       "  'read',\n",
       "  'av',\n",
       "  'week',\n",
       "  'don',\n",
       "  'rememb',\n",
       "  'could',\n",
       "  'you',\n",
       "  'suppli',\n",
       "  'date',\n",
       "  'magazin',\n",
       "  'aviat',\n",
       "  'week',\n",
       "  'march',\n",
       "  'cbo',\n",
       "  'estim',\n",
       "  'match',\n",
       "  'capabl',\n",
       "  'would',\n",
       "  'requir',\n",
       "  'total',\n",
       "  'cost',\n",
       "  'billion',\n",
       "  'option',\n",
       "  'still',\n",
       "  'more',\n",
       "  'than',\n",
       "  'billion',\n",
       "  'cheaper',\n",
       "  'than',\n",
       "  'complet',\n",
       "  'program',\n",
       "  'which',\n",
       "  'cbo',\n",
       "  'estim',\n",
       "  'will',\n",
       "  'cost',\n",
       "  'billion',\n",
       "  'sorri',\n",
       "  'nine',\n",
       "  'billion',\n",
       "  'off',\n",
       "  'would',\n",
       "  'ten',\n",
       "  'billion',\n",
       "  'cheaper',\n",
       "  'vs',\n",
       "  'can',\n",
       "  'carri',\n",
       "  'much',\n",
       "  'has',\n",
       "  'more',\n",
       "  'capabl',\n",
       "  'read',\n",
       "  'can',\n",
       "  'land',\n",
       "  'smaller',\n",
       "  'airfield',\n",
       "  'which',\n",
       "  'there',\n",
       "  'more',\n",
       "  'than',\n",
       "  'now',\n",
       "  'pork',\n",
       "  'depend',\n",
       "  'whether',\n",
       "  'your',\n",
       "  'job',\n",
       "  'reli',\n",
       "  'california',\n",
       "  'right',\n",
       "  'now',\n",
       "  'would',\n",
       "  'say',\n",
       "  'pork',\n",
       "  'sinc',\n",
       "  'due',\n",
       "  'peac',\n",
       "  'dividend',\n",
       "  'so',\n",
       "  'mani',\n",
       "  'peopl',\n",
       "  'out',\n",
       "  'work',\n",
       "  'well',\n",
       "  'california',\n",
       "  'vote',\n",
       "  'overwhelm',\n",
       "  'chang',\n",
       "  'right',\n",
       "  'argument',\n",
       "  'continu',\n",
       "  'militari',\n",
       "  'program',\n",
       "  'just',\n",
       "  'support',\n",
       "  'job',\n",
       "  'poor',\n",
       "  'one',\n",
       "  'kept',\n",
       "  'quit',\n",
       "  'few',\n",
       "  'base',\n",
       "  'open',\n",
       "  'should',\n",
       "  'been',\n",
       "  'close',\n",
       "  'year',\n",
       "  'ago',\n",
       "  'wast',\n",
       "  'billion',\n",
       "  'tax',\n",
       "  'question',\n",
       "  'whether',\n",
       "  'les',\n",
       "  'aspin',\n",
       "  'clinton',\n",
       "  'will',\n",
       "  'abl',\n",
       "  'face',\n",
       "  'down',\n",
       "  'pork',\n",
       "  'happi',\n",
       "  'congress',\n",
       "  'marc',\n",
       "  'mueller',\n",
       "  'huh',\n",
       "  'shouldn',\n",
       "  'read',\n",
       "  'question',\n",
       "  'whether',\n",
       "  'social',\n",
       "  'pork',\n",
       "  'happi',\n",
       "  'les',\n",
       "  'aspin',\n",
       "  'clinton',\n",
       "  'will',\n",
       "  'abl',\n",
       "  'face',\n",
       "  'down',\n",
       "  'job',\n",
       "  'pork',\n",
       "  'happi',\n",
       "  'congress',\n",
       "  'fpa',\n",
       "  'marc',\n",
       "  'mueller']]"
      ]
     },
     "execution_count": 590,
     "metadata": {},
     "output_type": "execute_result"
    }
   ],
   "source": [
    "docs.take(1)"
   ]
  },
  {
   "cell_type": "code",
   "execution_count": 591,
   "metadata": {},
   "outputs": [],
   "source": [
    "Word2VecModel = Word2Vec().fit(docs)"
   ]
  },
  {
   "cell_type": "code",
   "execution_count": 595,
   "metadata": {},
   "outputs": [],
   "source": [
    "# Word2VecModel.findSynonyms('Word2VecModel', 20) 报错"
   ]
  },
  {
   "cell_type": "code",
   "execution_count": 597,
   "metadata": {},
   "outputs": [
    {
     "data": {
      "text/plain": [
       "[('playoff', 0.74765855073928833),\n",
       " ('team', 0.74734270572662354),\n",
       " ('leagu', 0.738808274269104),\n",
       " ('nhl', 0.72746217250823975),\n",
       " ('basebal', 0.71577584743499756),\n",
       " ('espn', 0.70459455251693726),\n",
       " ('player', 0.70285177230834961),\n",
       " ('play', 0.69389545917510986),\n",
       " ('coach', 0.69043582677841187),\n",
       " ('ncaa', 0.68854153156280518),\n",
       " ('roster', 0.68808853626251221),\n",
       " ('tournament', 0.68377602100372314),\n",
       " ('finnish', 0.67263495922088623),\n",
       " ('fan', 0.66924643516540527),\n",
       " ('brave', 0.66703492403030396),\n",
       " ('yanke', 0.66160780191421509),\n",
       " ('award', 0.66098582744598389),\n",
       " ('canadien', 0.65468335151672363),\n",
       " ('montreal', 0.65365475416183472),\n",
       " ('season', 0.65193116664886475)]"
      ]
     },
     "execution_count": 597,
     "metadata": {},
     "output_type": "execute_result"
    }
   ],
   "source": [
    "list(Word2VecModel.findSynonyms('hockey', 20) )"
   ]
  },
  {
   "cell_type": "code",
   "execution_count": 601,
   "metadata": {},
   "outputs": [
    {
     "data": {
      "text/plain": [
       "[('enact', 0.77955901622772217),\n",
       " ('subcommitte', 0.76623046398162842),\n",
       " ('feder', 0.75973087549209595),\n",
       " ('mandatori', 0.75446760654449463),\n",
       " ('chafe', 0.74882221221923828),\n",
       " ('manslaught', 0.74765241146087646),\n",
       " ('ownership', 0.74207735061645508),\n",
       " ('semiautomat', 0.73753988742828369),\n",
       " ('discretionari', 0.7356451153755188),\n",
       " ('banker', 0.73050183057785034),\n",
       " ('prohibit', 0.72958952188491821),\n",
       " ('repeal', 0.72452002763748169),\n",
       " ('endors', 0.72298043966293335),\n",
       " ('moynihan', 0.71978044509887695),\n",
       " ('conduct', 0.71869361400604248),\n",
       " ('pursuant', 0.71502089500427246),\n",
       " ('bradi', 0.71234768629074097),\n",
       " ('commiss', 0.70534729957580566),\n",
       " ('deleg', 0.70498549938201904),\n",
       " ('surveil', 0.70306593179702759)]"
      ]
     },
     "execution_count": 601,
     "metadata": {},
     "output_type": "execute_result"
    }
   ],
   "source": [
    "list(Word2VecModel.findSynonyms('legisl', 20) )"
   ]
  },
  {
   "cell_type": "markdown",
   "metadata": {},
   "source": [
    "* 提取词根导致单词被截断，返回原形或许是好的选择。"
   ]
  },
  {
   "cell_type": "markdown",
   "metadata": {},
   "source": [
    "### 总结 "
   ]
  },
  {
   "cell_type": "markdown",
   "metadata": {},
   "source": [
    "** 1、TF-IDF **           \n",
    "** 2、Word2Vec **"
   ]
  }
 ],
 "metadata": {
  "kernelspec": {
   "display_name": "Python 3",
   "language": "python",
   "name": "python3"
  },
  "language_info": {
   "codemirror_mode": {
    "name": "ipython",
    "version": 3
   },
   "file_extension": ".py",
   "mimetype": "text/x-python",
   "name": "python",
   "nbconvert_exporter": "python",
   "pygments_lexer": "ipython3",
   "version": "3.5.2"
  }
 },
 "nbformat": 4,
 "nbformat_minor": 2
}
