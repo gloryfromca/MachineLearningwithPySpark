{
 "cells": [
  {
   "cell_type": "code",
   "execution_count": 1,
   "metadata": {},
   "outputs": [
    {
     "data": {
      "text/html": [
       "\n",
       "        <div>\n",
       "            <p><b>SparkContext</b></p>\n",
       "\n",
       "            <p><a href=\"http://192.170.5.172:4040\">Spark UI</a></p>\n",
       "\n",
       "            <dl>\n",
       "              <dt>Version</dt>\n",
       "                <dd><code>v2.2.0</code></dd>\n",
       "              <dt>Master</dt>\n",
       "                <dd><code>yarn</code></dd>\n",
       "              <dt>AppName</dt>\n",
       "                <dd><code>PySparkShell</code></dd>\n",
       "            </dl>\n",
       "        </div>\n",
       "        "
      ],
      "text/plain": [
       "<SparkContext master=yarn appName=PySparkShell>"
      ]
     },
     "execution_count": 1,
     "metadata": {},
     "output_type": "execute_result"
    }
   ],
   "source": [
    "sc"
   ]
  },
  {
   "cell_type": "code",
   "execution_count": 2,
   "metadata": {},
   "outputs": [
    {
     "data": {
      "text/plain": [
       "'yarn'"
      ]
     },
     "execution_count": 2,
     "metadata": {},
     "output_type": "execute_result"
    }
   ],
   "source": [
    "sc.master"
   ]
  },
  {
   "cell_type": "code",
   "execution_count": 86,
   "metadata": {},
   "outputs": [],
   "source": [
    "sc.setCheckpointDir('hdfs://zh:9000/checkpoint')"
   ]
  },
  {
   "cell_type": "code",
   "execution_count": 113,
   "metadata": {},
   "outputs": [],
   "source": [
    "from pyspark.mllib.recommendation import ALS, Rating\n",
    "from pyspark.mllib.clustering import KMeans\n",
    "from pyspark.mllib.linalg import Vectors\n",
    "import numpy as np"
   ]
  },
  {
   "cell_type": "markdown",
   "metadata": {},
   "source": [
    "### 数据读取"
   ]
  },
  {
   "cell_type": "code",
   "execution_count": 4,
   "metadata": {},
   "outputs": [],
   "source": [
    "movies = sc.textFile('hdfs://zh:9000/ml-100k/u.item')"
   ]
  },
  {
   "cell_type": "code",
   "execution_count": 5,
   "metadata": {},
   "outputs": [
    {
     "data": {
      "text/plain": [
       "['1|Toy Story (1995)|01-Jan-1995||http://us.imdb.com/M/title-exact?Toy%20Story%20(1995)|0|0|0|1|1|1|0|0|0|0|0|0|0|0|0|0|0|0|0']"
      ]
     },
     "execution_count": 5,
     "metadata": {},
     "output_type": "execute_result"
    }
   ],
   "source": [
    "movies.take(1)"
   ]
  },
  {
   "cell_type": "code",
   "execution_count": 6,
   "metadata": {},
   "outputs": [],
   "source": [
    "genres = sc.textFile('hdfs://zh:9000/ml-100k/u.genre')"
   ]
  },
  {
   "cell_type": "code",
   "execution_count": 15,
   "metadata": {},
   "outputs": [
    {
     "data": {
      "text/plain": [
       "['unknown|0',\n",
       " 'Action|1',\n",
       " 'Adventure|2',\n",
       " 'Animation|3',\n",
       " \"Children's|4\",\n",
       " 'Comedy|5',\n",
       " 'Crime|6',\n",
       " 'Documentary|7',\n",
       " 'Drama|8',\n",
       " 'Fantasy|9',\n",
       " 'Film-Noir|10',\n",
       " 'Horror|11',\n",
       " 'Musical|12',\n",
       " 'Mystery|13',\n",
       " 'Romance|14',\n",
       " 'Sci-Fi|15',\n",
       " 'Thriller|16',\n",
       " 'War|17',\n",
       " 'Western|18',\n",
       " '']"
      ]
     },
     "execution_count": 15,
     "metadata": {},
     "output_type": "execute_result"
    }
   ],
   "source": [
    "genres.take(101)"
   ]
  },
  {
   "cell_type": "markdown",
   "metadata": {},
   "source": [
    "* 注意最后有一个是空的''"
   ]
  },
  {
   "cell_type": "code",
   "execution_count": 54,
   "metadata": {},
   "outputs": [],
   "source": [
    "genresMap = genres.filter(lambda x:x!='').map(lambda x:x.split('|'), ).map(lambda x:(x[1], x[0]))"
   ]
  },
  {
   "cell_type": "code",
   "execution_count": 280,
   "metadata": {},
   "outputs": [],
   "source": [
    "genres_dict={i:j for i, j in genresMap.collect()}"
   ]
  },
  {
   "cell_type": "code",
   "execution_count": 281,
   "metadata": {},
   "outputs": [
    {
     "data": {
      "text/plain": [
       "{'0': 'unknown',\n",
       " '1': 'Action',\n",
       " '10': 'Film-Noir',\n",
       " '11': 'Horror',\n",
       " '12': 'Musical',\n",
       " '13': 'Mystery',\n",
       " '14': 'Romance',\n",
       " '15': 'Sci-Fi',\n",
       " '16': 'Thriller',\n",
       " '17': 'War',\n",
       " '18': 'Western',\n",
       " '2': 'Adventure',\n",
       " '3': 'Animation',\n",
       " '4': \"Children's\",\n",
       " '5': 'Comedy',\n",
       " '6': 'Crime',\n",
       " '7': 'Documentary',\n",
       " '8': 'Drama',\n",
       " '9': 'Fantasy'}"
      ]
     },
     "execution_count": 281,
     "metadata": {},
     "output_type": "execute_result"
    }
   ],
   "source": [
    "genres_dict"
   ]
  },
  {
   "cell_type": "code",
   "execution_count": 282,
   "metadata": {},
   "outputs": [
    {
     "data": {
      "text/plain": [
       "<pyspark.broadcast.Broadcast at 0x7f50d0678f28>"
      ]
     },
     "execution_count": 282,
     "metadata": {},
     "output_type": "execute_result"
    }
   ],
   "source": [
    "sc.broadcast(genres_dict)"
   ]
  },
  {
   "cell_type": "code",
   "execution_count": 283,
   "metadata": {},
   "outputs": [
    {
     "data": {
      "text/plain": [
       "['1|Toy Story (1995)|01-Jan-1995||http://us.imdb.com/M/title-exact?Toy%20Story%20(1995)|0|0|0|1|1|1|0|0|0|0|0|0|0|0|0|0|0|0|0']"
      ]
     },
     "execution_count": 283,
     "metadata": {},
     "output_type": "execute_result"
    }
   ],
   "source": [
    "movies.take(1)"
   ]
  },
  {
   "cell_type": "code",
   "execution_count": 284,
   "metadata": {},
   "outputs": [],
   "source": [
    "Binary_movies_genres =  movies.map(\n",
    "    lambda x:x.split('|')\n",
    "    ).map(\n",
    "    lambda x:(x[0], (x[1], [genres_dict.get(str(i)) for i, j in list(enumerate(x[5:])) if j == \"1\"]))\n",
    "    )"
   ]
  },
  {
   "cell_type": "code",
   "execution_count": 285,
   "metadata": {},
   "outputs": [
    {
     "data": {
      "text/plain": [
       "[('1', ('Toy Story (1995)', ['Animation', \"Children's\", 'Comedy'])),\n",
       " ('2', ('GoldenEye (1995)', ['Action', 'Adventure', 'Thriller']))]"
      ]
     },
     "execution_count": 285,
     "metadata": {},
     "output_type": "execute_result"
    }
   ],
   "source": [
    "Binary_movies_genres.take(2)"
   ]
  },
  {
   "cell_type": "markdown",
   "metadata": {},
   "source": [
    "### 训练获得用户隐式因子和电影隐式因子"
   ]
  },
  {
   "cell_type": "code",
   "execution_count": 76,
   "metadata": {},
   "outputs": [],
   "source": [
    "rawData = sc.textFile('hdfs://zh:9000/ml-100k/u.data')"
   ]
  },
  {
   "cell_type": "code",
   "execution_count": 77,
   "metadata": {},
   "outputs": [
    {
     "data": {
      "text/plain": [
       "['196\\t242\\t3\\t881250949',\n",
       " '186\\t302\\t3\\t891717742',\n",
       " '22\\t377\\t1\\t878887116',\n",
       " '244\\t51\\t2\\t880606923',\n",
       " '166\\t346\\t1\\t886397596',\n",
       " '298\\t474\\t4\\t884182806',\n",
       " '115\\t265\\t2\\t881171488',\n",
       " '253\\t465\\t5\\t891628467',\n",
       " '305\\t451\\t3\\t886324817',\n",
       " '6\\t86\\t3\\t883603013']"
      ]
     },
     "execution_count": 77,
     "metadata": {},
     "output_type": "execute_result"
    }
   ],
   "source": [
    "rawData.take(10)"
   ]
  },
  {
   "cell_type": "code",
   "execution_count": 78,
   "metadata": {},
   "outputs": [],
   "source": [
    "rawRatings = rawData.map(lambda x:x.split('\\t')) "
   ]
  },
  {
   "cell_type": "code",
   "execution_count": 79,
   "metadata": {},
   "outputs": [
    {
     "data": {
      "text/plain": [
       "[['196', '242', '3', '881250949'],\n",
       " ['186', '302', '3', '891717742'],\n",
       " ['22', '377', '1', '878887116'],\n",
       " ['244', '51', '2', '880606923'],\n",
       " ['166', '346', '1', '886397596']]"
      ]
     },
     "execution_count": 79,
     "metadata": {},
     "output_type": "execute_result"
    }
   ],
   "source": [
    "rawRatings.take(5)"
   ]
  },
  {
   "cell_type": "code",
   "execution_count": 81,
   "metadata": {},
   "outputs": [],
   "source": [
    "ratings = rawRatings.map(lambda x:Rating(x[0], x[1], x[2]))"
   ]
  },
  {
   "cell_type": "code",
   "execution_count": 82,
   "metadata": {},
   "outputs": [
    {
     "data": {
      "text/plain": [
       "[Rating(user=196, product=242, rating=3.0),\n",
       " Rating(user=186, product=302, rating=3.0)]"
      ]
     },
     "execution_count": 82,
     "metadata": {},
     "output_type": "execute_result"
    }
   ],
   "source": [
    "ratings.take(2)"
   ]
  },
  {
   "cell_type": "code",
   "execution_count": 87,
   "metadata": {},
   "outputs": [],
   "source": [
    "ratings.cache()\n",
    "ratings.checkpoint()"
   ]
  },
  {
   "cell_type": "code",
   "execution_count": 91,
   "metadata": {},
   "outputs": [],
   "source": [
    "alsModel = ALS.train(ratings, 50, 10, 0.1)"
   ]
  },
  {
   "cell_type": "code",
   "execution_count": 133,
   "metadata": {},
   "outputs": [],
   "source": [
    "movieFactors = alsModel.productFeatures().map(lambda x:(x[0], Vectors.dense(x[1])))"
   ]
  },
  {
   "cell_type": "code",
   "execution_count": 134,
   "metadata": {},
   "outputs": [
    {
     "data": {
      "text/plain": [
       "[(2,\n",
       "  DenseVector([0.3654, -0.173, -0.1281, -0.3246, 0.3738, -0.1943, 0.164, -0.3877, -0.0255, 0.4857, 0.4512, 0.3212, -0.0766, -0.1516, -0.1754, 0.1534, -0.0947, 0.2612, 0.1665, -0.1016, -0.4541, 0.3292, 0.5282, 0.1369, -0.2008, -0.2896, -0.0409, -0.0477, 0.6863, 0.144, 0.2097, -0.1229, 0.3868, 0.1818, 0.0641, 0.0938, -0.0125, -0.1375, -0.0872, -0.1569, -0.1571, 0.1495, -0.0237, 0.0604, 0.091, 0.0002, -0.2266, 0.2357, 0.296, -0.3055]))]"
      ]
     },
     "execution_count": 134,
     "metadata": {},
     "output_type": "execute_result"
    }
   ],
   "source": [
    "movieFactors.take(1)"
   ]
  },
  {
   "cell_type": "code",
   "execution_count": 135,
   "metadata": {},
   "outputs": [],
   "source": [
    "movieVectors = movieFactors.map(lambda x:x[1])"
   ]
  },
  {
   "cell_type": "code",
   "execution_count": 136,
   "metadata": {},
   "outputs": [],
   "source": [
    "userFactors = alsModel.userFeatures().map(lambda x:(x[0], Vectors.dense(x[1])))"
   ]
  },
  {
   "cell_type": "code",
   "execution_count": 137,
   "metadata": {},
   "outputs": [],
   "source": [
    "userVectors = userFactors.map(lambda x:x[1])"
   ]
  },
  {
   "cell_type": "code",
   "execution_count": 132,
   "metadata": {},
   "outputs": [
    {
     "data": {
      "text/plain": [
       "[(2,\n",
       "  DenseVector([0.3655, -0.072, 0.1708, -0.6981, 0.3765, -0.0557, 0.0704, -0.2848, 0.3052, 0.3762, 0.4244, 0.7517, -0.1863, -0.1985, -0.3376, 0.192, 0.0647, 0.3941, -0.343, 0.1128, -0.5409, 0.4214, 0.4978, 0.0817, -0.0997, -0.5185, 0.2245, -0.2071, 0.699, -0.1033, 0.2453, -0.039, 0.082, 0.2907, 0.1014, 0.6009, 0.1217, 0.1533, -0.5877, -0.2777, -0.1037, 0.121, -0.1382, -0.0424, 0.3514, -0.2184, -0.0749, 0.4529, 0.2757, 0.0583]))]"
      ]
     },
     "execution_count": 132,
     "metadata": {},
     "output_type": "execute_result"
    }
   ],
   "source": [
    "userFactors.take(1)"
   ]
  },
  {
   "cell_type": "code",
   "execution_count": 139,
   "metadata": {},
   "outputs": [
    {
     "data": {
      "text/plain": [
       "[DenseVector([0.3655, -0.072, 0.1708, -0.6981, 0.3765, -0.0557, 0.0704, -0.2848, 0.3052, 0.3762, 0.4244, 0.7517, -0.1863, -0.1985, -0.3376, 0.192, 0.0647, 0.3941, -0.343, 0.1128, -0.5409, 0.4214, 0.4978, 0.0817, -0.0997, -0.5185, 0.2245, -0.2071, 0.699, -0.1033, 0.2453, -0.039, 0.082, 0.2907, 0.1014, 0.6009, 0.1217, 0.1533, -0.5877, -0.2777, -0.1037, 0.121, -0.1382, -0.0424, 0.3514, -0.2184, -0.0749, 0.4529, 0.2757, 0.0583])]"
      ]
     },
     "execution_count": 139,
     "metadata": {},
     "output_type": "execute_result"
    }
   ],
   "source": [
    "userVectors.take(1)"
   ]
  },
  {
   "cell_type": "markdown",
   "metadata": {},
   "source": [
    "### 训练聚类模型"
   ]
  },
  {
   "cell_type": "code",
   "execution_count": 106,
   "metadata": {},
   "outputs": [],
   "source": [
    "numClusters = 5"
   ]
  },
  {
   "cell_type": "code",
   "execution_count": 107,
   "metadata": {},
   "outputs": [],
   "source": [
    "numIteration = 10"
   ]
  },
  {
   "cell_type": "code",
   "execution_count": 108,
   "metadata": {},
   "outputs": [],
   "source": [
    "numRuns = 3"
   ]
  },
  {
   "cell_type": "code",
   "execution_count": 140,
   "metadata": {},
   "outputs": [],
   "source": [
    "moviesClusterModel = KMeans.train(movieVectors, numClusters, maxIterations=numIteration)"
   ]
  },
  {
   "cell_type": "markdown",
   "metadata": {},
   "source": [
    "### 使用聚类模型进行预测"
   ]
  },
  {
   "cell_type": "code",
   "execution_count": 142,
   "metadata": {},
   "outputs": [
    {
     "data": {
      "text/plain": [
       "4"
      ]
     },
     "execution_count": 142,
     "metadata": {},
     "output_type": "execute_result"
    }
   ],
   "source": [
    "moviesClusterModel.predict(movieVectors.first())"
   ]
  },
  {
   "cell_type": "markdown",
   "metadata": {},
   "source": [
    "### 解释电影类簇"
   ]
  },
  {
   "cell_type": "code",
   "execution_count": 256,
   "metadata": {},
   "outputs": [],
   "source": [
    "centers_list = moviesClusterModel.clusterCenters"
   ]
  },
  {
   "cell_type": "code",
   "execution_count": 257,
   "metadata": {},
   "outputs": [],
   "source": [
    "centers_dict = { i:j for i,j in enumerate(centers_list)}"
   ]
  },
  {
   "cell_type": "code",
   "execution_count": 258,
   "metadata": {},
   "outputs": [
    {
     "data": {
      "text/plain": [
       "{0: array([ 0.38719752,  0.02032083, -0.10446179, -0.27967196,  0.3644459 ,\n",
       "        -0.00908174,  0.06710843, -0.23035321,  0.18922924,  0.37817816,\n",
       "         0.41319196,  0.48445528,  0.01535765, -0.06402941, -0.22976315,\n",
       "         0.1352709 ,  0.14354886,  0.39591354,  0.01759195, -0.09645237,\n",
       "        -0.53708381,  0.39901285,  0.25927439,  0.03715001,  0.11915951,\n",
       "        -0.24101959,  0.0525625 , -0.43471468,  0.48108509, -0.04809547,\n",
       "         0.03144005,  0.06208569,  0.02790381,  0.17943966,  0.03559354,\n",
       "         0.34086505, -0.04297451, -0.14302302, -0.32548359, -0.28540418,\n",
       "        -0.25501198, -0.05129134, -0.04102628, -0.0691379 ,  0.3225153 ,\n",
       "        -0.02328049, -0.08112066,  0.37689738,  0.17636683,  0.13715905]),\n",
       " 1: array([  1.73111366e-01,  -3.90677871e-02,   1.78055008e-02,\n",
       "         -1.56068935e-01,   6.37029722e-02,  -3.07082517e-02,\n",
       "          8.51927636e-03,  -9.11058007e-02,   1.16210625e-04,\n",
       "          1.31485224e-01,   6.61308834e-02,   1.81334354e-01,\n",
       "         -9.23332207e-03,  -8.83969524e-02,  -1.10631518e-01,\n",
       "          1.13959153e-01,   3.36504190e-02,   1.52688325e-01,\n",
       "          3.77579596e-02,  -5.68499302e-02,  -1.80547065e-01,\n",
       "          1.26156631e-01,   1.02940843e-01,   1.11810270e-02,\n",
       "          3.15697783e-02,  -1.21458269e-01,   1.48860797e-02,\n",
       "         -6.57569293e-02,   1.84882552e-01,   2.57361402e-03,\n",
       "          6.72450664e-02,  -8.73592254e-03,   8.56135764e-02,\n",
       "          7.62847504e-02,   1.42048695e-02,   8.42982823e-02,\n",
       "         -2.38723159e-02,  -2.53927759e-02,  -1.25591280e-01,\n",
       "         -1.57440372e-01,  -4.85457325e-02,   5.33633934e-02,\n",
       "          4.29929271e-02,   8.38960986e-03,   7.71372090e-02,\n",
       "          5.33892228e-02,  -8.16616035e-02,   6.63741817e-02,\n",
       "          4.94476448e-02,   2.23161977e-02]),\n",
       " 2: array([ 0.29361128, -0.02254989, -0.13735788, -0.32696586,  0.20884249,\n",
       "        -0.02332711,  0.03799282, -0.15213113,  0.05121713,  0.41839952,\n",
       "         0.29632002,  0.36092031,  0.03717853, -0.14642685, -0.1786079 ,\n",
       "         0.11847837,  0.11959882,  0.30329193,  0.12615992, -0.16448025,\n",
       "        -0.31525012,  0.22135348,  0.20774217,  0.01299753,  0.07218375,\n",
       "        -0.31490363,  0.10557272, -0.22940084,  0.45522106, -0.06423544,\n",
       "         0.12078965, -0.01352896,  0.24696609,  0.26633466,  0.0427295 ,\n",
       "         0.32889686,  0.03164497, -0.17289876, -0.09286989, -0.31108091,\n",
       "        -0.18136093, -0.09286142,  0.17039542, -0.06329471,  0.21613508,\n",
       "         0.02955595, -0.16750681,  0.26858376,  0.17508706,  0.11469613]),\n",
       " 3: array([ 0.42635221, -0.24808221,  0.02378369, -0.24918905,  0.12925465,\n",
       "        -0.00176523,  0.08811418, -0.24363565, -0.08400951,  0.2267817 ,\n",
       "         0.15827732,  0.37704547, -0.02415712, -0.2427761 , -0.18372455,\n",
       "         0.07861073,  0.04121078,  0.21712096,  0.16397677, -0.11317109,\n",
       "        -0.20951307,  0.27692332,  0.19934372, -0.11852587,  0.02691154,\n",
       "        -0.2308382 , -0.00088795, -0.12294385,  0.55303719, -0.04337246,\n",
       "         0.20272679, -0.00490969,  0.32538891,  0.18146886, -0.00659302,\n",
       "         0.06599586, -0.01632122, -0.22790237, -0.15690821, -0.28524253,\n",
       "         0.01150716,  0.07069869,  0.00975997,  0.01889394,  0.14815869,\n",
       "         0.07841956, -0.15935501,  0.20384641,  0.14075317, -0.11152762]),\n",
       " 4: array([  4.55811309e-01,  -6.84248192e-02,   4.64122994e-02,\n",
       "         -3.67688217e-01,   2.44561957e-01,   8.35699079e-03,\n",
       "          8.86471045e-02,  -3.68200670e-01,  -1.04117799e-03,\n",
       "          3.31894536e-01,   1.98479577e-01,   4.88866799e-01,\n",
       "         -4.62541945e-02,  -2.05237998e-01,  -2.86017002e-01,\n",
       "          1.85376303e-01,   1.43497249e-02,   3.72006230e-01,\n",
       "          3.70177653e-02,  -1.72440228e-02,  -4.90257892e-01,\n",
       "          3.62231414e-01,   2.54772933e-01,   6.52979948e-04,\n",
       "         -1.03054882e-03,  -2.89283661e-01,  -5.52840942e-03,\n",
       "         -2.22966803e-01,   5.38260441e-01,   6.80008312e-02,\n",
       "          1.55888829e-01,  -2.88522863e-02,   2.80414556e-01,\n",
       "          1.89553329e-01,   9.37542190e-02,   1.86807078e-01,\n",
       "         -4.20979486e-02,  -1.13416609e-01,  -3.51020560e-01,\n",
       "         -3.85083177e-01,  -1.30274426e-01,   1.54741294e-01,\n",
       "          3.95564350e-02,  -7.11618429e-03,   2.14086408e-01,\n",
       "          5.70145881e-02,  -1.55006682e-01,   2.58605429e-01,\n",
       "          1.15570942e-01,   4.44489525e-04])}"
      ]
     },
     "execution_count": 258,
     "metadata": {},
     "output_type": "execute_result"
    }
   ],
   "source": [
    "centers_dict"
   ]
  },
  {
   "cell_type": "code",
   "execution_count": 259,
   "metadata": {},
   "outputs": [
    {
     "data": {
      "text/plain": [
       "<pyspark.broadcast.Broadcast at 0x7f50d032ab38>"
      ]
     },
     "execution_count": 259,
     "metadata": {},
     "output_type": "execute_result"
    }
   ],
   "source": [
    "sc.broadcast(centers_dict)"
   ]
  },
  {
   "cell_type": "code",
   "execution_count": 260,
   "metadata": {},
   "outputs": [],
   "source": [
    "cluster_movie = moviesClusterModel.predict(movieVectors).zip(movieFactors)"
   ]
  },
  {
   "cell_type": "code",
   "execution_count": 261,
   "metadata": {},
   "outputs": [
    {
     "data": {
      "text/plain": [
       "[(4,\n",
       "  (2,\n",
       "   DenseVector([0.3654, -0.173, -0.1281, -0.3246, 0.3738, -0.1943, 0.164, -0.3877, -0.0255, 0.4857, 0.4512, 0.3212, -0.0766, -0.1516, -0.1754, 0.1534, -0.0947, 0.2612, 0.1665, -0.1016, -0.4541, 0.3292, 0.5282, 0.1369, -0.2008, -0.2896, -0.0409, -0.0477, 0.6863, 0.144, 0.2097, -0.1229, 0.3868, 0.1818, 0.0641, 0.0938, -0.0125, -0.1375, -0.0872, -0.1569, -0.1571, 0.1495, -0.0237, 0.0604, 0.091, 0.0002, -0.2266, 0.2357, 0.296, -0.3055])))]"
      ]
     },
     "execution_count": 261,
     "metadata": {},
     "output_type": "execute_result"
    }
   ],
   "source": [
    "cluster_movie.take(1)"
   ]
  },
  {
   "cell_type": "code",
   "execution_count": 262,
   "metadata": {},
   "outputs": [],
   "source": [
    "cluster_movie.cache()\n",
    "cluster_movie.checkpoint()"
   ]
  },
  {
   "cell_type": "code",
   "execution_count": 263,
   "metadata": {},
   "outputs": [],
   "source": [
    "def dist_vector(x_array, y_array):\n",
    "    return np.linalg.norm(x_array - y_array)"
   ]
  },
  {
   "cell_type": "code",
   "execution_count": 264,
   "metadata": {},
   "outputs": [],
   "source": [
    "cluster_movie_dist = cluster_movie.map(lambda x:(x[0], (x[1][0], dist_vector(centers_dict[x[0]], x[1][1])) ))"
   ]
  },
  {
   "cell_type": "code",
   "execution_count": 265,
   "metadata": {},
   "outputs": [
    {
     "data": {
      "text/plain": [
       "[(4, (2, 0.89839991944878539))]"
      ]
     },
     "execution_count": 265,
     "metadata": {},
     "output_type": "execute_result"
    }
   ],
   "source": [
    "cluster_movie_dist.take(1)"
   ]
  },
  {
   "cell_type": "code",
   "execution_count": 266,
   "metadata": {},
   "outputs": [],
   "source": [
    "cluster_movie_dist_sorted = cluster_movie_dist.sortBy(keyfunc=lambda x:x[1][1]).sortByKey()"
   ]
  },
  {
   "cell_type": "code",
   "execution_count": 267,
   "metadata": {},
   "outputs": [
    {
     "data": {
      "text/plain": [
       "[(0, (1123, 0.42600146324665555)),\n",
       " (0, (1526, 0.43585271409902199)),\n",
       " (0, (1223, 0.52027197896886157)),\n",
       " (0, (1506, 0.57875724022966224)),\n",
       " (0, (1674, 0.58303115473767486)),\n",
       " (0, (1682, 0.59244316581429246)),\n",
       " (0, (1454, 0.60002032054745158)),\n",
       " (0, (1537, 0.61113793622031243)),\n",
       " (0, (1541, 0.63662497458051748)),\n",
       " (0, (1573, 0.66317916453326287))]"
      ]
     },
     "execution_count": 267,
     "metadata": {},
     "output_type": "execute_result"
    }
   ],
   "source": [
    "cluster_movie_dist_sorted.take(10)"
   ]
  },
  {
   "cell_type": "code",
   "execution_count": 278,
   "metadata": {},
   "outputs": [],
   "source": [
    "cluster_movie_dist.cache()\n",
    "cluster_movie_dist.checkpoint()"
   ]
  },
  {
   "cell_type": "code",
   "execution_count": 286,
   "metadata": {},
   "outputs": [
    {
     "name": "stdout",
     "output_type": "stream",
     "text": [
      "cluster:0\n",
      "(1024, (1.2076547455154274, ('Mrs. Dalloway (1997)', ['Romance'])))\n",
      "(512, (1.4392482878048338, ('Wings of Desire (1987)', ['Comedy', 'Drama', 'Romance'])))\n",
      "(4, (0.99306995380880725, ('Get Shorty (1995)', ['Action', 'Comedy', 'Drama'])))\n",
      "(8, (1.1938202481575975, ('Babe (1995)', [\"Children's\", 'Comedy', 'Drama'])))\n",
      "(12, (0.99214063365323968, ('Usual Suspects, The (1995)', ['Crime', 'Thriller'])))\n",
      "(20, (1.3916108617423153, ('Angels and Insects (1995)', ['Drama', 'Romance'])))\n",
      "(32, (1.1834490100311863, ('Crumb (1994)', ['Documentary'])))\n",
      "(1200, (0.8044069056113895, ('Kim (1950)', [\"Children's\", 'Drama'])))\n",
      "(48, (1.0828354841508447, ('Hoop Dreams (1994)', ['Documentary'])))\n",
      "(52, (0.74546665301676751, ('Madness of King George, The (1994)', ['Drama'])))\n",
      "(56, (1.299995432864169, ('Pulp Fiction (1994)', ['Crime', 'Drama'])))\n",
      "(180, (1.0508807331593284, ('Apocalypse Now (1979)', ['Drama', 'War'])))\n",
      "(60, (1.1836726112218896, ('Three Colors: Blue (1993)', ['Drama'])))\n",
      "(1100, (1.385506019050152, ('What Happened Was... (1994)', ['Comedy', 'Drama', 'Romance'])))\n",
      "(580, (1.5517390495822452, ('Englishman Who Went Up a Hill, But Came Down a Mountain, The (1995)', ['Comedy', 'Romance'])))\n",
      "(1120, (1.5608904630993607, (\"I'm Not Rappaport (1996)\", ['Comedy'])))\n",
      "(100, (1.0273098273376287, ('Fargo (1996)', ['Crime', 'Drama', 'Thriller'])))\n",
      "(116, (1.2093275095512619, ('Cold Comfort Farm (1995)', ['Comedy'])))\n",
      "(1144, (0.9075374751254921, ('Quiet Room, The (1996)', ['Drama'])))\n",
      "(124, (0.95695365865737014, ('Lone Star (1996)', ['Drama', 'Mystery'])))\n",
      "{'Documentary': 2, \"Children's\": 2, 'Comedy': 7, 'Thriller': 2, 'Crime': 3, 'Drama': 13, 'Romance': 5, 'Action': 1, 'Mystery': 1, 'War': 1}\n",
      "============================\n",
      "cluster:1\n",
      "(1676, (0.39349518422471019, ('War at Home, The (1996)', ['Drama'])))\n",
      "(1624, (0.50741518821905063, ('Hush (1998)', ['Thriller'])))\n",
      "(1304, (1.4554618000797828, ('New York Cop (1996)', ['Action', 'Crime'])))\n",
      "(1412, (1.1380317278138647, ('Land Before Time III: The Time of the Great Giving (1995) (V)', ['Animation', \"Children's\"])))\n",
      "(1680, (0.49136808202514171, ('Sliding Doors (1998)', ['Drama', 'Romance'])))\n",
      "(1320, (0.36829307586209808, ('Homage (1995)', ['Drama'])))\n",
      "(1332, (0.71166708447061744, (\"My Life and Times With Antonin Artaud (En compagnie d'Antonin Artaud) (1993)\", ['Drama'])))\n",
      "(1352, (0.36829307586209808, ('Shadow of Angels (Schatten der Engel) (1976)', ['Drama'])))\n",
      "(1364, (0.36829307586209808, ('Bird of Prey (1996)', ['Action'])))\n",
      "(1648, (0.60169969462662098, ('Niagara, Niagara (1997)', ['Drama'])))\n",
      "(1596, (0.59064967772748467, ('Nemesis 2: Nebula (1995)', ['Action', 'Sci-Fi', 'Thriller'])))\n",
      "(1408, (0.287073153473897, ('Gordy (1995)', ['Comedy'])))\n",
      "(1420, (0.50559929873938347, (\"Gilligan's Island: The Movie (1998)\", ['Comedy'])))\n",
      "(1432, (0.35665430151625166, ('Mighty, The (1998)', ['Drama'])))\n",
      "(424, (0.77691525524379978, ('Children of the Corn: The Gathering (1996)', ['Horror'])))\n",
      "(440, (1.4981306244915256, ('Amityville II: The Possession (1982)', ['Horror'])))\n",
      "(1652, (0.96434718482978898, ('Temptress Moon (Feng Yue) (1996)', ['Romance'])))\n",
      "(1520, (0.67208137615419361, ('Fear, The (1995)', ['Horror'])))\n",
      "(1532, (0.57560798869520158, ('Foreign Student (1994)', ['Drama'])))\n",
      "(1548, (0.42151615847778134, ('The Courtyard (1995)', ['Action', 'Thriller'])))\n",
      "{'Thriller': 3, 'Comedy': 2, 'Sci-Fi': 1, 'Crime': 1, 'Drama': 8, \"Children's\": 1, 'Action': 4, 'Animation': 1, 'Romance': 2, 'Horror': 3}\n",
      "============================\n",
      "cluster:2\n",
      "(24, (1.0589393163012519, ('Rumble in the Bronx (1995)', ['Action', 'Adventure', 'Crime'])))\n",
      "(348, (1.2462637859199879, ('Desperate Measures (1998)', ['Crime', 'Drama', 'Thriller'])))\n",
      "(68, (1.1867385465275986, ('Crow, The (1994)', ['Action', 'Romance', 'Thriller'])))\n",
      "(76, (1.0102929451286369, (\"Carlito's Way (1993)\", ['Crime', 'Drama'])))\n",
      "(184, (1.3634297353332623, ('Army of Darkness (1993)', ['Action', 'Adventure', 'Comedy', 'Horror', 'Sci-Fi'])))\n",
      "(1380, (1.1920149497006696, ('Hollow Reed (1996)', ['Drama'])))\n",
      "(16, (1.1312534660247513, ('French Twist (Gazon maudit) (1995)', ['Comedy', 'Romance'])))\n",
      "(1128, (1.7165682638392359, ('Heidi Fleiss: Hollywood Madam (1995) ', ['Documentary'])))\n",
      "(1132, (1.5478827631825418, ('Feeling Minnesota (1996)', ['Drama', 'Romance'])))\n",
      "(1048, (1.2617364545716561, (\"She's the One (1996)\", ['Comedy', 'Romance'])))\n",
      "(1184, (1.7417178028194158, ('Endless Summer 2, The (1994)', ['Documentary'])))\n",
      "(1188, (1.2471190016567237, ('Young Guns II (1990)', ['Action', 'Comedy', 'Western'])))\n",
      "(1208, (0.89049226316751728, ('Kiss of Death (1995)', ['Crime', 'Drama', 'Thriller'])))\n",
      "(188, (0.95318723805860628, ('Full Metal Jacket (1987)', ['Action', 'Drama', 'War'])))\n",
      "(1244, (0.95561994828027041, ('Metro (1997)', ['Action'])))\n",
      "(1256, (1.278712790721283, ('Designated Mourner, The (1997)', ['Drama'])))\n",
      "(240, (1.3993276076424028, ('Beavis and Butt-head Do America (1996)', ['Animation', 'Comedy'])))\n",
      "(260, (1.4891090467595511, ('Event Horizon (1997)', ['Action', 'Mystery', 'Sci-Fi', 'Thriller'])))\n",
      "(1296, (1.4689322841560415, ('Indian Summer (1996)', ['Comedy', 'Drama'])))\n",
      "(1328, (1.2552684286323728, ('Of Love and Shadows (1994)', ['Drama'])))\n",
      "{'Sci-Fi': 2, 'Adventure': 2, 'Horror': 1, 'Mystery': 1, 'Drama': 9, 'Action': 7, 'Animation': 1, 'Western': 1, 'Documentary': 2, 'Thriller': 4, 'Crime': 4, 'Romance': 4, 'War': 1, 'Comedy': 6}\n",
      "============================\n",
      "cluster:3\n",
      "(1028, (1.1246461970415198, ('Grumpier Old Men (1995)', ['Comedy', 'Romance'])))\n",
      "(1032, (1.0666824156045718, ('Little Big League (1994)', [\"Children's\", 'Comedy'])))\n",
      "(1036, (1.4674274644132286, ('Drop Dead Fred (1991)', ['Comedy', 'Fantasy'])))\n",
      "(1040, (1.0452806243425974, ('Two if by Sea (1996)', ['Comedy', 'Romance'])))\n",
      "(1052, (1.6000228173048254, ('Dracula: Dead and Loving It (1995)', ['Comedy', 'Horror'])))\n",
      "(1072, (1.0201867006572087, (\"Pyromaniac's Love Story, A (1995)\", ['Comedy', 'Romance'])))\n",
      "(1112, (1.0704928785924306, ('Cobb (1994)', ['Drama'])))\n",
      "(1212, (0.94943111752655041, ('Flesh and Bone (1993)', ['Drama', 'Mystery', 'Romance'])))\n",
      "(1152, (1.3788249407153479, ('In Love and War (1996)', ['Romance', 'War'])))\n",
      "(1160, (1.8678139446332949, ('Love! Valour! Compassion! (1997)', ['Drama', 'Romance'])))\n",
      "(364, (1.5090006731940036, ('Ace Ventura: When Nature Calls (1995)', ['Comedy'])))\n",
      "(140, (1.3145985354205885, ('Homeward Bound: The Incredible Journey (1993)', ['Adventure', \"Children's\"])))\n",
      "(1180, (0.88528078968909873, ('I Love Trouble (1994)', ['Action', 'Comedy'])))\n",
      "(368, (1.4133539691885399, ('Bio-Dome (1996)', ['Comedy'])))\n",
      "(1220, (1.1951001084404207, ('Higher Learning (1995)', ['Drama'])))\n",
      "(1224, (0.8843680615577485, ('Scout, The (1994)', ['Drama'])))\n",
      "(1228, (1.0866490158278175, ('Under Siege 2: Dark Territory (1995)', ['Action'])))\n",
      "(36, (1.1405888651712666, ('Mad Love (1995)', ['Drama', 'Romance'])))\n",
      "(1232, (1.4662415042377999, ('Madonna: Truth or Dare (1991)', ['Documentary'])))\n",
      "(1260, (1.3396706666990399, ('Total Eclipse (1995)', ['Drama'])))\n",
      "{'Drama': 7, 'Documentary': 1, \"Children's\": 2, 'Comedy': 9, 'Horror': 1, 'Mystery': 1, 'Fantasy': 1, 'Romance': 7, 'Action': 2, 'War': 1, 'Adventure': 1}\n",
      "============================\n",
      "cluster:4\n",
      "(172, (1.0893074596124455, ('Empire Strikes Back, The (1980)', ['Action', 'Adventure', 'Drama', 'Romance', 'Sci-Fi', 'War'])))\n",
      "(28, (0.575758283860344, ('Apollo 13 (1995)', ['Action', 'Drama', 'Thriller'])))\n",
      "(44, (1.0266608133908368, ('Dolores Claiborne (1994)', ['Drama', 'Thriller'])))\n",
      "(64, (0.87953590920987257, ('Shawshank Redemption, The (1994)', ['Drama'])))\n",
      "(88, (0.85901344010579528, ('Sleepless in Seattle (1993)', ['Comedy', 'Romance'])))\n",
      "(96, (1.1047049297733305, ('Terminator 2: Judgment Day (1991)', ['Action', 'Sci-Fi', 'Thriller'])))\n",
      "(1136, (1.1890589157588525, ('Ghosts of Mississippi (1996)', ['Drama'])))\n",
      "(1044, (1.1382801218112424, ('Paper, The (1994)', ['Comedy', 'Drama'])))\n",
      "(144, (1.1024028210373227, ('Die Hard (1988)', ['Action', 'Thriller'])))\n",
      "(164, (0.65830079045640044, ('Abyss, The (1989)', ['Action', 'Adventure', 'Sci-Fi', 'Thriller'])))\n",
      "(176, (1.0680176273177606, ('Aliens (1986)', ['Action', 'Sci-Fi', 'Thriller', 'War'])))\n",
      "(196, (0.75949429995855777, ('Dead Poets Society (1989)', ['Drama'])))\n",
      "(204, (0.76621740103128722, ('Back to the Future (1985)', ['Comedy', 'Sci-Fi'])))\n",
      "(1400, (1.2838627381968817, ('Picture Bride (1995)', ['Drama', 'Romance'])))\n",
      "(1060, (1.4766925965729061, ('Adventures of Pinocchio, The (1996)', ['Adventure', \"Children's\"])))\n",
      "(220, (1.3959634150107503, ('Mirror Has Two Faces, The (1996)', ['Comedy', 'Romance'])))\n",
      "(208, (0.89013386622080082, ('Young Frankenstein (1974)', ['Comedy', 'Horror'])))\n",
      "(228, (1.1133795958544901, ('Star Trek: The Wrath of Khan (1982)', ['Action', 'Adventure', 'Sci-Fi'])))\n",
      "(232, (0.87528501846121287, ('Young Guns (1988)', ['Action', 'Comedy', 'Western'])))\n",
      "(264, (1.2310192952899954, ('Mimic (1997)', ['Sci-Fi', 'Thriller'])))\n",
      "{'Horror': 1, 'Sci-Fi': 7, 'Adventure': 4, \"Children's\": 1, 'Thriller': 7, 'Drama': 8, 'Romance': 4, 'Action': 8, 'Western': 1, 'War': 2, 'Comedy': 6}\n",
      "============================\n"
     ]
    }
   ],
   "source": [
    "top_n = 20\n",
    "for i in range(5):\n",
    "    print(\"cluster:%s\"%i)\n",
    "    top_n_i = cluster_movie_dist.filter(\n",
    "    lambda x:x[0]==i\n",
    "    ).sortBy(\n",
    "    keyfunc=lambda x:x[1][1]\n",
    "    ).map(\n",
    "    lambda x:x[1]\n",
    "    ).join(\n",
    "    Binary_movies_genres.map(lambda x:(int(x[0]),x[1]))\n",
    "    ).take(top_n)\n",
    "    genres_counts_dict = {} \n",
    "    for movie_item in top_n_i:\n",
    "        print(movie_item)\n",
    "        genres_types = movie_item[1][1][1]\n",
    "        for movie_type in genres_types:\n",
    "            genres_counts_dict[movie_type] = genres_counts_dict.get(movie_type, 0) + 1\n",
    "    print(genres_counts_dict)\n",
    "    print('============================')"
   ]
  },
  {
   "cell_type": "code",
   "execution_count": 296,
   "metadata": {},
   "outputs": [],
   "source": [
    "# (1104, (1.640930114469334, (\"C'est arriv� pr�s de chez vous (1992)\", [None, None, None])))\n",
    "# (1108, (1.1315929580238773, ('Feast of July (1995)', [None])))\n",
    "# (1116, (1.2182542031236385, ('Mark of Zorro, The (1940)', [None])))\n",
    "# (1120, (1.5608904630993607, (\"I'm Not Rappaport (1996)\", [None])))\n",
    "# (1124, (0.67582726573118568, ('Farewell to Arms, A (1932)', [None, None])))      \n",
    "# {None: 36}     \n",
    "# cluster:1\n",
    "# (1672, (0.58521085647527527, ('Kika (1993)', [None])))\n",
    "# (1676, (0.39349518422471019, ('War at Home, The (1996)', [None])))"
   ]
  },
  {
   "cell_type": "markdown",
   "metadata": {},
   "source": [
    "* genres_dict之前定义为0-1变量的index和电影genre的对应，但是这里变成了genres_dict = {}。\n",
    "* Binary_movies_genres是之前的结果，可能依赖了之前的genres_dict，结果导致Binary_movies_genres变了，join出的结果也都显示类型为None"
   ]
  },
  {
   "cell_type": "markdown",
   "metadata": {},
   "source": [
    "### WCSS"
   ]
  },
  {
   "cell_type": "code",
   "execution_count": 288,
   "metadata": {},
   "outputs": [],
   "source": [
    "train_, test_ = movieVectors.randomSplit([0.6, 0.4])"
   ]
  },
  {
   "cell_type": "code",
   "execution_count": 292,
   "metadata": {},
   "outputs": [],
   "source": [
    "k_list = [1, 2, 3, 4, 5, 6, 7, 9, 10,11]"
   ]
  },
  {
   "cell_type": "code",
   "execution_count": 297,
   "metadata": {},
   "outputs": [
    {
     "name": "stdout",
     "output_type": "stream",
     "text": [
      "k:1 ==> WCSS:1103.11988808383 ==> edge:1103.11988808383\n",
      "k:2 ==> WCSS:991.3102971737878 ==> edge:-111.80959091004206\n",
      "k:3 ==> WCSS:957.4243015933259 ==> edge:-33.885995580461895\n",
      "k:4 ==> WCSS:934.9998894619946 ==> edge:-22.424412131331337\n",
      "k:5 ==> WCSS:916.1458577408989 ==> edge:-18.85403172109568\n",
      "k:6 ==> WCSS:917.2173198414066 ==> edge:1.0714621005076879\n",
      "k:7 ==> WCSS:889.0006071657153 ==> edge:-28.21671267569127\n",
      "k:9 ==> WCSS:868.3955560697436 ==> edge:-20.605051095971703\n",
      "k:10 ==> WCSS:874.3546476642673 ==> edge:5.95909159452367\n",
      "k:11 ==> WCSS:866.0871260856904 ==> edge:-8.267521578576861\n"
     ]
    }
   ],
   "source": [
    "costsuser = 0\n",
    "for k in k_list:\n",
    "    previous = costsuser\n",
    "    costsuser = KMeans.train(train_, k).computeCost(test_)\n",
    "    print(\"k:%s ==> WCSS:%s ==> edge:%s\"%(k, costsuser, costsuser-previous))"
   ]
  }
 ],
 "metadata": {
  "kernelspec": {
   "display_name": "Python 3",
   "language": "python",
   "name": "python3"
  },
  "language_info": {
   "codemirror_mode": {
    "name": "ipython",
    "version": 3
   },
   "file_extension": ".py",
   "mimetype": "text/x-python",
   "name": "python",
   "nbconvert_exporter": "python",
   "pygments_lexer": "ipython3",
   "version": "3.5.2"
  }
 },
 "nbformat": 4,
 "nbformat_minor": 2
}
