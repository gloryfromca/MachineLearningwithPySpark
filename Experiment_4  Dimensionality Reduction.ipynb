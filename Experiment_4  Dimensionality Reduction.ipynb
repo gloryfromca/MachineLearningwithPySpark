{
 "cells": [
  {
   "cell_type": "code",
   "execution_count": 1,
   "metadata": {},
   "outputs": [
    {
     "data": {
      "text/html": [
       "\n",
       "        <div>\n",
       "            <p><b>SparkContext</b></p>\n",
       "\n",
       "            <p><a href=\"http://192.170.5.172:4040\">Spark UI</a></p>\n",
       "\n",
       "            <dl>\n",
       "              <dt>Version</dt>\n",
       "                <dd><code>v2.2.0</code></dd>\n",
       "              <dt>Master</dt>\n",
       "                <dd><code>yarn</code></dd>\n",
       "              <dt>AppName</dt>\n",
       "                <dd><code>PySparkShell</code></dd>\n",
       "            </dl>\n",
       "        </div>\n",
       "        "
      ],
      "text/plain": [
       "<SparkContext master=yarn appName=PySparkShell>"
      ]
     },
     "execution_count": 1,
     "metadata": {},
     "output_type": "execute_result"
    }
   ],
   "source": [
    "sc"
   ]
  },
  {
   "cell_type": "code",
   "execution_count": 2,
   "metadata": {},
   "outputs": [
    {
     "data": {
      "text/plain": [
       "'yarn'"
      ]
     },
     "execution_count": 2,
     "metadata": {},
     "output_type": "execute_result"
    }
   ],
   "source": [
    "sc.master"
   ]
  },
  {
   "cell_type": "code",
   "execution_count": 3,
   "metadata": {},
   "outputs": [],
   "source": [
    "sc.setCheckpointDir('hdfs://zh:9000/checkpoint')"
   ]
  },
  {
   "cell_type": "code",
   "execution_count": 4,
   "metadata": {},
   "outputs": [],
   "source": [
    "from io import BytesIO"
   ]
  },
  {
   "cell_type": "code",
   "execution_count": 5,
   "metadata": {},
   "outputs": [],
   "source": [
    "from matplotlib import pyplot as plt"
   ]
  },
  {
   "cell_type": "code",
   "execution_count": 6,
   "metadata": {},
   "outputs": [],
   "source": [
    "from PIL import Image"
   ]
  },
  {
   "cell_type": "code",
   "execution_count": 7,
   "metadata": {},
   "outputs": [],
   "source": [
    "import numpy as np"
   ]
  },
  {
   "cell_type": "code",
   "execution_count": 8,
   "metadata": {},
   "outputs": [],
   "source": [
    "from pyspark.mllib.linalg import Matrix\n",
    "from pyspark.mllib.linalg.distributed import RowMatrix "
   ]
  },
  {
   "cell_type": "code",
   "execution_count": 9,
   "metadata": {},
   "outputs": [],
   "source": [
    "from pyspark.mllib.feature import StandardScaler\n",
    "from pyspark.mllib.linalg import Vectors"
   ]
  },
  {
   "cell_type": "markdown",
   "metadata": {},
   "source": [
    "### 从LFW数据集中提取特征"
   ]
  },
  {
   "cell_type": "code",
   "execution_count": 10,
   "metadata": {},
   "outputs": [],
   "source": [
    "pics_path = 'hdfs://zh:9000/lfw/*'"
   ]
  },
  {
   "cell_type": "code",
   "execution_count": 11,
   "metadata": {},
   "outputs": [],
   "source": [
    "rdd = sc.wholeTextFiles(pics_path)"
   ]
  },
  {
   "cell_type": "code",
   "execution_count": 12,
   "metadata": {},
   "outputs": [
    {
     "data": {
      "text/plain": [
       "('hdfs://zh:9000/lfw/AJ_Cook/AJ_Cook_0001.jpg',\n",
       " '����\\x00\\x10JFIF\\x00\\x01\\x01\\x00\\x00\\x01\\x00\\x01\\x00\\x00��\\x00C\\x00\\x03\\x02\\x02\\x03\\x02\\x02\\x03\\x03\\x03\\x03\\x04\\x03\\x03\\x04\\x05\\x08\\x05\\x05\\x04\\x04\\x05\\n\\x07\\x07\\x06\\x08\\x0c\\n\\x0c\\x0c\\x0b\\n\\x0b\\x0b\\r\\x0e\\x12\\x10\\r\\x0e\\x11\\x0e\\x0b\\x0b\\x10\\x16\\x10\\x11\\x13\\x14\\x15\\x15\\x15\\x0c\\x0f\\x17\\x18\\x16\\x14\\x18\\x12\\x14\\x15\\x14��\\x00C\\x01\\x03\\x04\\x04\\x05\\x04\\x05\\t\\x05\\x05\\t\\x14\\r\\x0b\\r\\x14\\x14\\x14\\x14\\x14\\x14\\x14\\x14\\x14\\x14\\x14\\x14\\x14\\x14\\x14\\x14\\x14\\x14\\x14\\x14\\x14\\x14\\x14\\x14\\x14\\x14\\x14\\x14\\x14\\x14\\x14\\x14\\x14\\x14\\x14\\x14\\x14\\x14\\x14\\x14\\x14\\x14\\x14\\x14\\x14\\x14\\x14\\x14\\x14\\x14��\\x00\\x11\\x08\\x00�\\x00�\\x03\\x01\"\\x00\\x02\\x11\\x01\\x03\\x11\\x01��\\x00\\x1f\\x00\\x00\\x01\\x05\\x01\\x01\\x01\\x01\\x01\\x01\\x00\\x00\\x00\\x00\\x00\\x00\\x00\\x00\\x01\\x02\\x03\\x04\\x05\\x06\\x07\\x08\\t\\n\\x0b��\\x00�\\x10\\x00\\x02\\x01\\x03\\x03\\x02\\x04\\x03\\x05\\x05\\x04\\x04\\x00\\x00\\x01}\\x01\\x02\\x03\\x00\\x04\\x11\\x05\\x12!1A\\x06\\x13Qa\\x07\"q\\x142���\\x08#B��\\x15R��$3br�\\t\\n\\x16\\x17\\x18\\x19\\x1a%&\\'()*456789:CDEFGHIJSTUVWXYZcdefghijstuvwxyz���������������������������������������������������������������������������\\x00\\x1f\\x01\\x00\\x03\\x01\\x01\\x01\\x01\\x01\\x01\\x01\\x01\\x01\\x00\\x00\\x00\\x00\\x00\\x00\\x01\\x02\\x03\\x04\\x05\\x06\\x07\\x08\\t\\n\\x0b��\\x00�\\x11\\x00\\x02\\x01\\x02\\x04\\x04\\x03\\x04\\x07\\x05\\x04\\x04\\x00\\x01\\x02w\\x00\\x01\\x02\\x03\\x11\\x04\\x05!1\\x06\\x12AQ\\x07aq\\x13\"2�\\x08\\x14B����\\t#3R�\\x15br�\\n\\x16$4�%�\\x17\\x18\\x19\\x1a&\\'()*56789:CDEFGHIJSTUVWXYZcdefghijstuvwxyz��������������������������������������������������������������������������\\x00\\x0c\\x03\\x01\\x00\\x02\\x11\\x03\\x11\\x00?\\x00����(\\x00��(\\x00��(\\x00��(\\x00��(\\x00��(\\x00��(\\x00��(\\x00��(\\x00��(\\x00��(\\x00��(\\x00��(\\x00��(\\x00��(\\x00��(\\x03�\\x17����Μ���\\x7f�X��ׇY��S��\\x7f��⧉��y��\\'������x\\x1e�\\x7f��o�V�\\x1b��\\x00 �����5\\x1b|5���\\x03\\x13��\\x7f�\\'\\rڞT\\x1a���\\x0f�_r\\x0fi>��g�s��馠�\\x00����\\x17���Κ���\\x7f�u�\\t���=8�?���\\x00�k�Fn�E���s_�<=�\\x00@��\\x00���h�\\x00�y���\\x06�����]&��F��Gը\\x7f\"��\\x1e֧�?���^x{����\\x00}���\\x1f��\\x07\\x1ar\\x7f�m�5Ԅ42\\x021K��?�}�=�O�\\x7fy�7��\\x0b����\\x00}��ӓ�z\\x04L���|t���k�t�\\t\\x0e�Ì����\\x0e_\\u1bf9\\tթ���\"�?�|\\x1b6�\\x12j�$s��|�$�~�_fx\\x0f�N�\\'�-:\\t��U���I�T�\\x00�r�A����ʐ�������Ǭ��i4�\\x158�5�Y�\\x12.\\x17���ۅ�+�gs�e���\\t<dG�+P������9^-��=�}��I6��hm\\x02���)�nk�}\\'PK�S�\\x01�\\x1dǥr�\\x10��5+\\tQ�`\\nA�\\x03_#��iN�\\x1d����VG�%��\\x0f\\x0c�>ä�*p\\x7fx�\\x00�D�\\x07�4�1�(q�H����^;�l��vTR1��y\\x07��=1n$\\x0b\\x08,��f���X8SM�}���\\x1e�����\\x03�߇�g�\\x10(�\\x00}�\\x00Ɨ�\\x14����\\x17GQ������\\x19�47�#�2���4���K�?g�G@|�8?�!�}k̩�������t}J��3�y�\\x10�vذ�HA�w���\\x7f��.S�Aq��\\x00]\\x1f�k�_\\x1a��7PH�h�<Az\\x0c�^%�_\\x01�hL�|F0\\x0fpk��c�5��\\x08��䯇�M]I�H~\\x17xd\\x7f�*?���\\x00�I�\\x00\\n��\\x1f�\\n���?��g,\\x0c������T\\x03�s�{���%\\x08��#�Uj�vռ�<�/��\\x7f�\\x15\\x1f��\\x7f��\\x15\\x7f���\\x15\\x1f��\\x7f�\\x01��`zU}_\\x0f�\\x00>��\"��U���r\\x1f��5�\\x00@��\\x00���\\x00�\\x1f��5��\\x00\\x12��\\x00���\\x00�v\\x01\\x01�N1�\\x1a>���\\x00�q����O�\\x7fy�\\x7f±��?�+O���\\x00Ɠ�\\x15���\\x00�\\x17\\x1f���\\x00�]�N��X�\\x14�\\x17\\x0f�\\x00>�܃���g����1��9ң�\\x00���4��V>\\x18�\\x00�T\\x7f���\\x00�u\\'\\x03�o5>�\\x0f�\\x00>�� ��?���3��)�Oq�F��r{\\x16Y���U�l�/�\\x15�)r��2Ǖ�Rt�kH�\\x08\\x06��.��2�\\x13WE:)�0E\\x15m��\\r���1Mٚw@�0�h\\x11�F:��\\x1d�j�\\x15�-��j�▬�\\x16�\\x12\\x1b7�#�ݓ]��n��k����\\x0b�+��у|���g\\x01\\x0fݭ�lnm�Yo%\\x16�Q���\\x19��\\x1eH\\x1e�\\x0f\\x07���_\\x14�M��v��y`�d\\x1a�ծ���\\x13q�MQ�\\x19��r0k��ŪĲ�ˆQָ��Z��G��O�^���9ʴ�&}\\x1a��oc\\'ž;��5\\x19���d�N\\x04��~���\\x0f\\tI�\"^�ߓ.�l��+�|-\\t��6FT�[��_H�Z\\x18mtT�T�)\\x03�u_zx�D��Lڔ!\\x17���\\x17�lm�8�u\\x18\"���yTn_Ʀ�5#��4�\\rɖ\\x05���\\x00w�y{\\\\5ʈ��,c�[5i�\\x12^[N�3y�t��F\\x15��%&���ʎ�J����Gd�X��\\x1a�W�t�\\x15B`��\\x1d��\\\\~��ɣ8�l�{68�\\x07���a\\x1c��\\rR����>x�+ZU�SjI�Ԃ���_\\n\\'�̷\\x16c|#�y\\\\�2\\x1d��Xu\\x15���\\x0b�Z���L2\\x0f�W��Q�T\\x1a\\x195--6�\\x19�W��Ѳ\\\\�S��c��$���<�(���F#v]�y�\\x06��_��攡�>rz;1�0)�ҞAZn�Б�\\n�i�EIP�ޭ9�k/�i6T�Vv\\x03\\x1eX���6��J�Y��1�f-�|�J�NV��\\x045j[r\\x05g=K�E�M5���V\\x8cR4y^+\\x18�Q��dL�l� �kB�\"\\x01⩄!�V�3����#�K\\x0cE�Ѯ[��j8>n:T�X��I\\x15�\\x0b֯i�Ms T^GV�\\x16ܰ\\x18���E��`3\\x04,3�\\u05cf�b�*oS��a�F�.-�\\x16X�n�\\x7f������7*\\x03�\\x0f����6H�+����\\x0e�~a�wp\\x7f�/\\x19�⽃�~\\x15�\\x06��Ht<������K�R��jXkE#\\x7fE��\\x0b\\'I��G\\x1d�r\\x1e,�h�U�\\x1czW�ZhWj�g\\x04\\x11\\u07b7l�9\\x1e�:\\x03���\\x1a�:-�R8k�S�?B_\\x0c�+q%�XѾg\\x02����ǅ�kb�|Z�q��\\x027`2}+��|\\x0fc}\\x0b��(���\\x1dk�|k�?��\\x06�\\x00Fw��Q�hۿj�>c\\x19a���;�\\n\\\\hwI\\x1d�\\x12��\\x01�V���\\x1f8]��\\x18u�k��k�Fg���P����/�\\x18\\'ڽ\\x1e�H�n%�~�cq�\\x1cz�4�q�r�\\x13X�\\x14��\\t�\\r\\x14�k.:�Z��i�D���\\x03\\x0b6\\'\\x0bZ\\x10�����\\x00���\\x14W\\x00\\x12õJV2z2��gL��ـh����Uu�q\\r�:&豉P�\\nՓ?�\\x1a�rS\\ueded\\\\�\\x0b-�v�\\x0e60?�ު2t�<E�̬|��7�p�z���S�i�Tg������\\x1c��{�\\u0383��m\\t�\\x1b�L�\\x00\\x0e9�\\x0b��x�&Vlm$\\x01_�d\\x19����r>70��9ܤ�\\x08�P�*��\\x1e�i�!_Y�y\\x1c�\\x1b��4�MM��\\r/�G0r�\\r��m�����)�Qp�e\\x19b��\\x0eFq[��]��v\\x7fʪϦܩ����\\x06��V�ΫK����Z\\x16ݩ�cp\\x0f���\\x00�jŽ���&��\\\\�.)�, �:EڿZrF�ч�R<D���W3���Q�<���\\x0f��l�[�6��\\x1b0:���\\x0c�\\x19�A�_�-�8�j�+u\\x1f��O\\x0cLd\\n\\x00\\x19���\\x08\\\\�\\x08\\x11�<W\\x03�\\x03S����\\x7f\\x0fX��\\x18���k�6�\\x0c-�gh�+��q�\\r[ƺ��܈ۂ~��;ͱ�Ԕ\\x17C�2�\\x0b�.ǳ�,�-���@�5�U\\\\�n�װ�H\\x15P\"\\x05\\x03��7�Q\\x03����A�-�Pp+�>c�=�b��i��ʤ���\\x08���X�\\x1bEm�ǖ\\x19��ل�m\\n�����s���0%� z\\x0ekv\\x08F�J�T\\n��ȭ�\\x123��>~���ֵ\\x11kv��ռ��^\\x0e\\x01�^��k���\\x9a~��-�O*�G�8�X�\\x1f\\x12��}\\x04�0\\x18�H�^[�2�\\x10�.�����k���X�\\x0f\\x1d?*�m\\x19V��\\x1b��%ʵ�a�qRXL�6�n+�g�nDsm<v\\x1f�E�lʇ�k\\x13ʵ�4gE\\x12�\\x1d��s\\x06�tnÊn��D�}j���E�w\\x07֔�2�Q�r�?�ż7\\x08>p�7К��\\x1a�o~�\\x11}�\\x1d\\x07�}/�ً�IA\\x00�\\x0c\\x0e:f�K�Zo�ew\\x19\\x19{bFOS�s_S�c\\x1e\\x16�U�;\\x19AT��<��\\'=i��nH�Y�\\x10q��!<����P~Қ��j-N̯���gg�B�\\x07��4$C\"qQl�e3�Q�AY�\\x0c���\\t���\\x00.�?�\\x02���&��\\x16��\\x00|\\n��$@�\\x06��co�\\x02�6��~�>��\\x07�����\\x12�Sn�?�\\x01U������j��\\x1a�:�\\x04�/j\\x0fP��qU��\\x0b�A�8K�=�\\x11Ųg�T���-\\x18�n��+韰D\\x06J�I�8�*��u��\\x0fc\\x03��?g�A�@?*�/��o�\\x00<\\x0f�_U�\\x08��A.�\\x1f�Gת����߳�#;a==+����\\x0f\\x04i�ݷ�c\\x91�����$yh��ɯ��k�\\x00\\x11\\x0b{�m>2�@\\x04�zqSW0��U*\\x10����r\\x13H�eP\\x00\\\\�\\x7f�6~]��Wi��i����רN\\x0b(��]G�,\\x04ZU�U��_\\'^��&���\\x0c\\x1c\\x14lz��m�\\x15 \\x1c\\n�=*<�LW\\'�K6\\x10�;�sc\\x19�\\x0e�\\x00�\\x15\\x0e]OE˙�\\x1a\\x16�\\x14\\x03�Z6���\\x1a�2�\\x00\\x07?J�b˸n\\x04\\x1a��/cy]�\\\\sNwr� �\\x03Sӭ\\x13}��£�\\'\\x15Z���\\x04jc\\x17��#�\\n��-\\u0560�=�f���f���5(\\x17d�0,G]����\\x12�9�\\x00�,�����Vv�<\\x1a���N�VH��\\x7f�r�\\x06З7�U�5��\\r>�X�w��\\x1f�1SX\\x13m�I\\x16y<מ�?S��It��kg,��#=\\x7fZ�oLZ�\\x13\\x03\\U000ba05a��<\\uaad6m\\x1d\\x06�\\'�d�u)��#q�,j��\\x05�\\rt�\\'��%�\\x07V\\x1c\\n�SYt�FN\\x02?zdCc�`�\\x04\\u058c1��9�\\x1b[���H�AY��\\x14�v�$�e��\\x05�*���]pNH\\x18��ϒ�b�\\x1dD�yf��˓z��\"ɒr\\x05f�\\x07Q^��_O|(\\U000357c9`��Uy\\x03\\x10A�ֽ!�\\x0ei�\\x0b\\x1bq�v��\\x18L�{\\x15\\x13���|/��x8�\\x1b?J��k�������Ed\\x1b\\x02\\x04�~*\\x16�5c#\\x7f�_ʻ\\x7f������v|?6�t�s\\x13��\\rG��s�\\x00<�\\U000afe26�\\'d\\x13�=����\\x7f����\\x7f*�9�f�����(���\\x0e��\\'�Z\\x16�\\x00�4C\\x19.��D~$@9�=<A\\x11?6\\x01�%�Q��E�Yv>Ƈ����\\x05��Q�ԖM�F���u֠#�5b\\x1dV\\x06���7���R�ϳ ��4�1��3�W��������f�3�ԭ�\\x03�εb��?{\\x07�^Y\\x05�e{g��\\x06?�*ű��\\x08��\\x12~к~����\\x12�ن\\x17��MK���\"S��,��ч�l��_�\\x03O�\\x0cy���_(�g�s���wW,�N\\x17�P�ƶг��\\x07���x��\\u061d��S^N>�h��s��{ۜ��u�Z49�\\x05z\\'�<P4�*�R\\x16�\\x0b�W���Z\\x11jm\\x19?(\\x03\"���\\x1e%ӭ4�V��R���\\x19\\'\\x05����m\\x1e��\\x1d\\'�ԖV�D\\x04c�W��[�\\x04\\x1aվ��D��&�\\x1a?\\x11��}��\\x08�=d2\\x05��j��o��y�ż�QyS\\x1c�ۿ\\x00j\\x1d9M]\\x1d>�1��>���c��\\x19�\\x1a�u�y0\\x1d�\\x07o\\x15�\\x08<`|A}\\x15�\\U000bf6ceU����SÌ�!�\\x00)��ڹ�y]����\\x10����x��1����Y�\\x1d:n�tZ�Q�\"x��\\rM�K+�Ig�#a\\x08�e#�^/y\\x06��=ܚ=��M\\x12�2ɝ�zWm:\\n���[���/��e�Z���=�G�Y���֍��c���\\x11��Y\\x1b�_���\\x14<a\\r�W�v$V�\\x161���z���\\x00\\x10��mYmZ\\t�pYpv�Wª}L�b���u=�R�-3�1M\\x1b�e\\x1bH�k��\\x15�M���~X�\\x19�/�\\x14���w\\x13@bh�n\\x18��wB���#q\\x02�����\\x03��\\x00Z��+1�cu�uzƨ[����0#�x\\'����ܒ�ʱ�+�t�O��\\x04���\\x11z\\x1f�xw�/\\x00�u-�l�Q\\x15s�:\\x1d��u��\\\\��!�~�^-E#���̣7\"��\\x0cj��2�rNH\\x15>�|d�@͖G�ڛ]�b}%�C]]+_x�p�������\\x11j��J�T�s_\\n�k��[Ew\\x13�$x9\\x15m�\\x00iK�:gI7�03�_K���+#��.Y�϶伵\\x07;�~���m����u�\\x1cߵ=�Q���\\x14��RK�|Ϛ�^\\x16h��G�qj\\x10K\\x19\\x01��4�6\\x1f�-|Gg�W\\x14;N�\\x00�_�\\x00��OV�����D�p�M����\\x00�ȫ�������\\x06����q��G\\x0f��k��:�����p���/�\\x13�#ܜVo�D~�=\\x0e�<S<x��j�~<�\\x00r�k�i\\x01\\x19�B�c\\x1cg5*UV���=3K��ˀĀk�ӼK�Ƹ$�ׅZ�GN+�����¡��j�*��I#�/uR��/�W9��1(��\\x11��>֗i�5��\\\\�B䟺����Ք�����j�x����ny�8��o�\\'�lŴr:\\x15�+��\\x14�f���sW��\\x00\\x0b<.�����[|�Q���\\\\�ڍ\\x18��J�s���ON�\\x7f�x�K�ho���S�\\x1a\\x12\\t�\\u05ec|&�#�]�\\\\ͪj�K!�\\x12W�\\x15��\\x0f�/b\\x08\\x0e�\\x14`p\\x1c���X��a#\\x19?y��Bk�\\x18��-���`�.k���w���<Y�\\x02�\\x7f\\x1at5�j��i�6fl�ɯ(�mf�W3_J\\x0f$���ߴ\\r�G\\x03�rT^�1�b����{�Kj���\\x18r�:ך��h���\\x10Z=�,~dU\\x1bH�_��߇#8�\\x0fJ�{l�\\x14�\\x1c��\\x0c�|���ʞ��m\\x1b�Ƒ4���.�9ɏ��^��xN�O�^\\x1bx��\\x1b��]\\x00���jG��\\x17\\x15��;�\\x16�pj]IKve��F�\\x1ey�\\x0fF���J��\\x03p9�y֓��KsnNC[�#ߊ��\\x16X��2�RR�u������=\\x1c��\\x12ՅX�AX�����\\x17���\\x15�\\x01^?�\\r��\\x02H���s��_\\x0e\\x1f-u\\x18\\x01�Lx��ξ B���\\x13�V4�y�/\\x05�.\\x0b&�q�^2���X�1��r�\\x0f.�7l�s����ִ�\\x0ca��ڶ�V��J�Ӯ�c=�a�.Ep\\x1e!�\\x16�\\x0e\\x1cn;��WE��\\\\G�\\x15U���g|A�Z�\\x0e̸\\x0cI\\x15�Y5^Ijy8ض��FKt\\\\\\x0cf��k�\\x06\\rZmR2ǧ\\x02�O\\x7f\\x16��_}\\x19��>uE�\\x04�pqN�T\\'Q�<�h�уҶ�;\\n�8Q�\\x16�Aр�]?�\\x15�CM�0S��w2<�\\x14r�?�\\x15^]\\x19�+�1������7QN�{���\\x7fe��\\x14��Xu\\x15���=)�f����>�y\\x1c�i�A!y�8�X`\\x00\\n�\\x16I�-Y]9J��sʜ\\x1fCE)!<54�)\\x0b�\\n��3����1[��b\\x0b3�x�o��Vٶ��Z��7��d}�]/ܞ[}d�y��j���~l�cN�~���x\\x15�����r��\\tܡ���i���U��У`4Gh\\x07Ҽ�D���t=\\x1c\\n��l�r�\\x1f68��9�\\x7f\\x16�\\x04\\x16�\\x19��ܑZ���kf�\\x03�x�$���]��9�\\x01�y�\"\\t�>���ŭ\\x0fy�\\x0cZ|�LR,�Cul�C{\\x1d�\\x10��,�\\x0fF���-�_�<Wj�N�\\x00��]զ��\\x1f��q��[�MP\\x06D*T�\\x00:�%f�H\\'�}i��q?��X�\\x14�=C�9uc�A�^q�?�~ �\\x11���WWP�\\x1b�V��ר�\\x1b�m%�����$\\'��b⎇(_V;I�0iG�+�\\x1a�\\x1cn�^%\\x15�Ɲ��I�S�5��kE�R\\x0e8�k�Fr����\\x1b�\\x11H��\\r|լN���\\x08��k�u�A���x��\\x16��\\x13x�\\x10\\x06v��z��r���\\x1cR�����z\\x7f�q�5�<Z�]��w~\\x1f���5f?����\\\\\\x17�fXuMQ\\x01����ӎ�k3μ/(��ǡ��\\x00\\x16\\\\\\t�-���5��\\x17\\n�{���]\\x17��O\"&\\\\�Mt9(�0{\\x1b^\\x1c�E��kq�s�ε�,���n\\x13�($�<�\\x01��\\x05e�w�\\x0c:W�x�E�<8gQ�h�qӁ]8*��FU��\\x13���f�sw\"�6�1�Q�\\x122,��Ȭ��!y�k�\"�v���J\\x11v5N���\\x1fۏX\\x7fi�s�_=k�άth-\\x17��\\x17\\x1d*)\"����TRG�_DxE=��\\x14y\\x07����c�Z\\x00��b�с��S&�c�&4WT\\x1b�^�\\x0e�\\x1d�\\x11\\x1f#��c\\x0e�\\x11}Me\\'esX+�$i�n�al�Q�r�)�\\x02�2AϘ\\x01�R�G0i�8+��|T6�\\x1c{rL��2�*{J�>�\\t\\x0eJF�����s\\x06�\\x00?�q�\\x01�V�]�֯&\\x06��k�|A\\x10\\x1e\\x1fh��m�\\U000af734\\t_K�H*�C7A���\\x158M\\x17J|��>�����&v�r�\"Vk���|��\\'�/�}R=f�C!ˮ*�ǧ�Ö��%n#\\x1fw�y)4�z�M\\x17�hh�\\x08�6զ���UK\\x0e��:]��1q\\x14��Cl\\x14�mpr+�\\x02^�\\x1e<�\\x1a\\x07Ԗ�%n��1_Bx_�ǇT�&���h�R\\x1a�\\x1f�W[��\\x16h�0��D�*����I�N�\\x1a�\\x1d\\x19p*H|q��k3ũ[�NW\\x12\\x0e\\x7fZ�T�g��:�D�����AX�#?\\\\W�|E�\\x05��fa�p������B>�Q�ԞzUuQg��ͥ��V}>D��,Q����(�Vn\\x1b\\x1cל|\\x1a�c�x\\x03K�}OS��\\x1f4ns��+ȿr�\\x18#>��SB�L�ԑL\\x12\\x15�\\x02���\\x1f?�m.ܢd\\x13^��F��o���ּ�B�3_\\\\ɑ��\\x1d�9�4��ͣ���� ;p\\x7f:�s��maK\\x11��~u��C��7p\\x19��_6�B�Y<i����x�u�>$yr��<72�r\\x16\\x1c� WE��\\x1e�\\x01��s:\\x06\\\\\\x15\\x03���]���\\ue62d�\\x1ei\\x12T�f�X\\x0f�Mzv�0��0mߗ��+�m-�A �\\x06k��}pnCC�\\x18�\\x14)rI\\x04���y\\x1f�t�������I�r}9�p8�V��`֚�p\\x08f��aOJ��\\x07(T��V>\\x07\\x15\\x19Fw97� �*/�7����\\\\}ڇ�_���N���9y�z\\x0eʎa�O������,��*i�jvL\\x1cP#�z\\x00�m\\x00T�pz�\\x14�zBj��[Nx��\\rY\\t/#\\x0f��+ \\x0ct��]�+o���Ǵ�u\\x15ǋ��N�N\\x16\\x1e�ge����x�5�6q^q�-4ɫi\\U00032079�@�w�4��\\x10\\x10W\\x0b�zW��,j\\x1e;�d��\\x10;��uj)��J_\\x05��0��\\u0560\\\\�#��_6��մ�FIFA�N\\x08��<[������־z����r���\\x18���\\'�#\\x19����/�\\x04�R�]��\\x00��7\\x0c���o�\\r/�\\x17�Z[�Y\\t��G5���<N�S��gد��_Q|.���:K/7��\\'�a^�$���P���_\\r4h5��v�`�#q\\x04�^���?��i��v�!�(\\x06W��N:��^%������C)#\\x1e\\x19koJ�}�����x�{Q\\x1a����:N:�7��\\x07���[�#b~U\\x03\\'�W\\x7f�\\x0f\\x06�Y]���\\x1c�c�X�\\x0f�~,�\\x17L�rX��\\r*�m\\x1dUz\\n��έh��%�hŚ����\\\\Ƣ�e\\x078��V�\\x10�y�q:����7u��I�\\x10՜\\uf3b5EKS\\x18?3p1Y�=���ie�\\x1d�^�n�K��\\x1a���Ĝ���-\\x1a�\"��0\\x1b��lW��#,N�;\\x14k\\n�Y�5$���1�e�5�{���_N]�\\x04��%�\\x10\\x023�����u\\x0e�8�ǔ�Ev��y��E\\x7f\\t(id@3��W5\\x16�n0I�G�xDN��$\\x11�T��\\x12�^�Ѱ\\x1aZ\\\\&H���V|\\x0fxl5\\x7f(�\\x0b�i�\\x1b��ӖU]�����u�NJ�mՄ�F�����e����\\x0cך\\x14��q^��x��iv\\x141d��ٯ*h����\\x1c��>\\x16\\'�fT�*6T)��<�N�#<�E�z�ҿ#����=h\\x08\\x18�\\x14�Uv�Y\\x16D���\\x18\\x01ޥ\\x7f��6ZW\\x02\\x1294�\\x07#\\x15)��\\x06MD���,Jr\\x0e;ײ|\\x14\\U0003f7e9���\\x1d{W��\\x19v\\x00\\x0c�_Q�,��h^\\x1d�r35�\\x0e+��*���p4���{Ś\\x1bEc=� (REx�-���f�FY\\x0be�\\u07fe&2i�\\x1e�[�d�W��V\\x1f)n�\\x1f.�y�k�\\x05w�\\\\���\\x17�Y���C�\\x05\"�G�^\\x1c\\x17Z\\x15��d\\x04��\\x1ae�IixH�e�\\x1a�E��M�b\\x7f���Ԫ^I��s�MBy-��H�\\x0f\\x17#���_\\x0c�~fh\\x0e�\\x0e\\x1ds�xψ�0^�zf�i\\x1a��=��\\x1b\\x11�\\x0e=k�*PU�X��IR���ǆuk]_L�S�d�qڽ?æ\\x12�YQW\\x1ds_\\x11�(��\\x07��y��#*OZ�\\x13G��kqn6̫�����M�n-\\x1fG��\\x1a��>��\"��32�3�\\x04���A\\x06�1\\x1c�^\\x11c�{a\\x18/u�}\\x1f�7�?\\x19��\\x16Ȥ\\x17!�*A\\x19��������\\x15x�8�\\x00G\\x1e����cY\\x17y\\x05�m�\\x03�^S�|]kˉ\\x1d�8=\\x06kK�]�x��֫(2B��EqM3IZ\\x10l�[�Z\\x1c��!��\\x0f�0�8�k\\x17Y�C�]3�*�v�k�o�i:\\x7f��TD\\x18\\x03�^9�����{t��v;k��\\x1e\\\\��y���E�}fI\\x08\\x1evy?�|�+E��z�\\x01V�\"��U�\\x1b����\\x00y��W����>�y\\x198!ɮ�o�J*ŭ\\x0e��Go�\\x13���{�\\x11�0�\\x1d+�Ҵb4�P�I`\\x0e~����˩\\\\��\\x0eկ23�c��\\x16�f}g��:)ز\\x11�{���Yf4�\\x10Ȓ\\x0ce��}\\x01�7�[��2��\\x03HO�k��8�yWķ�\\x0e6�\\r�sAݴ�Z\\x192��³F>b�\\x01�^Sx�+�\\x00\\x1d+�|+zg��ݎK.q\\\\^�\\x07ٮ�\\x1bz���\\x1c���6ϛͩ��#���\\x04�\\'�M/\\x0cV��_�\\'s�\\u070e�=Uw\\x0ekB+ԕ3���=N]�z�í�pX���v�cR��y�s��\\x7f��\\x0c\\x03�\\\\Jx�\\x13\\x01�\\x03�j;�\\x1e��.\\x03�oE�\\tԄtf\\U00044971ٷ\\x04�K\\x1b\\r�99�+�.�+�\\t\\x11�0:f�����8T�A&�%��C��3��%`5-b\\x18��P��k�/\\n?���`R\\x18�Q�_)|\\x02��\\\\��\\x00`e�\\x15�>\\'M.�ᄸ@6�&�c8��\\x0b#��\\u0879k�ψ\"�A\\x08��lW\\x15���X\\x00���X:��^��@�g%�+��-\\x11��\\x9c��\\x15�m{:|��i�}Σ@��\\x16U\\'?����^3�\\x12\\x05�O�v��k��7\\x18v�\\r�H�b�3��٭u\\x16\\x07������E;�c�\\x11�>���\\x06����7g��ԟͺbA;���\\x11\\x1d���}�\\x17�\\x14�\\x1aK���n&����b9���\\x7f\\x13]�Č]�7$�^q�X}�a��\\x07�L�l�����.=\\t�\\x1cc����a\"�/E����s\"����ľx,e2g��5�xu�lI�{b��\\x1f�\\x00���W��;\\\\��9�c]o伙v\\x0e3����V��C\\x13�̿0py��<9�gW���&\\x18��~\\x10Y��imo\\x1f\\x1b�s\\n�Hһn6=\\x13�Z̷\\x17\"\\x08�K\\x00\\x0fҼ���ȵ�--\\t�X\\x02TW{{��j����3��ߌR\\x0b�\\x12\\x8aO�\\x08�A�\\\\M�s�0�0�hD�\\x07x���\\x0f¼?D�D�]D��\\x18��\\x13LY�3\\x10<�Z�\\x0e�n3��!P0K`�:�lk\\x18�iǡ�t\\x0b_$d�<���\\x19�ͧ�\\x07j���$7\\x00���>�\\x1c�%���mҩ�A�����\\x02Y؋k�u�8<Ӆ]u\\'��R�\\x9f\\x1b\\r\\x07°Z�\\x0c͒\\x07�T��N?\\x12\\\\jۛ2��5�Z\\x03�-�6ց�H��m٥Ͷ� �\\x19S�?�8��D�w\\x0eV�\\x7f\\x0f�������U��_Ɩ�G���s���YK��\\x08�\\x14���hjV��Hr�x\\x1c\\x1e��d؇G\\x16�ٜX�\\x11�\\x06��S7.Ozh\\x02��O&VF<����_��A���ēN�\\x19q��n20k.��\\x1bA\\x08+���I:���nMxUs\\x1a�mGc٧��V��Ƴ<���5E�,ۉ%�\\x1c�<�^\\\\�Jn�gTa\\x18쇖bs�hhZ]η��ij�g��S���.�k��H�\\x0c�r=\\x07�{��m.�=F\\x08tؖ��\\x11��0���)Y\\x1a���\\x1e\\x05���\\x13����\\x0b�2fG��y��<s%��YEq�\\x01���[�\\x00\\x11|e\\x16��sp]�M�\\x01���6z�w\\x17W\\x1b[����W\\x17*��=\\x08��6G�î<\\x0fai\\x1b�-ġI��}-�i\\x02��\\x1ew��X��_(�6�|Q�\"�q�\\x1be��\\x05}ui0�\\x0b�\\u0605�(���|z啑�a��Q>�z>ͫL\\x14\\x00�����\\x16�[I���{\\\\Z���֣0lE3\\x1c\\x0fξv�矬�آ��9�\\x0f�pPk�\\\\�q<Di�<��\\x13�gj6�n\\n\\x1f�z���f�\\x19D�#d\\x18b}k��\\x0cv֗a\\x0c��\\x1e��t*��\\x0f*t�egԱ��2(\\x125�\\x00��w5z.����\\x03B�z��\\x0c�\\x11���W$�1m\\x12\\x13�Jq����~\\x18xr��\\x18/����g\\x03̌v=�\\x19ί4w��\\x07?d�\\x19�|3v�;��w\\x14�<\\x03$��H��ھ���`l�D��\\x0c\\ue938��\"W\\x7f-q^,j���Ɲ�\\x1e\\x05��m��\\x0cL�DG9�{���|���ƻ@�+�֠X.ʢ`f�?\\x0c�\\x18�D{z��I�j�C��\\x1d�������G�\\\\?��MSQԦnLr`W]\\r�\\x19�\\x06�:��uc\\x1d��J�zC���\\x18*n�Z�çCl���?��D>9���\\n\\x191��[ڦ����6�\\x17�+��\\'�\\x16�fK\\x0f�+�\\x14\\x0f�ȥ\\x1e�\\x1e��;��T\\x168���z���˃\\x04k���\\x01�xv���5\\x01u���\"G5�.�\\x17��,��Y0�Y\\n��[R�.l�\\x1b�Q�%��呀a��5�V:\\x16��\\x01qe\\x1c�>�\\x15\\x18�o�z7�M��]��\\x00�R*��K\\x11+\\x1f8�hR����\\t�o�~\\x1b�j)6�\\x00fe<<\\x1f.?�s��>�`x��Y���H����s*�0�\\'�[�Km�^���:�h��Ӎ�x\\x0f��e�a�ˍ.U�=pzכ��?\\x16�\\x15:{d\\x1ct���?qn��Us���%��Ȭa�$f��\\r�֍5\\x1b�|�#,��t��&m�i(�8�P�\\x02�3E\\x00h�S�nDq9M�k7|W��;^��.�\\\\\\x15\\x12\\x15���\\x13�k�b��r�\\x06�>�s$c�r�:sҲ�n�N��s�o\\x19�j���3�\\x0e�-�j\\r�r�\\r�;g����6o\"A)F�c�@�+����K�\\x11Β�\\x1a?8叠��ҍ�l���=\\x17�pҞ�W����\\x00vxS���� �>��Ik\\x1cണ�\\x15��\\x0e���\\x1e��y_�u\\\\\"z�C�ɬ��iv>_���W�c&�T=�*j\\x1b\\x1d/�5�e��;\\x10�s���7]V;[��2��I�V�E�\\x0f>�Wa���^W�x��[�\\x18�q����gRhҴ�Qk�^?t����4�r�{�\\x15�}\\x06��\\x1a��R���\\'8�so6�xA�Ğ_�����v�\\x07�^\\x0b`%��N$�鯫T}�?gOvx���+����-��|!e��vW�&o2闸���\\x1f���[�\\x01�\\x0c��N\\x7fx��\\x07�yƧ�\\\\j��\\\\�L�J�\\x05��Eoq�\\x10��`�)��irKS�s|\\u05cb������v\\x1e/ѡ���I\\x13��~a����8����c��_�\\x1f\\x03�3]�\\x0bV���&�pޤ�\\x00J��F�ŗ����\\x1bf\\x04H�\\x9c����N\\x0e�>�-ǬT}��G=��\\x1a\\x1b�T�|?�mh�? U_\\x12��\\x00i�(\\x17$��{\\x7f4]�x�\\x1d�Ⱥ>�R��uq��J�<��O]�����\\x10��x �y\\n�\\x10+B��p]+\\x19Sq=\\t�w��(�����[N�\\x1ep+\\x0b\\x97ڄ׳i���\\x0c\\x08��\\x7f*��\\x0f\\x08%��\\'^\\x0f�T�>\\x00�k�By.���:�4��R1MX����kmi����X\\x01�kЬ<\\x0f��>�t6Ѯ��\\x15�Zܶ���9�Qy5�0�{�I,P��x�{\\x10���\\x1e!7w\\x05Q�L�\\x02�i�Ͻszqi2_�].���\\x00T��ڲ�N\\x08^k~����5���@\\x19\\x1d+��QN2(����,�H\\x00\\x18� �\\x00s�^�\\x04$\\x0crj\\x7f�\\x1fA�֫�\\x1c�˩�uH�id��M~�| \\x01��w�ޔ�2}M\\x00k�+:\\x04�B��Mz7�~\\x1f��Y����l}�^S\\x1c����{�y�i^K��ݙr8c�\\\\��QњҊ��g��k��\\x00���\\x12$opq��d\\n�.�촨\\x0b�ŷh���M�h�#Tb��\\x9c\\nw�݄0��\\x03ך�\\\\G=��{Ԩ�X�څַ~�]���o\\x1b�t}=�?�W\\x18\\'��m\\x19\\x14[J�F�:���\\x18��c��\\x1es\\\\�<һ:f�69�\\x10ꄣ�\\x0cO�+���\\'\\x18g�{֝�-\\x13�rs\\u07b9��\\x1c��\\x0c\\x1d4��֨���c��6�\\x01#$�\\x0c�d�1,ǹ��<���Pz\\u05f9\\x05c�rm����M&)W�h\"�\\x17&\\'V\\x00��1^��#�T�\\x13�\\x06�\\x7f!6\\x12\\x10<�<-|��Cu5�lO����j��Q4�)U�\\t\\'\\x03�wͶ���P@��T�\\'�I�\\x1b[��kK�nX\\x1c\\x16\\x04\\x13^E�[���o�s4��aX���Ҳ?e��\\u05f5\\x14�i$P>�1#�|�\\\\$ ���8\\x1ceJ�Q�\\U0010df4a�BG\\'�[V�\\x19P��\\x0f��~�W��v=��lnF���\\x11�.?���Gol�1��*���R�LVÂG\\x1d�\\x07�R6���\\x11�ǎ\\'�\\x188�4�w�\\\\��Mt\\x1a���\\x0e�s�L�--\\r�\"�0��L�\\x03\\x15���\\x15��`qP�^慝�\\x15��\\x10\\x17\\x15�n\\x06��t\\x1ah��ֱ��R6���\\x04�\\x15c�5\\x1d�AV�\\x18�+S����')"
      ]
     },
     "execution_count": 12,
     "metadata": {},
     "output_type": "execute_result"
    }
   ],
   "source": [
    "rdd.first()"
   ]
  },
  {
   "cell_type": "code",
   "execution_count": 13,
   "metadata": {},
   "outputs": [
    {
     "data": {
      "text/plain": [
       "org.apache.spark.api.java.JavaPairRDD@4d60dd4"
      ]
     },
     "execution_count": 13,
     "metadata": {},
     "output_type": "execute_result"
    }
   ],
   "source": [
    "rdd"
   ]
  },
  {
   "cell_type": "code",
   "execution_count": 14,
   "metadata": {},
   "outputs": [],
   "source": [
    "rdd = rdd.map(lambda x:(x[0].replace('hdfs://zh:9000',''), x[1]))"
   ]
  },
  {
   "cell_type": "code",
   "execution_count": 15,
   "metadata": {},
   "outputs": [
    {
     "data": {
      "text/plain": [
       "1054"
      ]
     },
     "execution_count": 15,
     "metadata": {},
     "output_type": "execute_result"
    }
   ],
   "source": [
    "rdd.count()"
   ]
  },
  {
   "cell_type": "code",
   "execution_count": 16,
   "metadata": {},
   "outputs": [
    {
     "data": {
      "text/plain": [
       "<matplotlib.image.AxesImage at 0x7f1778fef6a0>"
      ]
     },
     "execution_count": 16,
     "metadata": {},
     "output_type": "execute_result"
    },
    {
     "data": {
      "image/png": "[encoded data removed]",
      "text/plain": [
       "<matplotlib.figure.Figure at 0x7f174b8acba8>"
      ]
     },
     "metadata": {},
     "output_type": "display_data"
    }
   ],
   "source": [
    "%matplotlib inline\n",
    "ae = plt.imread('lfw/AJ_Cook/AJ_Cook_0001.jpg',)\n",
    "plt.imshow(ae)"
   ]
  },
  {
   "cell_type": "markdown",
   "metadata": {},
   "source": [
    "#### 测试图片文件的操作"
   ]
  },
  {
   "cell_type": "code",
   "execution_count": 17,
   "metadata": {},
   "outputs": [],
   "source": [
    "pic_1 = Image.open('lfw/AJ_Cook/AJ_Cook_0001.jpg', )"
   ]
  },
  {
   "cell_type": "code",
   "execution_count": 18,
   "metadata": {},
   "outputs": [
    {
     "data": {
      "image/png": "[encoded data removed]",
      "text/plain": [
       "<PIL.JpegImagePlugin.JpegImageFile image mode=RGB size=250x250 at 0x7F1778FE7F60>"
      ]
     },
     "execution_count": 18,
     "metadata": {},
     "output_type": "execute_result"
    }
   ],
   "source": [
    "pic_1"
   ]
  },
  {
   "cell_type": "code",
   "execution_count": 19,
   "metadata": {},
   "outputs": [],
   "source": [
    "pic_scaled = pic_1.convert('L').resize((50, 50), )"
   ]
  },
  {
   "cell_type": "code",
   "execution_count": 20,
   "metadata": {},
   "outputs": [
    {
     "data": {
      "text/plain": [
       "60"
      ]
     },
     "execution_count": 20,
     "metadata": {},
     "output_type": "execute_result"
    }
   ],
   "source": [
    "pic_scaled.load()[1,10]"
   ]
  },
  {
   "cell_type": "code",
   "execution_count": 21,
   "metadata": {},
   "outputs": [
    {
     "data": {
      "text/plain": [
       "60"
      ]
     },
     "execution_count": 21,
     "metadata": {},
     "output_type": "execute_result"
    }
   ],
   "source": [
    "pic_scaled.getpixel((1,10))"
   ]
  },
  {
   "cell_type": "code",
   "execution_count": 22,
   "metadata": {},
   "outputs": [
    {
     "data": {
      "text/plain": [
       "(42, 59, 113)"
      ]
     },
     "execution_count": 22,
     "metadata": {},
     "output_type": "execute_result"
    }
   ],
   "source": [
    "pic_1.resize((50, 50)).getpixel((1,10))"
   ]
  },
  {
   "cell_type": "code",
   "execution_count": 23,
   "metadata": {},
   "outputs": [],
   "source": [
    "flated_vector = list(pic_scaled.getdata())"
   ]
  },
  {
   "cell_type": "code",
   "execution_count": 24,
   "metadata": {},
   "outputs": [
    {
     "data": {
      "text/plain": [
       "2500"
      ]
     },
     "execution_count": 24,
     "metadata": {},
     "output_type": "execute_result"
    }
   ],
   "source": [
    "len(flated_vector)"
   ]
  },
  {
   "cell_type": "code",
   "execution_count": 25,
   "metadata": {},
   "outputs": [
    {
     "data": {
      "text/plain": [
       "b'\\x00\\x00\\x00\\x00\\x00\\x00\\x00\\x00\\x00\\x00\\x00\\x00\\x00\\x00\\x00\\x00\\x00\\x00\\x00\\x00\\x00\\x00\\x00\\x00\\x00\\x00\\x00\\x00\\x00\\x00\\x00\\x00\\x00\\x00\\x00\\x00\\x00\\x00\\x00\\x00\\x00\\x00\\x00\\x00\\x00\\x00\\x00\\x00\\x00\\x00\\x00\\x00\\x00\\x00\\x00\\x00\\x00\\x00\\x00\\x00\\x00\\x00\\x00\\x00\\x00\\x00\\x00\\x00\\x00\\x00\\x00\\x00\\x00\\x00\\x00\\x00\\x00\\x00\\x00\\x00\\x00\\x00\\x00\\x00\\x00\\x00\\x00\\x00\\x00\\x00\\x00\\x00\\x00\\x00\\x00\\x00\\x00\\x00\\x00\\x00\\x00\\x00\\x00\\x00\\x00\\x00\\x00\\x00\\x00\\x00\\x00\\x00\\x00\\x00\\x00\\x00\\x00\\x00\\x00\\x00\\x00\\x00\\x00\\x00\\x00\\x00\\x00\\x00\\x00\\x00\\x00\\x00\\x00\\x00\\x00\\x00\\x00\\x00\\x00\\x00\\x00\\x00\\x00\\x00\\x00\\x00\\x00\\x00\\x00\\x00\\x00\\x00\\x00\\x00\\x00\\x00\\x00\\x00\\x00\\x00\\x00\\x00\\x00\\x00\\x00\\x00\\x00\\x00\\x00\\x00\\x00\\x00\\x00\\x00\\x00\\x00\\x00\\x00\\x00\\x00\\x00\\x00\\x00\\x00\\x00\\x00\\x00\\x00\\x00\\x00\\x00\\x00\\x00\\x00\\x00\\x00\\x00\\x00\\x00\\x0079:=@=<;7::::9975314C\\x98\\xbf\\xc3\\xbbwIJJFGIHGEDCCCAAAAAAA@??B:79?BB@=:99999::87566f\\xaf\\xc3\\xc7\\xa2\\\\NV[fehUIEFCDFEFFEGCDDCC88:<?BA?:=<;<;<;;99>=H\\x92\\xb6\\xc3\\xb7qQao\\x8f\\xb5\\xbc\\xa2tNKKHFEFGHIFGFDD;9;<?ABA<;<<;;<<<:::?Hepg\\x98iEW\\x8a\\xb6\\x9f\\x97\\x9b\\xa6\\x96WKIHHHIHIEFGHE=;==?CCA?>=<<==;;<<EJT]n\\x8eS7Qv\\x8e{\\x8a\\x85\\x87\\x8b\\x9c\\x98cPIJJHJIIIFGG=;<<?CCEB?=<=<<<>ADELR]szH;[\\x81\\x81\\x82\\x83\\x98z\\xa1\\x87\\x9e\\x9adKKKJIIIIFGG?<;;=CCBCB=<<=<=@EIK[Tv\\x86{THm\\x91{\\x85\\x93\\x95\\xab\\x85\\xa6\\xa2\\xa2\\x96QKMNLJIIGHHA?<=<ADDEDA=<?>@EGH]Mhz\\x7fy~fKR\\xb4\\x8d\\x93\\x9b\\x9e\\xa1\\xa0\\x98\\xa4\\x97\\x84QNKIHHHHHHC@==<AEGHGC>;?CBGGWMLdx\\x80\\x8c\\x96\\x99\\x97uG\\xb7\\x9f\\x9c\\x9f\\xa9\\x9d\\xa1\\xa5\\x9d|ZQLLKJIJIICB@==AEHIHGB?ACEMMV\\x16`\\x82\\x8d\\x96\\x9d\\x9f\\x9e\\x9f\\xa1\\x8dY\\xa3\\xa1\\xa1\\xa3\\xa3\\x9e\\x9f\\xa4\\x8bsOMMMLLLLJFEC?>AEHJHIECDHLMT1Mx\\x83\\x8f\\x9d\\xa2\\xa2\\xa7\\xac\\xad\\x9dq\\xac\\x9a\\x9d\\x98\\xa3\\x9e\\x9b\\xa3\\x98|\\\\ONMMMMNLIFEC?@FILJJKJJNLQ[ ax\\x88\\x92\\x9b\\xa2\\xa8\\xb0\\xb2\\xb3\\xae\\x9bl\\x9f\\x9b\\x8e\\xa3\\x9c\\x9b\\xa0\\x99znQPOPOONMuqnje_^][WVUTSRRXZ\\'dz\\x8c\\x98\\x9d\\xa4\\xa9\\xb1\\xb2\\xb2\\xab\\x9fx\\x99\\x9e\\x91\\xa5\\x9f\\x9a\\x98\\xa1\\x8c\\x7fSRSQRPRM\\xbb\\xbc\\xba\\xb9\\xb4\\xb8\\xb2\\xb2\\xac\\xab\\xaa\\xa6\\xa3\\xa1\\x9d\\x9bVX=k~\\x8d\\x9c\\xa0\\xa2\\xa8\\xaf\\xad\\xae\\xad\\xaa\\x9f}\\x96\\x94\\xa1\\xa4\\x8d\\x86\\x91\\x8ezcXUUUSUN\\xce\\xcd\\xcd\\xcd\\xce\\xcd\\xcb\\xcb\\xcd\\xcb\\xcc\\xca\\xc6\\xc5\\xc9\\x99LTOi\\x85\\x92\\x9e\\x9f\\x9f\\xa6\\xb0\\xb4\\xb7\\xaf\\xa9\\x9eh\\x8e\\x96\\x9b\\xa0~s\\x86\\x82~\\x83\\xa3\\xa2\\x9f\\x9d\\x9a\\x98\\x97\\xcb\\xc5\\xca\\xcd\\xd1\\xd1\\xcf\\xd0\\xcd\\xce\\xce\\xce\\xcc\\xcc\\xc6qHD[p\\x8c\\x9a\\x9a\\x9b\\x9f\\xa3\\xa1\\x81y\\x80\\x97\\x98\\x8b\\x88\\x98\\x8f\\x9avf}vv{\\xc7\\xcd\\xc6\\xc4\\xc4\\xca\\xc7uv}\\x84\\x87\\x8b\\x90\\x95\\x9b\\x9b\\x9c\\x9e\\x9d\\x9f\\x9dQB5SWgr\\x8f\\x93\\x9d\\x9ar`z\\x9a\\xa5\\x9f\\x93l\\x9c}\\x98wWomep\\xc4\\xcb\\xc9\\xc7\\xc5\\xc8\\xccKMLMLLORWXXYWWWK>(TfdMYx\\x94\\x92raFMVX\\x81[\\x90w\\x99iS`[]t\\x8d\\xa0\\xa6\\xa1\\xa1\\xa2\\xab689;>@DGPSRW]bTE8\\x16FFOwLM\\xa6\\xa7{ZJ!\"4wf~t\\x97eMTU[j^GA?B@B#\"%%#%$)+03@MOH@1\\t$\\x16%\\x14]Y\\x9b\\xa8\\xa2\\x92\\x80\\x7f\\x8c\\x9c\\xa3\\x89qw\\x88a;IZT_eLFD<:<#$##\"\" \\x1c\\x1b\\x1a\\x1b\"=C=;)\\x07-@Vm\\x86o\\x9c\\xa2\\xa1\\xa6\\x9d\\x97\\x9d\\xa1\\xa5\\x95dw\\x7f^7=\\\\JQzMGF@?<\\x1c\\x1c\\x1c\\x1b\\x1b\\x1b\\x19\\x1b\\x17\\x14\\x19\\x1d0:?6\\x1e\\x04@`m\\x89z\\x80\\x9e\\x9e\\xa4\\xa9\\xaa\\xa9\\xa4\\xb0\\xad\\x9ebzv_>8\\\\9IpI@@>87\\x1f\\x1f\\x1f\\x1e\\x1d\\x1c\\x19\\x1a\\x1a\\x1a\\x1b\\x1c(&=5\\x17\\x08L~\\x87\\x8bq\\x99\\x9c\\x9c\\x9b\\xa2\\x9e\\xa1\\xad\\xb4\\xad\\x9dcqn`C7X6GmH,,()(+,--.+)&\\'%$$)(:2\\x18\\x19J}\\x8c\\x87d\\x94\\x9c\\x92\\xa5\\x99\\x8e\\x89\\x98\\xa2\\xa2\\x93gnngM3N;AU[\\'\"\\x1e\\x1d\\x1b45433111220059<2\\x1e33y\\x8frE\\'J[\\x7f\\xa5\\xad\\x84\\x83\\x95\\x92\\x89fnqkM4H:8Kb$\\x1e\\x1c\\x17\\x177975544432359>B93A\\x1cm\\x7fkTM_~\\xad\\xb0\\xa2\\x98\\x82\\x8e\\x8e\\x88dwucD2A;9:f(\"\\x19\\x17\\x16:;:869977456:BFB;P\\tOmq[t~qq\\x7f\\x93\\x95\\x97\\x98\\x8f\\x8d`w|aA0A876]?\\'$!\\x1f;=;989988688;QOEHQ\\n2p\\x84<\\x1cGi\\x90\\xa8e1\\x8c\\x9a\\x8e\\x89dz\\x84^@/=99<SO+-*)===::8888899>aWBPJ\\x12\"S\\x8fD\\x1a55Lft\\xa2\\x9b\\x98\\x97\\x85l\\x7fzQ8/C9==J^.++,??>:;9998999FiYGbC\\x19\\n@}\\x91S]n\\x8d\\x9e\\x97\\xac\\xa6\\x99\\x95u~xxF5,A3>E;g2,--===::::::9;<Cwh=jR,\\x127R\\x82RISo\\x90\\xa1\\xab\\xa2\\x95\\x8bu\\x8e{|>/2E3AN6d>-,,>>>?;;=;;;;=I\\x80mGp\\\\=\\x12\\r7hqx\\x8c\\x97\\xa4\\xa5\\xa9\\x98\\x87{\\x9e\\x92\\x88\\x82,+;B5@Q:XC0.,@@@A??>;;9;?f\\x8cyVkmK\\x1a\\t\\x15B{\\x7f\\x95\\xaa\\xad\\xac\\xa1\\x87wp\\xa8\\x89\\x83\\x8175>D?Hf>LK0-,???B>>=<==>@\\x86\\x9azYl{L)\\x05\\x02\\x1dRw\\x84\\x83\\x88\\x97}jY\\x97\\xac\\x85q|.4HJ8^\\x8cBDY5.+=?A@??><<>@G\\x90\\xa7mem\\x82U3\\x07\\x03\\x01\\x18IamoXA;F\\xb3\\xa7\\x90]\\x811AZN6i\\x9dX>Z:1*8:>@>A>;;@Af\\x8c\\x9bbkh\\x8ea0\\x0c\\x04\\x00\\x01\\x1d#-01/)`\\xb0\\x8d\\x9c`}8MrP&_|e>SF/**+2687=@<;<s\\x89~Sno\\x8e^1\\x0c\\t\\x04\\x04\\x16#\\x17\\x14\\x1c#0~\\xa3\\x89\\x95[{AY{p0JYM?IQ/+\\x1c\\x1d\\x1f$\\')\\x17\\n\\x06\\x03,\\x7fwYTvx\\x93`&\\n\\x0f\\x03\\t\\x1c0*\\x1a)6F\\x81\\xa2\\x94\\x80e\\x84Yv_q\\x85:H@VAR:-\\x1e\\x1d\\x1a\\x14\\x0b\\x04\\x03\\x01\\x01\\x04S_E<=t\\x84\\x95\\\\\\x1c\\x0e\\x10\\x08\\x1a.(:ICMVx\\x91\\x95tj\\x80a~ErtAz\\x97\\x9bdZK-\\x12\\x0c\\x03\\x01\\x03\\x02\\x02\\x03\\x02\\x16qS*94zw\\x90W\\x19\\x1c\\x17\\x0e\\x16&Mjpfgn\\x82\\x86\\x95ipp[b6Ufk\\x90\\x95\\x8a\\x93\\x8b\\x99\\xa2\\x02\\x00\\x00\\x01\\x01\\x00\\x00\\x04&3d1\\'.]upzD\".(\\x12\\x1f@\\\\\\x8f\\x93\\x89\\x7fl\\x7f\\x88\\x86{nhkA=DUy\\x8b\\x82~\\x7f\\x8b\\x96\\xa9\\x04\\x01\\x01\\x01\\x01\\x01\\x01\\x05\\x02R0\\x12\\x19\\ndxVa?O=\\t\\x0fL\\x05b\\x89\\x92\\x93\\x83ly\\x89\\x86|qhPnHY\\x84\\x8awz~\\x85\\x8a\\x90\\x9b\\x01\\x01\\x01\\x01\\x01\\x01\\x01\\x01\"&\\x13\\x0c\\t\\x19ch[B34\\x0c\\x0b5(\\x05\\ri\\x99\\x93\\x8alp\\x7fwi\\\\cKi\\x8f\\x9f\\x91pr{\\x83\\x8a\\x93\\x9c\\xa1\\x01\\x01\\x01\\x01\\x01\\x01\\x01\\x02\\x02\\x06\\x03\\x12\\x136f>W>%\\x13\\x08\\x17\\'\\x02\\x05\\x05\\x13r\\x8e\\x82kcmpuz|v{\\x9c\\x96sfrz\\x84\\x8d\\x9a\\xa6\\xa9\\x01\\x01\\x01\\x00\\x00\\x00\\x00\\x04\\x00\\x08\\x0b+IS9DA3\\x1a\\x08\\x1a\\n\\x01\\x00\\x00\\x04\\x08\\x14tunhwx\\x86\\x88\\x8e\\x90\\x98\\x95weit~\\x87\\x8f\\x99\\xa5\\xaa\\x01\\x01\\x01\\x00\\x00\\x01\\x01\\t\"BPUK,9H2!\\x17\\x11\\x02\\x00\\x00\\x00\\x00\\x01\\x04\\x04\\rxx{z\\x80\\x86\\x8b\\x94\\x9a\\x94\\x80kdo{\\x86\\x8d\\x93\\x9c\\xa5\\xad'"
      ]
     },
     "execution_count": 25,
     "metadata": {},
     "output_type": "execute_result"
    }
   ],
   "source": [
    "pic_scaled.tobytes()"
   ]
  },
  {
   "cell_type": "markdown",
   "metadata": {},
   "source": [
    "* \\x81 用16进制表示的二进制；这个二进制数值不存在对应的ascii编码字符，所以没有被显示为字符"
   ]
  },
  {
   "cell_type": "markdown",
   "metadata": {},
   "source": [
    "### 用binaryFiles读取图片文件"
   ]
  },
  {
   "cell_type": "code",
   "execution_count": 26,
   "metadata": {},
   "outputs": [],
   "source": [
    "pics_rdd = sc.binaryFiles(pics_path)"
   ]
  },
  {
   "cell_type": "code",
   "execution_count": 27,
   "metadata": {},
   "outputs": [
    {
     "data": {
      "text/plain": [
       "[('hdfs://zh:9000/lfw/AJ_Cook/AJ_Cook_0001.jpg',\n",
       "  b'\\xff\\xd8\\xff\\xe0\\x00\\x10JFIF\\x00\\x01\\x01\\x00\\x00\\x01\\x00\\x01\\x00\\x00\\xff\\xdb\\x00C\\x00\\x03\\x02\\x02\\x03\\x02\\x02\\x03\\x03\\x03\\x03\\x04\\x03\\x03\\x04\\x05\\x08\\x05\\x05\\x04\\x04\\x05\\n\\x07\\x07\\x06\\x08\\x0c\\n\\x0c\\x0c\\x0b\\n\\x0b\\x0b\\r\\x0e\\x12\\x10\\r\\x0e\\x11\\x0e\\x0b\\x0b\\x10\\x16\\x10\\x11\\x13\\x14\\x15\\x15\\x15\\x0c\\x0f\\x17\\x18\\x16\\x14\\x18\\x12\\x14\\x15\\x14\\xff\\xdb\\x00C\\x01\\x03\\x04\\x04\\x05\\x04\\x05\\t\\x05\\x05\\t\\x14\\r\\x0b\\r\\x14\\x14\\x14\\x14\\x14\\x14\\x14\\x14\\x14\\x14\\x14\\x14\\x14\\x14\\x14\\x14\\x14\\x14\\x14\\x14\\x14\\x14\\x14\\x14\\x14\\x14\\x14\\x14\\x14\\x14\\x14\\x14\\x14\\x14\\x14\\x14\\x14\\x14\\x14\\x14\\x14\\x14\\x14\\x14\\x14\\x14\\x14\\x14\\x14\\x14\\xff\\xc0\\x00\\x11\\x08\\x00\\xfa\\x00\\xfa\\x03\\x01\"\\x00\\x02\\x11\\x01\\x03\\x11\\x01\\xff\\xc4\\x00\\x1f\\x00\\x00\\x01\\x05\\x01\\x01\\x01\\x01\\x01\\x01\\x00\\x00\\x00\\x00\\x00\\x00\\x00\\x00\\x01\\x02\\x03\\x04\\x05\\x06\\x07\\x08\\t\\n\\x0b\\xff\\xc4\\x00\\xb5\\x10\\x00\\x02\\x01\\x03\\x03\\x02\\x04\\x03\\x05\\x05\\x04\\x04\\x00\\x00\\x01}\\x01\\x02\\x03\\x00\\x04\\x11\\x05\\x12!1A\\x06\\x13Qa\\x07\"q\\x142\\x81\\x91\\xa1\\x08#B\\xb1\\xc1\\x15R\\xd1\\xf0$3br\\x82\\t\\n\\x16\\x17\\x18\\x19\\x1a%&\\'()*456789:CDEFGHIJSTUVWXYZcdefghijstuvwxyz\\x83\\x84\\x85\\x86\\x87\\x88\\x89\\x8a\\x92\\x93\\x94\\x95\\x96\\x97\\x98\\x99\\x9a\\xa2\\xa3\\xa4\\xa5\\xa6\\xa7\\xa8\\xa9\\xaa\\xb2\\xb3\\xb4\\xb5\\xb6\\xb7\\xb8\\xb9\\xba\\xc2\\xc3\\xc4\\xc5\\xc6\\xc7\\xc8\\xc9\\xca\\xd2\\xd3\\xd4\\xd5\\xd6\\xd7\\xd8\\xd9\\xda\\xe1\\xe2\\xe3\\xe4\\xe5\\xe6\\xe7\\xe8\\xe9\\xea\\xf1\\xf2\\xf3\\xf4\\xf5\\xf6\\xf7\\xf8\\xf9\\xfa\\xff\\xc4\\x00\\x1f\\x01\\x00\\x03\\x01\\x01\\x01\\x01\\x01\\x01\\x01\\x01\\x01\\x00\\x00\\x00\\x00\\x00\\x00\\x01\\x02\\x03\\x04\\x05\\x06\\x07\\x08\\t\\n\\x0b\\xff\\xc4\\x00\\xb5\\x11\\x00\\x02\\x01\\x02\\x04\\x04\\x03\\x04\\x07\\x05\\x04\\x04\\x00\\x01\\x02w\\x00\\x01\\x02\\x03\\x11\\x04\\x05!1\\x06\\x12AQ\\x07aq\\x13\"2\\x81\\x08\\x14B\\x91\\xa1\\xb1\\xc1\\t#3R\\xf0\\x15br\\xd1\\n\\x16$4\\xe1%\\xf1\\x17\\x18\\x19\\x1a&\\'()*56789:CDEFGHIJSTUVWXYZcdefghijstuvwxyz\\x82\\x83\\x84\\x85\\x86\\x87\\x88\\x89\\x8a\\x92\\x93\\x94\\x95\\x96\\x97\\x98\\x99\\x9a\\xa2\\xa3\\xa4\\xa5\\xa6\\xa7\\xa8\\xa9\\xaa\\xb2\\xb3\\xb4\\xb5\\xb6\\xb7\\xb8\\xb9\\xba\\xc2\\xc3\\xc4\\xc5\\xc6\\xc7\\xc8\\xc9\\xca\\xd2\\xd3\\xd4\\xd5\\xd6\\xd7\\xd8\\xd9\\xda\\xe2\\xe3\\xe4\\xe5\\xe6\\xe7\\xe8\\xe9\\xea\\xf2\\xf3\\xf4\\xf5\\xf6\\xf7\\xf8\\xf9\\xfa\\xff\\xda\\x00\\x0c\\x03\\x01\\x00\\x02\\x11\\x03\\x11\\x00?\\x00\\xfc\\xaa\\xa2\\x8a(\\x00\\xa2\\x8a(\\x00\\xa2\\x8a(\\x00\\xa2\\x8a(\\x00\\xa2\\x8a(\\x00\\xa2\\x8a(\\x00\\xa2\\x8a(\\x00\\xa2\\x8a(\\x00\\xa2\\x8a(\\x00\\xa2\\x8a(\\x00\\xa2\\x8a(\\x00\\xa2\\x8a(\\x00\\xa2\\x8a(\\x00\\xa2\\x8a(\\x00\\xa2\\x8a(\\x00\\xa2\\x8a(\\x03\\xdd\\x17\\xe1\\xf7\\x87\\xf3\\xce\\x9c\\x9f\\xf7\\xdb\\x7f\\x8dX\\x8f\\xe1\\xd7\\x87Y\\xb9\\xd3S\\xfe\\xfb\\x7f\\xf1\\xad\\xb3\\xc9\\xe2\\xa7\\x89\\xb6\\x9ey\\xaf\\xd4\\'\\x84\\xc3\\xf4\\xa6\\xbe\\xe4x\\x1e\\xd2\\x7f\\xcc\\xcco\\xf8V\\x9e\\x1b\\xdb\\xff\\x00 \\xb4\\xcf\\xfb\\xef\\xfe5\\x1b|5\\xf0\\xef\\xfd\\x03\\x13\\xfe\\xfb\\x7f\\xf1\\xae\\xae\\'\\r\\xda\\x9eT\\x1a\\xe5\\xfa\\xb5\\x0f\\xe4_r\\x0fi>\\xec\\xe2g\\xf8s\\xe1\\xf4\\xe9\\xa6\\xa0\\xff\\x00\\x81\\xb7\\xf8\\xd3\\x17\\xe1\\xe7\\x87\\xf1\\xce\\x9a\\x9f\\xf7\\xdb\\x7f\\x8du\\xf7\\t\\x9a\\xaf\\xb7=8\\xc5?\\xaa\\xd0\\xff\\x00\\x9fk\\xeeFn\\xa5E\\xf6\\x9f\\xdes_\\xf0\\xaf<=\\xff\\x00@\\xd4\\xff\\x00\\xbe\\xdb\\xfch\\xff\\x00\\x85y\\xe1\\xef\\xfa\\x06\\xa7\\xfd\\xf6\\xdf\\xe3]&\\xc3\\xedF\\xc3\\xedG\\xd5\\xa8\\x7f\"\\xfb\\x91\\x1e\\xd6\\xa7\\xf3?\\xbc\\xe6\\xbf\\xe1^x{\\xfe\\x81\\xa9\\xff\\x00}\\xb7\\xf8\\xd3\\x1f\\xe1\\xee\\x82\\x07\\x1ar\\x7f\\xdfm\\xfe5\\xd4\\x8442\\x021K\\xea\\xd4?\\x91}\\xc8=\\xadO\\xe6\\x7fy\\xc87\\xc3\\xfd\\x0b\\xfe\\x81\\xe9\\xff\\x00}\\xb7\\xf8\\xd3\\x93\\xc0z\\x04L\\xe1\\xf4\\xd4|t\\xf9\\xdb\\xfck\\xa7t\\xc5\\t\\x0e\\xfd\\xc3\\x8c\\x9e\\xe6\\xb7\\xfa\\xad\\x0e_\\xe1\\xaf\\xb9\\t\\xd5\\xa9\\xfc\\xcf\\xef\"\\xf0?\\x80|\\x1b6\\xb1\\x12j\\x9a$s\\xc0\\xc4|\\xad$\\x80~\\x8d_fx\\x0f\\xf6N\\xf8\\'\\xe2-:\\t\\xa4\\xf0U\\xac\\xa5\\x86I\\xfbT\\xff\\x00\\xfcr\\xbeA\\xb6\\x8d\\xbc\\xe8\\xca\\x90\\xac\\xbd\\xeb\\xea\\xef\\xd9\\xf3\\xc7\\xac\\xb1\\xc3i4\\x84\\x158\\xc95\\xf3Y\\xae\\x12.\\x17\\xa6\\xad\\xe9\\xa1\\xdb\\x85\\xad+\\xbegs\\xd1e\\xfd\\x87\\xbe\\t<dG\\xe0+P\\xd8\\xeb\\xf6\\xab\\x8f\\xfe9^-\\xf1\\x87\\xf6=\\xf8}\\xa2\\xd9I6\\x91\\xe1hm\\x02\\xe7\\xee\\xcd)\\xfenk\\xed}\\'PK\\x94S\\xb8\\x01\\xb4\\x1d\\xc7\\xa5r\\xbf\\x10\\xac\\xad5+\\tQ\\xae`\\nA\\xe1\\x98\\x03_#\\x86\\x9ciN\\xf5\\x1d\\xd1\\xeb\\xce\\xf3VG\\xe6%\\xc7\\xc2\\x0f\\x0c\\xc5>\\xc3\\xa4\\xa0*p\\x7fx\\xff\\x00\\xe3D\\x9f\\x07\\xbc4\\xc31\\xe9(q\\xd8H\\xfc\\xfe\\xb5\\xed^;\\xd1l\\xf4\\xfdvTR1\\x93\\xf7y\\x07\\xf2\\xac\\xcb=1n$\\x0b\\x08,\\xde\\xc4f\\xbe\\xcb\\xebX8SM\\xc1}\\xc8\\xe0\\x8e\\x1e\\xb4\\xa5\\xa4\\x99\\xe5\\x03\\xe0\\xdf\\x87\\xd8g\\xfb\\x10(\\xff\\x00}\\xff\\x00\\xc6\\x97\\xfe\\x14\\xbf\\x87\\xe4\\xd8\\x17GQ\\xeb\\xf3\\xbf\\xf8\\xd7\\xd2\\xde\\x19\\xf047\\xc5#\\xbc2\\xdb\\xef\\xe04\\x8b\\xc1\\xafK\\xd3?g\\xfbG@|\\xcf8?\\xf1!\\xe0}k\\xcc\\xa9\\x9b\\xe0\\x94\\xb4\\xa6\\xbe\\xe4t}J\\xb7\\xf33\\xe1y\\xbe\\x10\\xf8v\\xd8\\xb0\\x93HA\\xe8w\\xbf\\xf8\\xd4\\x7f\\xf0\\xaa\\xfc.S\\xfeAq\\x83\\xff\\x00]\\x1f\\xfck\\xec_\\x1a\\xfe\\xcf7PH\\xefh\\xc9<Az\\x0c\\xf1^%\\xe2_\\x01\\xdehL\\xde|F0\\x0fpk\\xd7\\xc2c\\xf05\\xbd\\xd7\\x08\\xfd\\xc8\\xe4\\xaf\\x87\\xafM]I\\x9eH~\\x17xd\\x7f\\xcc*?\\xfb\\xf8\\xff\\x00\\xe3I\\xff\\x00\\n\\xc3\\xc3\\x1f\\xf4\\n\\x8f\\xfe\\xfe?\\xf8\\xd7g,\\x0c\\xa0\\x9d\\xa7\\x8a\\x88\\xc2T\\x03\\x90s\\xcd{\\x91\\xc2\\xe1\\xbe%\\x08\\xbb\\xf9#\\xcbUj\\xcbv\\xd5\\xbc\\xce<\\xfc/\\xf0\\xd6\\x7f\\xe4\\x15\\x1f\\xfd\\xfc\\x7f\\xf1\\xa3\\xfe\\x15\\x7f\\x86\\xbf\\xe8\\x15\\x1f\\xfd\\xfc\\x7f\\xf1\\xae\\xbc\\x01\\x8e\\x94`zU}_\\x0f\\xff\\x00>\\xe3\\xf7\"\\xbd\\xa5U\\xf6\\x9f\\xder\\x1f\\xf0\\xab\\xfc5\\xff\\x00@\\xa8\\xff\\x00\\xef\\xe3\\xff\\x00\\x8d\\x1f\\xf0\\xab\\xfc5\\x83\\xff\\x00\\x12\\xa8\\xff\\x00\\xef\\xe3\\xff\\x00\\x8dv\\x01\\x01\\xedN1\\xe0\\x1a>\\xaf\\x87\\xff\\x00\\x9fq\\xfb\\x90\\xfd\\xadO\\xe6\\x7fy\\xc5\\x7f\\xc2\\xb1\\xf0\\xdf?\\xf1+O\\xfb\\xed\\xff\\x00\\xc6\\x93\\xfe\\x15\\x8f\\x86\\xff\\x00\\xe8\\x17\\x1f\\xfd\\xf6\\xff\\x00\\xe3]\\x88N\\xb4\\x9eX\\xf4\\x14\\x9e\\x17\\x0f\\xff\\x00>\\xd7\\xdc\\x83\\xda\\xd4\\xfeg\\xf7\\x9c\\x92\\xfc1\\xf0\\xce9\\xd2\\xa3\\xff\\x00\\xbf\\x8f\\xfe4\\xef\\xf8V>\\x18\\xff\\x00\\xa0T\\x7f\\xf7\\xdb\\xff\\x00\\x8du\\'\\x03\\x8ao5>\\xc3\\x0f\\xff\\x00>\\xe3\\xf7 \\xf6\\xb5?\\x99\\xfd\\xe63\\xa6\\xd2)\\xcbOq\\x83F\\xfa\\xe9r{\\x16Y\\xb7\\xa9\\xf1U\\xe0l\\xe2\\xae/\\xdd\\x15\\xcd)r\\x8e\\xc42\\xc7\\x95\\xcdRt\\xdakH\\xc6\\x08\\x06\\xa0\\x9a.\\x98\\xa22\\xbb\\x13WE:)\\xcc0E\\x15m\\x99\\xf2\\r\\xa2\\x9f\\x9e1M\\xd9\\x9aw@\\xe20\\xa6h\\x11\\x92F:\\x9a\\xb3\\x1d\\xb9j\\xb3\\x15\\xa1-\\xf2\\xb7\\xefj\\xf9\\xe2\\x96\\xac\\x87\\x16\\xf6\\x12\\x1b7\\x84#\\x85\\xdd\\x93]\\xf7\\x82n\\xae\\xb4k\\x85\\xba\\x8c\\xed\\x0b\\xce+\\x9c\\xd2\\xd1\\x83|\\x88\\xd2\\xdcg\\x01\\x0f\\xdd\\xad\\xc8lnm\\xa5Yo%\\x16\\xe7\\xb4Q\\xd7\\xc4\\xe7\\x19\\x9a\\xa5\\x1eH\\x1e\\xee\\x0f\\x07\\xf6\\x99\\xec\\x96_\\x14\\xbcM\\xaa\\xb4v\\xb6\\x93y`\\x8cd\\x1a\\xd0\\xd5\\xae\\xac\\xf4\\xeb\\x13q\\xe2MQ\\xe5\\x97\\x19\\xf2\\xe3r0k\\x91\\xf0\\xad\\xc5\\xaa\\xc4\\xb2\\xad\\xcb\\x86Q\\xd6\\xb8\\xbf\\x8aZ\\xa8\\x9aG\\xfd\\xebO\\x9f^\\xd5\\xf9\\xf59\\xca\\xb4\\xaf&}\\x1a\\xa2\\x94oc\\'\\xc5\\xbe;\\xb5\\xd55\\x19\\xa1\\xd3\\xe2d\\x85N\\x04\\x83\\x92~\\xb5\\xbb\\xe0\\x0f\\tI\\xa8\"^\\xdb\\xdf\\x93.\\xec\\x95l\\x86\\xfc+\\xcc|-\\t\\xbc\\xd46FT\\xc8[\\x81\\xe9_H\\xf8Z\\x18mtT\\x8bT\\x88)\\x03\\xe5\\x90u_zx\\x8cD\\x92\\xe5L\\xda\\x94!\\x17\\xa9\\xeb\\xde\\x17\\xd7lm\\xf48\\xacu\\x18\"\\x9d\\x80\\xc1yTn_\\xc6\\xa6\\xd45#\\xa5\\xdb4\\xda\\r\\xc9\\x96\\x05\\xe5\\xe3\\xcf\\x00w\\xc5y{\\\\5\\xca\\x88\\xbc\\xc3,c\\xfd[5i\\xe8\\x12^[N\\xc93y\\xb2t\\xf2\\xc7F\\x15\\xf3\\xd5%&\\xee\\xd9\\xd1\\xca\\x8e\\xc7J\\xf8\\x82\\xfa\\x8cGd\\x85X\\x9d\\xac\\x1a\\x97W\\xd2t\\xcf\\x15B`\\xba\\x89\\x1d\\xc8\\xeb\\x81\\\\~\\xbf\\xa2\\xc9\\xa38\\xd5l\\xc9{68\\x95\\x07\\xf0\\x9e\\xf5\\xb3a\\x1c\\x86\\xd2\\rR\\xc7\\xf7\\xd6\\xcc>x\\xfd+ZU\\xaaSjI\\x98\\xd4\\x82\\x9e\\x8c\\xf1\\x8f\\x88_\\n\\'\\xd1\\xcc\\xb7\\x16c|#\\xb5y\\\\\\xf02\\x1d\\xae\\xbbXu\\x15\\xf6\\xb5\\xe4\\x0b\\xa9Z\\xad\\xc0\\x8dL2\\x0f\\x9cW\\x8a\\xfcQ\\xf8T\\x1a\\x195--6\\xed\\x19\\x91W\\xb8\\xaf\\xd1\\xb2\\\\\\xf6S\\xfd\\xd5c\\xe7\\xf1\\x98$\\xac\\xe9\\xa3\\xc3<\\xbe(\\xf2\\xea\\xc3F#v]\\xa5y\\xc0\\x06\\x98\\xcb_\\xa4\\xa4\\xe6\\x94\\xa1\\xaa>rz;1\\x9b0)\\x8d\\xd2\\x9eAZn\\xec\\xd0\\x91\\x89\\n\\x8ei\\xdbEIP\\xbf\\xde\\xad9\\x80k/\\xcci6T\\x94Vv\\x03\\x1eX\\xc1\\xf5\\xa86\\xe0\\xe2\\xafJ\\x95Y\\xf0\\xa4\\xe6\\x971\\xd1f-\\xbb|\\xdfJ\\xd0NV\\xb2\\xe0\\x045j[r\\x05g=K\\x8cE\\xd8M5\\xe3\\xc0\\xe9V\\xc2\\x8cR4y^+\\x18\\xcbQ\\xb8\\xe8dL\\x98l\\xd4 \\x92kB\\xe6\"\\x01\\xe2\\xa9\\x84!\\xbaV\\x973\\xb5\\x80\\xc7\\xc0#\\xadK\\x0cE\\xa9\\xd1\\xae[\\x9e\\x95j8>n:T\\xb9X\\x8b\\xeaI\\x15\\xb8\\x0b\\xd6\\xafi\\xb6Ms T^GV\\xa8\\x16\\xdc\\xb0\\x18\\xad\\xbf\\xb4E\\xa3\\xe9`3\\x04,3\\xbc\\xd7\\x8f\\x98b\\x95*oS\\xd4\\xc3a\\xddF\\x9a.-\\xd4\\x16X\\x84n\\xde\\x7f\\xb8\\xbd\\xfe\\xb5\\xd0\\xe8\\x967*\\x03\\x9b\\x0f\\xb4\\x87\\xe8\\xd26H\\xfc+\\x82\\xf0\\xfe\\xab\\x0e\\xad~a\\x86wp\\x7f\\x88/\\x19\\xfa\\xe2\\xbd\\x83\\xc2~\\x15\\xd4\\x06\\xd6\\xfbHt<\\x81\\xd0\\xd7\\xe4\\xd8\\xdcK\\xadR\\xec\\xfbjXkE#\\x7fE\\x8e\\xde\\x0b\\'I\\xac\\x84G\\x1d\\x85r\\x1e,\\xf0h\\xd6U\\xe4\\x84\\x1czW\\xa6ZhWj\\xf8g\\x04\\x11\\xde\\xb7l\\xbc9\\x1e\\xdc:\\x03\\x9e\\xb5\\xc3\\x1a\\xae:-\\x8fR8k\\xc7S\\xe5\\xad?B_\\x0c\\xea+q%\\xb1X\\xd1\\xbeg\\x02\\xbd\\xf7\\xc1\\xda\\xc7\\x85\\xfckb\\x9a|Z\\x84q\\xdf\\xe3\\x027`2}+\\xa4\\xd4|\\x0fc}\\x0b\\xc4\\xf0(\\x8d\\xbe\\xf7\\x1dk\\xca|k\\xf0?\\xec\\xf7\\x06\\xff\\x00Fw\\xb0\\xbaQ\\x94h\\xdb\\xbfj\\x97>c\\x19a\\x92\\xd8\\xf4;\\xcf\\n\\\\hwI\\x1d\\xc2\\x12\\xa7\\xee\\x01\\xdcV\\xad\\xa5\\xa8\\x1f8]\\x8e\\xbd\\x18u\\xaek\\xe0\\xb7\\xc4k\\x9dFg\\xf0\\x87\\x8bP\\x8b\\xc8\\xc7\\xee/\\xe5\\x18\\'\\xda\\xbd\\x1e\\xebH\\xf2n%\\x89~\\xf4cq\\xcf\\x1cz\\xd74\\xe2q\\xc9r\\xbb\\x13X\\xc1\\x14\\xb6\\xe6\\t\\xe3\\r\\x14\\xc3k.:\\x9fZ\\xa1\\xa4i\\xc7D\\xbd\\x9e\\xdd\\x03\\x0b6\\'\\x0bZ\\x10\\xb1\\x85\\x91\\xb1\\x90\\x00\\xab\\x97\\xa0\\x14W\\x00\\x12\\xc3\\xb5JV2z2\\x85\\xb4gL\\xb8\\x92\\xd9\\x80h\\xa4\\xfb\\xb9\\xe9Uu\\xbbq\\r\\xb3:&\\xe8\\xb1\\x89P\\xf2\\n\\xd5\\x93?\\x9b\\x1a\\xa3rS\\xee\\xb7\\xad\\\\\\xb8\\x0b-\\x9ev\\xee\\x0e60?\\xe7\\xde\\xaa2t\\xdf<E\\xcb\\xcc\\xac|\\xaf\\xf17\\xc2p\\xe9z\\x81\\xbd\\xb5S\\xf6i\\xceTg\\xee\\x9a\\xe0\\xfc\\x91\\x83\\xb8\\x1c\\xf6\\xaf{\\xf1\\xce\\x83\\xb9\\xaem\\t\\xdc\\x1b\\xe7L\\xff\\x00\\x0e9\\xaf\\x0b\\xbb\\xb6x\\xee&Vlm$\\x01_\\xb3d\\x19\\x84\\xab\\xd1\\xf6r>70\\xc3\\xfb9\\xdc\\xa4\\xef\\x8e\\x08\\xe9P\\x92*\\xc1\\x8c\\x1e\\xbdi\\x86!_Y\\xccy\\x1c\\xa4\\x1b\\xb9\\xc54\\xa6MM\\xe4\\xf2\\r/\\x97G0r\\xb2\\r\\xbe\\xd4m\\xf6\\xa9\\x8a\\xed\\xea)\\xbcQp\\xe5e\\x19b\\xe2\\xaa\\xcb\\x0eFq[\\xaf\\xa4]\\x8f\\xf9v\\x7f\\xca\\xaa\\xcf\\xa6\\xdc\\xa9\\xe6\\xdd\\xc7\\xfc\\x06\\xb2\\xe6V\\xbd\\xce\\xabK\\xb1\\x8a\\x8b\\x83Z\\x16\\xdd\\xa9\\x8fcp\\x0f\\xfa\\x97\\xff\\x00\\xbej\\xc5\\xbd\\xb4\\xc9\\xd6&\\xfc\\xaa\\\\\\x93.)\\xf5, \\xcd:E\\xda\\xbfZrF\\xfd\\xd1\\x87\\xe1R<D\\x81\\xf2\\x9f\\xc4W3\\x95\\x81\\xecQ\\x9e<\\xa8\\xaa\\x86\\x0f\\x9b\\xa5l\\xf9[\\x866\\xe7\\xf0\\xa6\\x1b0:\\xa1\\xa5\\xed\\x0c\\xfa\\x19\\xf1A\\xcd_\\x82-\\x878\\xcfj\\x96+u\\x1f\\xc3\\xcdO\\x0cLd\\n\\x00\\x19\\xa9\\x9c\\xc7\\x08\\\\\\x92\\x08\\x11\\xf9<W\\x03\\xf1\\x03S\\xb9\\xd6\\xf5\\xeb\\x7f\\x0fX\\x93\\x86\\x18\\x91\\x97\\xf8k\\xd36\\xc7\\x0c-\\xb8gh\\xea+\\x81\\xf8q\\xa7\\r[\\xc6\\xba\\x8e\\xa0\\xdc\\x88\\xdb\\x82~\\xa6\\xbf;\\xcd\\xb1\\xad\\xd4\\x94\\x17C\\xed2\\xea\\x0b\\x96.\\xc7\\xb3\\xfc,\\xf0-\\x9e\\x87\\xa6@\\x865\\x92U\\\\\\x96n\\xa4\\xd7\\xb0\\xe9H\\x15P\"\\x05\\x03\\xb8\\xae7\\xc3Q\\x03\\xb4\\x81\\xc1\\xafA\\xd3-\\xbePp+\\xe2\\xa5>c\\xec=\\x9cb\\x91\\xd0i\\xf6\\xaa\\xca\\xa4\\x8a\\xd1\\xf2\\x08\\xfb\\xa2\\xaaX\\xa9\\x1bEm\\xda\\xc7\\x96\\x19\\xa4\\x95\\xd9\\x84\\xa5m\\n\\xd0\\xd8\\xc8\\xe0\\xe1s\\x9a\\x99\\xf4\\x85\\x920%\\x8f z\\x0ekv\\x08F\\xdfJ\\x92T\\n\\xa5\\xb3\\xc8\\xad\\xb9\\x123\\xf6\\x96>~\\xf8\\x99\\xe0\\xd6\\xb5\\x11kv\\xa5\\x85\\xd5\\xbc\\xa1\\x80^\\x0e\\x01\\xef^\\x93\\xa2k\\xf0\\xf8\\xb7\\xc2\\x9a~\\xae\\x84-\\xd0O*\\xe1G\\xa88\\xfeX\\xad\\x1f\\x12\\xd8\\xc3}\\x04\\xb10\\x18\\x91H\\xe9^[\\xe02\\xde\\x10\\xf1.\\xa7\\xa1\\xcc\\xcd\\xf6k\\x93\\xe6\\xc6X\\xf0\\x0f\\x1d?*\\xc2m\\x19V\\x82\\xab\\x1b\\x9e\\x93%\\xca\\xb5\\xb8a\\xfeqRXL\\x976\\xe5\\x83n+\\xc5g\\xc9nDsm<v\\x1f\\x85E\\xe1\\xb6l\\xca\\x87\\x8ek\\x13\\xca\\xb5\\xb44gE\\x12\\x95\\x1d\\xa9\\xf6s\\x06\\x86tn\\xc3\\x8an\\xa0\\x9eD\\xaa}j\\x9d\\xb4\\xfeE\\xcbw\\x07\\xd6\\x94\\x972\\xb1Q\\xeer\\xbe?\\xb1\\xc5\\xbc7\\x08>p\\xc07\\xd0\\x9a\\xf0\\xcf\\x1a\\xe8\\xa9o~\\xd7\\x11}\\xd6\\x1d\\x07\\xad}/\\xad\\xd9\\x8b\\xebIA\\x00\\xab\\x0c\\x0e:f\\xbcK\\xc4Zo\\x9bew\\x19\\x19{bFOS\\xfes_S\\x91c\\x1e\\x16\\xb4U\\xcf;\\x19AT\\x8b\\x93<\\x8c\\xa7\\'=i\\xac\\x95nH\\xb2Y\\xba\\x10q\\x8a\\x88!<\\x91\\x8c\\xd7\\xecP~\\xd2\\x9a\\x91\\xf1j-N\\xcc\\xaf\\xb2\\x8d\\x95gg\\xb5B\\xf9\\x07\\xee\\x9a\\xd94$C\"qQl\\xabe3\\xd4Q\\xe5\\x8fAY\\xb9\\x0c\\xfb\\xbd\\xfe\\t\\xe9\\xef\\xff\\x00.\\xca?\\xe0\\x02\\xaa\\xcd\\xf0&\\xc1\\xcf\\x16\\xeb\\xff\\x00|\\n\\xf6\\xd3$@\\xe0\\xb0\\x06\\xa4\\x8dco\\xe2\\x02\\xbf6\\xfa\\xd5~\\x92>\\x83\\x92\\x07\\xcf\\xf2\\xfe\\xcf\\xd6\\x12\\xb1Sn\\x98?\\xec\\x01U\\xa5\\xfd\\x9e\\xb4\\xf4\\xe9j\\x87\\xf0\\xaf\\xa3\\x1a\\xd9:\\xa9\\x04\\xd4/j\\x0fP\\xb5\\xacqU\\xed\\xf1\\x0b\\xd9A\\x9f8K\\xfb=\\xd8\\x11\\xc5\\xb2g\\xe9T\\xa4\\xfd\\x9e-\\x18\\xf3n\\xa3\\xe8+\\xe9\\x9f\\xb0D\\x06J\\x83I\\xf68\\xbb*\\xd0\\xf1u\\x96\\xb7\\x0fc\\x03\\xe5\\xe9?g\\x8bA\\x9c@?*\\xa9/\\xec\\xefo\\xff\\x00<\\x0f\\xe5_U\\x9b\\x08\\x8f\\xf0\\xadA.\\x9b\\x1f\\xb5G\\xd7\\xaa\\x87\\xb1\\x81\\xf2\\x84\\xdf\\xb3\\xc4#;a==+\\x8b\\xf8\\x87\\xf0\\xaa\\x0f\\x04i\\xb1\\xdd\\xb7\\xdec\\xc2\\x91\\x8a\\xfb\\x80\\xe9\\xf1$yh\\xd4\\xf6\\xc9\\xaf\\x92\\xbfk\\xff\\x00\\x11\\x0b{\\xfbm>2\\xa1@\\x04\\x80zqSW0\\xad\\xc8U*\\x10\\xe7\\xb9\\xf3\\xfe\\xabr\\x13H\\xbceP\\x00\\\\\\xee\\xac\\x7f\\x846~]\\xb3\\xcaWi\\x99\\xb2i\\x9a\\xd5\\xf1\\x8f\\xc3\\xd7\\xa8N\\x0b(\\xdb\\xef]G\\x80,\\x04ZU\\xb9U\\xe4\\xf3_\\'^\\xb3\\xab&\\xde\\xec\\xfb\\x0c\\x1c\\x14lz\\xf7\\x86m\\xf7\\x15 \\x1c\\n\\xf4=*<\\xa7LW\\'\\xe1K6\\x10\\xa6;\\xd7sc\\x19\\x89\\x0e\\xf2\\x00\\xae\\x15\\x0e]OE\\xcb\\x99\\xd9\\x1a\\x16\\xea\\x14\\x03\\xe9Z6\\x8d\\xf3\\xe4\\x1a\\xc92\\x80\\x00\\x07?J\\xbdb\\xcb\\xb8n\\x04\\x1a\\xa4\\x91/cy]\\x80\\\\sNwr\\xa7 \\xd4\\x03S\\xd3\\xad\\x13}\\xcd\\xc2\\xc2\\xa3\\xa9\\'\\x15Z\\xf3\\xc6\\xfa\\x04jc\\x17\\x91\\xb1#\\xb3\\n\\xd0\\xe3\\x91-\\xd5\\xa0\\x96=\\xc4f\\xbc\\xbb\\xe2f\\x90\\xf0\\x885(\\x17d\\xb10,G]\\xb9\\xae\\xe3\\xfe\\x12\\xeb9\\xff\\x00\\xd4,\\x92\\xc5\\xfd\\xe4\\xe4Vv\\xb5<\\x1a\\xa5\\xad\\xccN\\xa5VH\\x8a\\xa8\\x7f\\xa5r\\xce\\x06\\xd0\\x977\\xb8U\\xd35\\x98\\xb5\\r>\\xdeX\\x9bw\\x98\\xa0\\x1f\\xae1SX\\x13m\\xa9I\\x16y<\\xd7\\x9e\\xf8?S\\x92\\xceIt\\xb7\\xc8kg,\\xa0\\xf5#=\\x7fZ\\xec\\xafoLZ\\xb4\\x13\\x03\\xf2\\xba\\x81\\x9a\\xca\\xd6<\\xea\\xab\\x96m\\x1d\\x06\\xbd\\'\\x95d\\xd2u)\\xfa\\xd7#q\\xae,j\\x8c\\xc7\\x05\\xbd\\rt\\xde\\'\\x93\\xfe%\\xac\\x07V\\x1c\\n\\xf1\\x8dSYt\\x90FN\\x02?zdCc\\xd5`\\xd6\\x04\\xd6\\x8c1\\x93\\x8e9\\xae\\x1b[\\xd3\\xc2\\xddH\\xc1AY\\x94\\xee\\x14\\xbav\\xb3$\\xd6e\\xd4\\xe4\\x05\\xea*\\xac\\xfa\\xbb]pNH\\x18\\xad\\xa8\\xcf\\x92\\xa2b\\x9c\\x1dD\\xe2yf\\xb1\\xe1\\xcb\\x93z\\xe2\\xde\"\\xc9\\x92r\\x05f\\x9d\\x07Q^\\xb6\\xed_O|(\\xf0\\xb5\\x9f\\x89`\\x91\\xa5Uy\\x03\\x10A\\xeb\\xd6\\xbd!\\xfe\\x0ei\\xec\\x0b\\x1bq\\xecv\\xd7\\xea\\x18L\\xd1{\\x15\\x13\\xe4\\xab\\xe1\\xbd\\xf6|/\\xfd\\x8dx8\\xf2\\x1b?J\\x8d\\xb4k\\xdd\\xdc\\xc4\\xc3\\xf0\\xaf\\xb7\\xe4\\xf8Ed\\x1b\\x02\\x04\\xc7~*\\x16\\xf85c#\\x7f\\xa8_\\xca\\xbb\\x7f\\xb6\\xe2\\xfe\\xc9\\xcd\\xf5v|?6\\x95t\\xacs\\x13\\x9f\\xf8\\rG\\xfd\\x9bs\\xff\\x00<\\x9f\\xf2\\xaf\\xb8\\xa6\\xf8\\'d\\x13\\xfe=\\xd7\\xfe\\xf9\\xaa\\x7f\\xf0\\xa5\\xec\\xbf\\xe7\\xdd\\x7f*\\xd69\\xacf\\xaf\\xb0\\xbe\\xac\\xcf(\\x8f\\xf6\\xa4\\x0e\\xc0\\x91\\'\\xe7Z\\x16\\xff\\x00\\xb54C\\x19.\\xb5\\xf2D~$@9\\xc5=<A\\x11?6\\x01\\xad%\\x96Q\\x93\\xe6E\\xfbYv>\\xc6\\x87\\xf6\\xa9\\xb5\\xc0\\x05\\xdb\\xf3\\xabQ\\xfe\\xd4\\x96M\\xd6F\\xfc\\xeb\\xe3u\\xd6\\xa0#\\xa85b\\x1dV\\x06\\xf4\\xfc\\xeb7\\x95\\xd3\\xe8R\\xaa\\xcf\\xb3 \\xfd\\xa64\\xf91\\x9b\\x823\\xefW\\xd3\\xf6\\x8e\\xd3\\xf1\\xf2\\xdc\\xfef\\xbe3\\xb5\\xd4\\xad\\xc9\\x03\\x8f\\xce\\xb5b\\xbd\\xb5?{\\x07\\xf1\\xac^Y\\x05\\xaae{g\\xd8\\xfb\\x06?\\xda*\\xc5\\xb1\\xfe\\x90\\x08\\xf4\\xcd\\x12~\\xd0\\xba~\\xef\\xf5\\xc3\\xf3\\xaf\\x92\\x12\\xee\\xd9\\x86\\x17\\xe5\\xfcMK\\xe5\\xc4\\xf8\"S\\xf9\\xd7,\\xb2\\xf5\\xd1\\x87\\xb5l\\xfa\\xc6_\\xda\\x03O\\x92\\x0cy\\xe3\\xf3\\xef_(\\xfcg\\xf1s\\xf8\\xbb\\xc4wW,\\xe5\\x91N\\x17\\xe9P\\xde\\xc6\\xb6\\xd0\\xb3\\xac\\x87\\x07\\x9e\\xb5\\xc5x\\x82\\xf1\\xd8\\x9d\\xa7\\xafS^N>\\x8ch\\xc2\\xcbs\\xd4\\xc2{\\xdb\\x9c\\xf7\\x89u\\x8cZ49\\xe8\\x05z\\'\\x85<P4\\xfd*\\xddR\\x16\\x93\\x0b\\xd8W\\x83\\xf8\\xa7Z\\x11jm\\x19?(\\x03\"\\xbd\\x9f\\xc2\\x1e%\\xd3\\xad4\\xbbV\\x94\\xa0R\\x9c\\x8a\\xf9\\x19\\'\\x05\\xcc\\xd1\\xf4\\xd8m\\x1e\\xac\\xf5\\x1d\\'\\xe2\\xd4\\x96V\\x88D\\x04c\\xd4W\\xa1\\xf8[\\xe2\\x04\\x1a\\xd5\\xbe\\xf6\\x91D\\x9f\\xdc&\\xbc\\x1a?\\x11\\xe9\\xba\\xe3}\\x96\\xd2\\x08\\xc9=d2\\x05\\xc7\\xe6j\\x9e\\xa1o\\xa9\\xf8y\\xc5\\xc5\\xbc\\x9bQyS\\x1c\\xca\\xdb\\xbf\\x00j\\x1d9M]\\x1d>\\xda1\\x9d\\x93>\\xae\\xb7\\xd5c\\x99\\xc7\\x19\\xfa\\x1a\\xbfu\\xa8y0\\x1d\\x87\\x07o\\x15\\xe1\\xbf\\x08<`|A}\\x15\\xb4\\xf2\\xbf\\x9b\\x8eU\\xbb\\x9a\\xf7\\xbdS\\xc3\\x8c\\x96!\\xf0\\x00)\\x9c\\xe7\\xda\\xb9\\xf9y]\\x99\\xd4\\xdd\\xcf\\x10\\xf1\\xa5\\xd5\\xfe\\xa1x\\xf1\\xb5\\xc91\\xe4\\xfc\\x9b\\xb1Y\\xde\\x1d:n\\x9btZ\\xebQ\\x8e\"x\\xd8\\xee\\rM\\xe3K+\\xfbIg\\x91#a\\x08\\xcee#\\x81^/y\\x06\\xa7\\xab=\\xdc\\x9a=\\x93\\xdcM\\x12\\x962\\xc9\\x9d\\xbczWm:\\n\\xa3\\xdc\\xe2\\xab[\\x93\\xa1\\xf6/\\x86\\xbce\\xa2Z\\xc0\\xb1\\xc5=\\xbbG\\x8eY\\x88\\xeb\\xf9\\xd6\\x8d\\xfe\\xb3c\\xa8\\xc0\\xaf\\x11\\x89\\xfdY\\x1b\\x83_\\x9d\\x96\\x9f\\x14<a\\r\\xe4\\x9aW\\x91v$V\\xc6\\x161\\xb7\\xf3\\xc5z\\x87\\xc3\\xff\\x00\\x10\\xf8\\xcamYmZ\\t\\xcepYpv\\xd5W\\xc2\\xaa}L\\xa8b\\xd4\\xdd\\xd4u=\\xcfR\\x92-3\\xc61M\\x1b\\xe1e\\x1bH\\xfdk\\xb1\\xf1\\x15\\xe8\\x93M\\xb4\\xb8\\x85~X\\xc8\\x19\\xaf/\\xf1\\x14\\xb7\\xac\\xf6w\\x13@bh\\x9cn\\x18\\xf6\\xc5wB\\xf5\\xae\\xfc#q\\x02\\xfd\\xf8\\x88\\x93\\xfe\\x03\\xcf\\xff\\x00Z\\xbc\\x89+1\\xe2cu\\xceuz\\xc6\\xa8[\\xc3\\xd6\\xf3\\xe00#\\xadx\\'\\x8c\\xaf\\x8d\\xb5\\xdc\\x92\\xa9\\xca\\xb1\\xe8+\\xd4t\\xfdO\\xed\\xfe\\x04\\x89\\x9d\\xb2\\x11z\\x1f\\xa5xw\\x8b/\\x00\\xb9u-\\x94l\\xe0Q\\x15s\\x92:\\x1d\\x87\\x86u\\x90\\x9a\\\\\\x81\\xdb!\\x86~\\x95^-E#\\xba\\x8d\\xfc\\xcc\\xa37\"\\xb8\\xcf\\x0cj\\x8e\\x962\\xa9rNH\\x15>\\x9f|d\\x8e@\\xcd\\x96G\\xe3\\xda\\x9b]\\x8db}%\\xf0C]]+_x\\xa6p\\xb0\\xcb\\xca\\xe4\\xfa\\xd7\\xd2\\x11j\\xd6\\xdbJ\\x99T\\xfas_\\n\\xd9k\\x92\\xd9[Ew\\x13\\x91$x9\\x15m\\xff\\x00iK\\xed:gI7\\x9203\\xeb_K\\x81\\x8c\\xaa+#\\xc1\\xc4.Y\\xb6\\xcf\\xb6\\xe4\\xbc\\xb5\\x07;\\xc6~\\xb4\\xd5\\xd4m\\x95\\xbe\\xfa\\xfeu\\xf1\\x1c\\xdf\\xb5=\\xd9Q\\x82\\xe3\\xdf\\x14\\xd3\\xfbRK\\xb4|\\xcf\\x9a\\xf6^\\x16h\\xe1\\xe7G\\xddqj\\x10K\\x19\\x01\\x90\\xfe4\\xcf6\\x1f\\xef-|Gg\\xfbW\\x14;N\\xff\\x00\\xad_\\xff\\x00\\x86\\xadOV\\xa8\\xfa\\xbc\\xc3\\xdaD\\xf8p\\xdcM\\x9c\\xf9\\x94\\xff\\x00\\xb6\\xc8\\xab\\xf7\\x89\\xac\\x8f\\xb5\\xb7\\xad\\x06\\xf0\\x85\\xaf\\xaaq\\xac\\xb4G\\x0f\\xb4\\xa6k\\xae\\xa7:\\x9c\\xef\\xe2\\x9f\\xfd\\xb7p\\x83\\x87\\xac/\\xb6\\x13\\xc5#\\xdc\\x9cVo\\xdbD~\\xd2=\\x0e\\x89<S<x\\xf9\\xcej\\xc4~<\\x9e\\x00r\\xcck\\x8fi\\x01\\x19\\xcdB\\xf3c\\x1cg5*UV\\xa3\\xf6\\x91=3K\\xf1\\xf3\\xcb\\x80\\xc4\\x80k\\xb1\\xd3\\xbcK\\xe7\\xc6\\xb8$\\xfb\\xd7\\x85Z\\xcaGN+\\xba\\xf0\\xfe\\xa6\\xb0\\xc2\\xa1\\x89\\xaej\\x95*\\x9b\\xaeI#\\xd2/uR\\xf6\\xc7/\\xf8W9\\xac\\xdc1(\\xa0\\x8c\\x11\\x9c\\xd3>\\xd6\\x97i\\x855\\x97\\xaa\\\\\\xb2B\\xe4\\x9f\\xba\\xb8\\xaf\\x99\\xc7\\xd5\\x94\\x9e\\xa7\\xaf\\x81\\x82j\\xe7\\x91x\\xc2\\xf5\\xe4\\xd6ny\\xe38\\xad\\xb8o\\xf5\\'\\xd3l\\xc5\\xb4r:\\x15\\xea+\\x94\\xf1\\x14\\xbef\\xa2\\xed\\xd7sW\\xd0\\xff\\x00\\x0b<.\\xba\\xa7\\x87\\xf4\\xd7[|\\xb9Q\\xf2\\xe3\\xe9\\\\\\xb5\\xda\\x8d\\x18\\xb6\\x8fJ\\x8as\\x9b\\x8d\\xceON\\xf8\\x7f\\xacx\\x83K\\x8aho\\xa4\\xb4\\xb8S\\x91\\x1a\\x12\\t\\xfa\\xd7\\xac|&\\xf8#\\xae]\\xdb\\\\\\xcd\\xaaj\\x92K!\\xe1\\x12W\\xc8\\x15\\xe8\\xfa\\x0f\\x84/b\\x08\\x0e\\x9f\\x14`p\\x1c\\xf5\\xae\\xc4X\\xae\\x87a#\\x19?y\\x8c\\xedBk\\x86\\x18\\xa6\\xd7-\\x95\\x8e\\xb8`\\xed.k\\xb3\\x96\\xf8w\\xe0\\xe7\\xd0<Y\\xe5\\xbb\\x02\\xf1\\x7f\\x1at5\\xf4j\\xcd\\xe7i\\xe26fl\\x81\\xc9\\xaf(\\xf8mf\\xd7W3_J\\x0f$\\xfd\\xea\\xf4\\xdf\\xb4\\r\\x9bG\\x03\\xb5rT^\\xf71\\xe8\\xa5b\\xae\\xa1\\xa6\\xc3{\\xa5Kj\\xd6\\xd1\\xce\\x18r\\xac:\\xd7\\x9a\\xc7\\xe1h\\xf4\\xab\\x99\\x10Z=\\xb4,~dU\\x1bH\\xaf_\\xb3\\xb4\\xdf\\x87#8\\xee\\x0fJ\\xb1{l\\x8a\\x14\\xe5\\x1c\\x9f\\xef\\x0c\\xd6|\\xd2\\xe8\\xc7\\xca\\x9e\\xe8\\xf1m\\x1b\\xe1\\xc6\\x914\\xf2\\xcb\\xe4.\\xf69\\xc9\\x8f\\x9f\\xe5^\\x81\\xa1xN\\xc3O\\x8d^\\x1bx\\xd5\\xc7\\x1b\\xca\\xf3]\\x00\\xb2\\xdc\\xc3jG\\xcf\\xf7\\x17\\x15\\xa0\\x9a;\\xc5\\x16\\xecpj]IKve\\xec\\xe9F\\xed\\x1ey\\xf1\\x0fF\\x89\\xb4\\xb9J\\xa2\\xf0\\x03p9\\xcdy\\xd6\\x93\\xac\\xbaKsnNC[\\xec#\\xdf\\x8a\\xf6\\xaf\\x16X\\xa4\\xb62\\xa7RR\\xbeu\\xb7\\x9c\\xdb\\xf8\\xa7\\xca=\\x1c\\xb2\\xd6\\x12\\xd5\\x85X\\xf3AX\\xdd\\xf0\\xb5\\xf9\\x9b\\xc3\\x17\\x96\\xe5\\xf0\\x15\\x8a\\x01^?\\xf1\\r\\xfe\\xcb\\x02H\\xad\\x9d\\xaes\\x8a\\xf4_\\x0e\\x1f-u\\x18\\x01\\xe0Lx\\xfc\\xeb\\xce\\xbe B\\xaf\\xa5\\xdd\\x13\\xc9V4\\xa2y\\xa5/\\x05\\xcc.\\x0b&\\xe0q\\xcd^2\\xfd\\x96\\xfeX\\xfb1\\xc8\\xc5r\\xbf\\x0f.\\x847l\\xacs\\xba\\xb5\\xf5\\xab\\xd6\\xb4\\xf1\\x0ca\\x87\\xee\\xda\\xb6\\xe5V\\xb8\\x8fJ\\xf0\\xd3\\xae\\xa7c=\\xb9a\\xbc.Ep\\x1e!\\xb2\\x16\\xf7\\x0e\\x1cn;\\x88\\xfaWE\\xe0\\x8d\\\\G\\xac\\x15U\\xe1\\xf8\\xc5g|A\\x90Z\\xea\\x0e\\xcc\\xb8\\x0cI\\x15\\xf4Y5^Ijy8\\xd8\\xb6\\xae\\x8eFKt\\\\\\x0cf\\xb3\\xe6\\x87k\\x9e\\x06\\rZmR2\\xc7\\xa7\\x02\\xabO\\x7f\\x16\\xdc\\xf1_}\\x19\\xc1\\xf4>uE\\x90\\x04\\xdapqN\\xc2T\\'Q\\x87<\\x8eh\\xfe\\xd1\\x83\\xd2\\xb6\\xf7;\\n\\xd28Q\\xa5\\x16\\xebA\\xd1\\x80\\xe9]?\\xd9\\x15\\x87CM\\xfb0S\\xd0\\xd7w2<\\xe5\\x14r\\xed\\xa3?\\xa7\\x15^]\\x19\\xbd+\\xb21\\xfc\\xb8\\xc0\\xa8\\x9a\\xdc7QN\\xf1{\\xa1\\xed\\xb1\\xc7\\x7fe\\xb8\\xe3\\x14\\xd6\\xd3Xu\\x15\\xd8\\xfd\\x91=)\\xaff\\x87\\xa8\\xa1\\xfb>\\xc1y\\x1c\\x8ai\\xe5A!y\\xad8\\x9eX`\\x00\\n\\xda\\x16I\\xd0-Y]9J\\x8c\\xads\\xca\\x9c\\x1fCE)!<54\\xa6)\\x0b\\x8c\\n\\x87\\xc43\\xe2\\xd9\\xc0\\xee1[\\xf6\\x96b\\x0b3\\xb5x\\xaeo\\xc4\\xcaV\\xd9\\xb6\\xf5\\xed\\x9fZ\\xfc\\xf37\\xb2\\xafd}\\x96]/\\xdc\\x9e[}d\\xf2y\\x92\\xe3\\x85j\\xfa\\xf7\\xf6~l\\xf8cN\\x91~\\xf6\\xd1\\xc5x\\x15\\xf7\\x83\\x9a\\xcf\\xc3r\\xdc\\xc8\\t\\xdc\\xa1\\xf8\\xf5\\xafi\\xfd\\x9a\\xb5U\\x97\\xc3\\xd0\\xa3`4Gh\\x07\\xd2\\xbc\\xccD\\xf9\\xe8\\xddt=\\x1c\\n\\xfd\\xebl\\xfar\\xc6\\x1f68\\x9b\\xbe9\\xac\\x7f\\x16\\xcf\\x04\\x16\\x88\\x19\\xf6\\x8d\\xdc\\x91Z\\xf6\\x97\\xc9kf\\xf2\\x81\\xbb\\x03\\x8ex\\xaf$\\xf8\\x8f\\xaf]\\xbe\\x9d9\\x85\\x01\\xeay\\xaf\"\\t\\xdd>\\x87\\xd1\\xc9\\xc5\\xad\\x0fy\\xf0\\x0cZ|\\xdaLR,\\xc1Cul\\xd7C{\\x1d\\x8a\\x10\\x91\\xde,\\xae\\x0fF\\xaf\\x83\\xbc-\\xf1\\xb7_\\xf0\\xba<Wj\\xfeN\\xff\\x00\\x93\\x83]\\xd5\\xa6\\xb3\\xe2\\x1f\\x8b\\xb7q\\xfd\\x93[\\x97MP\\x06D*T\\xff\\x00:\\xf4%f\\x8eH\\'\\xce}i\\x8b\\x98q?\\x98\\xbeX\\xe8\\x14\\xd5=C\\xc49uc\\x80A\\xef^q\\xe0?\\x84~ \\xb3\\x11\\xfd\\xb3\\xc5WWP\\xa9\\x1b\\x96V\\xe7\\xf9\\xd7\\xa8\\xea\\x9e\\x1b\\xb4m%\\xe2\\x8c\\xf9\\x93\\xa8\\xda$\\'\\xbf\\xadb\\xe2\\x8e\\x87(_V;I\\xf10iG\\xcc+\\xa8\\x1a\\xe8\\x96\\x1cn\\xed^%\\x15\\xc5\\xc6\\x9d\\xa8\\x98I\\xc8S\\xc95\\xd5\\xdbkE\\xa0R\\x0e8\\xe8k\\x9eFr\\xa6\\x99\\xad\\xe2\\x1b\\xd4\\x11H\\xd9\\xea\\r|\\xd5\\xacN\\xf0\\xf8\\xcd\\x08\\xe8\\xeck\\xdau\\x8dA\\xa5\\x89\\xf2x\\xf6\\xaf\\x16\\xd4\\xe4\\x13x\\xc2\\x10\\x06v\\xe4\\x8a\\xe7z\\x99\\xcdr\\xc6\\xc4\\xfe\\x1cR\\xba\\xb6\\xaa\\xa7\\xfez\\x7f\\x8dq\\xbe5\\x80<Z\\xa4]\\xfe\\xf5w~\\x1f\\x8f\\xcd\\xd65f?\\xdf\\xc8\\xc7\\xe3\\\\\\x17\\x8efXuMQ\\x01\\xe3\\xcb\\xef\\xf8\\xd3\\x8e\\xe7\\x93k3\\xce\\xbc/(\\xb3\\xbc\\xc7\\xa1\\xad\\xff\\x00\\x16\\\\\\t\\xae-\\xa4\\xfe\\xe75\\xc7\\xe9\\x17\\n\\xf7{\\xf9\\xce\\xe3]\\x17\\x88\\xa6O\"&\\\\\\xe4\\xa6Mt9(\\xdd0{\\x1b^\\x1c\\xd5E\\xa6\\xb1kq\\x9es\\x8f\\xce\\xb5\\xbe,\\xc2\\xe6\\xc5n\\x13\\xef($\\xfe<\\xd7\\x01\\xa5\\xea\\x05e\\xb5w\\xe3\\x0c:W\\xa5x\\xdaE\\xd5<8gQ\\x96h\\xc6q\\xd3\\x81]8*\\x9e\\xceFU\\xa2\\xa7\\x13\\xc0\\xe4\\xd5f\\x8fsw\"\\xaa6\\xb71\\xefQ\\xea\\x122,\\x84\\xe0\\xb0\\xc8\\xac\\xa6\\xba!y\\xc6k\\xee\"\\xe6\\x92v\\xdc\\xf9\\x99J\\x11v5N\\xb8\\xf9\\xe7\\xad\\x1f\\xdb\\x8fX\\x7fi\\xcbs\\x8a_=k\\xad\\xce\\xacth-\\x17\\xa9\\xea\\xab\\x17\\x1d*)\"\\xc1\\xab\\xaa\\xbcTRG\\x91_DxE=\\x81\\xb8\\x14y\\x07\\xd3\\xf5\\xa9\\xc2c\\x9aZ\\x00\\xad\\xe5b\\x9a\\xd1\\x81\\x8a\\xb2S&\\x9ac\\xcd&4WT\\x1b\\x85^\\x8b\\x0e\\xa3\\x1d\\xaa\\x11\\x1f#\\x8a\\xbbc\\x0e\\xe9\\x11}Me\\'esX+\\xc9$i\\xc3n\\xdfal\\xafQ\\xc5r\\xde)\\xb5\\x02\\xc22A\\xcf\\x98\\x01\\xafR\\x9fG0i\\xf1\\xb68+\\x9a\\xe0|T6\\xc5\\x1c{rL\\xa2\\xbf2\\xcc*{J\\xf7>\\xd3\\t\\x0eJF\\xa6\\xb5\\xa6\\x87\\xf0s\\x06\\xed\\x00?\\xa5q\\xbf\\x01\\xfcV\\xda]\\xf4\\xd6\\xaf&\\x06\\xfc\\x80k\\xd3|A\\x10\\x1e\\x1fh\\x88\\xc6m\\xc7\\xf2\\xaf\\x9c\\xb4\\t_K\\xf1H*\\xc5C7A\\xf5\\xa8\\xa7\\x158M\\x17J|\\x92\\xba>\\xea\\xb7\\xd7\\xe4\\xbd\\xd3\\xd4&v\\xb5r\\xfe\"Vk\\x95\\xb7\\x94|\\x8f\\xd7\\'\\xb5/\\xc2}R=f\\xd8C!\\xcb\\xae*\\xb7\\xc7\\xa7\\x97\\xc3\\x96\\xc6\\xe6%n#\\x1fw\\xady)4\\xf9z\\x9fM\\x17\\xee\\xa6hh\\xde\\x08\\xf0\\xa1\\x9a6\\xd5\\xa6\\x8b\\xcb\\xceUK\\x0e\\xb5\\xe8:]\\xe7\\x83\\xfc1q\\x14\\xb6\\xb3Cl\\x14\\xe0mpr+\\xe3\\x8f\\x02^\\xea\\x1e<\\xd5\\x1a\\x07\\xd4\\x96\\xd6%n\\xb2\\xbe1_Bx_\\xe0\\xc7\\x87T\\xc7&\\xa7\\xe2\\xebh\\xc7R\\x1a\\xe0\\x1f\\xc8W[\\x84\\xbe\\x16h\\xb10\\xa7\\xf1D\\xfa*\\xdb\\xe2\\xf7\\x85I\\x8dN\\xa5\\x1a\\xb0\\x1d\\x19p*H|q\\xa0\\xeak3\\xc5\\xa9[\\x90NW\\x12\\x0e\\x7fZ\\xf2T\\xf0g\\xc2\\xdd:\\xf5D\\x9a\\xf4\\xba\\x89\\xdaAX\\xc1#?\\\\W\\x9b|E\\xf0\\x05\\x9e\\xb7fa\\xf0p\\xba\\xb6\\x98\\xbf\\xca\\xe6B>\\x9cQ\\xec\\xad\\xd4\\x9ezUuQg\\xd1\\xda\\xcd\\xa5\\xae\\xacV}>D\\x95\\x87,Q\\x81\\xa7\\xdb\\xda(\\xb6Vn\\x1b\\x1c\\xd7\\x9c|\\x1a\\xf8c\\xafx\\x03K\\x8e}OS\\x92\\xf1\\xa5\\x1f4ns\\x8a\\xf5+\\xc8\\xbfr\\xab\\x18#>\\xb5\\xc7SB\\x93L\\xc2\\xd4\\x91L\\x12\\x15\\xe7\\x02\\xbc\\x9a\\xde\\x1f?\\xc5m.\\xdc\\xa2d\\x13^\\xb1\\xabF\\xf6\\xb6o\\x93\\x8c\\x83\\xd6\\xbc\\xfbB\\xb23_\\\\\\xc9\\x91\\xd4\\xd7\\x1d\\xd29\\xab4\\x84\\xf0\\xcd\\xa3\\xb5\\xe5\\xfb\\xed ;p\\x7f:\\xf1\\x9f\\x88s\\x81\\xe2maK\\x11\\x88\\xfa~u\\xef\\xdaC\\x98\\xec7p\\x19\\x9f\\x93_6\\xfcB\\xbaY<i\\xac\\xfc\\xd9\\xc4x\\xfeu\\xa4>$yr\\xdc\\xe3<72\\xf9r\\x16\\x1c\\xee WE\\xab\\xc8\\x1e\\xdd\\x01\\xe4\\x85\\xc5s:\\x06\\\\\\x15\\x03\\x8d\\xf5\\xd0]\\xc6\\xc1\\x86\\xee\\x98\\xad\\xa5\\x1ei\\x12T\\x80f\\xcdX\\x0f\\x99Mzv\\x870\\xd4\\xfc0m\\xdf\\x97\\xdb\\xfd+\\xcfm-\\xc3A \\xec\\x06k\\xb0\\xf8}pnCC\\xbb\\x18\\xe3\\x14)rI\\x04\\x95\\xe2\\xecy\\x1f\\x88t\\x97\\xb3\\xbe\\xb8\\x8c\\xa9\\xdaI\\xaer}9\\xb7p8\\xafV\\xf8\\x83`\\xd6\\x9a\\x93p\\x08f\\xe6\\xb8\\xc9aOJ\\xfd\\x87\\x07(T\\xc3\\xc2V>\\x07\\x15\\x19Fw97\\xb0 \\x9e*/\\xb27\\xa1\\xae\\xa9\\xe0\\\\}\\xda\\x87\\xc8_\\xee\\x8a\\xf4\\xa5N\\x9c\\x9d\\xda9y\\xe6z\\x0e\\xca\\x8ea\\x81O\\xc1\\xf5\\xa6\\xba\\x96\\xe2\\xb3,\\xac\\xc3*i\\x9bjvL\\x1cP#\\xcfz\\x00\\x83m\\x00T\\xc5pz\\xd2\\x14\\xcfzBj\\xea\\xc4[Nx\\xad\\xdf\\rY\\t/#\\x0f\\xc9\\xdc+ \\x0ct\\xe4\\xd7]\\xe0+o\\xb7\\xeb\\xd0\\xc7\\xb4\\x9cu\\x15\\xc7\\x8b\\xa9\\xc9N\\xc7N\\x16\\x1e\\xfage\\xac\\xd9\\xcb\\xf6x\\x965\\xf96q^q\\xe2-4\\xc9\\xabi\\xf0\\xb2\\x81\\xb9\\xc6@\\xafw\\xd64\\xb8\\x95\\x10\\x10W\\x0b\\x8czW\\x95\\x8d,j\\x1e;\\x80d\\x98\\xd0\\x10;\\xd7\\xe5uj)\\xcc\\xfbJ_\\x05\\x8a\\x9e0\\x89\\xad\\xd5\\xa0\\\\\\x90#\\xc7\\xe9_6\\xf8\\x8e\\xd5\\xb4\\xfdFIFA\\x8eN\\x08\\xaf\\xac<[\\xa7\\x87\\xbb\\xb8\\xf4\\xd9\\xd6\\xbez\\xf8\\x85\\xa6\\xacr\\xb3\\xed\\xf9\\x18\\xe4\\xd6\\xf4\\'\\xc9#\\x19\\xfb\\xae\\xe7\\xa7\\xfc/\\xf1\\x04\\x96R\\xd9]\\xc4\\xff\\x00\\xbb\\xda7\\x0c\\xf7\\xaf\\xa8o\\xf4\\r/\\xe2\\x17\\x85Z[\\x85Y\\t\\x8b\\x90G5\\xf0\\x8f\\x81<N\\x96S\\xfd\\x92g\\xd8\\xaf\\xca\\xf3_Q|.\\xf1\\xce\\xfd:K/7\\xa0\\xe3\\'\\xada^\\x9f$\\xf9\\xd1\\xedP\\xaa\\xd9\\xe5\\x97_\\r4h5\\x99\\xe0\\xb4v\\xb4`\\xe7#q\\x04\\xf3^\\xa1\\xa4\\xfc?\\xf0\\xcai\\xf6\\xdev\\x9f!\\x98(\\x06W\\x98\\x90N:\\xf5\\xaa^%\\xf0\\x87\\xf6\\xa6\\xae\\xb7C)#\\x1e\\x19koJ\\xf8}\\xab\\xba\\xa2\\x9b\\xb6x\\xf3\\x9c{Q\\x1a\\xbc\\xc8\\xf7\\xa9:N:\\x9d7\\x86\\xfc\\x07\\xa1\\x98\\xc1[\\xa8#b~U\\x03\\'\\xf9W\\x7f\\xe1\\x0f\\x06\\xdbY]\\x97\\xc0\\x97\\x1c\\xabc\\x81X\\x9e\\x0f\\xf8~,\\xca\\x17L\\xb6rX\\x8a\\xf5\\r*\\xc1m\\x1dUz\\n\\x99\\xcc\\xce\\xadh\\xc6\\xea%\\xeb\\xbbh\\xc5\\x9a\\x82\\xab\\x91\\xed\\\\\\xc6\\xa2\\xc1e\\x078\\xae\\x83V\\xba\\x10\\xc4y\\xcdq:\\xa6\\xa2\\xb9\\xea7u\\xc1\\xaeI\\x9c\\x10\\xd5\\x9c\\xef\\x8e\\xb5EKS\\x18?3p1Y\\x9a=\\x8f\\xd9\\xf4ie\\xc6\\x1d\\x87^\\xf5n\\xd7K\\x93\\xc5\\x1a\\xa3\\x8d\\xa4\\xc4\\x9c\\x9a\\xd2\\xd6-\\x1a\\xd9\"\\xb6\\x8d0\\x1b\\x86\\xc7lW\\x9c\\xfe#,N\\xc7;\\x14k\\n\\xa4Y\\xe25$\\xd7\\xca\\xde1\\x95e\\xd75\\xeb\\x82{\\xed\\xcf\\xe7_N]\\xde\\x04\\xb7\\xd5%\\xcf\\x10\\x023\\xf9\\xd7\\xca\\xda\\xec\\xabu\\x0e\\xad8\\xce\\xc7\\x94\\xaeEv\\xd1\\xeay\\xf7\\xbaE\\x7f\\t(id@3\\x91\\x91W5\\x16\\x91n0I\\xc5G\\xe1xDN\\xaf\\xc8$\\x11\\xfaT\\xda\\xe3\\x12\\xd9^\\xb5\\xd1\\xb0\\x1aZ\\\\&H\\x8f\\xba\\x91V|\\x0fxl5\\x7f(\\x9e\\x0b\\x90i\\xfe\\x1b\\x89\\xa5\\xd3\\x96U]\\xd8\\xe2\\xb3\\xe0\\x8d\\xadu\\xb9NJ\\x95m\\xd5\\x84\\xdaF\\xb1\\xd8\\xdb\\xf8\\xabe\\x89\\x95\\xc7\\xf1\\x0c\\xd7\\x9a\\x14\\xc9\\xc7q^\\xc1\\xe3x\\xcd\\xe6\\x89iv\\x141d\\xf9\\xbf\\xd9\\xaf*h\\x80\\x95\\xeb\\xf5\\x1c\\x96\\xbf>\\x16\\'\\xc4fT\\xf9*6T)\\xf2\\xd3<\\xa1N\\x93#<\\xd4E\\x8ez\\xd7\\xd2\\xbf#\\xc8\\xdc\\xee\\xf0=h\\x08\\x18\\xd3\\x14\\xee\\xa9Uv\\xf3Y\\x16D\\xf1\\x80\\xdc\\xd3\\x18\\x01\\xde\\xa5\\x7f\\x9d\\xaa6ZW\\x02\\x1294\\xc6\\x07#\\x15)\\xe0\\xd0\\x06MD\\x9b\\xb6\\x80,Jr\\x0e;\\xd7\\xb2|\\x14\\xf0\\xbf\\x9f\\xa9\\xfd\\xac\\xe1\\x97\\x1d{W\\x91\\xc3\\x19v\\x00\\x0c\\x93_Q\\xfc,\\xf0\\xe3h^\\x1d\\xb6r35\\xc6\\x0e+\\xc3\\xcd*\\xf2\\xc0\\xf5p4\\xf9\\xa4\\x99{\\xc5\\x9a\\x1bEc=\\xc1 (REx\\xe7\\x85-\\xa3\\xbb\\xd7f\\x99FY\\x0be\\xab\\xdf\\xbe&2i\\xde\\x1e\\xda[\\xe6d\\xe4W\\x87\\xf8V\\x1f)n\\xa5\\x1f.\\xe2y\\xfck\\xf3\\x05w\\xef\\x9f\\\\\\x95\\x95\\x8b\\x17\\xdaY\\xbc\\x82\\xf6C\\xcb\\x05\"\\xbcG\\xc7^\\x1c\\x17Z\\x15\\xcb\\xf5d\\x04\\xd7\\xd2\\x1ae\\x8bIixH\\xc8e\\xaf\\x1a\\xf1E\\x89\\x8fM\\xd4b\\x7f\\xbb\\xb4\\xd6\\xd4\\xaa^I\\x92\\xe1s\\xe5MBy-\\xa7\\x8aH\\xdf\\x0f\\x17#\\x9e\\xb5\\xec_\\x0c\\xbc~fh\\x0e\\xf0\\xb2\\x0e\\x1ds\\xcdx\\xcf\\x88\\xa00^\\xbezf\\xabi\\x1a\\xb4\\xba=\\xda\\xcd\\x1b\\x11\\x82\\x0e=k\\xe9*PU\\xe9X\\xe0\\x85IR\\x96\\xe7\\xe8\\xc7\\x86uk]_L\\x82S\\x87d\\xc6q\\xda\\xbd?\\xc3\\xa6\\x12\\x8aYQW\\x1ds_\\x11\\xfc(\\xf8\\xbf\\x07\\x93\\xb2y\\xb6\\x95#*OZ\\xfa\\x13G\\xf8\\x93kqn6\\xcc\\xab\\x91\\xfd\\xea\\xf9\\xf7M\\xd1n-\\x1fG\\x87\\xab\\x1a\\xb1\\xb2>\\x96\\xd3\"\\xb2\\xfb32\\xca3\\xc7\\x04\\xd4\\xd1\\xdcA\\x06\\xe2\\xa41\\x1c\\xf1^\\x11c\\xe3{a\\x18/u\\x90}\\x1f\\xa57\\xc4?\\x19\\xf4\\xfd\\x16\\xc8\\xa4\\x17!\\xa4*A\\x19\\xa9\\x92\\xb9\\xd0\\xe9\\xb7\\xd4\\xf4\\xaf\\x15x\\x968\\xf7\\x00G\\x1e\\xf5\\xe5\\xfa\\xef\\x8bcY\\x17y\\x05\\xcbm\\x8c\\x03\\xeb^S\\xaa|]k\\xcb\\x89\\x1d\\xa68=\\x06kK\\xe1]\\xcbx\\xdb\\xc5\\xd6\\xab(2B\\xb2\\x82EqM3IZ\\x10l\\xfa[\\xc0Z\\x1c\\xb6\\x9a!\\xba\\x91\\x0f\\x9f0\\xc98\\xeck\\x17Y\\x90C\\xa9]3\\xb0*\\xaav\\xfdk\\xd3o\\xc2i:\\x7f\\x94\\xb8TD\\x18\\x03\\xe9^9\\xe2\\xf9\\x8d\\xa6\\x89{t\\xe7\\xe7v;k\\x8f\\xed\\x1e\\\\\\xa5\\xcey\\xfd\\xfd\\xf2E\\xe1}fI\\x08\\x1evy?\\x8d|\\xf5+E\\xfd\\x89z\\x8a\\x01V\\x97\"\\xbd\\xfbU\\x85\\x1b\\xe1\\xec\\xee\\xff\\x00y\\x97\\xfaW\\xcf\\xd6\\xd6\\xeb>\\x97y\\x198!\\xc9\\xae\\xeao\\x94J*\\xc5\\xad\\x0e\\xc9\\xed\\xa1Go\\x98\\x13\\xc0\\xfa\\xd5{\\xc9\\x11\\xe6\\x9c0\\xc1\\x1d+\\xb1\\xd2\\xb4b4\\xfbP\\xaaI`\\x0e~\\x86\\xb8\\xab\\xd2\\xcb\\xa9\\\\\\xa1\\xc7\\x0e\\xd5\\xaf23\\xebc\\xd2\\xfe\\x16\\xf8f}g\\xc2\\xcf:)\\xd8\\xb2\\x11\\x9c{\\x9a\\xe6\\xfcYf4\\x9f\\x10\\xc8\\x92\\x0ce\\x80\\xcd}\\x01\\xfb7\\xd8[\\xcb\\xe02\\xb2\\x80\\x03HO\\xeak\\xcc\\xfe8\\xf8yW\\xc4\\xb7\\x8f\\x0e6\\xa1\\r\\xc5sA\\xdd\\xb4\\xcbZ\\x192\\xe6\\xf7\\xc2\\xb3F>b\\x9c\\x01\\xed^Sx\\x86+\\x89\\x00\\x1d+\\xd1|+zg\\xb6\\x96\\xdd\\x8eK.q\\\\^\\xbf\\x07\\xd9\\xae\\xa6\\x1bz\\x9a\\xfb\\x8e\\x1c\\xae\\xb9\\xdd6\\xcf\\x9b\\xcd\\xa9\\xdd\\xf3#\\x9c\\x90\\xee\\x04\\xd4\\'\\xadM/\\x0cV\\xa2\\xdb_\\xa1\\'s\\xe4\\xdc\\x8e\\x92=Uw\\x0ekB+\\xd4\\x953\\xba\\xbc\\xce=N]\\xdfz\\xaf\\xc3\\xad\\xbapX\\x8a\\xd9\\xd1v\\xe6cR\\xb9\\xdfy\\xa0s\\xbb\\x8a\\x7f\\x9a\\x92\\x0c\\x03\\x83\\\\Jx\\x8d\\x13\\x01\\xa4\\x03\\xeaj;\\x9f\\x1e\\xda\\xd9.\\x03\\xefoE\\xae\\t\\xd4\\x84tf\\xf1\\x84\\xa5\\xb1\\xd9\\xb7\\x04\\xf3K\\x1b\\r\\xd899\\xee+\\xcc.\\xbe+\\xcc\\t\\x11\\xc20:f\\xa8\\x8f\\x8a\\x97\\xf28T\\x8dA&\\xb9%\\x89\\x87C\\xa3\\xd83\\xdf\\xfc%`5-b\\x18\\xc2\\xeeP\\xc0\\x90k\\xeb/\\n?\\xd9\\xe1\\x8b\\xce`R\\x18\\xfeQ\\xe9_)|\\x02\\xb8\\x9f\\\\\\xb8\\xf3\\xa5\\x00`e\\x9b\\x15\\xee\\xb7>\\'M.\\xce\\xe1\\x84\\xb8@6\\xee&\\xbec8\\xac\\xa7\\x0b#\\xdd\\xcb\\xe0\\xa1\\xb9k\\xe2\\xcf\\x88\"\\xbdA\\x08\\x99\\x87lW\\x15\\xa6\\xc1\\xe5X\\x00\\xa7\\x86\\xefX:\\xe7\\x88\\xdf^\\xba\\x85@\\xcag%\\xbd+\\xb1\\xd3-\\x11\\xad\\xad\\xc2\\x9c\\x83\\xfe\\x15\\xf1m{:|\\xac\\xf7i\\xbe}\\xce\\xa3@\\x8b\\xfd\\x16U\\'?\\xb8\\xc9\\xfa\\xf1^3\\xf1\\x12\\x05\\x8fO\\xd4v\\xf5\\xdak\\xda\\xfc7\\x18v\\xbf\\r\\xc0H\\xb6b\\xbc3\\xe2\\xb5\\xc7\\xd9\\xadu\\x16\\x07\\xe5\\xc1\\xe2\\xb8\\xe9\\xca\\xd2E;\\xc7c\\xe4\\x9f\\x11\\x9f>\\xe5\\xf3\\xc1\\x06\\xb9\\xf9\\xe3\\xda7g\\x9a\\xdc\\xd4\\x9f\\xcd\\xbabA;\\x9a\\xb3\\xef\\xa2\\x11\\x1d\\xb8\\xc9\\xc5}\\xc5\\x17\\xcb\\x14\\x8f\\x1aK\\x9e\\xe9\\x8c\\xd1n&\\xb5\\xbe\\x8d\\xe3b9\\xe7\\x9a\\xf4\\xfb\\x7f\\x13]\\xd9\\xc4\\x8c]\\xf67$\\x83^q\\xa2X}\\xaaa\\x86\\xc0\\x07\\xf3\\xafL\\xd1l\\xd2\\xe2\\xd3\\xec\\xd3.=\\t\\xae\\x1cc\\x8c\\xa5\\xa9\\xe8a\"\\xe2\\xb4/E\\xe3\\xf7\\xce\\xc3s\"\\x8e\\xdc\\xd4\\xc7\\xc4\\xbex,e2g\\xd4\\xd75\\xaaxu\\xe1\\x9blI\\xbd{b\\xac\\xe9\\xbe\\x1f\\x9b\\x00\\xba\\xb2\\xfbW\\x98\\xd5;\\\\\\xf5\\xe39\\xa7c]o\\xe4\\xbc\\x99v\\x0e3\\x8a\\xfa\\xb7\\xf6V\\xf0\\xfbC\\x13\\xdf\\xcc\\xbf0py\\xaf\\x9c<9\\xe1gW\\x87\\xcc\\xfe&\\x18\\xaf\\xb1~\\x10Y\\xae\\x97imo\\x1f\\x1b\\x97s\\n\\xf3\\xaaH\\xd2\\xbbn6=\\x13\\xc6Z\\xcc\\xb7\\x17\"\\x08\\x86K\\x00\\x0f\\xd2\\xbc\\xd7\\xe2\\xe5\\xc8\\xb5\\xd3--\\t\\xd8X\\x02TW{{\\xe5\\xddj\\xc0\\x86\\xfb\\x8c3\\x8a\\xf2\\xdf\\x8cR\\x0b\\xdf\\x12\\xc2\\x8aO\\x97\\x08\\xdaA\\xef\\\\M\\xebs\\x860\\xb20\\xf5hD\\x9e\\x07x\\xfa\\x8d\\xbc\\x0f\\xc2\\xbc?D\\xd3D\\xd2]D\\xc0\\xe0\\xb1\\x18\\xaf\\xa3\\x13LY\\xbc3\\x10<\\x86Z\\xf3\\xbf\\x0e\\xf8n3\\xaa\\xdf!P0K`\\xd5:\\x8dlk\\x18\\xe8i\\xc7\\xa1\\x88t\\x0b_$d\\x85<\\x8a\\xf0\\x8f\\x19\\xda\\xcd\\xa7\\xeb\\x07j\\x98\\xd9\\xdb$7\\x00\\xd7\\xd0\\xda>\\xb5\\x1c\\xab%\\x92\\x8c\\xb4m\\xd2\\xa9\\xfcA\\xf0\\x86\\x8d\\xe2\\xcd\\x02Y\\xd8\\x8bk\\x9bu\\xc98<\\xd3\\x85]u\\'\\xd9\\xdbR\\xaf\\xc2\\x9f\\x1b\\r\\x07\\xc2\\xb0Z\\xe7\\x0c\\xcd\\x92\\x07\\xe3T\\xf5\\xedN?\\x12\\\\j\\xdb\\x9b2\\xed\\xe35\\xe7Z\\x03\\xdd-\\xd46\\xd6\\x81\\xa7H\\xf8\\xe3\\xbdm\\xd9\\xa5\\xcd\\xb6\\xb9 \\x9e\\x19S\\xcd?\\xdd8\\xfc\\xebD\\xd2w\\x0eV\\x8c\\x7f\\x0f\\xb1\\xb6\\xbe\\x8d\\x81\\xc6\\xd0U\\xbe\\xb5_\\xc6\\x96\\x9bG\\x9c\\xab\\xc3s\\x9a\\xb7\\xaaYK\\xa4\\xeb\\x8c\\x08\\xdb\\x14\\x8d\\x95\\xc5hjV\\xa6\\xfbHr\\xc8x\\x1c\\x1e\\xb5\\xebd\\xd8\\x87G\\x16\\x93\\xd9\\x9cX\\xea\\x11\\x9d\\x06\\xfa\\x9eS7.Ozh\\x02\\xa4\\xbaO&VF<\\x83\\x8e\\x86\\x99_\\xb1\\xa9A\\xa4\\xd1\\xf9\\xc4\\x93N\\xc7\\x19q\\xa9\\xc3n20k.\\xe7\\xc5\\x1bA\\x08+\\x9b\\x9a\\xf2I:\\x9a\\x80\\xb1nMxUs\\x1a\\x93mGc\\xd9\\xa7\\x86\\x8cV\\xa6\\x9d\\xc6\\xb3<\\xe0\\xe0\\xe35E\\xa6,\\xdb\\x89%\\xaa\\x1c\\xe3\\x9a<\\xc3^\\\\\\xeaJn\\xf2gTa\\x18\\xec\\x87\\x96bs\\xcdhhZ]\\xce\\xb7\\xa8\\xc5ij\\x8cg\\x91\\x80S\\x8e\\x94\\xdd.\\xd6k\\xbb\\xa5H\\xe3\\x0c\\xc4r=\\x07\\xad{\\x9f\\xc2m.\\xca=F\\x08t\\xd8\\x96\\xea\\xe4\\x11\\xe6\\xdc0\\xfb\\xb5\\xcd)Y\\x1a\\xa4\\xe5\\xa1\\xee\\x1e\\x05\\xf0\\xf2\\xf8\\x13\\xc0\\x96\\xf6\\xe3\\x0b\\xa82fG\\xf6\\xc5y\\xf7\\x8a<s%\\xfd\\xdbYEq\\x88\\x01\\xf9\\xf1\\xeb[\\xff\\x00\\x11|e\\x16\\x95\\x9bsp]\\xa1M\\xcc\\x01\\xe3\\x8e\\xd5\\xe16z\\xc4w\\x17W\\x1b[\\xe6\\x95\\xf7\\xe7\\xd0W\\x17*\\xab\\xa3=\\x08\\xb8\\xc66G\\xa7\\xc3\\xae<\\x0fai\\x1b\\x93-\\xc4\\xa1I\\xf6\\xcd}-\\xa1i\\x02\\xce\\xda\\x1ew\\x98\\xd1X\\xe7\\xe9_(\\xfc6\\x9d|Q\\xf1\"\\xc5q\\xba\\x1be\\xe4\\xfd\\x05}ui0\\x8a\\x0b\\x99\\xd8\\x85\\x86(\\x8a\\x8a\\xf9|z\\xe5\\x95\\x91\\xe9a\\xfd\\xedQ>\\x8bz>\\xcd\\xabL\\x14\\x00\\xa0\\x8a\\xf9\\xab\\xe3\\x16\\xa4[I\\x9c\\xe7\\x97\\xcd{\\\\Z\\xc0\\xb0\\xf0\\xd6\\xa30lE3\\x1c\\x0f\\xce\\xbev\\xf1\\xe7\\x9f\\xac\\xb2\\xd8\\xa2\\xf9\\x929\\xf9\\x0f\\xa5pPk\\x9d\\\\\\xebq<Di\\xad<\\x8a\\xc0\\x13\\xcdgj6\\xccn\\n\\x1f\\xa5z\\xad\\xaf\\x84f\\x86\\x19D\\x8a#d\\x18b}k\\x83\\xf1\\x0cv\\xd6\\x97a\\x0c\\x9b\\xdc\\x1e\\xd5\\xf5t*\\xb9\\xbd\\x0f*t\\xf9eg\\xd4\\xb1\\xe1\\xdd2(\\x125\\xff\\x00\\x96\\x8aw5z.\\x8b\\xe1\\xdf\\xed\\x89\\x03B\\xc4z\\xe2\\xb8\\xdf\\x0c\\xda\\x11\\xa7\\xde\\xeaW$\\xac1m\\x12\\x13\\xfcJq\\x81\\xfc\\xab\\xdf~\\x18xr\\xc6\\xee\\x18/\\xf4\\xd9\\xfc\\xfbg\\x03\\xcc\\x8cv=\\xeb\\x83\\x19\\xce\\xaf4w\\xe0\\xe5\\x07?d\\xf7\\x19\\xa4|3v\\x88;\\x8d\\xfcw\\x14\\xf9<\\x03$\\x93\\x94H\\xf6\\xe3\\xda\\xbe\\x94\\xf0\\xee\\x81`l\\xfeD\\xf9\\x94\\x0c\\xee\\xa4\\xb8\\xf0\\xf4\"W\\x7f-q^,j\\xb7\\xa1\\xed\\xc6\\x9d\\xfa\\x1e\\x05\\xa5\\xf8m\\xfe\\xdb\\x0cL\\x9bDG9\\xc5{\\x97\\xc3\\xf9|\\xa6\\x92\\xe7\\xa2\\xc6\\xbb@\\xfc+\\x95\\xd6\\xa0X.\\xca\\xa2`f\\xba?\\x0c\\xdd\\x18\\xadD{z\\x8a\\x89I\\xb2j\\xc3C\\xa4\\xd2\\x1d\\xa4\\xba\\xb8\\x99\\xc9\\xf9\\x8eG\\xe7\\\\?\\x88\\xe3MSQ\\xd4\\xa6nLr`W]\\r\\xc3\\x19\\x86\\x06\\xd0:\\x9a\\xe4uc\\x1d\\xbc\\xb7J\\xbfzC\\x9a\\xc1\\xf3\\x18*n\\xc3Z\\xf8\\xc3\\xa7Cl\\xa7\\xa0\\xaf?\\xf0\\xef\\x88D>9\\xbb\\xb5\\x9b\\n\\x191\\xcf\\xe3[\\xda\\xa6\\xb2\\x96\\xb0\\xc16\\xde\\x17\\x82+\\x8b\\xf1\\x8f\\x87\\'\\xdf\\x16\\xbffK\\x0f\\xe2+\\xdb\\x14\\x0f\\x92\\xc8\\xa5\\x1e\\xbd\\x1e\\x95\\xe3;\\xb5\\xdcT\\x168\\xae\\xe3\\xc5z\\xca\\xcb\\xe0\\xcb\\x83\\x04k\\xb9\\xd3\\xef\\x01\\xcdxv\\xb1\\xaa\\x895\\x01u\\xbf\\xe7\\xfe\"G5\\xe8\\x9a.\\xaf\\x17\\x88\\xec,\\xac\\xe1Y0\\xd8Y\\n\\x8a\\xbb[R\\x94.l\\xfc\\x1b\\xf0Q\\x92%\\xba\\x9f\\xe5\\x91\\x80a\\x91\\xd75\\xefV:\\x16\\x90\\xd1\\x01qe\\x1c\\x8c>\\xf3\\x15\\x18\\xaeo\\xc3z7\\xf6M\\x8a\\xa1]\\x88\\xaa\\x00\\xcfR*\\xe3\\xebK\\x11+\\x1f8\\xeahR\\xd4\\xd7\\xd9\\xf9\\t\\xe2o\\x86~\\x1b\\xf1j)6\\xff\\x00fe<<\\x1f.?\\x95s\\xe3\\xe0>\\x8c`x\\xad\\xf5Y\\xc3\\xe3\\xee\\x92H\\xad\\x83\\xa8\\xcfs*\\x8f0\\xed\\'\\x91[\\x9aKm\\xc6^\\xb5\\x84\\xdd:\\x8ah\\x89\\xe1\\xd3\\x8d\\xa4x\\x0f\\x8c\\xbfe\\xeda\\xbc\\xcb\\x8d.U\\xb9=pz\\xd7\\x9b\\xbf\\xc1?\\x16\\xa3\\x15:{d\\x1ct\\xaf\\xbf\\xbc?qn\\xab\\x97Us\\x9e\\xf5\\xd9%\\xae\\x9c\\xc8\\xaca\\x8f$f\\xbe\\xd7\\r\\x9e\\xd6\\x8d5\\x1b\\xec|\\xb6#,\\xa6\\xe7t\\x8f\\xc2&m\\xddi(\\xa38\\xafP\\xf2\\x02\\x8a3E\\x00h\\xe9S\\xcanDq9M\\xe3k7|W\\xb8\\xf8;^\\xb0\\xf0.\\x82\\\\\\x15\\x12\\x15\\xe0\\x83\\xf3\\x13\\xeek\\xc0b\\x94\\xc4r\\xa7\\x06\\xad>\\xa3s$c\\xccr\\xea:s\\xd2\\xb2\\x94n\\xcaN\\xce\\xe7s\\xe2o\\x19\\xdcj\\xaa\\xed\\x9c\\xc93\\xe0\\x0e\\xe6\\xb1-\\xf1j\\r\\xa9r\\xb7\\r\\xf3;g\\xa0\\xf6\\xac\\xad6o\"A)F\\x9ec\\xd1@\\xce+\\xb6\\xf0\\xe7\\xc3K\\xdf\\x11\\xce\\x92\\xcc\\x1a?8\\xe5\\x8f\\xa0\\xac\\xea\\xa8\\xd2\\x8d\\xeel\\x9c\\xa4\\xf6=\\x17\\xf6p\\xd2\\x9e\\xd3W\\xb8\\xbb\\x9d\\xff\\x00vxS\\xdc\\xd7\\xd0\\xde \\xd6>\\xc1\\xa6Ik\\x1c\\xe0\\xb4\\xa3\\xe5\\x15\\xe5\\xfe\\x0e\\xd1\\xec\\xfe\\x1e\\xe9\\xe6y_\\xccu\\\\\"z\\xd2C\\xac\\xc9\\xac\\xea\\xdfiv>_\\xde\\xd9\\xd8W\\xc6c&\\xaaT=\\xdc*j\\x1b\\x1d/\\x8a5\\x93e\\xe1\\xfb;\\x10\\xe3s\\x8c\\xb8\\xaf7]V;[\\xe9\\x99\\xc82\\xc7\\xf7I\\xedV\\xfcE\\xe2\\x0f>\\xf2Wa\\x94\\x87\\x81^W\\xaex\\x8d\\x92[\\x82\\x18\\x86q\\xc1\\xac\\xf0\\xd8gRh\\xd2\\xb4\\xf9Qk\\xc7^?t\\x89\\xad\\xad\\xdc4\\xd2r\\xc4{\\xd7\\x15\\xe1}\\x06\\xe7\\xc4\\x1a\\xaa\\xa9R\\xee\\xcd\\xc1\\'8\\xacso6\\xa3xA\\xdc\\xc4\\x9e_\\xb0\\xae\\xc6\\xc7\\xc5v\\xde\\x07\\xd3^\\x0b`%\\xbc\\x91N$\\xfe\\xe9\\xaf\\xabT}\\x95?gOvx\\xb2\\xac\\xe5+\\xb3\\xa7\\xf8\\xa7-\\xaf\\x85|!e\\xe1\\xdbvW\\xd4&o2\\xe9\\x97\\xb8\\xe4\\x81\\xfc\\xab\\x1f\\xe0\\xd7\\xc5[\\xbf\\x01\\xea\\x88\\x0c\\x8c\\xd6N\\x7fx\\x87\\x90\\x07\\xb5y\\xc6\\xa7\\xae\\\\j\\x97\\x92\\\\\\xdcL\\xd3J\\xe3\\x05\\x9b\\xb5Eoq\\xe5\\xbe\\x10\\xfc\\x84`\\xe6\\xba)\\xe1\\xd4irKS\\x96s|\\xd7\\x8b\\xb1\\xfa\\x9b\\xf0\\xe3\\xc5v\\x1e/\\xd1\\xa1\\xba\\xb0\\x94I\\x13\\x81\\xc6~a\\xf5\\xae\\xca\\xe28\\xbc\\xb2\\x98\\xcbc\\xb1\\xe9_\\x9d\\x1f\\x03\\xbe3]\\xf8\\x0bV\\xb7\\x89\\xa4&\\xc7p\\xde\\xa4\\xff\\x00J\\xfb\\xafF\\xf1\\xc5\\x97\\x88\\xf4\\xf8\\xb5\\x1bf\\x04H\\xb9\\xc2\\x9c\\xd7\\xcb\\xe3\\xf0N\\x0e\\xf1>\\xbf-\\xc7\\xacT}\\x9c\\xb7G=\\xe2\\xe8\\x1a\\x1b\\x92T\\xd3|?\\xa8mh\\xc3? U_\\x12\\xea\\xff\\x00i\\xbb(\\x17$\\xf6\\xac{\\x7f4]\\xe5x\\xf6\\x1d\\xab\\xc8\\xba>\\x89R\\xbe\\xe7uq\\xaa\\xa4J\\xed\\xbb<\\xf6\\xaeO]\\xd7\\xed\\xcc\\xea\\xc4\\x10\\xdd\\xeax \\x96y\\n\\xbb\\x10+B\\xdf\\xc2p]+\\x19Sq=\\t\\xa9w\\xb8\\x9d(\\xa3\\x84\\xbf\\x98\\xdf[N\\x8b\\x1ep+\\x0b\\xc2\\x97\\xda\\x84\\xd7\\xb3i\\xfb\\x98\\xab\\x0c\\x08\\xa4\\xe5\\x7f*\\xf5\\xcb\\x0f\\x08%\\xb1\\x92\\'^\\x0f\\xf1T\\x96>\\x00\\x8ak\\xe0By.\\xbc\\xac\\xaa:\\xd44\\xef\\xa1\\xcdR1MX\\xc1\\xf0\\xf7\\xc0kmi\\x85\\xc5\\xed\\xaa\\xa1\\xceX\\x01\\x80k\\xd0\\xac<\\x0f\\xa3\\xf8>\\xdft6\\xd1\\xae\\xc1\\xd7\\x15\\xd4Z\\xdc\\xb6\\x97\\xa7\\xa29\\xdcQy5\\xe6\\x9e0\\xf1{\\xdcI,P\\xb1\\xdax\\xab{\\x10\\x95\\x86\\xeb\\x1e!7w\\x05Q\\xc8L\\xe3\\x02\\x9bi\\x87\\xcf\\xbdszqi2_\\x93].\\x9e\\x85\\xc0\\x00T\\x8e\\xe8\\xda\\xb2\\xb5N\\x08^k~\\xc2\\xc0\\xc9\\xfc5\\x9d\\xa7\\xc6@\\x19\\x1d+\\xad\\xd1QN2(\\xb1\\x8c\\xa4\\xc9,\\xec\\x8cH\\x00\\x18\\xad \\xf3\\x80\\x00s\\xc5^\\x8a\\x04$\\x0crj\\x7f\\xb1\\x1fA\\xf9\\xd6\\xab\\x99\\x1c\\xdc\\xcb\\xa9\\xf8uH\\xddid\\xe0\\xd3M~\\x96| \\x01\\x93\\x8aw\\x96\\xde\\x94\\xda2}M\\x00k\\xe9\\x96+:\\x04\\x95B\\xee\\xe8Mz7\\x87~\\x1f\\xe8\\xd3Y\\x86\\xbd\\xb9\\xc0l}\\xd3^S\\x1c\\x8f\\x8f\\xbc\\xdc{\\xd7y\\xe0i^K\\x98\\x95\\xdd\\x99r8c\\x91\\\\\\x95\\xdbQ\\xd1\\x9a\\xd2\\x8a\\x94\\xd2g\\xb2\\xf8k\\xe1\\xff\\x00\\x85\\xb4\\xe6\\x12$opq\\x90\\xc4d\\n\\xe9.\\xef\\xec\\xb4\\xa8\\x0b\\xdb\\xc5\\xb7h\\xc0\\xc0\\xaeM\\xa4h\\xae#Tb\\x8b\\x81\\xc2\\x9c\\nw\\x88\\xdd\\x840\\x80\\xc4\\x03\\xd7\\x9a\\xf9\\\\G=\\xef\\xcc{\\xd4\\xa8\\xc5X\\xa6\\xda\\x85\\xd6\\xb7~\\xec]\\xb6\\x83\\xf2\\xa7\\xb5o\\x1b\\xe8t}=\\xd2?\\x9aW\\x18\\'\\xd0\\xd5m\\x19\\x14[J\\xdbF\\xe0:\\xe3\\x9a\\xc4\\xd6\\x18\\xfd\\x96c\\x93\\x9c\\x1es\\\\\\x8a<\\xd2\\xbb:f\\xf969\\xdf\\x10\\xea\\x84\\xa3\\xec\\x9b\\x0cO\\xcc+\\x86\\xbf\\x95\\'\\x18g\\xdc{\\xd6\\x9d\\xd1-\\x13\\x92rs\\xde\\xb9\\xbb\\xbe\\x1c\\xe3\\x8a\\xfa\\x0c\\x1d4\\x99\\xe4\\xd6\\xa8\\xd8\\xdb\\xddc\\xec\\xb1\\xf96\\xaa\\x01#$\\xd6\\x0c\\xaed\\xcb1,\\xc7\\xb9\\xa9\\xa7<\\xb1\\xef\\xebPz\\xd7\\xb9\\x05c\\xcarm\\x8c\\xa7\\xc4\\xfbM&)W\\xadh\"\\xf4\\x17&\\'V\\x00\\x96\\xe81^\\xe9\\xf0#\\xe3T\\x9e\\x13\\xd5\\x06\\x9b\\x7f!6\\x12\\x10<\\xc7<-|\\xfa\\xacCu5\\xablO\\x94\\xdc\\xf6\\xaej\\xb4\\xe3Q4\\xcd)U\\x95\\t\\'\\x03\\xf4w\\xcd\\xb6\\xbc\\xb7\\x8bP@\\xa6\\xd6T\\xdc\\'\\xedI\\xa3\\x1b[\\x88\\xe5kK\\x88nX\\x1c\\x16\\x04\\x13^E\\xe1[\\xb9\\xdb\\xf6o\\xbbs4\\x85\\xd4aX\\xb9\\xc8\\xe9\\xd2\\xb2?e\\xeb\\xb9\\xe7\\xd7\\xb5\\x14\\x92i$P>\\xeb1#\\xa5|\\x95\\\\$ \\x9c\\x91\\xf78\\x1ceJ\\xf2Q\\x91\\xf4\\x8d\\xbd\\x8a\\xa0BG\\'\\x93[V\\xcd\\x19P\\xa2\\xaa\\x0f\\xf8\\xf2\\xa9\\xac~\\xf2W\\x94\\xf4v=\\xb9\\xadlnF\\x90\\xdc\\xc6\\x11\\x98.?\\x8a\\xb4\\x8bGol\\xa11\\x85\\xfe*\\xc0\\x8b\\x81R\\xeaLV\\xc3\\x82G\\x1d\\x8d\\x07\\x9fR6\\x91\\x8d\\xe2\\xbf\\x11\\xb6\\xc7\\x8e\\'\\xe3\\x188\\xaf4\\xb9w\\x92\\\\\\xb9\\xceMt\\x1a\\xb1\\xfd\\xe9\\xac\\x0e\\xb3s\\xcdL\\xb6--\\r\\x9d\"\\xd40\\xae\\xb7L\\xb2\\x03\\x15\\xcf\\xe8\\xa3\\xe5\\x15\\xd8\\xe9\\x80`qP\\x8c^\\xe6\\x85\\x9d\\xb8\\x15\\xd1\\xe9\\xb0\\x10\\x17\\x15\\x95n\\x06\\xd6\\xe3\\xb5t\\x1ah\\xfd\\xda\\xd6\\xb1\\xdc\\xc6R6\\xad\\x90\\x85\\x04\\xf5\\x15c\\xcd5\\x1d\\xbfAV\\x80\\x18\\xe8+S\\x8d\\x9f\\xff\\xd9')]"
      ]
     },
     "execution_count": 27,
     "metadata": {},
     "output_type": "execute_result"
    }
   ],
   "source": [
    "pics_rdd.take(1)"
   ]
  },
  {
   "cell_type": "code",
   "execution_count": 70,
   "metadata": {},
   "outputs": [
    {
     "data": {
      "text/plain": [
       "12268"
      ]
     },
     "execution_count": 70,
     "metadata": {},
     "output_type": "execute_result"
    }
   ],
   "source": [
    "len(pics_rdd.take(1)[0][1])"
   ]
  },
  {
   "cell_type": "markdown",
   "metadata": {},
   "source": [
    "#### 提取面部图片作为向量"
   ]
  },
  {
   "cell_type": "code",
   "execution_count": 28,
   "metadata": {},
   "outputs": [],
   "source": [
    "pics_gray = pics_rdd.mapValues(lambda x:Image.open(BytesIO(x)).convert('L').resize((50, 50)))"
   ]
  },
  {
   "cell_type": "code",
   "execution_count": 29,
   "metadata": {},
   "outputs": [
    {
     "data": {
      "text/plain": [
       "[('hdfs://zh:9000/lfw/AJ_Cook/AJ_Cook_0001.jpg',\n",
       "  <PIL.Image.Image image mode=L size=50x50 at 0x7F1778FB5C18>)]"
      ]
     },
     "execution_count": 29,
     "metadata": {},
     "output_type": "execute_result"
    }
   ],
   "source": [
    "pics_gray.take(1)"
   ]
  },
  {
   "cell_type": "code",
   "execution_count": 30,
   "metadata": {},
   "outputs": [],
   "source": [
    "pics_gray_flated = pics_gray.mapValues(lambda x:list(x.getdata()))"
   ]
  },
  {
   "cell_type": "code",
   "execution_count": 31,
   "metadata": {},
   "outputs": [
    {
     "data": {
      "text/plain": [
       "[('hdfs://zh:9000/lfw/AJ_Cook/AJ_Cook_0001.jpg',\n",
       "  [0,\n",
       "   0,\n",
       "   0,\n",
       "   0,\n",
       "   0,\n",
       "   0,\n",
       "   0,\n",
       "   0,\n",
       "   0,\n",
       "   0,\n",
       "   0,\n",
       "   0,\n",
       "   0,\n",
       "   0,\n",
       "   0,\n",
       "   0,\n",
       "   0,\n",
       "   0,\n",
       "   0,\n",
       "   0,\n",
       "   0,\n",
       "   0,\n",
       "   0,\n",
       "   0,\n",
       "   0,\n",
       "   0,\n",
       "   0,\n",
       "   0,\n",
       "   0,\n",
       "   0,\n",
       "   0,\n",
       "   0,\n",
       "   0,\n",
       "   0,\n",
       "   0,\n",
       "   0,\n",
       "   0,\n",
       "   0,\n",
       "   0,\n",
       "   0,\n",
       "   0,\n",
       "   0,\n",
       "   0,\n",
       "   0,\n",
       "   0,\n",
       "   0,\n",
       "   0,\n",
       "   0,\n",
       "   0,\n",
       "   0,\n",
       "   0,\n",
       "   0,\n",
       "   0,\n",
       "   0,\n",
       "   0,\n",
       "   0,\n",
       "   0,\n",
       "   0,\n",
       "   0,\n",
       "   0,\n",
       "   0,\n",
       "   0,\n",
       "   0,\n",
       "   0,\n",
       "   0,\n",
       "   0,\n",
       "   0,\n",
       "   0,\n",
       "   0,\n",
       "   0,\n",
       "   0,\n",
       "   0,\n",
       "   0,\n",
       "   0,\n",
       "   0,\n",
       "   0,\n",
       "   0,\n",
       "   0,\n",
       "   0,\n",
       "   0,\n",
       "   0,\n",
       "   0,\n",
       "   0,\n",
       "   0,\n",
       "   0,\n",
       "   0,\n",
       "   0,\n",
       "   0,\n",
       "   0,\n",
       "   0,\n",
       "   0,\n",
       "   0,\n",
       "   0,\n",
       "   0,\n",
       "   0,\n",
       "   0,\n",
       "   0,\n",
       "   0,\n",
       "   0,\n",
       "   0,\n",
       "   0,\n",
       "   0,\n",
       "   0,\n",
       "   0,\n",
       "   0,\n",
       "   0,\n",
       "   0,\n",
       "   0,\n",
       "   0,\n",
       "   0,\n",
       "   0,\n",
       "   0,\n",
       "   0,\n",
       "   0,\n",
       "   0,\n",
       "   0,\n",
       "   0,\n",
       "   0,\n",
       "   0,\n",
       "   0,\n",
       "   0,\n",
       "   0,\n",
       "   0,\n",
       "   0,\n",
       "   0,\n",
       "   0,\n",
       "   0,\n",
       "   0,\n",
       "   0,\n",
       "   0,\n",
       "   0,\n",
       "   0,\n",
       "   0,\n",
       "   0,\n",
       "   0,\n",
       "   0,\n",
       "   0,\n",
       "   0,\n",
       "   0,\n",
       "   0,\n",
       "   0,\n",
       "   0,\n",
       "   0,\n",
       "   0,\n",
       "   0,\n",
       "   0,\n",
       "   0,\n",
       "   0,\n",
       "   0,\n",
       "   0,\n",
       "   0,\n",
       "   0,\n",
       "   0,\n",
       "   0,\n",
       "   0,\n",
       "   0,\n",
       "   0,\n",
       "   0,\n",
       "   0,\n",
       "   0,\n",
       "   0,\n",
       "   0,\n",
       "   0,\n",
       "   0,\n",
       "   0,\n",
       "   0,\n",
       "   0,\n",
       "   0,\n",
       "   0,\n",
       "   0,\n",
       "   0,\n",
       "   0,\n",
       "   0,\n",
       "   0,\n",
       "   0,\n",
       "   0,\n",
       "   0,\n",
       "   0,\n",
       "   0,\n",
       "   0,\n",
       "   0,\n",
       "   0,\n",
       "   0,\n",
       "   0,\n",
       "   0,\n",
       "   0,\n",
       "   0,\n",
       "   0,\n",
       "   0,\n",
       "   0,\n",
       "   0,\n",
       "   0,\n",
       "   0,\n",
       "   0,\n",
       "   0,\n",
       "   0,\n",
       "   0,\n",
       "   0,\n",
       "   0,\n",
       "   0,\n",
       "   55,\n",
       "   57,\n",
       "   58,\n",
       "   61,\n",
       "   64,\n",
       "   61,\n",
       "   60,\n",
       "   59,\n",
       "   55,\n",
       "   58,\n",
       "   58,\n",
       "   58,\n",
       "   58,\n",
       "   57,\n",
       "   57,\n",
       "   55,\n",
       "   53,\n",
       "   51,\n",
       "   49,\n",
       "   52,\n",
       "   67,\n",
       "   152,\n",
       "   191,\n",
       "   195,\n",
       "   187,\n",
       "   119,\n",
       "   73,\n",
       "   74,\n",
       "   74,\n",
       "   70,\n",
       "   71,\n",
       "   73,\n",
       "   72,\n",
       "   71,\n",
       "   69,\n",
       "   68,\n",
       "   67,\n",
       "   67,\n",
       "   67,\n",
       "   65,\n",
       "   65,\n",
       "   65,\n",
       "   65,\n",
       "   65,\n",
       "   65,\n",
       "   65,\n",
       "   64,\n",
       "   63,\n",
       "   63,\n",
       "   66,\n",
       "   58,\n",
       "   55,\n",
       "   57,\n",
       "   63,\n",
       "   66,\n",
       "   66,\n",
       "   64,\n",
       "   61,\n",
       "   58,\n",
       "   57,\n",
       "   57,\n",
       "   57,\n",
       "   57,\n",
       "   57,\n",
       "   58,\n",
       "   58,\n",
       "   56,\n",
       "   55,\n",
       "   53,\n",
       "   54,\n",
       "   54,\n",
       "   102,\n",
       "   175,\n",
       "   195,\n",
       "   199,\n",
       "   162,\n",
       "   92,\n",
       "   78,\n",
       "   86,\n",
       "   91,\n",
       "   102,\n",
       "   101,\n",
       "   104,\n",
       "   85,\n",
       "   73,\n",
       "   69,\n",
       "   70,\n",
       "   67,\n",
       "   68,\n",
       "   70,\n",
       "   69,\n",
       "   70,\n",
       "   70,\n",
       "   69,\n",
       "   71,\n",
       "   67,\n",
       "   68,\n",
       "   68,\n",
       "   67,\n",
       "   67,\n",
       "   56,\n",
       "   56,\n",
       "   58,\n",
       "   60,\n",
       "   63,\n",
       "   66,\n",
       "   65,\n",
       "   63,\n",
       "   58,\n",
       "   61,\n",
       "   60,\n",
       "   59,\n",
       "   60,\n",
       "   59,\n",
       "   60,\n",
       "   59,\n",
       "   59,\n",
       "   57,\n",
       "   57,\n",
       "   62,\n",
       "   61,\n",
       "   72,\n",
       "   146,\n",
       "   182,\n",
       "   195,\n",
       "   183,\n",
       "   113,\n",
       "   81,\n",
       "   97,\n",
       "   111,\n",
       "   143,\n",
       "   181,\n",
       "   188,\n",
       "   162,\n",
       "   116,\n",
       "   78,\n",
       "   75,\n",
       "   75,\n",
       "   72,\n",
       "   70,\n",
       "   69,\n",
       "   70,\n",
       "   71,\n",
       "   72,\n",
       "   73,\n",
       "   70,\n",
       "   71,\n",
       "   70,\n",
       "   68,\n",
       "   68,\n",
       "   59,\n",
       "   57,\n",
       "   59,\n",
       "   60,\n",
       "   63,\n",
       "   65,\n",
       "   66,\n",
       "   65,\n",
       "   60,\n",
       "   59,\n",
       "   60,\n",
       "   60,\n",
       "   59,\n",
       "   59,\n",
       "   60,\n",
       "   60,\n",
       "   60,\n",
       "   58,\n",
       "   58,\n",
       "   58,\n",
       "   63,\n",
       "   72,\n",
       "   101,\n",
       "   112,\n",
       "   103,\n",
       "   152,\n",
       "   105,\n",
       "   69,\n",
       "   87,\n",
       "   138,\n",
       "   182,\n",
       "   159,\n",
       "   151,\n",
       "   155,\n",
       "   166,\n",
       "   150,\n",
       "   87,\n",
       "   75,\n",
       "   73,\n",
       "   72,\n",
       "   72,\n",
       "   72,\n",
       "   73,\n",
       "   72,\n",
       "   73,\n",
       "   69,\n",
       "   70,\n",
       "   71,\n",
       "   72,\n",
       "   69,\n",
       "   61,\n",
       "   59,\n",
       "   61,\n",
       "   61,\n",
       "   63,\n",
       "   67,\n",
       "   67,\n",
       "   65,\n",
       "   63,\n",
       "   62,\n",
       "   61,\n",
       "   60,\n",
       "   60,\n",
       "   61,\n",
       "   61,\n",
       "   59,\n",
       "   59,\n",
       "   60,\n",
       "   60,\n",
       "   69,\n",
       "   74,\n",
       "   84,\n",
       "   93,\n",
       "   110,\n",
       "   142,\n",
       "   83,\n",
       "   55,\n",
       "   81,\n",
       "   118,\n",
       "   142,\n",
       "   123,\n",
       "   138,\n",
       "   133,\n",
       "   135,\n",
       "   139,\n",
       "   156,\n",
       "   152,\n",
       "   99,\n",
       "   80,\n",
       "   73,\n",
       "   74,\n",
       "   74,\n",
       "   72,\n",
       "   74,\n",
       "   73,\n",
       "   73,\n",
       "   73,\n",
       "   70,\n",
       "   71,\n",
       "   71,\n",
       "   61,\n",
       "   59,\n",
       "   60,\n",
       "   60,\n",
       "   63,\n",
       "   67,\n",
       "   67,\n",
       "   69,\n",
       "   66,\n",
       "   63,\n",
       "   61,\n",
       "   60,\n",
       "   61,\n",
       "   60,\n",
       "   60,\n",
       "   60,\n",
       "   62,\n",
       "   65,\n",
       "   68,\n",
       "   69,\n",
       "   76,\n",
       "   82,\n",
       "   93,\n",
       "   115,\n",
       "   122,\n",
       "   72,\n",
       "   59,\n",
       "   91,\n",
       "   129,\n",
       "   129,\n",
       "   130,\n",
       "   131,\n",
       "   152,\n",
       "   122,\n",
       "   161,\n",
       "   135,\n",
       "   158,\n",
       "   154,\n",
       "   100,\n",
       "   75,\n",
       "   75,\n",
       "   75,\n",
       "   74,\n",
       "   73,\n",
       "   73,\n",
       "   73,\n",
       "   73,\n",
       "   70,\n",
       "   71,\n",
       "   71,\n",
       "   63,\n",
       "   60,\n",
       "   59,\n",
       "   59,\n",
       "   61,\n",
       "   67,\n",
       "   67,\n",
       "   66,\n",
       "   67,\n",
       "   66,\n",
       "   61,\n",
       "   60,\n",
       "   60,\n",
       "   61,\n",
       "   60,\n",
       "   61,\n",
       "   64,\n",
       "   69,\n",
       "   73,\n",
       "   75,\n",
       "   91,\n",
       "   84,\n",
       "   118,\n",
       "   134,\n",
       "   123,\n",
       "   84,\n",
       "   72,\n",
       "   109,\n",
       "   145,\n",
       "   123,\n",
       "   133,\n",
       "   147,\n",
       "   149,\n",
       "   171,\n",
       "   133,\n",
       "   166,\n",
       "   162,\n",
       "   162,\n",
       "   150,\n",
       "   81,\n",
       "   75,\n",
       "   77,\n",
       "   78,\n",
       "   76,\n",
       "   74,\n",
       "   73,\n",
       "   73,\n",
       "   71,\n",
       "   72,\n",
       "   72,\n",
       "   65,\n",
       "   63,\n",
       "   60,\n",
       "   61,\n",
       "   60,\n",
       "   65,\n",
       "   68,\n",
       "   68,\n",
       "   69,\n",
       "   68,\n",
       "   65,\n",
       "   61,\n",
       "   60,\n",
       "   63,\n",
       "   62,\n",
       "   64,\n",
       "   69,\n",
       "   71,\n",
       "   72,\n",
       "   93,\n",
       "   77,\n",
       "   104,\n",
       "   122,\n",
       "   127,\n",
       "   121,\n",
       "   126,\n",
       "   102,\n",
       "   75,\n",
       "   82,\n",
       "   180,\n",
       "   141,\n",
       "   147,\n",
       "   155,\n",
       "   158,\n",
       "   161,\n",
       "   160,\n",
       "   152,\n",
       "   164,\n",
       "   151,\n",
       "   132,\n",
       "   81,\n",
       "   78,\n",
       "   75,\n",
       "   73,\n",
       "   72,\n",
       "   72,\n",
       "   72,\n",
       "   72,\n",
       "   72,\n",
       "   72,\n",
       "   67,\n",
       "   64,\n",
       "   61,\n",
       "   61,\n",
       "   60,\n",
       "   65,\n",
       "   69,\n",
       "   71,\n",
       "   72,\n",
       "   71,\n",
       "   67,\n",
       "   62,\n",
       "   59,\n",
       "   63,\n",
       "   67,\n",
       "   66,\n",
       "   71,\n",
       "   71,\n",
       "   87,\n",
       "   77,\n",
       "   76,\n",
       "   100,\n",
       "   120,\n",
       "   128,\n",
       "   140,\n",
       "   150,\n",
       "   153,\n",
       "   151,\n",
       "   117,\n",
       "   71,\n",
       "   183,\n",
       "   159,\n",
       "   156,\n",
       "   159,\n",
       "   169,\n",
       "   157,\n",
       "   161,\n",
       "   165,\n",
       "   157,\n",
       "   124,\n",
       "   90,\n",
       "   81,\n",
       "   76,\n",
       "   76,\n",
       "   75,\n",
       "   74,\n",
       "   73,\n",
       "   74,\n",
       "   73,\n",
       "   73,\n",
       "   67,\n",
       "   66,\n",
       "   64,\n",
       "   61,\n",
       "   61,\n",
       "   65,\n",
       "   69,\n",
       "   72,\n",
       "   73,\n",
       "   72,\n",
       "   71,\n",
       "   66,\n",
       "   63,\n",
       "   65,\n",
       "   67,\n",
       "   69,\n",
       "   77,\n",
       "   77,\n",
       "   86,\n",
       "   22,\n",
       "   96,\n",
       "   130,\n",
       "   141,\n",
       "   150,\n",
       "   157,\n",
       "   159,\n",
       "   158,\n",
       "   159,\n",
       "   161,\n",
       "   141,\n",
       "   89,\n",
       "   163,\n",
       "   161,\n",
       "   161,\n",
       "   163,\n",
       "   163,\n",
       "   158,\n",
       "   159,\n",
       "   164,\n",
       "   139,\n",
       "   115,\n",
       "   79,\n",
       "   77,\n",
       "   77,\n",
       "   77,\n",
       "   76,\n",
       "   76,\n",
       "   76,\n",
       "   76,\n",
       "   74,\n",
       "   70,\n",
       "   69,\n",
       "   67,\n",
       "   63,\n",
       "   62,\n",
       "   65,\n",
       "   69,\n",
       "   72,\n",
       "   74,\n",
       "   72,\n",
       "   73,\n",
       "   69,\n",
       "   67,\n",
       "   68,\n",
       "   72,\n",
       "   76,\n",
       "   77,\n",
       "   84,\n",
       "   49,\n",
       "   77,\n",
       "   120,\n",
       "   131,\n",
       "   143,\n",
       "   157,\n",
       "   162,\n",
       "   162,\n",
       "   167,\n",
       "   172,\n",
       "   173,\n",
       "   157,\n",
       "   113,\n",
       "   172,\n",
       "   154,\n",
       "   157,\n",
       "   152,\n",
       "   163,\n",
       "   158,\n",
       "   155,\n",
       "   163,\n",
       "   152,\n",
       "   124,\n",
       "   92,\n",
       "   79,\n",
       "   78,\n",
       "   77,\n",
       "   77,\n",
       "   77,\n",
       "   77,\n",
       "   78,\n",
       "   76,\n",
       "   73,\n",
       "   70,\n",
       "   69,\n",
       "   67,\n",
       "   63,\n",
       "   64,\n",
       "   70,\n",
       "   73,\n",
       "   76,\n",
       "   74,\n",
       "   74,\n",
       "   75,\n",
       "   74,\n",
       "   74,\n",
       "   78,\n",
       "   76,\n",
       "   81,\n",
       "   91,\n",
       "   32,\n",
       "   97,\n",
       "   120,\n",
       "   136,\n",
       "   146,\n",
       "   155,\n",
       "   162,\n",
       "   168,\n",
       "   176,\n",
       "   178,\n",
       "   179,\n",
       "   174,\n",
       "   155,\n",
       "   108,\n",
       "   159,\n",
       "   155,\n",
       "   142,\n",
       "   163,\n",
       "   156,\n",
       "   155,\n",
       "   160,\n",
       "   153,\n",
       "   122,\n",
       "   110,\n",
       "   81,\n",
       "   80,\n",
       "   79,\n",
       "   80,\n",
       "   79,\n",
       "   79,\n",
       "   78,\n",
       "   77,\n",
       "   117,\n",
       "   113,\n",
       "   110,\n",
       "   106,\n",
       "   101,\n",
       "   95,\n",
       "   94,\n",
       "   93,\n",
       "   91,\n",
       "   87,\n",
       "   86,\n",
       "   85,\n",
       "   84,\n",
       "   83,\n",
       "   82,\n",
       "   82,\n",
       "   88,\n",
       "   90,\n",
       "   39,\n",
       "   100,\n",
       "   122,\n",
       "   140,\n",
       "   152,\n",
       "   157,\n",
       "   164,\n",
       "   169,\n",
       "   177,\n",
       "   178,\n",
       "   178,\n",
       "   171,\n",
       "   159,\n",
       "   120,\n",
       "   153,\n",
       "   158,\n",
       "   145,\n",
       "   165,\n",
       "   159,\n",
       "   154,\n",
       "   152,\n",
       "   161,\n",
       "   140,\n",
       "   127,\n",
       "   83,\n",
       "   82,\n",
       "   83,\n",
       "   81,\n",
       "   82,\n",
       "   80,\n",
       "   82,\n",
       "   77,\n",
       "   187,\n",
       "   188,\n",
       "   186,\n",
       "   185,\n",
       "   180,\n",
       "   184,\n",
       "   178,\n",
       "   178,\n",
       "   172,\n",
       "   171,\n",
       "   170,\n",
       "   166,\n",
       "   163,\n",
       "   161,\n",
       "   157,\n",
       "   155,\n",
       "   86,\n",
       "   88,\n",
       "   61,\n",
       "   107,\n",
       "   126,\n",
       "   141,\n",
       "   156,\n",
       "   160,\n",
       "   162,\n",
       "   168,\n",
       "   175,\n",
       "   173,\n",
       "   174,\n",
       "   173,\n",
       "   170,\n",
       "   159,\n",
       "   125,\n",
       "   150,\n",
       "   148,\n",
       "   161,\n",
       "   164,\n",
       "   141,\n",
       "   134,\n",
       "   145,\n",
       "   142,\n",
       "   122,\n",
       "   99,\n",
       "   88,\n",
       "   85,\n",
       "   85,\n",
       "   85,\n",
       "   83,\n",
       "   85,\n",
       "   78,\n",
       "   206,\n",
       "   205,\n",
       "   205,\n",
       "   205,\n",
       "   206,\n",
       "   205,\n",
       "   203,\n",
       "   203,\n",
       "   205,\n",
       "   203,\n",
       "   204,\n",
       "   202,\n",
       "   198,\n",
       "   197,\n",
       "   201,\n",
       "   153,\n",
       "   76,\n",
       "   84,\n",
       "   79,\n",
       "   105,\n",
       "   133,\n",
       "   146,\n",
       "   158,\n",
       "   159,\n",
       "   159,\n",
       "   166,\n",
       "   176,\n",
       "   180,\n",
       "   183,\n",
       "   175,\n",
       "   169,\n",
       "   158,\n",
       "   104,\n",
       "   142,\n",
       "   150,\n",
       "   155,\n",
       "   160,\n",
       "   126,\n",
       "   115,\n",
       "   134,\n",
       "   130,\n",
       "   126,\n",
       "   131,\n",
       "   163,\n",
       "   162,\n",
       "   159,\n",
       "   157,\n",
       "   154,\n",
       "   152,\n",
       "   151,\n",
       "   203,\n",
       "   197,\n",
       "   202,\n",
       "   205,\n",
       "   209,\n",
       "   209,\n",
       "   207,\n",
       "   208,\n",
       "   205,\n",
       "   206,\n",
       "   206,\n",
       "   206,\n",
       "   204,\n",
       "   204,\n",
       "   198,\n",
       "   113,\n",
       "   72,\n",
       "   68,\n",
       "   91,\n",
       "   112,\n",
       "   140,\n",
       "   154,\n",
       "   154,\n",
       "   155,\n",
       "   159,\n",
       "   163,\n",
       "   161,\n",
       "   129,\n",
       "   121,\n",
       "   128,\n",
       "   151,\n",
       "   152,\n",
       "   139,\n",
       "   136,\n",
       "   152,\n",
       "   143,\n",
       "   154,\n",
       "   118,\n",
       "   102,\n",
       "   125,\n",
       "   118,\n",
       "   118,\n",
       "   123,\n",
       "   199,\n",
       "   205,\n",
       "   198,\n",
       "   196,\n",
       "   196,\n",
       "   202,\n",
       "   199,\n",
       "   ...])]"
      ]
     },
     "execution_count": 31,
     "metadata": {},
     "output_type": "execute_result"
    }
   ],
   "source": [
    "pics_gray_flated.take(1)"
   ]
  },
  {
   "cell_type": "code",
   "execution_count": 32,
   "metadata": {},
   "outputs": [],
   "source": [
    "pics_gray_flated = pics_gray_flated.mapValues(lambda x:Vectors.dense(x))"
   ]
  },
  {
   "cell_type": "code",
   "execution_count": 33,
   "metadata": {},
   "outputs": [
    {
     "data": {
      "text/plain": [
       "image-vectors PythonRDD[8] at RDD at PythonRDD.scala:48"
      ]
     },
     "execution_count": 33,
     "metadata": {},
     "output_type": "execute_result"
    }
   ],
   "source": [
    "pics_gray_flated.setName('image-vectors')"
   ]
  },
  {
   "cell_type": "code",
   "execution_count": 34,
   "metadata": {},
   "outputs": [],
   "source": [
    "pics_gray_flated.cache()\n",
    "pics_gray_flated.checkpoint()"
   ]
  },
  {
   "cell_type": "markdown",
   "metadata": {},
   "source": [
    "#### PCA前的正则化"
   ]
  },
  {
   "cell_type": "code",
   "execution_count": 35,
   "metadata": {},
   "outputs": [],
   "source": [
    "pics_gray_flated_vectors = pics_gray_flated.map(lambda x:x[1])"
   ]
  },
  {
   "cell_type": "code",
   "execution_count": 36,
   "metadata": {},
   "outputs": [],
   "source": [
    "pics_gray_flated_filenames = pics_gray_flated.map(lambda x:x[0])"
   ]
  },
  {
   "cell_type": "code",
   "execution_count": 155,
   "metadata": {},
   "outputs": [
    {
     "data": {
      "text/plain": [
       "[DenseVector([0.0, 0.0, 0.0, 0.0, 0.0, 0.0, 0.0, 0.0, 0.0, 0.0, 0.0, 0.0, 0.0, 0.0, 0.0, 0.0, 0.0, 0.0, 0.0, 0.0, 0.0, 0.0, 0.0, 0.0, 0.0, 0.0, 0.0, 0.0, 0.0, 0.0, 0.0, 0.0, 0.0, 0.0, 0.0, 0.0, 0.0, 0.0, 0.0, 0.0, 0.0, 0.0, 0.0, 0.0, 0.0, 0.0, 0.0, 0.0, 0.0, 0.0, 0.0, 0.0, 0.0, 0.0, 0.0, 0.0, 0.0, 0.0, 0.0, 0.0, 0.0, 0.0, 0.0, 0.0, 0.0, 0.0, 0.0, 0.0, 0.0, 0.0, 0.0, 0.0, 0.0, 0.0, 0.0, 0.0, 0.0, 0.0, 0.0, 0.0, 0.0, 0.0, 0.0, 0.0, 0.0, 0.0, 0.0, 0.0, 0.0, 0.0, 0.0, 0.0, 0.0, 0.0, 0.0, 0.0, 0.0, 0.0, 0.0, 0.0, 0.0, 0.0, 0.0, 0.0, 0.0, 0.0, 0.0, 0.0, 0.0, 0.0, 0.0, 0.0, 0.0, 0.0, 0.0, 0.0, 0.0, 0.0, 0.0, 0.0, 0.0, 0.0, 0.0, 0.0, 0.0, 0.0, 0.0, 0.0, 0.0, 0.0, 0.0, 0.0, 0.0, 0.0, 0.0, 0.0, 0.0, 0.0, 0.0, 0.0, 0.0, 0.0, 0.0, 0.0, 0.0, 0.0, 0.0, 0.0, 0.0, 0.0, 0.0, 0.0, 0.0, 0.0, 0.0, 0.0, 0.0, 0.0, 0.0, 0.0, 0.0, 0.0, 0.0, 0.0, 0.0, 0.0, 0.0, 0.0, 0.0, 0.0, 0.0, 0.0, 0.0, 0.0, 0.0, 0.0, 0.0, 0.0, 0.0, 0.0, 0.0, 0.0, 0.0, 0.0, 0.0, 0.0, 0.0, 0.0, 0.0, 0.0, 0.0, 0.0, 0.0, 0.0, 0.0, 0.0, 0.0, 0.0, 0.0, 0.0, 55.0, 57.0, 58.0, 61.0, 64.0, 61.0, 60.0, 59.0, 55.0, 58.0, 58.0, 58.0, 58.0, 57.0, 57.0, 55.0, 53.0, 51.0, 49.0, 52.0, 67.0, 152.0, 191.0, 195.0, 187.0, 119.0, 73.0, 74.0, 74.0, 70.0, 71.0, 73.0, 72.0, 71.0, 69.0, 68.0, 67.0, 67.0, 67.0, 65.0, 65.0, 65.0, 65.0, 65.0, 65.0, 65.0, 64.0, 63.0, 63.0, 66.0, 58.0, 55.0, 57.0, 63.0, 66.0, 66.0, 64.0, 61.0, 58.0, 57.0, 57.0, 57.0, 57.0, 57.0, 58.0, 58.0, 56.0, 55.0, 53.0, 54.0, 54.0, 102.0, 175.0, 195.0, 199.0, 162.0, 92.0, 78.0, 86.0, 91.0, 102.0, 101.0, 104.0, 85.0, 73.0, 69.0, 70.0, 67.0, 68.0, 70.0, 69.0, 70.0, 70.0, 69.0, 71.0, 67.0, 68.0, 68.0, 67.0, 67.0, 56.0, 56.0, 58.0, 60.0, 63.0, 66.0, 65.0, 63.0, 58.0, 61.0, 60.0, 59.0, 60.0, 59.0, 60.0, 59.0, 59.0, 57.0, 57.0, 62.0, 61.0, 72.0, 146.0, 182.0, 195.0, 183.0, 113.0, 81.0, 97.0, 111.0, 143.0, 181.0, 188.0, 162.0, 116.0, 78.0, 75.0, 75.0, 72.0, 70.0, 69.0, 70.0, 71.0, 72.0, 73.0, 70.0, 71.0, 70.0, 68.0, 68.0, 59.0, 57.0, 59.0, 60.0, 63.0, 65.0, 66.0, 65.0, 60.0, 59.0, 60.0, 60.0, 59.0, 59.0, 60.0, 60.0, 60.0, 58.0, 58.0, 58.0, 63.0, 72.0, 101.0, 112.0, 103.0, 152.0, 105.0, 69.0, 87.0, 138.0, 182.0, 159.0, 151.0, 155.0, 166.0, 150.0, 87.0, 75.0, 73.0, 72.0, 72.0, 72.0, 73.0, 72.0, 73.0, 69.0, 70.0, 71.0, 72.0, 69.0, 61.0, 59.0, 61.0, 61.0, 63.0, 67.0, 67.0, 65.0, 63.0, 62.0, 61.0, 60.0, 60.0, 61.0, 61.0, 59.0, 59.0, 60.0, 60.0, 69.0, 74.0, 84.0, 93.0, 110.0, 142.0, 83.0, 55.0, 81.0, 118.0, 142.0, 123.0, 138.0, 133.0, 135.0, 139.0, 156.0, 152.0, 99.0, 80.0, 73.0, 74.0, 74.0, 72.0, 74.0, 73.0, 73.0, 73.0, 70.0, 71.0, 71.0, 61.0, 59.0, 60.0, 60.0, 63.0, 67.0, 67.0, 69.0, 66.0, 63.0, 61.0, 60.0, 61.0, 60.0, 60.0, 60.0, 62.0, 65.0, 68.0, 69.0, 76.0, 82.0, 93.0, 115.0, 122.0, 72.0, 59.0, 91.0, 129.0, 129.0, 130.0, 131.0, 152.0, 122.0, 161.0, 135.0, 158.0, 154.0, 100.0, 75.0, 75.0, 75.0, 74.0, 73.0, 73.0, 73.0, 73.0, 70.0, 71.0, 71.0, 63.0, 60.0, 59.0, 59.0, 61.0, 67.0, 67.0, 66.0, 67.0, 66.0, 61.0, 60.0, 60.0, 61.0, 60.0, 61.0, 64.0, 69.0, 73.0, 75.0, 91.0, 84.0, 118.0, 134.0, 123.0, 84.0, 72.0, 109.0, 145.0, 123.0, 133.0, 147.0, 149.0, 171.0, 133.0, 166.0, 162.0, 162.0, 150.0, 81.0, 75.0, 77.0, 78.0, 76.0, 74.0, 73.0, 73.0, 71.0, 72.0, 72.0, 65.0, 63.0, 60.0, 61.0, 60.0, 65.0, 68.0, 68.0, 69.0, 68.0, 65.0, 61.0, 60.0, 63.0, 62.0, 64.0, 69.0, 71.0, 72.0, 93.0, 77.0, 104.0, 122.0, 127.0, 121.0, 126.0, 102.0, 75.0, 82.0, 180.0, 141.0, 147.0, 155.0, 158.0, 161.0, 160.0, 152.0, 164.0, 151.0, 132.0, 81.0, 78.0, 75.0, 73.0, 72.0, 72.0, 72.0, 72.0, 72.0, 72.0, 67.0, 64.0, 61.0, 61.0, 60.0, 65.0, 69.0, 71.0, 72.0, 71.0, 67.0, 62.0, 59.0, 63.0, 67.0, 66.0, 71.0, 71.0, 87.0, 77.0, 76.0, 100.0, 120.0, 128.0, 140.0, 150.0, 153.0, 151.0, 117.0, 71.0, 183.0, 159.0, 156.0, 159.0, 169.0, 157.0, 161.0, 165.0, 157.0, 124.0, 90.0, 81.0, 76.0, 76.0, 75.0, 74.0, 73.0, 74.0, 73.0, 73.0, 67.0, 66.0, 64.0, 61.0, 61.0, 65.0, 69.0, 72.0, 73.0, 72.0, 71.0, 66.0, 63.0, 65.0, 67.0, 69.0, 77.0, 77.0, 86.0, 22.0, 96.0, 130.0, 141.0, 150.0, 157.0, 159.0, 158.0, 159.0, 161.0, 141.0, 89.0, 163.0, 161.0, 161.0, 163.0, 163.0, 158.0, 159.0, 164.0, 139.0, 115.0, 79.0, 77.0, 77.0, 77.0, 76.0, 76.0, 76.0, 76.0, 74.0, 70.0, 69.0, 67.0, 63.0, 62.0, 65.0, 69.0, 72.0, 74.0, 72.0, 73.0, 69.0, 67.0, 68.0, 72.0, 76.0, 77.0, 84.0, 49.0, 77.0, 120.0, 131.0, 143.0, 157.0, 162.0, 162.0, 167.0, 172.0, 173.0, 157.0, 113.0, 172.0, 154.0, 157.0, 152.0, 163.0, 158.0, 155.0, 163.0, 152.0, 124.0, 92.0, 79.0, 78.0, 77.0, 77.0, 77.0, 77.0, 78.0, 76.0, 73.0, 70.0, 69.0, 67.0, 63.0, 64.0, 70.0, 73.0, 76.0, 74.0, 74.0, 75.0, 74.0, 74.0, 78.0, 76.0, 81.0, 91.0, 32.0, 97.0, 120.0, 136.0, 146.0, 155.0, 162.0, 168.0, 176.0, 178.0, 179.0, 174.0, 155.0, 108.0, 159.0, 155.0, 142.0, 163.0, 156.0, 155.0, 160.0, 153.0, 122.0, 110.0, 81.0, 80.0, 79.0, 80.0, 79.0, 79.0, 78.0, 77.0, 117.0, 113.0, 110.0, 106.0, 101.0, 95.0, 94.0, 93.0, 91.0, 87.0, 86.0, 85.0, 84.0, 83.0, 82.0, 82.0, 88.0, 90.0, 39.0, 100.0, 122.0, 140.0, 152.0, 157.0, 164.0, 169.0, 177.0, 178.0, 178.0, 171.0, 159.0, 120.0, 153.0, 158.0, 145.0, 165.0, 159.0, 154.0, 152.0, 161.0, 140.0, 127.0, 83.0, 82.0, 83.0, 81.0, 82.0, 80.0, 82.0, 77.0, 187.0, 188.0, 186.0, 185.0, 180.0, 184.0, 178.0, 178.0, 172.0, 171.0, 170.0, 166.0, 163.0, 161.0, 157.0, 155.0, 86.0, 88.0, 61.0, 107.0, 126.0, 141.0, 156.0, 160.0, 162.0, 168.0, 175.0, 173.0, 174.0, 173.0, 170.0, 159.0, 125.0, 150.0, 148.0, 161.0, 164.0, 141.0, 134.0, 145.0, 142.0, 122.0, 99.0, 88.0, 85.0, 85.0, 85.0, 83.0, 85.0, 78.0, 206.0, 205.0, 205.0, 205.0, 206.0, 205.0, 203.0, 203.0, 205.0, 203.0, 204.0, 202.0, 198.0, 197.0, 201.0, 153.0, 76.0, 84.0, 79.0, 105.0, 133.0, 146.0, 158.0, 159.0, 159.0, 166.0, 176.0, 180.0, 183.0, 175.0, 169.0, 158.0, 104.0, 142.0, 150.0, 155.0, 160.0, 126.0, 115.0, 134.0, 130.0, 126.0, 131.0, 163.0, 162.0, 159.0, 157.0, 154.0, 152.0, 151.0, 203.0, 197.0, 202.0, 205.0, 209.0, 209.0, 207.0, 208.0, 205.0, 206.0, 206.0, 206.0, 204.0, 204.0, 198.0, 113.0, 72.0, 68.0, 91.0, 112.0, 140.0, 154.0, 154.0, 155.0, 159.0, 163.0, 161.0, 129.0, 121.0, 128.0, 151.0, 152.0, 139.0, 136.0, 152.0, 143.0, 154.0, 118.0, 102.0, 125.0, 118.0, 118.0, 123.0, 199.0, 205.0, 198.0, 196.0, 196.0, 202.0, 199.0, 117.0, 118.0, 125.0, 132.0, 135.0, 139.0, 144.0, 149.0, 155.0, 155.0, 156.0, 158.0, 157.0, 159.0, 157.0, 81.0, 66.0, 53.0, 83.0, 87.0, 103.0, 114.0, 143.0, 147.0, 157.0, 154.0, 114.0, 96.0, 122.0, 154.0, 165.0, 159.0, 147.0, 108.0, 156.0, 125.0, 152.0, 119.0, 87.0, 111.0, 109.0, 101.0, 112.0, 196.0, 203.0, 201.0, 199.0, 197.0, 200.0, 204.0, 75.0, 77.0, 76.0, 77.0, 76.0, 76.0, 79.0, 82.0, 87.0, 88.0, 88.0, 89.0, 87.0, 87.0, 87.0, 75.0, 62.0, 40.0, 84.0, 102.0, 100.0, 77.0, 89.0, 120.0, 148.0, 146.0, 114.0, 97.0, 70.0, 77.0, 86.0, 88.0, 129.0, 91.0, 144.0, 119.0, 153.0, 105.0, 83.0, 96.0, 91.0, 93.0, 116.0, 141.0, 160.0, 166.0, 161.0, 161.0, 162.0, 171.0, 54.0, 56.0, 57.0, 59.0, 62.0, 64.0, 68.0, 71.0, 80.0, 83.0, 82.0, 87.0, 93.0, 98.0, 84.0, 69.0, 56.0, 22.0, 70.0, 70.0, 79.0, 119.0, 76.0, 77.0, 166.0, 167.0, 123.0, 90.0, 74.0, 33.0, 34.0, 52.0, 119.0, 102.0, 126.0, 116.0, 151.0, 101.0, 77.0, 84.0, 85.0, 91.0, 106.0, 94.0, 71.0, 65.0, 63.0, 66.0, 64.0, 66.0, 35.0, 34.0, 37.0, 37.0, 35.0, 37.0, 36.0, 41.0, 43.0, 48.0, 51.0, 64.0, 77.0, 79.0, 72.0, 64.0, 49.0, 9.0, 36.0, 22.0, 37.0, 20.0, 93.0, 89.0, 155.0, 168.0, 162.0, 146.0, 128.0, 127.0, 140.0, 156.0, 163.0, 137.0, 113.0, 119.0, 136.0, 97.0, 59.0, 73.0, 90.0, 84.0, 95.0, 101.0, 76.0, 70.0, 68.0, 60.0, 58.0, 60.0, 35.0, 36.0, 35.0, 35.0, 34.0, 34.0, 32.0, 28.0, 27.0, 26.0, 27.0, 34.0, 61.0, 67.0, 61.0, 59.0, 41.0, 7.0, 45.0, 64.0, 86.0, 109.0, 134.0, 111.0, 156.0, 162.0, 161.0, 166.0, 157.0, 151.0, 157.0, 161.0, 165.0, 149.0, 100.0, 119.0, 127.0, 94.0, 55.0, 61.0, 92.0, 74.0, 81.0, 122.0, 77.0, 71.0, 70.0, 64.0, 63.0, 60.0, 28.0, 28.0, 28.0, 27.0, 27.0, 27.0, 25.0, 27.0, 23.0, 20.0, 25.0, 29.0, 48.0, 58.0, 63.0, 54.0, 30.0, 4.0, 64.0, 96.0, 109.0, 137.0, 122.0, 128.0, 158.0, 158.0, 164.0, 169.0, 170.0, 169.0, 164.0, 176.0, 173.0, 158.0, 98.0, 122.0, 118.0, 95.0, 62.0, 56.0, 92.0, 57.0, 73.0, 112.0, 73.0, 64.0, 64.0, 62.0, 56.0, 55.0, 31.0, 31.0, 31.0, 30.0, 29.0, 28.0, 25.0, 26.0, 26.0, 26.0, 27.0, 28.0, 40.0, 38.0, 61.0, 53.0, 23.0, 8.0, 76.0, 126.0, 135.0, 139.0, 113.0, 153.0, 156.0, 156.0, 155.0, 162.0, 158.0, 161.0, 173.0, 180.0, 173.0, 157.0, 99.0, 113.0, 110.0, 96.0, 67.0, 55.0, 88.0, 54.0, 71.0, 109.0, 72.0, 44.0, 44.0, 40.0, 41.0, 40.0, 43.0, 44.0, 45.0, 45.0, 46.0, 43.0, 41.0, 38.0, 39.0, 37.0, 36.0, 36.0, 41.0, 40.0, 58.0, 50.0, 24.0, 25.0, 74.0, 125.0, 140.0, 135.0, 100.0, 148.0, 156.0, 146.0, 165.0, 153.0, 142.0, 137.0, 152.0, 162.0, 162.0, 147.0, 103.0, 110.0, 110.0, 103.0, 77.0, 51.0, 78.0, 59.0, 65.0, 85.0, 91.0, 39.0, 34.0, 30.0, 29.0, 27.0, 52.0, 53.0, 52.0, 51.0, 51.0, 49.0, 49.0, 49.0, 50.0, 50.0, 48.0, 48.0, 53.0, 57.0, 60.0, 50.0, 30.0, 51.0, 51.0, 121.0, 143.0, 114.0, 69.0, 39.0, 74.0, 91.0, 127.0, 165.0, 173.0, 132.0, 131.0, 149.0, 146.0, 137.0, 102.0, 110.0, 113.0, 107.0, 77.0, 52.0, 72.0, 58.0, 56.0, 75.0, 98.0, 36.0, 30.0, 28.0, 23.0, 23.0, 55.0, 57.0, 55.0, 53.0, 53.0, 52.0, 52.0, 52.0, 51.0, 50.0, 51.0, 53.0, 57.0, 62.0, 66.0, 57.0, 51.0, 65.0, 28.0, 109.0, 127.0, 107.0, 84.0, 77.0, 95.0, 126.0, 173.0, 176.0, 162.0, 152.0, 130.0, 142.0, 142.0, 136.0, 100.0, 119.0, 117.0, 99.0, 68.0, 50.0, 65.0, 59.0, 57.0, 58.0, 102.0, 40.0, 34.0, 25.0, 23.0, 22.0, 58.0, 59.0, 58.0, 56.0, 54.0, 57.0, 57.0, 55.0, 55.0, 52.0, 53.0, 54.0, 58.0, 66.0, 70.0, 66.0, 59.0, 80.0, 9.0, 79.0, 109.0, 113.0, 91.0, 116.0, 126.0, 113.0, 113.0, 127.0, 147.0, 149.0, 151.0, 152.0, 143.0, 141.0, 96.0, 119.0, 124.0, 97.0, 65.0, 48.0, 65.0, 56.0, 55.0, 54.0, 93.0, 63.0, 39.0, 36.0, 33.0, 31.0, 59.0, 61.0, 59.0, 57.0, 56.0, 57.0, 57.0, 56.0, 56.0, 54.0, 56.0, 56.0, 59.0, 81.0, 79.0, 69.0, 72.0, 81.0, 10.0, 50.0, 112.0, 132.0, 60.0, 28.0, 71.0, 105.0, 144.0, 168.0, 101.0, 49.0, 140.0, 154.0, 142.0, 137.0, 100.0, 122.0, 132.0, 94.0, 64.0, 47.0, 61.0, 57.0, 57.0, 60.0, 83.0, 79.0, 43.0, 45.0, 42.0, 41.0, 61.0, 61.0, 61.0, 58.0, 58.0, 56.0, 56.0, 56.0, 56.0, 56.0, 57.0, 57.0, 62.0, 97.0, 87.0, 66.0, 80.0, 74.0, 18.0, 34.0, 83.0, 143.0, 68.0, 26.0, 53.0, 53.0, 76.0, 102.0, 116.0, 162.0, 155.0, 152.0, 151.0, 133.0, 108.0, 127.0, 122.0, 81.0, 56.0, 47.0, 67.0, 57.0, 61.0, 61.0, 74.0, 94.0, 46.0, 43.0, 43.0, 44.0, 63.0, 63.0, 62.0, 58.0, 59.0, 57.0, 57.0, 57.0, 56.0, 57.0, 57.0, 57.0, 70.0, 105.0, 89.0, 71.0, 98.0, 67.0, 25.0, 10.0, 64.0, 125.0, 145.0, 83.0, 93.0, 110.0, 141.0, 158.0, 151.0, 172.0, 166.0, 153.0, 149.0, 117.0, 126.0, 120.0, 120.0, 70.0, 53.0, 44.0, 65.0, 51.0, 62.0, 69.0, 59.0, 103.0, 50.0, 44.0, 45.0, 45.0, 61.0, 61.0, 61.0, 58.0, 58.0, 58.0, 58.0, 58.0, 58.0, 57.0, 59.0, 60.0, 67.0, 119.0, 104.0, 61.0, 106.0, 82.0, 44.0, 18.0, 55.0, 82.0, 130.0, 82.0, 73.0, 83.0, 111.0, 144.0, 161.0, 171.0, 162.0, 149.0, 139.0, 117.0, 142.0, 123.0, 124.0, 62.0, 47.0, 50.0, 69.0, 51.0, 65.0, 78.0, 54.0, 100.0, 62.0, 45.0, 44.0, 44.0, 62.0, 62.0, 62.0, 63.0, 59.0, 59.0, 61.0, 59.0, 59.0, 59.0, 59.0, 61.0, 73.0, 128.0, 109.0, 71.0, 112.0, 92.0, 61.0, 18.0, 13.0, 55.0, 104.0, 113.0, 120.0, 140.0, 151.0, 164.0, 165.0, 169.0, 152.0, 135.0, 123.0, 158.0, 146.0, 136.0, 130.0, 44.0, 43.0, 59.0, 66.0, 53.0, 64.0, 81.0, 58.0, 88.0, 67.0, 48.0, 46.0, 44.0, 64.0, 64.0, 64.0, 65.0, 63.0, 63.0, 62.0, 59.0, 59.0, 57.0, 59.0, 63.0, 102.0, 140.0, 121.0, 86.0, 107.0, 109.0, 75.0, 26.0, 9.0, 21.0, 66.0, 123.0, 127.0, 149.0, 170.0, 173.0, 172.0, 161.0, 135.0, 119.0, 112.0, 168.0, 137.0, 131.0, 129.0, 55.0, 53.0, 62.0, 68.0, 63.0, 72.0, 102.0, 62.0, 76.0, 75.0, 48.0, 45.0, 44.0, 63.0, 63.0, 63.0, 66.0, 62.0, 62.0, 61.0, 60.0, 61.0, 61.0, 62.0, 64.0, 134.0, 154.0, 122.0, 89.0, 108.0, 123.0, 76.0, 41.0, 5.0, 2.0, 29.0, 82.0, 119.0, 132.0, 131.0, 136.0, 151.0, 125.0, 106.0, 89.0, 151.0, 172.0, 133.0, 113.0, 124.0, 46.0, 52.0, 72.0, 74.0, 56.0, 94.0, 140.0, 66.0, 68.0, 89.0, 53.0, 46.0, 43.0, 61.0, 63.0, 65.0, 64.0, 63.0, 63.0, 62.0, 60.0, 60.0, 62.0, 64.0, 71.0, 144.0, 167.0, 109.0, 101.0, 109.0, 130.0, 85.0, 51.0, 7.0, 3.0, 1.0, 24.0, 73.0, 97.0, 109.0, 111.0, 88.0, 65.0, 59.0, 70.0, 179.0, 167.0, 144.0, 93.0, 129.0, 49.0, 65.0, 90.0, 78.0, 54.0, 105.0, 157.0, 88.0, 62.0, 90.0, 58.0, 49.0, 42.0, 56.0, 58.0, 62.0, 64.0, 62.0, 65.0, 62.0, 59.0, 59.0, 64.0, 65.0, 102.0, 140.0, 155.0, 98.0, 107.0, 104.0, 142.0, 97.0, 48.0, 12.0, 4.0, 0.0, 1.0, 29.0, 35.0, 45.0, 48.0, 49.0, 47.0, 41.0, 96.0, 176.0, 141.0, 156.0, 96.0, 125.0, 56.0, 77.0, 114.0, 80.0, 38.0, 95.0, 124.0, 101.0, 62.0, 83.0, 70.0, 47.0, 42.0, 42.0, 43.0, 50.0, 54.0, 56.0, 55.0, 61.0, 64.0, 60.0, 59.0, 60.0, 115.0, 137.0, 126.0, 83.0, 110.0, 111.0, 142.0, 94.0, 49.0, 12.0, 9.0, 4.0, 4.0, 22.0, 35.0, 23.0, 20.0, 28.0, 35.0, 48.0, 126.0, 163.0, 137.0, 149.0, 91.0, 123.0, 65.0, 89.0, 123.0, 112.0, 48.0, 74.0, 89.0, 77.0, 63.0, 73.0, 81.0, 47.0, 43.0, 28.0, 29.0, 31.0, 36.0, 39.0, 41.0, 23.0, 10.0, 6.0, 3.0, 44.0, 127.0, 119.0, 89.0, 84.0, 118.0, 120.0, 147.0, 96.0, 38.0, 10.0, 15.0, 3.0, 9.0, 28.0, 48.0, 42.0, 26.0, 41.0, 54.0, 70.0, 129.0, 162.0, 148.0, 128.0, 101.0, 132.0, 89.0, 118.0, 95.0, 113.0, 133.0, 58.0, 72.0, 64.0, 86.0, 65.0, 82.0, 58.0, 45.0, 30.0, 29.0, 26.0, 20.0, 11.0, 4.0, 3.0, 1.0, 1.0, 4.0, 83.0, 95.0, 69.0, 60.0, 61.0, 116.0, 132.0, 149.0, 92.0, 28.0, 14.0, 16.0, 8.0, 26.0, 46.0, 40.0, 58.0, 73.0, 67.0, 77.0, 86.0, 120.0, 145.0, 149.0, 116.0, 106.0, 128.0, 97.0, 126.0, 69.0, 114.0, 116.0, 65.0, 122.0, 151.0, 155.0, 100.0, 90.0, 75.0, 45.0, 18.0, 12.0, 3.0, 1.0, 3.0, 2.0, 2.0, 3.0, 2.0, 22.0, 113.0, 83.0, 42.0, 57.0, 52.0, 122.0, 119.0, 144.0, 87.0, 25.0, 28.0, 23.0, 14.0, 22.0, 38.0, 77.0, 106.0, 112.0, 102.0, 103.0, 110.0, 130.0, 134.0, 149.0, 105.0, 112.0, 112.0, 91.0, 98.0, 54.0, 85.0, 102.0, 107.0, 144.0, 149.0, 138.0, 147.0, 139.0, 153.0, 162.0, 2.0, 0.0, 0.0, 1.0, 1.0, 0.0, 0.0, 4.0, 38.0, 51.0, 100.0, 49.0, 39.0, 46.0, 93.0, 117.0, 112.0, 122.0, 68.0, 34.0, 46.0, 40.0, 18.0, 31.0, 64.0, 92.0, 143.0, 147.0, 137.0, 127.0, 108.0, 127.0, 136.0, 134.0, 123.0, 110.0, 104.0, 107.0, 65.0, 61.0, 68.0, 85.0, 121.0, 139.0, 130.0, 126.0, 127.0, 139.0, 150.0, 169.0, 4.0, 1.0, 1.0, 1.0, 1.0, 1.0, 1.0, 5.0, 2.0, 82.0, 48.0, 18.0, 25.0, 10.0, 100.0, 120.0, 86.0, 97.0, 63.0, 79.0, 61.0, 9.0, 15.0, 76.0, 5.0, 98.0, 137.0, 146.0, 147.0, 131.0, 108.0, 121.0, 137.0, 134.0, 124.0, 113.0, 104.0, 80.0, 110.0, 72.0, 89.0, 132.0, 138.0, 119.0, 122.0, 126.0, 133.0, 138.0, 144.0, 155.0, 1.0, 1.0, 1.0, 1.0, 1.0, 1.0, 1.0, 1.0, 34.0, 38.0, 19.0, 12.0, 9.0, 25.0, 99.0, 104.0, 91.0, 66.0, 51.0, 52.0, 12.0, 11.0, 53.0, 40.0, 5.0, 13.0, 105.0, 153.0, 147.0, 138.0, 108.0, 112.0, 127.0, 119.0, 105.0, 92.0, 99.0, 75.0, 105.0, 143.0, 159.0, 145.0, 112.0, 114.0, 123.0, 131.0, 138.0, 147.0, 156.0, 161.0, 1.0, 1.0, 1.0, 1.0, 1.0, 1.0, 1.0, 2.0, 2.0, 6.0, 3.0, 18.0, 19.0, 54.0, 102.0, 62.0, 87.0, 62.0, 37.0, 19.0, 8.0, 23.0, 39.0, 2.0, 5.0, 5.0, 19.0, 114.0, 142.0, 130.0, 107.0, 99.0, 109.0, 112.0, 117.0, 122.0, 124.0, 118.0, 123.0, 156.0, 150.0, 115.0, 102.0, 114.0, 122.0, 132.0, 141.0, 154.0, 166.0, 169.0, 1.0, 1.0, 1.0, 0.0, 0.0, 0.0, 0.0, 4.0, 0.0, 8.0, 11.0, 43.0, 73.0, 83.0, 57.0, 68.0, 65.0, 51.0, 26.0, 8.0, 26.0, 10.0, 1.0, 0.0, 0.0, 4.0, 8.0, 20.0, 116.0, 117.0, 110.0, 104.0, 119.0, 120.0, 134.0, 136.0, 142.0, 144.0, 152.0, 149.0, 119.0, 101.0, 105.0, 116.0, 126.0, 135.0, 143.0, 153.0, 165.0, 170.0, 1.0, 1.0, 1.0, 0.0, 0.0, 1.0, 1.0, 9.0, 34.0, 66.0, 80.0, 85.0, 75.0, 44.0, 57.0, 72.0, 50.0, 33.0, 23.0, 17.0, 2.0, 0.0, 0.0, 0.0, 0.0, 1.0, 4.0, 4.0, 13.0, 120.0, 120.0, 123.0, 122.0, 128.0, 134.0, 139.0, 148.0, 154.0, 148.0, 128.0, 107.0, 100.0, 111.0, 123.0, 134.0, 141.0, 147.0, 156.0, 165.0, 173.0])]"
      ]
     },
     "execution_count": 155,
     "metadata": {},
     "output_type": "execute_result"
    }
   ],
   "source": [
    "pics_gray_flated_vectors.take(1)"
   ]
  },
  {
   "cell_type": "code",
   "execution_count": 37,
   "metadata": {},
   "outputs": [],
   "source": [
    "scaler = StandardScaler(withMean=False, withStd=True).fit(pics_gray_flated_vectors)"
   ]
  },
  {
   "cell_type": "code",
   "execution_count": 38,
   "metadata": {},
   "outputs": [],
   "source": [
    "pics_gray_flated_vectors_scaled = scaler.transform(pics_gray_flated_vectors)"
   ]
  },
  {
   "cell_type": "markdown",
   "metadata": {},
   "source": [
    "### 训练降维模型"
   ]
  },
  {
   "cell_type": "code",
   "execution_count": 39,
   "metadata": {},
   "outputs": [],
   "source": [
    "k = 10"
   ]
  },
  {
   "cell_type": "code",
   "execution_count": 40,
   "metadata": {},
   "outputs": [],
   "source": [
    "pics_matrix = RowMatrix(pics_gray_flated_vectors_scaled)"
   ]
  },
  {
   "cell_type": "code",
   "execution_count": 107,
   "metadata": {},
   "outputs": [],
   "source": [
    "pca = pics_matrix.computePrincipalComponents(k) "
   ]
  },
  {
   "cell_type": "markdown",
   "metadata": {},
   "source": [
    "* WARN netlib.LAPACK: Failed to load implementation from: com.github.fommil.netlib.NativeSystemLAPACK 不能加载本地的库，会使用基于java的备选库"
   ]
  },
  {
   "cell_type": "code",
   "execution_count": 109,
   "metadata": {},
   "outputs": [
    {
     "data": {
      "text/plain": [
       "10"
      ]
     },
     "execution_count": 109,
     "metadata": {},
     "output_type": "execute_result"
    }
   ],
   "source": [
    "pca.numCols"
   ]
  },
  {
   "cell_type": "code",
   "execution_count": 110,
   "metadata": {},
   "outputs": [
    {
     "data": {
      "text/plain": [
       "2500"
      ]
     },
     "execution_count": 110,
     "metadata": {},
     "output_type": "execute_result"
    }
   ],
   "source": [
    "pca.numRows"
   ]
  },
  {
   "cell_type": "code",
   "execution_count": 111,
   "metadata": {},
   "outputs": [
    {
     "data": {
      "text/plain": [
       "DenseMatrix(2500, 10, [-0.0195, -0.0196, -0.02, -0.0201, -0.0205, -0.0209, -0.0211, -0.0213, ..., -0.0331, -0.0349, -0.0337, -0.0355, -0.0401, -0.0442, -0.0477, -0.0474], 0)"
      ]
     },
     "execution_count": 111,
     "metadata": {},
     "output_type": "execute_result"
    }
   ],
   "source": [
    "pca"
   ]
  },
  {
   "cell_type": "code",
   "execution_count": 112,
   "metadata": {},
   "outputs": [],
   "source": [
    "pca_array = pca.toArray()"
   ]
  },
  {
   "cell_type": "code",
   "execution_count": 50,
   "metadata": {},
   "outputs": [
    {
     "data": {
      "text/plain": [
       "(2500, 10)"
      ]
     },
     "execution_count": 50,
     "metadata": {},
     "output_type": "execute_result"
    }
   ],
   "source": [
    "pca_array.shape"
   ]
  },
  {
   "cell_type": "code",
   "execution_count": 67,
   "metadata": {},
   "outputs": [],
   "source": [
    "def plot_gallery(images, title, h, w, n_row=3, n_col=4):\n",
    "    \"\"\"Helper function to plot a gallery of portraits\"\"\"\n",
    "    plt.figure(figsize=(1.8 * n_col, 2.4 * n_row))\n",
    "    plt.subplots_adjust(bottom=0, left=.01, right=.99, top=.90, hspace=.35)\n",
    "    for i in range(n_row * n_col):\n",
    "        plt.subplot(n_row, n_col, i + 1)\n",
    "        plt.imshow(images[i].reshape((h, w)), cmap=plt.cm.gray)\n",
    "        plt.title(title+str(i+1), size=12)\n",
    "        plt.xticks(())\n",
    "        plt.yticks(())"
   ]
  },
  {
   "cell_type": "code",
   "execution_count": 68,
   "metadata": {},
   "outputs": [
    {
     "data": {
      "image/png": "[encoded data removed]",
      "text/plain": [
       "<matplotlib.figure.Figure at 0x7f1742575ba8>"
      ]
     },
     "metadata": {},
     "output_type": "display_data"
    }
   ],
   "source": [
    "plot_gallery(pca_array.transpose(), \"Eigenface\", 50, 50, 2, 5)"
   ]
  },
  {
   "cell_type": "markdown",
   "metadata": {},
   "source": [
    "#### 改变归一化方式,重新提取EigenFace"
   ]
  },
  {
   "cell_type": "code",
   "execution_count": 157,
   "metadata": {},
   "outputs": [],
   "source": [
    "scaler_1 = StandardScaler(withMean=True, withStd=True).fit(pics_gray_flated_vectors)"
   ]
  },
  {
   "cell_type": "code",
   "execution_count": 158,
   "metadata": {},
   "outputs": [],
   "source": [
    "pics_gray_flated_vectors_scaled_1 = scaler_1.transform(pics_gray_flated_vectors)"
   ]
  },
  {
   "cell_type": "code",
   "execution_count": 159,
   "metadata": {},
   "outputs": [],
   "source": [
    "pics_matrix_1 = RowMatrix(pics_gray_flated_vectors_scaled_1)"
   ]
  },
  {
   "cell_type": "code",
   "execution_count": 160,
   "metadata": {},
   "outputs": [],
   "source": [
    "pca_1 = pics_matrix_1.computePrincipalComponents(k) "
   ]
  },
  {
   "cell_type": "code",
   "execution_count": 161,
   "metadata": {},
   "outputs": [],
   "source": [
    "pca_array_1 = pca_1.toArray()"
   ]
  },
  {
   "cell_type": "code",
   "execution_count": 162,
   "metadata": {},
   "outputs": [
    {
     "data": {
      "image/png": "[encoded data removed]",
      "text/plain": [
       "<matplotlib.figure.Figure at 0x7f1742037e80>"
      ]
     },
     "metadata": {},
     "output_type": "display_data"
    }
   ],
   "source": [
    "plot_gallery(pca_array_1.transpose(), \"Eigenface\", 50, 50, 2, 5)"
   ]
  },
  {
   "cell_type": "markdown",
   "metadata": {},
   "source": [
    "### 使用降维模型"
   ]
  },
  {
   "cell_type": "markdown",
   "metadata": {},
   "source": [
    "#### 在LFW数据集上使用PCA投影数据"
   ]
  },
  {
   "cell_type": "code",
   "execution_count": 76,
   "metadata": {},
   "outputs": [
    {
     "data": {
      "text/plain": [
       "[('hdfs://zh:9000/lfw/AJ_Cook/AJ_Cook_0001.jpg',\n",
       "  DenseVector([0.0, 0.0, 0.0, 0.0, 0.0, 0.0, 0.0, 0.0, 0.0, 0.0, 0.0, 0.0, 0.0, 0.0, 0.0, 0.0, 0.0, 0.0, 0.0, 0.0, 0.0, 0.0, 0.0, 0.0, 0.0, 0.0, 0.0, 0.0, 0.0, 0.0, 0.0, 0.0, 0.0, 0.0, 0.0, 0.0, 0.0, 0.0, 0.0, 0.0, 0.0, 0.0, 0.0, 0.0, 0.0, 0.0, 0.0, 0.0, 0.0, 0.0, 0.0, 0.0, 0.0, 0.0, 0.0, 0.0, 0.0, 0.0, 0.0, 0.0, 0.0, 0.0, 0.0, 0.0, 0.0, 0.0, 0.0, 0.0, 0.0, 0.0, 0.0, 0.0, 0.0, 0.0, 0.0, 0.0, 0.0, 0.0, 0.0, 0.0, 0.0, 0.0, 0.0, 0.0, 0.0, 0.0, 0.0, 0.0, 0.0, 0.0, 0.0, 0.0, 0.0, 0.0, 0.0, 0.0, 0.0, 0.0, 0.0, 0.0, 0.0, 0.0, 0.0, 0.0, 0.0, 0.0, 0.0, 0.0, 0.0, 0.0, 0.0, 0.0, 0.0, 0.0, 0.0, 0.0, 0.0, 0.0, 0.0, 0.0, 0.0, 0.0, 0.0, 0.0, 0.0, 0.0, 0.0, 0.0, 0.0, 0.0, 0.0, 0.0, 0.0, 0.0, 0.0, 0.0, 0.0, 0.0, 0.0, 0.0, 0.0, 0.0, 0.0, 0.0, 0.0, 0.0, 0.0, 0.0, 0.0, 0.0, 0.0, 0.0, 0.0, 0.0, 0.0, 0.0, 0.0, 0.0, 0.0, 0.0, 0.0, 0.0, 0.0, 0.0, 0.0, 0.0, 0.0, 0.0, 0.0, 0.0, 0.0, 0.0, 0.0, 0.0, 0.0, 0.0, 0.0, 0.0, 0.0, 0.0, 0.0, 0.0, 0.0, 0.0, 0.0, 0.0, 0.0, 0.0, 0.0, 0.0, 0.0, 0.0, 0.0, 0.0, 0.0, 0.0, 0.0, 0.0, 0.0, 0.0, 55.0, 57.0, 58.0, 61.0, 64.0, 61.0, 60.0, 59.0, 55.0, 58.0, 58.0, 58.0, 58.0, 57.0, 57.0, 55.0, 53.0, 51.0, 49.0, 52.0, 67.0, 152.0, 191.0, 195.0, 187.0, 119.0, 73.0, 74.0, 74.0, 70.0, 71.0, 73.0, 72.0, 71.0, 69.0, 68.0, 67.0, 67.0, 67.0, 65.0, 65.0, 65.0, 65.0, 65.0, 65.0, 65.0, 64.0, 63.0, 63.0, 66.0, 58.0, 55.0, 57.0, 63.0, 66.0, 66.0, 64.0, 61.0, 58.0, 57.0, 57.0, 57.0, 57.0, 57.0, 58.0, 58.0, 56.0, 55.0, 53.0, 54.0, 54.0, 102.0, 175.0, 195.0, 199.0, 162.0, 92.0, 78.0, 86.0, 91.0, 102.0, 101.0, 104.0, 85.0, 73.0, 69.0, 70.0, 67.0, 68.0, 70.0, 69.0, 70.0, 70.0, 69.0, 71.0, 67.0, 68.0, 68.0, 67.0, 67.0, 56.0, 56.0, 58.0, 60.0, 63.0, 66.0, 65.0, 63.0, 58.0, 61.0, 60.0, 59.0, 60.0, 59.0, 60.0, 59.0, 59.0, 57.0, 57.0, 62.0, 61.0, 72.0, 146.0, 182.0, 195.0, 183.0, 113.0, 81.0, 97.0, 111.0, 143.0, 181.0, 188.0, 162.0, 116.0, 78.0, 75.0, 75.0, 72.0, 70.0, 69.0, 70.0, 71.0, 72.0, 73.0, 70.0, 71.0, 70.0, 68.0, 68.0, 59.0, 57.0, 59.0, 60.0, 63.0, 65.0, 66.0, 65.0, 60.0, 59.0, 60.0, 60.0, 59.0, 59.0, 60.0, 60.0, 60.0, 58.0, 58.0, 58.0, 63.0, 72.0, 101.0, 112.0, 103.0, 152.0, 105.0, 69.0, 87.0, 138.0, 182.0, 159.0, 151.0, 155.0, 166.0, 150.0, 87.0, 75.0, 73.0, 72.0, 72.0, 72.0, 73.0, 72.0, 73.0, 69.0, 70.0, 71.0, 72.0, 69.0, 61.0, 59.0, 61.0, 61.0, 63.0, 67.0, 67.0, 65.0, 63.0, 62.0, 61.0, 60.0, 60.0, 61.0, 61.0, 59.0, 59.0, 60.0, 60.0, 69.0, 74.0, 84.0, 93.0, 110.0, 142.0, 83.0, 55.0, 81.0, 118.0, 142.0, 123.0, 138.0, 133.0, 135.0, 139.0, 156.0, 152.0, 99.0, 80.0, 73.0, 74.0, 74.0, 72.0, 74.0, 73.0, 73.0, 73.0, 70.0, 71.0, 71.0, 61.0, 59.0, 60.0, 60.0, 63.0, 67.0, 67.0, 69.0, 66.0, 63.0, 61.0, 60.0, 61.0, 60.0, 60.0, 60.0, 62.0, 65.0, 68.0, 69.0, 76.0, 82.0, 93.0, 115.0, 122.0, 72.0, 59.0, 91.0, 129.0, 129.0, 130.0, 131.0, 152.0, 122.0, 161.0, 135.0, 158.0, 154.0, 100.0, 75.0, 75.0, 75.0, 74.0, 73.0, 73.0, 73.0, 73.0, 70.0, 71.0, 71.0, 63.0, 60.0, 59.0, 59.0, 61.0, 67.0, 67.0, 66.0, 67.0, 66.0, 61.0, 60.0, 60.0, 61.0, 60.0, 61.0, 64.0, 69.0, 73.0, 75.0, 91.0, 84.0, 118.0, 134.0, 123.0, 84.0, 72.0, 109.0, 145.0, 123.0, 133.0, 147.0, 149.0, 171.0, 133.0, 166.0, 162.0, 162.0, 150.0, 81.0, 75.0, 77.0, 78.0, 76.0, 74.0, 73.0, 73.0, 71.0, 72.0, 72.0, 65.0, 63.0, 60.0, 61.0, 60.0, 65.0, 68.0, 68.0, 69.0, 68.0, 65.0, 61.0, 60.0, 63.0, 62.0, 64.0, 69.0, 71.0, 72.0, 93.0, 77.0, 104.0, 122.0, 127.0, 121.0, 126.0, 102.0, 75.0, 82.0, 180.0, 141.0, 147.0, 155.0, 158.0, 161.0, 160.0, 152.0, 164.0, 151.0, 132.0, 81.0, 78.0, 75.0, 73.0, 72.0, 72.0, 72.0, 72.0, 72.0, 72.0, 67.0, 64.0, 61.0, 61.0, 60.0, 65.0, 69.0, 71.0, 72.0, 71.0, 67.0, 62.0, 59.0, 63.0, 67.0, 66.0, 71.0, 71.0, 87.0, 77.0, 76.0, 100.0, 120.0, 128.0, 140.0, 150.0, 153.0, 151.0, 117.0, 71.0, 183.0, 159.0, 156.0, 159.0, 169.0, 157.0, 161.0, 165.0, 157.0, 124.0, 90.0, 81.0, 76.0, 76.0, 75.0, 74.0, 73.0, 74.0, 73.0, 73.0, 67.0, 66.0, 64.0, 61.0, 61.0, 65.0, 69.0, 72.0, 73.0, 72.0, 71.0, 66.0, 63.0, 65.0, 67.0, 69.0, 77.0, 77.0, 86.0, 22.0, 96.0, 130.0, 141.0, 150.0, 157.0, 159.0, 158.0, 159.0, 161.0, 141.0, 89.0, 163.0, 161.0, 161.0, 163.0, 163.0, 158.0, 159.0, 164.0, 139.0, 115.0, 79.0, 77.0, 77.0, 77.0, 76.0, 76.0, 76.0, 76.0, 74.0, 70.0, 69.0, 67.0, 63.0, 62.0, 65.0, 69.0, 72.0, 74.0, 72.0, 73.0, 69.0, 67.0, 68.0, 72.0, 76.0, 77.0, 84.0, 49.0, 77.0, 120.0, 131.0, 143.0, 157.0, 162.0, 162.0, 167.0, 172.0, 173.0, 157.0, 113.0, 172.0, 154.0, 157.0, 152.0, 163.0, 158.0, 155.0, 163.0, 152.0, 124.0, 92.0, 79.0, 78.0, 77.0, 77.0, 77.0, 77.0, 78.0, 76.0, 73.0, 70.0, 69.0, 67.0, 63.0, 64.0, 70.0, 73.0, 76.0, 74.0, 74.0, 75.0, 74.0, 74.0, 78.0, 76.0, 81.0, 91.0, 32.0, 97.0, 120.0, 136.0, 146.0, 155.0, 162.0, 168.0, 176.0, 178.0, 179.0, 174.0, 155.0, 108.0, 159.0, 155.0, 142.0, 163.0, 156.0, 155.0, 160.0, 153.0, 122.0, 110.0, 81.0, 80.0, 79.0, 80.0, 79.0, 79.0, 78.0, 77.0, 117.0, 113.0, 110.0, 106.0, 101.0, 95.0, 94.0, 93.0, 91.0, 87.0, 86.0, 85.0, 84.0, 83.0, 82.0, 82.0, 88.0, 90.0, 39.0, 100.0, 122.0, 140.0, 152.0, 157.0, 164.0, 169.0, 177.0, 178.0, 178.0, 171.0, 159.0, 120.0, 153.0, 158.0, 145.0, 165.0, 159.0, 154.0, 152.0, 161.0, 140.0, 127.0, 83.0, 82.0, 83.0, 81.0, 82.0, 80.0, 82.0, 77.0, 187.0, 188.0, 186.0, 185.0, 180.0, 184.0, 178.0, 178.0, 172.0, 171.0, 170.0, 166.0, 163.0, 161.0, 157.0, 155.0, 86.0, 88.0, 61.0, 107.0, 126.0, 141.0, 156.0, 160.0, 162.0, 168.0, 175.0, 173.0, 174.0, 173.0, 170.0, 159.0, 125.0, 150.0, 148.0, 161.0, 164.0, 141.0, 134.0, 145.0, 142.0, 122.0, 99.0, 88.0, 85.0, 85.0, 85.0, 83.0, 85.0, 78.0, 206.0, 205.0, 205.0, 205.0, 206.0, 205.0, 203.0, 203.0, 205.0, 203.0, 204.0, 202.0, 198.0, 197.0, 201.0, 153.0, 76.0, 84.0, 79.0, 105.0, 133.0, 146.0, 158.0, 159.0, 159.0, 166.0, 176.0, 180.0, 183.0, 175.0, 169.0, 158.0, 104.0, 142.0, 150.0, 155.0, 160.0, 126.0, 115.0, 134.0, 130.0, 126.0, 131.0, 163.0, 162.0, 159.0, 157.0, 154.0, 152.0, 151.0, 203.0, 197.0, 202.0, 205.0, 209.0, 209.0, 207.0, 208.0, 205.0, 206.0, 206.0, 206.0, 204.0, 204.0, 198.0, 113.0, 72.0, 68.0, 91.0, 112.0, 140.0, 154.0, 154.0, 155.0, 159.0, 163.0, 161.0, 129.0, 121.0, 128.0, 151.0, 152.0, 139.0, 136.0, 152.0, 143.0, 154.0, 118.0, 102.0, 125.0, 118.0, 118.0, 123.0, 199.0, 205.0, 198.0, 196.0, 196.0, 202.0, 199.0, 117.0, 118.0, 125.0, 132.0, 135.0, 139.0, 144.0, 149.0, 155.0, 155.0, 156.0, 158.0, 157.0, 159.0, 157.0, 81.0, 66.0, 53.0, 83.0, 87.0, 103.0, 114.0, 143.0, 147.0, 157.0, 154.0, 114.0, 96.0, 122.0, 154.0, 165.0, 159.0, 147.0, 108.0, 156.0, 125.0, 152.0, 119.0, 87.0, 111.0, 109.0, 101.0, 112.0, 196.0, 203.0, 201.0, 199.0, 197.0, 200.0, 204.0, 75.0, 77.0, 76.0, 77.0, 76.0, 76.0, 79.0, 82.0, 87.0, 88.0, 88.0, 89.0, 87.0, 87.0, 87.0, 75.0, 62.0, 40.0, 84.0, 102.0, 100.0, 77.0, 89.0, 120.0, 148.0, 146.0, 114.0, 97.0, 70.0, 77.0, 86.0, 88.0, 129.0, 91.0, 144.0, 119.0, 153.0, 105.0, 83.0, 96.0, 91.0, 93.0, 116.0, 141.0, 160.0, 166.0, 161.0, 161.0, 162.0, 171.0, 54.0, 56.0, 57.0, 59.0, 62.0, 64.0, 68.0, 71.0, 80.0, 83.0, 82.0, 87.0, 93.0, 98.0, 84.0, 69.0, 56.0, 22.0, 70.0, 70.0, 79.0, 119.0, 76.0, 77.0, 166.0, 167.0, 123.0, 90.0, 74.0, 33.0, 34.0, 52.0, 119.0, 102.0, 126.0, 116.0, 151.0, 101.0, 77.0, 84.0, 85.0, 91.0, 106.0, 94.0, 71.0, 65.0, 63.0, 66.0, 64.0, 66.0, 35.0, 34.0, 37.0, 37.0, 35.0, 37.0, 36.0, 41.0, 43.0, 48.0, 51.0, 64.0, 77.0, 79.0, 72.0, 64.0, 49.0, 9.0, 36.0, 22.0, 37.0, 20.0, 93.0, 89.0, 155.0, 168.0, 162.0, 146.0, 128.0, 127.0, 140.0, 156.0, 163.0, 137.0, 113.0, 119.0, 136.0, 97.0, 59.0, 73.0, 90.0, 84.0, 95.0, 101.0, 76.0, 70.0, 68.0, 60.0, 58.0, 60.0, 35.0, 36.0, 35.0, 35.0, 34.0, 34.0, 32.0, 28.0, 27.0, 26.0, 27.0, 34.0, 61.0, 67.0, 61.0, 59.0, 41.0, 7.0, 45.0, 64.0, 86.0, 109.0, 134.0, 111.0, 156.0, 162.0, 161.0, 166.0, 157.0, 151.0, 157.0, 161.0, 165.0, 149.0, 100.0, 119.0, 127.0, 94.0, 55.0, 61.0, 92.0, 74.0, 81.0, 122.0, 77.0, 71.0, 70.0, 64.0, 63.0, 60.0, 28.0, 28.0, 28.0, 27.0, 27.0, 27.0, 25.0, 27.0, 23.0, 20.0, 25.0, 29.0, 48.0, 58.0, 63.0, 54.0, 30.0, 4.0, 64.0, 96.0, 109.0, 137.0, 122.0, 128.0, 158.0, 158.0, 164.0, 169.0, 170.0, 169.0, 164.0, 176.0, 173.0, 158.0, 98.0, 122.0, 118.0, 95.0, 62.0, 56.0, 92.0, 57.0, 73.0, 112.0, 73.0, 64.0, 64.0, 62.0, 56.0, 55.0, 31.0, 31.0, 31.0, 30.0, 29.0, 28.0, 25.0, 26.0, 26.0, 26.0, 27.0, 28.0, 40.0, 38.0, 61.0, 53.0, 23.0, 8.0, 76.0, 126.0, 135.0, 139.0, 113.0, 153.0, 156.0, 156.0, 155.0, 162.0, 158.0, 161.0, 173.0, 180.0, 173.0, 157.0, 99.0, 113.0, 110.0, 96.0, 67.0, 55.0, 88.0, 54.0, 71.0, 109.0, 72.0, 44.0, 44.0, 40.0, 41.0, 40.0, 43.0, 44.0, 45.0, 45.0, 46.0, 43.0, 41.0, 38.0, 39.0, 37.0, 36.0, 36.0, 41.0, 40.0, 58.0, 50.0, 24.0, 25.0, 74.0, 125.0, 140.0, 135.0, 100.0, 148.0, 156.0, 146.0, 165.0, 153.0, 142.0, 137.0, 152.0, 162.0, 162.0, 147.0, 103.0, 110.0, 110.0, 103.0, 77.0, 51.0, 78.0, 59.0, 65.0, 85.0, 91.0, 39.0, 34.0, 30.0, 29.0, 27.0, 52.0, 53.0, 52.0, 51.0, 51.0, 49.0, 49.0, 49.0, 50.0, 50.0, 48.0, 48.0, 53.0, 57.0, 60.0, 50.0, 30.0, 51.0, 51.0, 121.0, 143.0, 114.0, 69.0, 39.0, 74.0, 91.0, 127.0, 165.0, 173.0, 132.0, 131.0, 149.0, 146.0, 137.0, 102.0, 110.0, 113.0, 107.0, 77.0, 52.0, 72.0, 58.0, 56.0, 75.0, 98.0, 36.0, 30.0, 28.0, 23.0, 23.0, 55.0, 57.0, 55.0, 53.0, 53.0, 52.0, 52.0, 52.0, 51.0, 50.0, 51.0, 53.0, 57.0, 62.0, 66.0, 57.0, 51.0, 65.0, 28.0, 109.0, 127.0, 107.0, 84.0, 77.0, 95.0, 126.0, 173.0, 176.0, 162.0, 152.0, 130.0, 142.0, 142.0, 136.0, 100.0, 119.0, 117.0, 99.0, 68.0, 50.0, 65.0, 59.0, 57.0, 58.0, 102.0, 40.0, 34.0, 25.0, 23.0, 22.0, 58.0, 59.0, 58.0, 56.0, 54.0, 57.0, 57.0, 55.0, 55.0, 52.0, 53.0, 54.0, 58.0, 66.0, 70.0, 66.0, 59.0, 80.0, 9.0, 79.0, 109.0, 113.0, 91.0, 116.0, 126.0, 113.0, 113.0, 127.0, 147.0, 149.0, 151.0, 152.0, 143.0, 141.0, 96.0, 119.0, 124.0, 97.0, 65.0, 48.0, 65.0, 56.0, 55.0, 54.0, 93.0, 63.0, 39.0, 36.0, 33.0, 31.0, 59.0, 61.0, 59.0, 57.0, 56.0, 57.0, 57.0, 56.0, 56.0, 54.0, 56.0, 56.0, 59.0, 81.0, 79.0, 69.0, 72.0, 81.0, 10.0, 50.0, 112.0, 132.0, 60.0, 28.0, 71.0, 105.0, 144.0, 168.0, 101.0, 49.0, 140.0, 154.0, 142.0, 137.0, 100.0, 122.0, 132.0, 94.0, 64.0, 47.0, 61.0, 57.0, 57.0, 60.0, 83.0, 79.0, 43.0, 45.0, 42.0, 41.0, 61.0, 61.0, 61.0, 58.0, 58.0, 56.0, 56.0, 56.0, 56.0, 56.0, 57.0, 57.0, 62.0, 97.0, 87.0, 66.0, 80.0, 74.0, 18.0, 34.0, 83.0, 143.0, 68.0, 26.0, 53.0, 53.0, 76.0, 102.0, 116.0, 162.0, 155.0, 152.0, 151.0, 133.0, 108.0, 127.0, 122.0, 81.0, 56.0, 47.0, 67.0, 57.0, 61.0, 61.0, 74.0, 94.0, 46.0, 43.0, 43.0, 44.0, 63.0, 63.0, 62.0, 58.0, 59.0, 57.0, 57.0, 57.0, 56.0, 57.0, 57.0, 57.0, 70.0, 105.0, 89.0, 71.0, 98.0, 67.0, 25.0, 10.0, 64.0, 125.0, 145.0, 83.0, 93.0, 110.0, 141.0, 158.0, 151.0, 172.0, 166.0, 153.0, 149.0, 117.0, 126.0, 120.0, 120.0, 70.0, 53.0, 44.0, 65.0, 51.0, 62.0, 69.0, 59.0, 103.0, 50.0, 44.0, 45.0, 45.0, 61.0, 61.0, 61.0, 58.0, 58.0, 58.0, 58.0, 58.0, 58.0, 57.0, 59.0, 60.0, 67.0, 119.0, 104.0, 61.0, 106.0, 82.0, 44.0, 18.0, 55.0, 82.0, 130.0, 82.0, 73.0, 83.0, 111.0, 144.0, 161.0, 171.0, 162.0, 149.0, 139.0, 117.0, 142.0, 123.0, 124.0, 62.0, 47.0, 50.0, 69.0, 51.0, 65.0, 78.0, 54.0, 100.0, 62.0, 45.0, 44.0, 44.0, 62.0, 62.0, 62.0, 63.0, 59.0, 59.0, 61.0, 59.0, 59.0, 59.0, 59.0, 61.0, 73.0, 128.0, 109.0, 71.0, 112.0, 92.0, 61.0, 18.0, 13.0, 55.0, 104.0, 113.0, 120.0, 140.0, 151.0, 164.0, 165.0, 169.0, 152.0, 135.0, 123.0, 158.0, 146.0, 136.0, 130.0, 44.0, 43.0, 59.0, 66.0, 53.0, 64.0, 81.0, 58.0, 88.0, 67.0, 48.0, 46.0, 44.0, 64.0, 64.0, 64.0, 65.0, 63.0, 63.0, 62.0, 59.0, 59.0, 57.0, 59.0, 63.0, 102.0, 140.0, 121.0, 86.0, 107.0, 109.0, 75.0, 26.0, 9.0, 21.0, 66.0, 123.0, 127.0, 149.0, 170.0, 173.0, 172.0, 161.0, 135.0, 119.0, 112.0, 168.0, 137.0, 131.0, 129.0, 55.0, 53.0, 62.0, 68.0, 63.0, 72.0, 102.0, 62.0, 76.0, 75.0, 48.0, 45.0, 44.0, 63.0, 63.0, 63.0, 66.0, 62.0, 62.0, 61.0, 60.0, 61.0, 61.0, 62.0, 64.0, 134.0, 154.0, 122.0, 89.0, 108.0, 123.0, 76.0, 41.0, 5.0, 2.0, 29.0, 82.0, 119.0, 132.0, 131.0, 136.0, 151.0, 125.0, 106.0, 89.0, 151.0, 172.0, 133.0, 113.0, 124.0, 46.0, 52.0, 72.0, 74.0, 56.0, 94.0, 140.0, 66.0, 68.0, 89.0, 53.0, 46.0, 43.0, 61.0, 63.0, 65.0, 64.0, 63.0, 63.0, 62.0, 60.0, 60.0, 62.0, 64.0, 71.0, 144.0, 167.0, 109.0, 101.0, 109.0, 130.0, 85.0, 51.0, 7.0, 3.0, 1.0, 24.0, 73.0, 97.0, 109.0, 111.0, 88.0, 65.0, 59.0, 70.0, 179.0, 167.0, 144.0, 93.0, 129.0, 49.0, 65.0, 90.0, 78.0, 54.0, 105.0, 157.0, 88.0, 62.0, 90.0, 58.0, 49.0, 42.0, 56.0, 58.0, 62.0, 64.0, 62.0, 65.0, 62.0, 59.0, 59.0, 64.0, 65.0, 102.0, 140.0, 155.0, 98.0, 107.0, 104.0, 142.0, 97.0, 48.0, 12.0, 4.0, 0.0, 1.0, 29.0, 35.0, 45.0, 48.0, 49.0, 47.0, 41.0, 96.0, 176.0, 141.0, 156.0, 96.0, 125.0, 56.0, 77.0, 114.0, 80.0, 38.0, 95.0, 124.0, 101.0, 62.0, 83.0, 70.0, 47.0, 42.0, 42.0, 43.0, 50.0, 54.0, 56.0, 55.0, 61.0, 64.0, 60.0, 59.0, 60.0, 115.0, 137.0, 126.0, 83.0, 110.0, 111.0, 142.0, 94.0, 49.0, 12.0, 9.0, 4.0, 4.0, 22.0, 35.0, 23.0, 20.0, 28.0, 35.0, 48.0, 126.0, 163.0, 137.0, 149.0, 91.0, 123.0, 65.0, 89.0, 123.0, 112.0, 48.0, 74.0, 89.0, 77.0, 63.0, 73.0, 81.0, 47.0, 43.0, 28.0, 29.0, 31.0, 36.0, 39.0, 41.0, 23.0, 10.0, 6.0, 3.0, 44.0, 127.0, 119.0, 89.0, 84.0, 118.0, 120.0, 147.0, 96.0, 38.0, 10.0, 15.0, 3.0, 9.0, 28.0, 48.0, 42.0, 26.0, 41.0, 54.0, 70.0, 129.0, 162.0, 148.0, 128.0, 101.0, 132.0, 89.0, 118.0, 95.0, 113.0, 133.0, 58.0, 72.0, 64.0, 86.0, 65.0, 82.0, 58.0, 45.0, 30.0, 29.0, 26.0, 20.0, 11.0, 4.0, 3.0, 1.0, 1.0, 4.0, 83.0, 95.0, 69.0, 60.0, 61.0, 116.0, 132.0, 149.0, 92.0, 28.0, 14.0, 16.0, 8.0, 26.0, 46.0, 40.0, 58.0, 73.0, 67.0, 77.0, 86.0, 120.0, 145.0, 149.0, 116.0, 106.0, 128.0, 97.0, 126.0, 69.0, 114.0, 116.0, 65.0, 122.0, 151.0, 155.0, 100.0, 90.0, 75.0, 45.0, 18.0, 12.0, 3.0, 1.0, 3.0, 2.0, 2.0, 3.0, 2.0, 22.0, 113.0, 83.0, 42.0, 57.0, 52.0, 122.0, 119.0, 144.0, 87.0, 25.0, 28.0, 23.0, 14.0, 22.0, 38.0, 77.0, 106.0, 112.0, 102.0, 103.0, 110.0, 130.0, 134.0, 149.0, 105.0, 112.0, 112.0, 91.0, 98.0, 54.0, 85.0, 102.0, 107.0, 144.0, 149.0, 138.0, 147.0, 139.0, 153.0, 162.0, 2.0, 0.0, 0.0, 1.0, 1.0, 0.0, 0.0, 4.0, 38.0, 51.0, 100.0, 49.0, 39.0, 46.0, 93.0, 117.0, 112.0, 122.0, 68.0, 34.0, 46.0, 40.0, 18.0, 31.0, 64.0, 92.0, 143.0, 147.0, 137.0, 127.0, 108.0, 127.0, 136.0, 134.0, 123.0, 110.0, 104.0, 107.0, 65.0, 61.0, 68.0, 85.0, 121.0, 139.0, 130.0, 126.0, 127.0, 139.0, 150.0, 169.0, 4.0, 1.0, 1.0, 1.0, 1.0, 1.0, 1.0, 5.0, 2.0, 82.0, 48.0, 18.0, 25.0, 10.0, 100.0, 120.0, 86.0, 97.0, 63.0, 79.0, 61.0, 9.0, 15.0, 76.0, 5.0, 98.0, 137.0, 146.0, 147.0, 131.0, 108.0, 121.0, 137.0, 134.0, 124.0, 113.0, 104.0, 80.0, 110.0, 72.0, 89.0, 132.0, 138.0, 119.0, 122.0, 126.0, 133.0, 138.0, 144.0, 155.0, 1.0, 1.0, 1.0, 1.0, 1.0, 1.0, 1.0, 1.0, 34.0, 38.0, 19.0, 12.0, 9.0, 25.0, 99.0, 104.0, 91.0, 66.0, 51.0, 52.0, 12.0, 11.0, 53.0, 40.0, 5.0, 13.0, 105.0, 153.0, 147.0, 138.0, 108.0, 112.0, 127.0, 119.0, 105.0, 92.0, 99.0, 75.0, 105.0, 143.0, 159.0, 145.0, 112.0, 114.0, 123.0, 131.0, 138.0, 147.0, 156.0, 161.0, 1.0, 1.0, 1.0, 1.0, 1.0, 1.0, 1.0, 2.0, 2.0, 6.0, 3.0, 18.0, 19.0, 54.0, 102.0, 62.0, 87.0, 62.0, 37.0, 19.0, 8.0, 23.0, 39.0, 2.0, 5.0, 5.0, 19.0, 114.0, 142.0, 130.0, 107.0, 99.0, 109.0, 112.0, 117.0, 122.0, 124.0, 118.0, 123.0, 156.0, 150.0, 115.0, 102.0, 114.0, 122.0, 132.0, 141.0, 154.0, 166.0, 169.0, 1.0, 1.0, 1.0, 0.0, 0.0, 0.0, 0.0, 4.0, 0.0, 8.0, 11.0, 43.0, 73.0, 83.0, 57.0, 68.0, 65.0, 51.0, 26.0, 8.0, 26.0, 10.0, 1.0, 0.0, 0.0, 4.0, 8.0, 20.0, 116.0, 117.0, 110.0, 104.0, 119.0, 120.0, 134.0, 136.0, 142.0, 144.0, 152.0, 149.0, 119.0, 101.0, 105.0, 116.0, 126.0, 135.0, 143.0, 153.0, 165.0, 170.0, 1.0, 1.0, 1.0, 0.0, 0.0, 1.0, 1.0, 9.0, 34.0, 66.0, 80.0, 85.0, 75.0, 44.0, 57.0, 72.0, 50.0, 33.0, 23.0, 17.0, 2.0, 0.0, 0.0, 0.0, 0.0, 1.0, 4.0, 4.0, 13.0, 120.0, 120.0, 123.0, 122.0, 128.0, 134.0, 139.0, 148.0, 154.0, 148.0, 128.0, 107.0, 100.0, 111.0, 123.0, 134.0, 141.0, 147.0, 156.0, 165.0, 173.0]))]"
      ]
     },
     "execution_count": 76,
     "metadata": {},
     "output_type": "execute_result"
    }
   ],
   "source": [
    "pics_gray_flated.take(1)"
   ]
  },
  {
   "cell_type": "code",
   "execution_count": 84,
   "metadata": {},
   "outputs": [],
   "source": [
    "pics_gray_flated_projected = pics_gray_flated.mapValues(lambda x:np.matmul(x.toArray(), pca.toArray()))"
   ]
  },
  {
   "cell_type": "code",
   "execution_count": 85,
   "metadata": {},
   "outputs": [
    {
     "data": {
      "text/plain": [
       "[('hdfs://zh:9000/lfw/AJ_Cook/AJ_Cook_0001.jpg',\n",
       "  array([ -3.00817180e+03,   6.83146301e+02,  -3.15240184e+03,\n",
       "          -5.71962057e+00,   3.29324978e-01,   1.71584952e+01,\n",
       "           5.15030114e+02,   4.06793866e+02,  -1.73625763e+02,\n",
       "          -5.02593770e+02])),\n",
       " ('hdfs://zh:9000/lfw/AJ_Lamas/AJ_Lamas_0001.jpg',\n",
       "  array([-3344.59007254,   931.72050593, -2172.53642616, -1063.3386351 ,\n",
       "           422.62560792, -1149.66372605,  -539.00991571,   438.13281032,\n",
       "           344.26793122,  -543.87788119]))]"
      ]
     },
     "execution_count": 85,
     "metadata": {},
     "output_type": "execute_result"
    }
   ],
   "source": [
    "pics_gray_flated_projected.take(2)"
   ]
  },
  {
   "cell_type": "markdown",
   "metadata": {},
   "source": [
    "#### PCA和SVD模型的关系"
   ]
  },
  {
   "cell_type": "code",
   "execution_count": 104,
   "metadata": {},
   "outputs": [],
   "source": [
    "svd = pics_matrix.computeSVD(k, computeU=True) "
   ]
  },
  {
   "cell_type": "markdown",
   "metadata": {},
   "source": [
    "Computes the singular value decomposition of the RowMatrix.\n",
    "\n",
    "The given row matrix A of dimension (m X n) is decomposed into\n",
    "U * s * V'T where\n",
    "\n",
    "* U: (m X k) (left singular vectors) is a RowMatrix whose\n",
    "     columns are the eigenvectors of (A X A')\n",
    "* s: DenseVector consisting of square root of the eigenvalues\n",
    "     (singular values) in descending order.\n",
    "* v: (n X k) (right singular vectors) is a Matrix whose columns\n",
    "     are the eigenvectors of (A' X A)"
   ]
  },
  {
   "cell_type": "markdown",
   "metadata": {},
   "source": [
    "* 都设定k的前提下，svd是否和pca相同?"
   ]
  },
  {
   "cell_type": "code",
   "execution_count": 138,
   "metadata": {},
   "outputs": [],
   "source": [
    "svd_U = svd.U"
   ]
  },
  {
   "cell_type": "code",
   "execution_count": 139,
   "metadata": {},
   "outputs": [],
   "source": [
    "svd_U_rdd = svd_U.rows.map(lambda x:np.array(x))"
   ]
  },
  {
   "cell_type": "code",
   "execution_count": 141,
   "metadata": {},
   "outputs": [
    {
     "data": {
      "text/plain": [
       "1054"
      ]
     },
     "execution_count": 141,
     "metadata": {},
     "output_type": "execute_result"
    }
   ],
   "source": [
    "svd_U_rdd.count()"
   ]
  },
  {
   "cell_type": "code",
   "execution_count": 143,
   "metadata": {},
   "outputs": [],
   "source": [
    "svd_V = svd.V"
   ]
  },
  {
   "cell_type": "code",
   "execution_count": 145,
   "metadata": {},
   "outputs": [],
   "source": [
    "svd_V_rdd = sc.parallelize(svd_V.toArray())"
   ]
  },
  {
   "cell_type": "code",
   "execution_count": 146,
   "metadata": {},
   "outputs": [
    {
     "data": {
      "text/plain": [
       "2500"
      ]
     },
     "execution_count": 146,
     "metadata": {},
     "output_type": "execute_result"
    }
   ],
   "source": [
    "svd_V_rdd.count()"
   ]
  },
  {
   "cell_type": "code",
   "execution_count": 113,
   "metadata": {},
   "outputs": [
    {
     "data": {
      "text/plain": [
       "(2500, 10)"
      ]
     },
     "execution_count": 113,
     "metadata": {},
     "output_type": "execute_result"
    }
   ],
   "source": [
    "pca_array.shape"
   ]
  },
  {
   "cell_type": "code",
   "execution_count": 114,
   "metadata": {},
   "outputs": [
    {
     "data": {
      "text/plain": [
       "array([[-0.01946022, -0.0096049 ,  0.01379275, ..., -0.02494439,\n",
       "         0.01986856, -0.001608  ],\n",
       "       [-0.01957932, -0.01033632,  0.01615524, ..., -0.02383078,\n",
       "         0.01939134, -0.00195142],\n",
       "       [-0.02000436, -0.01099684,  0.01616307, ..., -0.02402146,\n",
       "         0.02013743,  0.00019207],\n",
       "       ..., \n",
       "       [-0.00536768,  0.04256332, -0.00365489, ..., -0.01133576,\n",
       "        -0.00981253, -0.04420344],\n",
       "       [-0.00546838,  0.04038763, -0.00404129, ..., -0.01190889,\n",
       "        -0.00770935, -0.04766231],\n",
       "       [-0.00618901,  0.0383991 , -0.00135826, ..., -0.01737292,\n",
       "        -0.00370079, -0.04740222]])"
      ]
     },
     "execution_count": 114,
     "metadata": {},
     "output_type": "execute_result"
    }
   ],
   "source": [
    "pca_array"
   ]
  },
  {
   "cell_type": "code",
   "execution_count": 134,
   "metadata": {},
   "outputs": [],
   "source": [
    "pca_array_rdd = sc.parallelize(pca_array)"
   ]
  },
  {
   "cell_type": "code",
   "execution_count": 142,
   "metadata": {},
   "outputs": [
    {
     "data": {
      "text/plain": [
       "2500"
      ]
     },
     "execution_count": 142,
     "metadata": {},
     "output_type": "execute_result"
    }
   ],
   "source": [
    "pca_array_rdd.count()"
   ]
  },
  {
   "cell_type": "code",
   "execution_count": 136,
   "metadata": {},
   "outputs": [
    {
     "data": {
      "text/plain": [
       "[array([-0.01946022, -0.0096049 ,  0.01379275, -0.04655234,  0.01616022,\n",
       "        -0.00190997,  0.01518307, -0.02494439,  0.01986856, -0.001608  ]),\n",
       " array([-0.01957932, -0.01033632,  0.01615524, -0.04857801,  0.01685881,\n",
       "        -0.00342604,  0.01405959, -0.02383078,  0.01939134, -0.00195142]),\n",
       " array([-0.02000436, -0.01099684,  0.01616307, -0.05046667,  0.01735684,\n",
       "        -0.00405014,  0.01047837, -0.02402146,  0.02013743,  0.00019207])]"
      ]
     },
     "execution_count": 136,
     "metadata": {},
     "output_type": "execute_result"
    }
   ],
   "source": [
    "pca_array_rdd.take(3)"
   ]
  },
  {
   "cell_type": "code",
   "execution_count": 149,
   "metadata": {},
   "outputs": [],
   "source": [
    "svd_V_rdd_minus_pca_array_rdd = svd_V_rdd.zip(pca_array_rdd).map(lambda x:x[0]-x[1])"
   ]
  },
  {
   "cell_type": "code",
   "execution_count": 152,
   "metadata": {},
   "outputs": [
    {
     "data": {
      "text/plain": [
       "[array([ 0.01049957, -0.00873266, -0.00558464,  0.08743912,  0.01404682,\n",
       "         0.00138811, -0.03099312,  0.04865111,  0.0012906 , -0.00046824]),\n",
       " array([ 0.01037704, -0.00837204, -0.00737985,  0.09213965,  0.0144946 ,\n",
       "         0.00452117, -0.02859788,  0.04621793,  0.00155335,  0.00057894]),\n",
       " array([ 0.01062667, -0.0080332 , -0.00670931,  0.09557374,  0.01509473,\n",
       "         0.00561593, -0.02155706,  0.04688122,  0.0009368 , -0.00399096]),\n",
       " array([ 0.01061979, -0.00595086, -0.00499495,  0.09341063,  0.01460632,\n",
       "         0.00252225, -0.02231168,  0.04767207,  0.00116255, -0.0065431 ]),\n",
       " array([ 0.01089002, -0.00627332, -0.00464598,  0.09500764,  0.01494623,\n",
       "         0.00293424, -0.01987946,  0.04871352,  0.0007308 , -0.01067125]),\n",
       " array([ 0.01126805, -0.00652891, -0.00467585,  0.09382161,  0.01465123,\n",
       "         0.00365848, -0.01720444,  0.04870654,  0.00085328, -0.01088512]),\n",
       " array([ 0.01136092, -0.00682768, -0.00497242,  0.09417598,  0.01471793,\n",
       "         0.00059676, -0.01469372,  0.04615235,  0.00078333, -0.01171555]),\n",
       " array([ 0.01159493, -0.00722205, -0.00503754,  0.0906512 ,  0.01408218,\n",
       "        -0.00013396, -0.01420144,  0.04959769,  0.000754  , -0.01513013]),\n",
       " array([ 0.01187309, -0.00902418, -0.00752268,  0.09137024,  0.01405473,\n",
       "         0.00107653, -0.01251935,  0.04828298,  0.00071917, -0.01639254]),\n",
       " array([ 0.0118906 , -0.00840685, -0.00636333,  0.08892021,  0.01368121,\n",
       "        -0.00013239, -0.009305  ,  0.04889524,  0.00066436, -0.01791181])]"
      ]
     },
     "execution_count": 152,
     "metadata": {},
     "output_type": "execute_result"
    }
   ],
   "source": [
    "svd_V_rdd_minus_pca_array_rdd.take(10)"
   ]
  },
  {
   "cell_type": "markdown",
   "metadata": {},
   "source": [
    "* svd_V_rdd和pca_array_rdd的对应列都只差一个相近的数值"
   ]
  },
  {
   "cell_type": "markdown",
   "metadata": {},
   "source": [
    "#### 评估这种相近程度"
   ]
  },
  {
   "cell_type": "code",
   "execution_count": 153,
   "metadata": {},
   "outputs": [
    {
     "data": {
      "text/plain": [
       "array([-16.23386566, -17.15772441, -18.62232248,  -1.22379071,\n",
       "         1.34222063,  18.60037849,   1.06407612,  22.97590602,\n",
       "        -2.20349456, -18.15608464])"
      ]
     },
     "execution_count": 153,
     "metadata": {},
     "output_type": "execute_result"
    }
   ],
   "source": [
    "svd_V_rdd_minus_pca_array_rdd.reduce(lambda x, y:x-y)"
   ]
  },
  {
   "cell_type": "code",
   "execution_count": 170,
   "metadata": {},
   "outputs": [],
   "source": [
    "scaler_difference = StandardScaler(withMean=True, withStd=True)\n",
    "scaler_difference = scaler_difference.fit(svd_V_rdd_minus_pca_array_rdd)"
   ]
  },
  {
   "cell_type": "code",
   "execution_count": 171,
   "metadata": {},
   "outputs": [],
   "source": [
    "svd_V_rdd_minus_pca_array_rdd_scaled = scaler_difference.transform(svd_V_rdd_minus_pca_array_rdd)"
   ]
  },
  {
   "cell_type": "code",
   "execution_count": 174,
   "metadata": {},
   "outputs": [
    {
     "data": {
      "text/plain": [
       "[DenseVector([0.7597, 0.0481, -0.3936, 2.1433, 1.7919, 0.0852, -0.7727, 1.2439, 0.4512, -0.0332]),\n",
       " DenseVector([0.7524, 0.0628, -0.4541, 2.2653, 1.8591, 0.1638, -0.7128, 1.1829, 0.5073, -0.0068]),\n",
       " DenseVector([0.7673, 0.0765, -0.4315, 2.3545, 1.9491, 0.1913, -0.5367, 1.1995, 0.3756, -0.122]),\n",
       " DenseVector([0.7669, 0.1612, -0.3738, 2.2983, 1.8758, 0.1137, -0.5555, 1.2193, 0.4238, -0.1863]),\n",
       " DenseVector([0.783, 0.1481, -0.362, 2.3398, 1.9268, 0.124, -0.4947, 1.2454, 0.3316, -0.2903]),\n",
       " DenseVector([0.8056, 0.1377, -0.363, 2.309, 1.8826, 0.1422, -0.4278, 1.2453, 0.3577, -0.2957]),\n",
       " DenseVector([0.8111, 0.1255, -0.373, 2.3182, 1.8926, 0.0654, -0.365, 1.1813, 0.3428, -0.3166]),\n",
       " DenseVector([0.8251, 0.1095, -0.3752, 2.2267, 1.7972, 0.0471, -0.3527, 1.2676, 0.3365, -0.4026]),\n",
       " DenseVector([0.8417, 0.0362, -0.4589, 2.2453, 1.7931, 0.0774, -0.3106, 1.2346, 0.3291, -0.4344]),\n",
       " DenseVector([0.8427, 0.0613, -0.4199, 2.1817, 1.737, 0.0471, -0.2302, 1.25, 0.3174, -0.4727])]"
      ]
     },
     "execution_count": 174,
     "metadata": {},
     "output_type": "execute_result"
    }
   ],
   "source": [
    "svd_V_rdd_minus_pca_array_rdd_scaled.take(10)"
   ]
  },
  {
   "cell_type": "markdown",
   "metadata": {},
   "source": [
    "### 在LFW数据集上估计SVD的k值"
   ]
  },
  {
   "cell_type": "markdown",
   "metadata": {},
   "source": [
    "* svd给定不同的k值返回的奇异值不变，只是截取了前k个奇异值"
   ]
  },
  {
   "cell_type": "code",
   "execution_count": 182,
   "metadata": {},
   "outputs": [],
   "source": [
    "svd_300 = pics_matrix.computeSVD(300, computeU=False) "
   ]
  },
  {
   "cell_type": "code",
   "execution_count": 183,
   "metadata": {},
   "outputs": [
    {
     "data": {
      "text/plain": [
       "DenseVector([2894.3682, 624.7981, 456.8669, 337.2298, 331.187, 318.0832, 273.8363, 239.7966, 230.1731, 224.6801, 203.887, 201.6083, 184.3629, 168.0405, 165.2282, 162.0233, 153.4024, 147.4337, 144.569, 137.1808, 132.3811, 130.2662, 126.4203, 122.3507, 119.032, 118.8597, 116.6137, 111.7717, 110.9557, 107.5584, 106.0886, 101.9189, 101.3196, 100.1406, 98.7737, 98.0825, 96.5351, 95.9998, 93.9701, 92.6255, 90.194, 89.4335, 88.0112, 85.2119, 84.4636, 84.101, 82.3402, 81.0518, 80.1814, 79.1802, 77.8085, 77.1057, 76.7993, 75.1414, 74.9748, 74.0597, 74.0105, 72.6826, 71.5783, 69.6466, 69.1931, 68.7418, 68.1233, 67.6661, 67.5035, 66.8103, 66.0546, 65.3889, 65.0726, 64.9025, 63.4861, 63.0544, 62.6456, 62.2111, 62.1986, 61.0903, 60.419, 60.3432, 59.4353, 58.7253, 58.4864, 57.8014, 57.3368, 56.8694, 56.3513, 56.2819, 56.0188, 55.5676, 55.0863, 54.992, 54.54, 54.4169, 53.9816, 53.5552, 53.0887, 52.779, 52.2958, 52.0375, 51.7555, 51.5224, 51.1639, 51.0507, 50.5762, 50.3681, 49.7907, 49.6068, 49.3706, 49.2583, 49.0547, 49.0293, 48.2924, 47.5847, 47.3427, 47.3019, 46.7976, 46.6631, 46.3518, 46.2158, 46.0536, 45.6631, 45.5664, 45.4851, 45.224, 44.8484, 44.4811, 44.1431, 44.0414, 43.794, 43.5499, 43.397, 42.9929, 42.9091, 42.621, 42.489, 42.448, 42.0143, 41.9277, 41.5864, 41.308, 41.2062, 41.1664, 41.0707, 40.8756, 40.6448, 40.5307, 40.2604, 39.9921, 39.8236, 39.7056, 39.6407, 39.343, 39.292, 39.0405, 38.8696, 38.7328, 38.6205, 38.4991, 38.3582, 38.1435, 37.9479, 37.8106, 37.5332, 37.4404, 37.1848, 37.0866, 36.9238, 36.7014, 36.5025, 36.3666, 36.1478, 36.0635, 36.0297, 35.8639, 35.6373, 35.4517, 35.3606, 35.1242, 35.071, 34.9331, 34.844, 34.7049, 34.6395, 34.4895, 34.3481, 34.2176, 34.1464, 33.9716, 33.7609, 33.5231, 33.406, 33.3893, 33.2992, 33.0953, 33.0325, 32.9716, 32.8703, 32.7159, 32.6275, 32.5108, 32.4936, 32.4318, 32.3898, 32.2429, 32.1884, 31.9317, 31.8582, 31.6632, 31.6122, 31.5936, 31.5106, 31.3834, 31.2871, 31.1774, 31.0462, 30.9321, 30.838, 30.7416, 30.6845, 30.5633, 30.5095, 30.4186, 30.2542, 30.1069, 30.0463, 30.0044, 29.9273, 29.8868, 29.7801, 29.6866, 29.6251, 29.4889, 29.4061, 29.3101, 29.2161, 29.0954, 28.9493, 28.9221, 28.866, 28.7466, 28.7174, 28.6335, 28.6096, 28.459, 28.4381, 28.3479, 28.2639, 28.1563, 28.0524, 27.9806, 27.9211, 27.8699, 27.7916, 27.6567, 27.6016, 27.5525, 27.4755, 27.3783, 27.2724, 27.1032, 27.0528, 26.9934, 26.9192, 26.8716, 26.7814, 26.6527, 26.6292, 26.6054, 26.5103, 26.4644, 26.3844, 26.2986, 26.2226, 26.1835, 26.1139, 25.9856, 25.8489, 25.846, 25.779, 25.7295, 25.6609, 25.6543, 25.5871, 25.4447, 25.3666, 25.2818, 25.2742, 25.2116, 25.1133, 25.0702, 25.0312, 25.014, 24.9459, 24.7948, 24.7605, 24.6795, 24.6347, 24.5352, 24.4978, 24.4708, 24.3856])"
      ]
     },
     "execution_count": 183,
     "metadata": {},
     "output_type": "execute_result"
    }
   ],
   "source": [
    "svd_300.s"
   ]
  },
  {
   "cell_type": "code",
   "execution_count": 185,
   "metadata": {},
   "outputs": [],
   "source": [
    "s_array = np.asarray(svd_300.s)"
   ]
  },
  {
   "cell_type": "code",
   "execution_count": 189,
   "metadata": {},
   "outputs": [
    {
     "data": {
      "text/plain": [
       "[<matplotlib.lines.Line2D at 0x7f1741d7dc88>]"
      ]
     },
     "execution_count": 189,
     "metadata": {},
     "output_type": "execute_result"
    },
    {
     "data": {
      "image/png": "[encoded data removed]",
      "text/plain": [
       "<matplotlib.figure.Figure at 0x7f17422be780>"
      ]
     },
     "metadata": {},
     "output_type": "display_data"
    }
   ],
   "source": [
    "plt.plot(s_array)"
   ]
  },
  {
   "cell_type": "code",
   "execution_count": 190,
   "metadata": {},
   "outputs": [
    {
     "data": {
      "text/plain": [
       "[<matplotlib.lines.Line2D at 0x7f1741ac96a0>]"
      ]
     },
     "execution_count": 190,
     "metadata": {},
     "output_type": "execute_result"
    },
    {
     "data": {
      "image/png": "[encoded data removed]",
      "text/plain": [
       "<matplotlib.figure.Figure at 0x7f1741ae4588>"
      ]
     },
     "metadata": {},
     "output_type": "display_data"
    }
   ],
   "source": [
    "plt.plot(s_array.cumsum())"
   ]
  },
  {
   "cell_type": "code",
   "execution_count": 191,
   "metadata": {},
   "outputs": [],
   "source": [
    "svd_1_300 = pics_matrix_1.computeSVD(300, computeU=False) "
   ]
  },
  {
   "cell_type": "code",
   "execution_count": 192,
   "metadata": {},
   "outputs": [],
   "source": [
    "s_array_1 = np.asarray(svd_1_300.s)"
   ]
  },
  {
   "cell_type": "code",
   "execution_count": 193,
   "metadata": {},
   "outputs": [
    {
     "data": {
      "text/plain": [
       "[<matplotlib.lines.Line2D at 0x7f1741a71470>]"
      ]
     },
     "execution_count": 193,
     "metadata": {},
     "output_type": "execute_result"
    },
    {
     "data": {
      "image/png": "[encoded data removed]",
      "text/plain": [
       "<matplotlib.figure.Figure at 0x7f17425758d0>"
      ]
     },
     "metadata": {},
     "output_type": "display_data"
    }
   ],
   "source": [
    "plt.plot(s_array.cumsum())"
   ]
  },
  {
   "cell_type": "markdown",
   "metadata": {},
   "source": [
    "### summary"
   ]
  },
  {
   "cell_type": "markdown",
   "metadata": {},
   "source": [
    "* 特征脸 --> 特征子空间 --> 基 --> 轴\n",
    "* PCA is truncatedSVD"
   ]
  }
 ],
 "metadata": {
  "kernelspec": {
   "display_name": "Python 3",
   "language": "python",
   "name": "python3"
  },
  "language_info": {
   "codemirror_mode": {
    "name": "ipython",
    "version": 3
   },
   "file_extension": ".py",
   "mimetype": "text/x-python",
   "name": "python",
   "nbconvert_exporter": "python",
   "pygments_lexer": "ipython3",
   "version": "3.5.2"
  }
 },
 "nbformat": 4,
 "nbformat_minor": 2
}
